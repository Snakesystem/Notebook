{
 "cells": [
  {
   "cell_type": "code",
   "execution_count": 2,
   "id": "9a3fded2-9765-481f-af12-75098150b6f1",
   "metadata": {},
   "outputs": [],
   "source": [
    "import scipy.stats as stats\n",
    "import pandas as pd\n",
    "import numpy as np"
   ]
  },
  {
   "cell_type": "code",
   "execution_count": 3,
   "id": "850668e6-120e-4a34-bd5b-e3619303bca6",
   "metadata": {},
   "outputs": [],
   "source": [
    "data = np.random.randint(1,100,20)"
   ]
  },
  {
   "cell_type": "code",
   "execution_count": 4,
   "id": "e4a2bdef-71e7-4dce-81b9-0d9b9eba3348",
   "metadata": {},
   "outputs": [
    {
     "data": {
      "text/plain": [
       "array([35, 90, 17, 68,  5, 63, 69, 39, 72,  8,  2, 24, 54, 95, 79, 99, 78,\n",
       "       26, 13,  1])"
      ]
     },
     "execution_count": 4,
     "metadata": {},
     "output_type": "execute_result"
    }
   ],
   "source": [
    "data"
   ]
  },
  {
   "cell_type": "code",
   "execution_count": 4,
   "id": "dcd2d9bd-9a87-4220-aee4-a7482b26b730",
   "metadata": {},
   "outputs": [
    {
     "data": {
      "text/plain": [
       "Ttest_1sampResult(statistic=-0.1958915569568529, pvalue=0.846774914282021)"
      ]
     },
     "execution_count": 4,
     "metadata": {},
     "output_type": "execute_result"
    }
   ],
   "source": [
    "#perform one sample t-test\n",
    "\n",
    "stats.ttest_1samp(a=data, popmean=50)"
   ]
  },
  {
   "cell_type": "code",
   "execution_count": 9,
   "id": "db0cd6e4-b91d-4997-bf98-ad74fa7af81d",
   "metadata": {},
   "outputs": [],
   "source": [
    "#statistic=-0.23624631839403756, pvalue=0.8157696357743305"
   ]
  },
  {
   "cell_type": "code",
   "execution_count": 20,
   "id": "b3208258-fc8e-4211-813f-5c5e1dfcaa18",
   "metadata": {},
   "outputs": [],
   "source": [
    "#For two tailed test:"
   ]
  },
  {
   "cell_type": "code",
   "execution_count": 5,
   "id": "cb45a418-3b8b-4b28-9783-27555a2cb1c3",
   "metadata": {},
   "outputs": [],
   "source": [
    "#If using alpha = 0.05, then the concolusion is P-value larger than alpha, meaning we fail to reject H0\n",
    "#Conclusion: The mean is equal to 50\n",
    "\n",
    "#If using t statistic, we have to find the critical region first:"
   ]
  },
  {
   "cell_type": "code",
   "execution_count": 6,
   "id": "ed61eaee-9761-4bb9-b4f6-f9ff26abea4b",
   "metadata": {},
   "outputs": [
    {
     "data": {
      "text/plain": [
       "2.093024054408263"
      ]
     },
     "execution_count": 6,
     "metadata": {},
     "output_type": "execute_result"
    }
   ],
   "source": [
    "stats.t.ppf(1-(0.05/2), 19)"
   ]
  },
  {
   "cell_type": "code",
   "execution_count": null,
   "id": "f8e958b3-66c3-4184-9508-4fa23b4ccfba",
   "metadata": {},
   "outputs": [],
   "source": [
    "# Critical Region: t < - 2.09 or t > 2.09\n",
    "# As t statistic is not in the critical region, then we fail to reject H0\n",
    "#Conclusion: The mean is equal to 50"
   ]
  },
  {
   "cell_type": "code",
   "execution_count": 21,
   "id": "8c9ba2e2-46b7-41b4-8e75-29c2f191c0b8",
   "metadata": {},
   "outputs": [],
   "source": [
    "#For One tailed test:"
   ]
  },
  {
   "cell_type": "code",
   "execution_count": 8,
   "id": "09efd6a6-ea69-4d0f-98d1-0286417059a6",
   "metadata": {},
   "outputs": [
    {
     "data": {
      "text/plain": [
       "0.40788481788716524"
      ]
     },
     "execution_count": 8,
     "metadata": {},
     "output_type": "execute_result"
    }
   ],
   "source": [
    "0.8157696357743305/2"
   ]
  },
  {
   "cell_type": "code",
   "execution_count": null,
   "id": "003d71ad-f137-4bb5-8317-2a101be54234",
   "metadata": {},
   "outputs": [],
   "source": [
    "#If using alpha = 0.05, use P-value/2 = 0.41. Thee concolusion is P-value/2 larger than alpha, meaning we fail to reject H0\n",
    "#Conclusion: The mean is equal to 50\n",
    "\n",
    "#If using t statistic, we have to find the critical region first:"
   ]
  },
  {
   "cell_type": "code",
   "execution_count": 23,
   "id": "ef739f6c-1fdc-4c3f-bf0d-0cdecbe98b7b",
   "metadata": {},
   "outputs": [
    {
     "data": {
      "text/plain": [
       "1.729132811521367"
      ]
     },
     "execution_count": 23,
     "metadata": {},
     "output_type": "execute_result"
    }
   ],
   "source": [
    "# If H1: mean > 50 (right side)\n",
    "stats.t.ppf(1-0.05, 19)"
   ]
  },
  {
   "cell_type": "code",
   "execution_count": 9,
   "id": "8f657c7b-3e5f-4549-8524-d20895d799e5",
   "metadata": {},
   "outputs": [],
   "source": [
    "# Critical Region: t > 1.72\n",
    "# As t statistic is not in the critical region, then we fail to reject H0\n",
    "#Conclusion: The mean is equal to 50"
   ]
  },
  {
   "cell_type": "code",
   "execution_count": 10,
   "id": "7020b9b1-7558-4709-8904-cf878c84faac",
   "metadata": {},
   "outputs": [
    {
     "data": {
      "text/plain": [
       "-1.7291328115213678"
      ]
     },
     "execution_count": 10,
     "metadata": {},
     "output_type": "execute_result"
    }
   ],
   "source": [
    "# If H1: mean < 50 (left side)\n",
    "stats.t.ppf(0.05, 19)"
   ]
  },
  {
   "cell_type": "code",
   "execution_count": 25,
   "id": "9d16075a-28ac-49ac-8a28-f99214d0af66",
   "metadata": {},
   "outputs": [],
   "source": [
    "# Critical Region: t < -1.72\n",
    "# As t statistic is not in the critical region, then we fail to reject H0\n",
    "#Conclusion: The mean is equal to 50"
   ]
  },
  {
   "cell_type": "code",
   "execution_count": null,
   "id": "535527b5-80bc-4580-b9b9-2e4819159dc7",
   "metadata": {},
   "outputs": [],
   "source": []
  }
 ],
 "metadata": {
  "kernelspec": {
   "display_name": "Python 3 (ipykernel)",
   "language": "python",
   "name": "python3"
  },
  "language_info": {
   "codemirror_mode": {
    "name": "ipython",
    "version": 3
   },
   "file_extension": ".py",
   "mimetype": "text/x-python",
   "name": "python",
   "nbconvert_exporter": "python",
   "pygments_lexer": "ipython3",
   "version": "3.9.7"
  }
 },
 "nbformat": 4,
 "nbformat_minor": 5
}
