{
 "cells": [
  {
   "cell_type": "code",
   "execution_count": null,
   "id": "c823ae2f-c4c7-49c4-a6f1-d44a0f24e158",
   "metadata": {},
   "outputs": [],
   "source": [
    "import pandas as pd\n",
    "import numpy as np"
   ]
  },
  {
   "cell_type": "code",
   "execution_count": null,
   "id": "24fe00a2-5df7-4b48-bcc7-e552f54d772a",
   "metadata": {},
   "outputs": [],
   "source": [
    "data_numeric = np.random.randint(0,100,100)\n",
    "data_cat2 = [\"M\", \"M\", \"F\", \"F\", \"M\", \"M\", \"F\", \"M\", \"M\", \"F\", \"F\", \"M\", \"M\", \"F\", \"F\"]\n",
    "data_cat3 = [\"S\", \"M\", \"L\", \"XL\", \"L\", \"S\"]\n",
    "data_numeric"
   ]
  },
  {
   "cell_type": "code",
   "execution_count": null,
   "id": "d1428162-5ec7-40fb-89c1-77970fe6f083",
   "metadata": {},
   "outputs": [],
   "source": [
    "#Measure of Central Tendency\n",
    "import statistics\n",
    "print(statistics.mean(data_numeric))\n",
    "print(statistics.median(data_numeric))"
   ]
  },
  {
   "cell_type": "code",
   "execution_count": null,
   "id": "2a82892b-a76e-4abd-afa0-b4d8c662c6a6",
   "metadata": {},
   "outputs": [],
   "source": [
    "statistics.mode(data_cat2)"
   ]
  },
  {
   "cell_type": "code",
   "execution_count": null,
   "id": "9edb8ec5-88d5-45d4-83e9-3929ba0af6b4",
   "metadata": {},
   "outputs": [],
   "source": [
    "statistics.mode(data_cat3)"
   ]
  },
  {
   "cell_type": "code",
   "execution_count": null,
   "id": "88eba2af-06ea-4a9d-a4af-d5f4b9fc8863",
   "metadata": {},
   "outputs": [],
   "source": [
    "statistics.multimode(data_cat3)"
   ]
  },
  {
   "cell_type": "code",
   "execution_count": null,
   "id": "8b03a2ae-ec59-49fa-93db-404e74cdb9be",
   "metadata": {},
   "outputs": [],
   "source": [
    "import numpy as np"
   ]
  },
  {
   "cell_type": "code",
   "execution_count": null,
   "id": "c58b0dcc-64be-4993-9052-d236cff331a9",
   "metadata": {},
   "outputs": [],
   "source": [
    "print(np.mean(data_numeric))\n",
    "print(np.median(data_numeric))"
   ]
  },
  {
   "cell_type": "code",
   "execution_count": null,
   "id": "ac020350-c2e2-4280-8d5d-770c2b7a0694",
   "metadata": {},
   "outputs": [],
   "source": [
    "import scipy.stats as stats\n",
    "stats.mode(data_cat2)"
   ]
  },
  {
   "cell_type": "code",
   "execution_count": null,
   "id": "f820e23b-074e-4b98-9b88-7bba059a801c",
   "metadata": {},
   "outputs": [],
   "source": [
    "#Measure of Variability\n",
    "import statistics\n",
    "print(statistics.variance(data_numeric))\n",
    "print(statistics.stdev(data_numeric))"
   ]
  },
  {
   "cell_type": "code",
   "execution_count": null,
   "id": "db51630f-f592-46bf-8197-6bbeacde30e1",
   "metadata": {},
   "outputs": [],
   "source": [
    "range = max(data_numeric) - min(data_numeric)\n",
    "print(range)\n",
    "print(statistics.quantiles(data_numeric))"
   ]
  },
  {
   "cell_type": "code",
   "execution_count": null,
   "id": "18e4ae84-90b6-40e7-bc21-186735b1d4d5",
   "metadata": {},
   "outputs": [],
   "source": [
    "import numpy as np\n",
    "print(np.var(data_numeric))\n",
    "print(np.std(data_numeric))\n",
    "print(np.max(data_numeric) - np.min(data_numeric))\n",
    "print(np.quantile(data_numeric, 0.25))\n",
    "print(np.quantile(data_numeric, 0.5))\n",
    "print(np.quantile(data_numeric, 0.75))"
   ]
  },
  {
   "cell_type": "code",
   "execution_count": null,
   "id": "16233829-9a10-4fe1-ba3b-14a492b1590f",
   "metadata": {},
   "outputs": [],
   "source": [
    "#Distribution Viz\n",
    "import matplotlib.pyplot as plt\n",
    "plt.boxplot(data_numeric)\n"
   ]
  },
  {
   "cell_type": "code",
   "execution_count": null,
   "id": "cd776516-2544-4adc-8e98-93b7cebb5c15",
   "metadata": {},
   "outputs": [],
   "source": [
    "plt.hist(data_numeric, bins=20)"
   ]
  },
  {
   "cell_type": "code",
   "execution_count": null,
   "id": "959c3f64-2823-479c-9cf0-157ea89b06ff",
   "metadata": {},
   "outputs": [],
   "source": [
    "import seaborn as sns\n",
    "sns.boxplot(data = data_numeric)"
   ]
  },
  {
   "cell_type": "code",
   "execution_count": null,
   "id": "0694aea7-94ce-4569-bad8-a489ecea6032",
   "metadata": {},
   "outputs": [],
   "source": [
    "sns.histplot(data = data_numeric)"
   ]
  },
  {
   "cell_type": "code",
   "execution_count": null,
   "id": "beea1063-cf58-481d-9fee-d191619a5558",
   "metadata": {},
   "outputs": [],
   "source": [
    "#Normal Distribution"
   ]
  },
  {
   "cell_type": "code",
   "execution_count": null,
   "id": "20895b48-1afc-4bba-a4c9-8c4ec41fe00c",
   "metadata": {},
   "outputs": [],
   "source": [
    "#Calculate Z-Score\n",
    "values = data_numeric\n",
    "zscores = [(value - np.mean(values)) / np.std(values) for value in values]\n",
    "zscores"
   ]
  },
  {
   "cell_type": "code",
   "execution_count": null,
   "id": "c5c20bfa-b43a-401d-832f-507ca9a620e8",
   "metadata": {},
   "outputs": [],
   "source": [
    "import scipy.stats as stats\n",
    "zscores = stats.zscore(values)\n",
    "zscores"
   ]
  },
  {
   "cell_type": "code",
   "execution_count": null,
   "id": "37921285-5021-4ec3-a9b5-f1c9d347be03",
   "metadata": {},
   "outputs": [],
   "source": [
    "#Find cumulative distribution/proportion under the curve:\n",
    "import scipy.stats as stats\n",
    "stats.norm.cdf(zscores[2])"
   ]
  },
  {
   "cell_type": "code",
   "execution_count": null,
   "id": "2e585a36-9f48-4fbd-b75a-36c56d0c561d",
   "metadata": {},
   "outputs": [],
   "source": [
    "#Find percent point function (Z-Score) given cdf:\n",
    "import scipy.stats as stats\n",
    "stats.norm.ppf(.95)"
   ]
  },
  {
   "cell_type": "code",
   "execution_count": null,
   "id": "6d565214-d801-4969-b419-7078464a4445",
   "metadata": {},
   "outputs": [],
   "source": []
  }
 ],
 "metadata": {
  "kernelspec": {
   "display_name": "Python 3 (ipykernel)",
   "language": "python",
   "name": "python3"
  },
  "language_info": {
   "codemirror_mode": {
    "name": "ipython",
    "version": 3
   },
   "file_extension": ".py",
   "mimetype": "text/x-python",
   "name": "python",
   "nbconvert_exporter": "python",
   "pygments_lexer": "ipython3",
   "version": "3.9.7"
  }
 },
 "nbformat": 4,
 "nbformat_minor": 5
}
