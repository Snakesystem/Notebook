{
 "cells": [
  {
   "cell_type": "markdown",
   "id": "e8a91906",
   "metadata": {},
   "source": [
    "## Welcome to the Hands On Notebook for Day 3"
   ]
  },
  {
   "cell_type": "markdown",
   "id": "b5d7b117",
   "metadata": {},
   "source": [
    "Target: \n",
    "- Students memahami cara melakukan beberapa Operations di Python (Arithmetic, Assignment, Comparison, Logical, Identity, Membership dan Bitwise Operators)\n",
    "- Students memahami perbedaan Tipe Data di Python yaitu Numerical dan Categorical Data serta Object\n",
    "- Students memahami perbedaan Data Structure di Python antara lain : Numpy Array, List, Tuple, Dictionary dan Set"
   ]
  },
  {
   "cell_type": "markdown",
   "id": "c8d2f266",
   "metadata": {},
   "source": [
    "### Part 1: Operations in Python"
   ]
  },
  {
   "cell_type": "markdown",
   "id": "f035f3b8",
   "metadata": {},
   "source": [
    "Apa itu operations? Layaknya operasi matematika, maka `operations` di Python dapat diartikan sebagai komputasi. Operations yang paling dasar adalah *****arithmetic*****, yaitu perhitungan matematis dasar (tambah, kurang, kali, bagi, kurung, dll)."
   ]
  },
  {
   "cell_type": "code",
   "execution_count": 1,
   "id": "5df99b36",
   "metadata": {},
   "outputs": [
    {
     "data": {
      "text/plain": [
       "2"
      ]
     },
     "execution_count": 1,
     "metadata": {},
     "output_type": "execute_result"
    }
   ],
   "source": [
    "1 + 1"
   ]
  },
  {
   "cell_type": "code",
   "execution_count": 2,
   "id": "f49552a4",
   "metadata": {},
   "outputs": [
    {
     "data": {
      "text/plain": [
       "-1"
      ]
     },
     "execution_count": 2,
     "metadata": {},
     "output_type": "execute_result"
    }
   ],
   "source": [
    "5 - 2 * 3"
   ]
  },
  {
   "cell_type": "code",
   "execution_count": 3,
   "id": "c80eadb8",
   "metadata": {},
   "outputs": [
    {
     "data": {
      "text/plain": [
       "9"
      ]
     },
     "execution_count": 3,
     "metadata": {},
     "output_type": "execute_result"
    }
   ],
   "source": [
    "(5 - 2) * 3"
   ]
  },
  {
   "cell_type": "markdown",
   "id": "cdda3219",
   "metadata": {},
   "source": [
    "Operations kedua yang kita bahas adalah *****assignment*****, yaitu menyatakan suatu variabel dengan suatu nilai."
   ]
  },
  {
   "cell_type": "markdown",
   "id": "3e6b349f",
   "metadata": {},
   "source": [
    "Di bangku sekolah, mungkin kita sering berurusan dengan \"Misalkan x = 3\". Hal tersebut adalah sebuah contoh dari sebuah *****assignment*****."
   ]
  },
  {
   "cell_type": "code",
   "execution_count": 4,
   "id": "e1558932",
   "metadata": {},
   "outputs": [
    {
     "ename": "NameError",
     "evalue": "name 'x' is not defined",
     "output_type": "error",
     "traceback": [
      "\u001b[1;31m---------------------------------------------------------------------------\u001b[0m",
      "\u001b[1;31mNameError\u001b[0m                                 Traceback (most recent call last)",
      "\u001b[1;32m~\\AppData\\Local\\Temp/ipykernel_10680/1353120783.py\u001b[0m in \u001b[0;36m<module>\u001b[1;34m\u001b[0m\n\u001b[1;32m----> 1\u001b[1;33m \u001b[0mprint\u001b[0m\u001b[1;33m(\u001b[0m\u001b[0mx\u001b[0m\u001b[1;33m)\u001b[0m\u001b[1;33m\u001b[0m\u001b[1;33m\u001b[0m\u001b[0m\n\u001b[0m",
      "\u001b[1;31mNameError\u001b[0m: name 'x' is not defined"
     ]
    }
   ],
   "source": [
    "print(x)"
   ]
  },
  {
   "cell_type": "code",
   "execution_count": 5,
   "id": "2ab5fdfc",
   "metadata": {},
   "outputs": [
    {
     "name": "stdout",
     "output_type": "stream",
     "text": [
      "3\n"
     ]
    }
   ],
   "source": [
    "x = 3\n",
    "print(x)"
   ]
  },
  {
   "cell_type": "markdown",
   "id": "196d2383",
   "metadata": {},
   "source": [
    "Misal kita ingin mengubah nilai `x` menjadi 4. Apakah bisa? Tentu bisa. "
   ]
  },
  {
   "cell_type": "code",
   "execution_count": 6,
   "id": "448b5fe6",
   "metadata": {},
   "outputs": [
    {
     "name": "stdout",
     "output_type": "stream",
     "text": [
      "4\n"
     ]
    }
   ],
   "source": [
    "x = 4\n",
    "print(x)"
   ]
  },
  {
   "cell_type": "markdown",
   "id": "f28e5ac7",
   "metadata": {},
   "source": [
    "Selanjutnya, kita ingin mengubah nilai `x` menjadi dua kali dari dirinya sendiri. Bagaimana caranya?"
   ]
  },
  {
   "cell_type": "code",
   "execution_count": 7,
   "id": "a76ed681",
   "metadata": {},
   "outputs": [
    {
     "name": "stdout",
     "output_type": "stream",
     "text": [
      "8\n"
     ]
    }
   ],
   "source": [
    "x = 2 * x\n",
    "print(x)"
   ]
  },
  {
   "cell_type": "markdown",
   "id": "fae88e82",
   "metadata": {},
   "source": [
    "Langkah di atas berarti:\n",
    "1. Ambil variabel x\n",
    "2. Kalikan 2\n",
    "3. Hasil dari perkalian tersebut, kembali disimpan dengan nama 'x'"
   ]
  },
  {
   "cell_type": "markdown",
   "id": "cd3a34a3",
   "metadata": {},
   "source": [
    "Operations selanjutnya adalah *****Logical*****. Bahasa sederhananya, mengecek kebenaran dari suatu pernyataan. \n",
    "Operations *****Logical***** sendiri terdiri dari beberapa 'jenis':\n",
    "- *****Comparison*****\n",
    "- *****Identity*****\n",
    "- *****Membership*****"
   ]
  },
  {
   "cell_type": "markdown",
   "id": "d3713c50",
   "metadata": {},
   "source": [
    "****Comparison**** adalah membandingkan apakah suatu nilai lebih besar atau lebih kecil (atau sama dengan) nilai lain."
   ]
  },
  {
   "cell_type": "code",
   "execution_count": 10,
   "id": "022badb0",
   "metadata": {},
   "outputs": [
    {
     "data": {
      "text/plain": [
       "True"
      ]
     },
     "execution_count": 10,
     "metadata": {},
     "output_type": "execute_result"
    }
   ],
   "source": [
    "x = 5\n",
    "y = 3\n",
    "\n",
    "x > y"
   ]
  },
  {
   "cell_type": "code",
   "execution_count": 11,
   "id": "fd05f140",
   "metadata": {},
   "outputs": [
    {
     "data": {
      "text/plain": [
       "False"
      ]
     },
     "execution_count": 11,
     "metadata": {},
     "output_type": "execute_result"
    }
   ],
   "source": [
    "x < y"
   ]
  },
  {
   "cell_type": "code",
   "execution_count": 12,
   "id": "b632e495",
   "metadata": {},
   "outputs": [
    {
     "data": {
      "text/plain": [
       "True"
      ]
     },
     "execution_count": 12,
     "metadata": {},
     "output_type": "execute_result"
    }
   ],
   "source": [
    "x + y == 8"
   ]
  },
  {
   "cell_type": "code",
   "execution_count": 13,
   "id": "d0f26eea",
   "metadata": {},
   "outputs": [
    {
     "data": {
      "text/plain": [
       "True"
      ]
     },
     "execution_count": 13,
     "metadata": {},
     "output_type": "execute_result"
    }
   ],
   "source": [
    "x + y - 3 >= 0"
   ]
  },
  {
   "cell_type": "markdown",
   "id": "41a06a9c",
   "metadata": {},
   "source": [
    "***Identity*** memeriksa identitas suatu variabel dengan `is` atau `is not`"
   ]
  },
  {
   "cell_type": "code",
   "execution_count": 15,
   "id": "65896802",
   "metadata": {},
   "outputs": [
    {
     "data": {
      "text/plain": [
       "True"
      ]
     },
     "execution_count": 15,
     "metadata": {},
     "output_type": "execute_result"
    }
   ],
   "source": [
    "type(5) is int"
   ]
  },
  {
   "cell_type": "code",
   "execution_count": 16,
   "id": "a4b7c7bc",
   "metadata": {},
   "outputs": [
    {
     "name": "stdout",
     "output_type": "stream",
     "text": [
      "5\n",
      "3\n"
     ]
    }
   ],
   "source": [
    "print(x)\n",
    "print(y)"
   ]
  },
  {
   "cell_type": "code",
   "execution_count": 17,
   "id": "5eae530b",
   "metadata": {},
   "outputs": [
    {
     "data": {
      "text/plain": [
       "False"
      ]
     },
     "execution_count": 17,
     "metadata": {},
     "output_type": "execute_result"
    }
   ],
   "source": [
    "x is y"
   ]
  },
  {
   "cell_type": "code",
   "execution_count": 18,
   "id": "0940b835",
   "metadata": {},
   "outputs": [
    {
     "data": {
      "text/plain": [
       "True"
      ]
     },
     "execution_count": 18,
     "metadata": {},
     "output_type": "execute_result"
    }
   ],
   "source": [
    "x is not y"
   ]
  },
  {
   "cell_type": "code",
   "execution_count": 19,
   "id": "da5de806",
   "metadata": {},
   "outputs": [
    {
     "data": {
      "text/plain": [
       "False"
      ]
     },
     "execution_count": 19,
     "metadata": {},
     "output_type": "execute_result"
    }
   ],
   "source": [
    "type(y) is str"
   ]
  },
  {
   "cell_type": "code",
   "execution_count": 20,
   "id": "b177f179",
   "metadata": {},
   "outputs": [
    {
     "data": {
      "text/plain": [
       "True"
      ]
     },
     "execution_count": 20,
     "metadata": {},
     "output_type": "execute_result"
    }
   ],
   "source": [
    "type(x) is not list"
   ]
  },
  {
   "cell_type": "markdown",
   "id": "e8aeedbe",
   "metadata": {},
   "source": [
    "***Membership*** memeriksa apakah suatu variabel merupakan anggota variabel lain (variabel lain ini biasanya berupa sebuah list, himpunan, dst)"
   ]
  },
  {
   "cell_type": "code",
   "execution_count": 21,
   "id": "403083db",
   "metadata": {},
   "outputs": [
    {
     "name": "stdout",
     "output_type": "stream",
     "text": [
      "Apakah 5 dalam daftar bilangan?  True\n",
      "Apakah 10 dalam daftar bilangan?  False\n"
     ]
    }
   ],
   "source": [
    "daftar_bilangan = [1,2,3,4,5]\n",
    "print('Apakah 5 dalam daftar bilangan? ', 5 in daftar_bilangan)\n",
    "print('Apakah 10 dalam daftar bilangan? ', 10 in daftar_bilangan)"
   ]
  },
  {
   "cell_type": "markdown",
   "id": "3753251a",
   "metadata": {},
   "source": [
    "***Bitwise*** operator adalah operator untuk menyatakan `dan`, `atau`, dll. Untuk lengkapnya, silakan lihat di https://realpython.com/python-bitwise-operators/. "
   ]
  },
  {
   "cell_type": "code",
   "execution_count": 22,
   "id": "49c6a35e",
   "metadata": {},
   "outputs": [],
   "source": [
    "a = 5\n",
    "b = 3"
   ]
  },
  {
   "cell_type": "code",
   "execution_count": 39,
   "id": "375ca0ec",
   "metadata": {},
   "outputs": [
    {
     "data": {
      "text/plain": [
       "True"
      ]
     },
     "execution_count": 39,
     "metadata": {},
     "output_type": "execute_result"
    }
   ],
   "source": [
    "### a atau b lebih besar dari 4\n",
    "(a > 4) | (b > 4)"
   ]
  },
  {
   "cell_type": "code",
   "execution_count": 40,
   "id": "f88dbfe8",
   "metadata": {},
   "outputs": [
    {
     "data": {
      "text/plain": [
       "False"
      ]
     },
     "execution_count": 40,
     "metadata": {},
     "output_type": "execute_result"
    }
   ],
   "source": [
    "### a dan b lebih besar dari 4\n",
    "(a > 4) & (b > 4)"
   ]
  },
  {
   "cell_type": "code",
   "execution_count": 41,
   "id": "f438e2ab",
   "metadata": {},
   "outputs": [
    {
     "data": {
      "text/plain": [
       "True"
      ]
     },
     "execution_count": 41,
     "metadata": {},
     "output_type": "execute_result"
    }
   ],
   "source": [
    "### either a or b is greater than 4, but not both (XOR / Exclusive OR)\n",
    "(a > 4) ^ (b > 4)"
   ]
  },
  {
   "cell_type": "code",
   "execution_count": 43,
   "id": "246151b2",
   "metadata": {},
   "outputs": [
    {
     "data": {
      "text/plain": [
       "False"
      ]
     },
     "execution_count": 43,
     "metadata": {},
     "output_type": "execute_result"
    }
   ],
   "source": [
    "### either a or b is greater than 2, but not both (XOR / Exclusive OR)\n",
    "(a > 2) ^ (b > 2)"
   ]
  },
  {
   "cell_type": "markdown",
   "id": "39b78a6d",
   "metadata": {},
   "source": [
    "Untuk mengerti `left shift` dan `right shift` pada bitwise operators, silakan baca https://blog.finxter.com/python-bitwise-left-shift/. "
   ]
  },
  {
   "cell_type": "markdown",
   "id": "8e316e5b",
   "metadata": {},
   "source": [
    "### Part 2: Data Types in Python"
   ]
  },
  {
   "cell_type": "markdown",
   "id": "62f02c15",
   "metadata": {},
   "source": [
    "Basic data types in Python are:\n",
    "- string (text)\n",
    "- integer \n",
    "- float (decimals)\n",
    "- bool (true or false)"
   ]
  },
  {
   "cell_type": "code",
   "execution_count": 48,
   "id": "e46cf83a",
   "metadata": {},
   "outputs": [
    {
     "data": {
      "text/plain": [
       "str"
      ]
     },
     "execution_count": 48,
     "metadata": {},
     "output_type": "execute_result"
    }
   ],
   "source": [
    "### Contoh string\n",
    "x = 'teks'\n",
    "type(x)"
   ]
  },
  {
   "cell_type": "code",
   "execution_count": 49,
   "id": "89a4c402",
   "metadata": {},
   "outputs": [
    {
     "data": {
      "text/plain": [
       "int"
      ]
     },
     "execution_count": 49,
     "metadata": {},
     "output_type": "execute_result"
    }
   ],
   "source": [
    "### Contoh int\n",
    "x = 1\n",
    "type(x)"
   ]
  },
  {
   "cell_type": "code",
   "execution_count": 50,
   "id": "b2d7f5eb",
   "metadata": {},
   "outputs": [
    {
     "data": {
      "text/plain": [
       "float"
      ]
     },
     "execution_count": 50,
     "metadata": {},
     "output_type": "execute_result"
    }
   ],
   "source": [
    "### Contoh float\n",
    "x = 1.0\n",
    "type(x)"
   ]
  },
  {
   "cell_type": "code",
   "execution_count": 52,
   "id": "130614a6",
   "metadata": {},
   "outputs": [
    {
     "data": {
      "text/plain": [
       "bool"
      ]
     },
     "execution_count": 52,
     "metadata": {},
     "output_type": "execute_result"
    }
   ],
   "source": [
    "### Contoh bool\n",
    "x = 1==1\n",
    "type(x)"
   ]
  },
  {
   "cell_type": "markdown",
   "id": "3dd5726f",
   "metadata": {},
   "source": [
    "Namun, dalam `pandas`, terdapat beberapa data types yang lebih spesifik sehingga membuat pengolahan data lebih mudah."
   ]
  },
  {
   "cell_type": "markdown",
   "id": "e72ab67a",
   "metadata": {},
   "source": [
    "- Sebuah kolom yang terdiri dari nilai-nilai yang berhubungan dengan waktu disebut memiliki tipe data `datetime`\n",
    "- Sebuah kolom yang berisi durasi waktu (45 menit, 5 jam), disebut memiliki time data `timedelta`\n",
    "- Sebuah kolom yang memiliki lebih dari 1 tipe data disebut memiliki tipe data `object`\n",
    "- Sebuah kolom `str` dapat dijadikan tipe `categorical` untuk keperluan `machine learning` (nanti akan dibahas)"
   ]
  },
  {
   "cell_type": "code",
   "execution_count": 62,
   "id": "fb0f4f56",
   "metadata": {},
   "outputs": [],
   "source": [
    "import pandas as pd\n",
    "\n",
    "df = pd.DataFrame({\n",
    "    'tanggal_mulai':['2021-01-01', '2021-01-02', '2021-01-03'],\n",
    "    'tanggal_selesai':['2022-02-02', '2021-02-02', '2021-03-03'],\n",
    "    'kode_pekerjaan':[1,2,'tiga'],\n",
    "    'jenis_kelas':['class-1', 'class-2', 'class-1']\n",
    "})\n",
    "\n",
    "df['tanggal_mulai'] = pd.to_datetime(df['tanggal_mulai'])\n",
    "df['tanggal_selesai'] = pd.to_datetime(df['tanggal_selesai'])\n",
    "df['durasi'] = df['tanggal_selesai'] - df['tanggal_mulai']\n",
    "df['jenis_kelas'] = df['jenis_kelas'].astype('category')"
   ]
  },
  {
   "cell_type": "code",
   "execution_count": 64,
   "id": "b20340b2",
   "metadata": {},
   "outputs": [
    {
     "data": {
      "text/html": [
       "<div>\n",
       "<style scoped>\n",
       "    .dataframe tbody tr th:only-of-type {\n",
       "        vertical-align: middle;\n",
       "    }\n",
       "\n",
       "    .dataframe tbody tr th {\n",
       "        vertical-align: top;\n",
       "    }\n",
       "\n",
       "    .dataframe thead th {\n",
       "        text-align: right;\n",
       "    }\n",
       "</style>\n",
       "<table border=\"1\" class=\"dataframe\">\n",
       "  <thead>\n",
       "    <tr style=\"text-align: right;\">\n",
       "      <th></th>\n",
       "      <th>tanggal_mulai</th>\n",
       "      <th>tanggal_selesai</th>\n",
       "      <th>kode_pekerjaan</th>\n",
       "      <th>jenis_kelas</th>\n",
       "      <th>durasi</th>\n",
       "    </tr>\n",
       "  </thead>\n",
       "  <tbody>\n",
       "    <tr>\n",
       "      <th>0</th>\n",
       "      <td>2021-01-01</td>\n",
       "      <td>2022-02-02</td>\n",
       "      <td>1</td>\n",
       "      <td>class-1</td>\n",
       "      <td>397 days</td>\n",
       "    </tr>\n",
       "    <tr>\n",
       "      <th>1</th>\n",
       "      <td>2021-01-02</td>\n",
       "      <td>2021-02-02</td>\n",
       "      <td>2</td>\n",
       "      <td>class-2</td>\n",
       "      <td>31 days</td>\n",
       "    </tr>\n",
       "    <tr>\n",
       "      <th>2</th>\n",
       "      <td>2021-01-03</td>\n",
       "      <td>2021-03-03</td>\n",
       "      <td>tiga</td>\n",
       "      <td>class-1</td>\n",
       "      <td>59 days</td>\n",
       "    </tr>\n",
       "  </tbody>\n",
       "</table>\n",
       "</div>"
      ],
      "text/plain": [
       "  tanggal_mulai tanggal_selesai kode_pekerjaan jenis_kelas   durasi\n",
       "0    2021-01-01      2022-02-02              1     class-1 397 days\n",
       "1    2021-01-02      2021-02-02              2     class-2  31 days\n",
       "2    2021-01-03      2021-03-03           tiga     class-1  59 days"
      ]
     },
     "execution_count": 64,
     "metadata": {},
     "output_type": "execute_result"
    }
   ],
   "source": [
    "df"
   ]
  },
  {
   "cell_type": "code",
   "execution_count": 63,
   "id": "6e3425f8",
   "metadata": {},
   "outputs": [
    {
     "data": {
      "text/plain": [
       "tanggal_mulai       datetime64[ns]\n",
       "tanggal_selesai     datetime64[ns]\n",
       "kode_pekerjaan              object\n",
       "jenis_kelas               category\n",
       "durasi             timedelta64[ns]\n",
       "dtype: object"
      ]
     },
     "execution_count": 63,
     "metadata": {},
     "output_type": "execute_result"
    }
   ],
   "source": [
    "df.dtypes"
   ]
  },
  {
   "cell_type": "markdown",
   "id": "ebf8a666",
   "metadata": {},
   "source": [
    "### Part 3: Data Structures in Python"
   ]
  },
  {
   "cell_type": "markdown",
   "id": "8f2b43fc",
   "metadata": {},
   "source": [
    "Struktur data yang penting dikenali oleh pemula Python adalah:\n",
    "- list\n",
    "- numpy array\n",
    "- tuple\n",
    "- dictionary\n",
    "- set"
   ]
  },
  {
   "cell_type": "markdown",
   "id": "07edd284",
   "metadata": {},
   "source": [
    "List adalah daftar terurut. Kita bisa memasukkan apa pun ke dalam list dan list akan mengurutkannya sesuai index. "
   ]
  },
  {
   "cell_type": "code",
   "execution_count": 67,
   "id": "8089fed0",
   "metadata": {},
   "outputs": [],
   "source": [
    "### list, which is used to store other objects and give them order (urutan berpengaruh)\n",
    "list_contoh = [1,2,3,4,5,6]"
   ]
  },
  {
   "cell_type": "markdown",
   "id": "c25500a2",
   "metadata": {},
   "source": [
    "List di atas beranggotakan bilangan-bilangan bulat"
   ]
  },
  {
   "cell_type": "code",
   "execution_count": 68,
   "id": "9b47b2b1",
   "metadata": {},
   "outputs": [],
   "source": [
    "list_contoh_2 = ['a', 'b', 'c', 'd', 'e']"
   ]
  },
  {
   "cell_type": "markdown",
   "id": "ca1fdd44",
   "metadata": {},
   "source": [
    "List di atas beranggotakan `string`. "
   ]
  },
  {
   "cell_type": "code",
   "execution_count": 69,
   "id": "4408f209",
   "metadata": {},
   "outputs": [
    {
     "ename": "IndexError",
     "evalue": "list index out of range",
     "output_type": "error",
     "traceback": [
      "\u001b[1;31m---------------------------------------------------------------------------\u001b[0m",
      "\u001b[1;31mIndexError\u001b[0m                                Traceback (most recent call last)",
      "\u001b[1;32m~\\AppData\\Local\\Temp/ipykernel_10680/1511494823.py\u001b[0m in \u001b[0;36m<module>\u001b[1;34m\u001b[0m\n\u001b[1;32m----> 1\u001b[1;33m \u001b[0mlist_contoh_2\u001b[0m\u001b[1;33m[\u001b[0m\u001b[1;36m5\u001b[0m\u001b[1;33m]\u001b[0m\u001b[1;33m\u001b[0m\u001b[1;33m\u001b[0m\u001b[0m\n\u001b[0m",
      "\u001b[1;31mIndexError\u001b[0m: list index out of range"
     ]
    }
   ],
   "source": [
    "list_contoh_2[5]"
   ]
  },
  {
   "cell_type": "code",
   "execution_count": 70,
   "id": "92a71401",
   "metadata": {},
   "outputs": [
    {
     "data": {
      "text/plain": [
       "1"
      ]
     },
     "execution_count": 70,
     "metadata": {},
     "output_type": "execute_result"
    }
   ],
   "source": [
    "list_contoh[0]"
   ]
  },
  {
   "cell_type": "code",
   "execution_count": 71,
   "id": "52364fe6",
   "metadata": {},
   "outputs": [
    {
     "data": {
      "text/plain": [
       "2"
      ]
     },
     "execution_count": 71,
     "metadata": {},
     "output_type": "execute_result"
    }
   ],
   "source": [
    "list_contoh[1]"
   ]
  },
  {
   "cell_type": "markdown",
   "id": "32001c86",
   "metadata": {},
   "source": [
    "Dan kita bisa 'memanggil' anggota-anggota dari list itu menurut INDEX nya (posisi)."
   ]
  },
  {
   "cell_type": "markdown",
   "id": "eb93dba3",
   "metadata": {},
   "source": [
    "Selain itu, kita juga bisa menambahkan sesuatu ke dalam list yang telah dibuat"
   ]
  },
  {
   "cell_type": "code",
   "execution_count": 72,
   "id": "b96fbdc4",
   "metadata": {},
   "outputs": [],
   "source": [
    "list_contoh.append(8)"
   ]
  },
  {
   "cell_type": "code",
   "execution_count": 73,
   "id": "7907e866",
   "metadata": {},
   "outputs": [
    {
     "data": {
      "text/plain": [
       "[1, 2, 3, 4, 5, 6, 8]"
      ]
     },
     "execution_count": 73,
     "metadata": {},
     "output_type": "execute_result"
    }
   ],
   "source": [
    "list_contoh"
   ]
  },
  {
   "cell_type": "markdown",
   "id": "b5452fd6",
   "metadata": {},
   "source": [
    "Kita menambahkan angka '8' untuk dimasukkan ke dalam list_contoh. "
   ]
  },
  {
   "cell_type": "markdown",
   "id": "9d68068f",
   "metadata": {},
   "source": [
    "Perbedaan `numpy array` dan `list` adalah `numpy array` lebih difokuskan untuk operasi matematika."
   ]
  },
  {
   "cell_type": "code",
   "execution_count": 75,
   "id": "75d45520",
   "metadata": {},
   "outputs": [],
   "source": [
    "import numpy as np\n",
    "array_contoh = np.array([1,2,3,4,5,6,7,8])"
   ]
  },
  {
   "cell_type": "code",
   "execution_count": 76,
   "id": "ec19148e",
   "metadata": {},
   "outputs": [
    {
     "data": {
      "text/plain": [
       "array([0.5, 1. , 1.5, 2. , 2.5, 3. , 3.5, 4. ])"
      ]
     },
     "execution_count": 76,
     "metadata": {},
     "output_type": "execute_result"
    }
   ],
   "source": [
    "array_contoh / 2"
   ]
  },
  {
   "cell_type": "code",
   "execution_count": 77,
   "id": "99803d7c",
   "metadata": {},
   "outputs": [
    {
     "ename": "TypeError",
     "evalue": "unsupported operand type(s) for /: 'list' and 'int'",
     "output_type": "error",
     "traceback": [
      "\u001b[1;31m---------------------------------------------------------------------------\u001b[0m",
      "\u001b[1;31mTypeError\u001b[0m                                 Traceback (most recent call last)",
      "\u001b[1;32m~\\AppData\\Local\\Temp/ipykernel_10680/332944031.py\u001b[0m in \u001b[0;36m<module>\u001b[1;34m\u001b[0m\n\u001b[1;32m----> 1\u001b[1;33m \u001b[0mlist_contoh\u001b[0m \u001b[1;33m/\u001b[0m \u001b[1;36m2\u001b[0m\u001b[1;33m\u001b[0m\u001b[1;33m\u001b[0m\u001b[0m\n\u001b[0m",
      "\u001b[1;31mTypeError\u001b[0m: unsupported operand type(s) for /: 'list' and 'int'"
     ]
    }
   ],
   "source": [
    "list_contoh / 2"
   ]
  },
  {
   "cell_type": "code",
   "execution_count": 80,
   "id": "a9dfec0a",
   "metadata": {},
   "outputs": [
    {
     "data": {
      "text/plain": [
       "array([[1, 2, 3],\n",
       "       [2, 3, 4],\n",
       "       [3, 4, 5]])"
      ]
     },
     "execution_count": 80,
     "metadata": {},
     "output_type": "execute_result"
    }
   ],
   "source": [
    "matriks_contoh = np.array([[1,2,3],[2,3,4],[3,4,5]])\n",
    "matriks_contoh"
   ]
  },
  {
   "cell_type": "code",
   "execution_count": 81,
   "id": "c0223633",
   "metadata": {},
   "outputs": [
    {
     "data": {
      "text/plain": [
       "array([[-4.50359963e+15,  9.00719925e+15, -4.50359963e+15],\n",
       "       [ 9.00719925e+15, -1.80143985e+16,  9.00719925e+15],\n",
       "       [-4.50359963e+15,  9.00719925e+15, -4.50359963e+15]])"
      ]
     },
     "execution_count": 81,
     "metadata": {},
     "output_type": "execute_result"
    }
   ],
   "source": [
    "np.linalg.inv(matriks_contoh)"
   ]
  },
  {
   "cell_type": "markdown",
   "id": "ad460544",
   "metadata": {},
   "source": [
    "Tuple adalah sejenis `list` namun tidak dapat ditambah / dikurangi"
   ]
  },
  {
   "cell_type": "code",
   "execution_count": 82,
   "id": "9ae5a4ad",
   "metadata": {},
   "outputs": [],
   "source": [
    "tuple_contoh = (1,2,3,4,5,6,7,8)"
   ]
  },
  {
   "cell_type": "code",
   "execution_count": 83,
   "id": "4ef965fe",
   "metadata": {},
   "outputs": [
    {
     "ename": "AttributeError",
     "evalue": "'tuple' object has no attribute 'append'",
     "output_type": "error",
     "traceback": [
      "\u001b[1;31m---------------------------------------------------------------------------\u001b[0m",
      "\u001b[1;31mAttributeError\u001b[0m                            Traceback (most recent call last)",
      "\u001b[1;32m~\\AppData\\Local\\Temp/ipykernel_10680/239042391.py\u001b[0m in \u001b[0;36m<module>\u001b[1;34m\u001b[0m\n\u001b[1;32m----> 1\u001b[1;33m \u001b[0mtuple_contoh\u001b[0m\u001b[1;33m.\u001b[0m\u001b[0mappend\u001b[0m\u001b[1;33m(\u001b[0m\u001b[1;36m10\u001b[0m\u001b[1;33m)\u001b[0m\u001b[1;33m\u001b[0m\u001b[1;33m\u001b[0m\u001b[0m\n\u001b[0m",
      "\u001b[1;31mAttributeError\u001b[0m: 'tuple' object has no attribute 'append'"
     ]
    }
   ],
   "source": [
    "tuple_contoh.append(10)"
   ]
  },
  {
   "cell_type": "markdown",
   "id": "3e4c2185",
   "metadata": {},
   "source": [
    "Mengapa terkadang tuple digunakan? Karena tuple lebih memory-efficient daripada list"
   ]
  },
  {
   "cell_type": "code",
   "execution_count": 84,
   "id": "e8c55a4b",
   "metadata": {},
   "outputs": [],
   "source": [
    "from sys import getsizeof"
   ]
  },
  {
   "cell_type": "code",
   "execution_count": 86,
   "id": "7711d0fe",
   "metadata": {},
   "outputs": [
    {
     "data": {
      "text/plain": [
       "152"
      ]
     },
     "execution_count": 86,
     "metadata": {},
     "output_type": "execute_result"
    }
   ],
   "source": [
    "getsizeof(list_contoh)"
   ]
  },
  {
   "cell_type": "code",
   "execution_count": 87,
   "id": "744d30a3",
   "metadata": {},
   "outputs": [
    {
     "data": {
      "text/plain": [
       "104"
      ]
     },
     "execution_count": 87,
     "metadata": {},
     "output_type": "execute_result"
    }
   ],
   "source": [
    "getsizeof(tuple_contoh)"
   ]
  },
  {
   "cell_type": "markdown",
   "id": "e033aa16",
   "metadata": {},
   "source": [
    "Jadi, jika kita tidak membutuhkan fungsi menambahkan anggota baru pada daftar kita, maka sebaiknya gunakan saja `tuple` daripada `list`. "
   ]
  },
  {
   "cell_type": "markdown",
   "id": "8b1e9ad1",
   "metadata": {},
   "source": [
    "Set adalah himpunan - tidak boleh ada anggota duplikat dalam himpunan, tapi tidak ada index/urutan."
   ]
  },
  {
   "cell_type": "code",
   "execution_count": 1,
   "id": "35d9cb2e",
   "metadata": {},
   "outputs": [],
   "source": [
    "set_contoh = set(['k','a','m','p','u','s','m','e','r','d','e','k','a'])"
   ]
  },
  {
   "cell_type": "code",
   "execution_count": 2,
   "id": "a7a1a3a9",
   "metadata": {},
   "outputs": [
    {
     "data": {
      "text/plain": [
       "{'a', 'd', 'e', 'k', 'm', 'p', 'r', 's', 'u'}"
      ]
     },
     "execution_count": 2,
     "metadata": {},
     "output_type": "execute_result"
    }
   ],
   "source": [
    "set_contoh"
   ]
  },
  {
   "cell_type": "code",
   "execution_count": 6,
   "id": "3cb8927f",
   "metadata": {},
   "outputs": [
    {
     "data": {
      "text/plain": [
       "set"
      ]
     },
     "execution_count": 6,
     "metadata": {},
     "output_type": "execute_result"
    }
   ],
   "source": [
    "type(set_contoh)"
   ]
  },
  {
   "cell_type": "code",
   "execution_count": 10,
   "id": "ad1956e3",
   "metadata": {},
   "outputs": [
    {
     "data": {
      "text/plain": [
       "{3}"
      ]
     },
     "execution_count": 10,
     "metadata": {},
     "output_type": "execute_result"
    }
   ],
   "source": [
    "set_x = {1,2,3}\n",
    "set_y = {3,4,5}\n",
    "set_x.intersection(set_y)"
   ]
  },
  {
   "cell_type": "code",
   "execution_count": 11,
   "id": "25ea12f2",
   "metadata": {},
   "outputs": [
    {
     "data": {
      "text/plain": [
       "{1, 2, 3, 4, 5}"
      ]
     },
     "execution_count": 11,
     "metadata": {},
     "output_type": "execute_result"
    }
   ],
   "source": [
    "set_x.union(set_y)"
   ]
  },
  {
   "cell_type": "markdown",
   "id": "15acd993",
   "metadata": {},
   "source": [
    "Last but not least, dictionary dikenal di bahasa pemrograman lain sebagai `hash map`, yang memudahkan kita melakukan pemetaan. Langsung saja kita lihat contohnya sebagai berikut:"
   ]
  },
  {
   "cell_type": "code",
   "execution_count": 96,
   "id": "7f6e496e",
   "metadata": {},
   "outputs": [
    {
     "data": {
      "text/html": [
       "<div>\n",
       "<style scoped>\n",
       "    .dataframe tbody tr th:only-of-type {\n",
       "        vertical-align: middle;\n",
       "    }\n",
       "\n",
       "    .dataframe tbody tr th {\n",
       "        vertical-align: top;\n",
       "    }\n",
       "\n",
       "    .dataframe thead th {\n",
       "        text-align: right;\n",
       "    }\n",
       "</style>\n",
       "<table border=\"1\" class=\"dataframe\">\n",
       "  <thead>\n",
       "    <tr style=\"text-align: right;\">\n",
       "      <th></th>\n",
       "      <th>warna</th>\n",
       "      <th>terjual</th>\n",
       "    </tr>\n",
       "  </thead>\n",
       "  <tbody>\n",
       "    <tr>\n",
       "      <th>0</th>\n",
       "      <td>biru</td>\n",
       "      <td>2</td>\n",
       "    </tr>\n",
       "    <tr>\n",
       "      <th>1</th>\n",
       "      <td>merah</td>\n",
       "      <td>3</td>\n",
       "    </tr>\n",
       "    <tr>\n",
       "      <th>2</th>\n",
       "      <td>merah</td>\n",
       "      <td>3</td>\n",
       "    </tr>\n",
       "    <tr>\n",
       "      <th>3</th>\n",
       "      <td>biru</td>\n",
       "      <td>4</td>\n",
       "    </tr>\n",
       "    <tr>\n",
       "      <th>4</th>\n",
       "      <td>biru</td>\n",
       "      <td>5</td>\n",
       "    </tr>\n",
       "    <tr>\n",
       "      <th>5</th>\n",
       "      <td>kuning</td>\n",
       "      <td>3</td>\n",
       "    </tr>\n",
       "    <tr>\n",
       "      <th>6</th>\n",
       "      <td>hijau</td>\n",
       "      <td>4</td>\n",
       "    </tr>\n",
       "    <tr>\n",
       "      <th>7</th>\n",
       "      <td>kuning</td>\n",
       "      <td>5</td>\n",
       "    </tr>\n",
       "  </tbody>\n",
       "</table>\n",
       "</div>"
      ],
      "text/plain": [
       "    warna  terjual\n",
       "0    biru        2\n",
       "1   merah        3\n",
       "2   merah        3\n",
       "3    biru        4\n",
       "4    biru        5\n",
       "5  kuning        3\n",
       "6   hijau        4\n",
       "7  kuning        5"
      ]
     },
     "execution_count": 96,
     "metadata": {},
     "output_type": "execute_result"
    }
   ],
   "source": [
    "harga_satuan = {\n",
    "    'biru':5000,\n",
    "    'merah':4500,\n",
    "    'hijau':4000,\n",
    "    'kuning':4250\n",
    "}\n",
    "\n",
    "\n",
    "df = pd.DataFrame({\n",
    "    'warna':['biru', 'merah', 'merah', 'biru', 'biru', 'kuning', 'hijau', 'kuning'],\n",
    "    'terjual':[2,3,3,4,5,3,4,5]\n",
    "})\n",
    "\n",
    "df"
   ]
  },
  {
   "cell_type": "code",
   "execution_count": 97,
   "id": "e4faa7b9",
   "metadata": {},
   "outputs": [],
   "source": [
    "df['harga_per_satuan'] = df['warna'].map(harga_satuan)\n",
    "df['total_pendapatan'] = df['terjual'] * df['harga_per_satuan']"
   ]
  },
  {
   "cell_type": "code",
   "execution_count": 98,
   "id": "509bdbdd",
   "metadata": {},
   "outputs": [
    {
     "data": {
      "text/html": [
       "<div>\n",
       "<style scoped>\n",
       "    .dataframe tbody tr th:only-of-type {\n",
       "        vertical-align: middle;\n",
       "    }\n",
       "\n",
       "    .dataframe tbody tr th {\n",
       "        vertical-align: top;\n",
       "    }\n",
       "\n",
       "    .dataframe thead th {\n",
       "        text-align: right;\n",
       "    }\n",
       "</style>\n",
       "<table border=\"1\" class=\"dataframe\">\n",
       "  <thead>\n",
       "    <tr style=\"text-align: right;\">\n",
       "      <th></th>\n",
       "      <th>warna</th>\n",
       "      <th>terjual</th>\n",
       "      <th>harga_per_satuan</th>\n",
       "      <th>total_pendapatan</th>\n",
       "    </tr>\n",
       "  </thead>\n",
       "  <tbody>\n",
       "    <tr>\n",
       "      <th>0</th>\n",
       "      <td>biru</td>\n",
       "      <td>2</td>\n",
       "      <td>5000</td>\n",
       "      <td>10000</td>\n",
       "    </tr>\n",
       "    <tr>\n",
       "      <th>1</th>\n",
       "      <td>merah</td>\n",
       "      <td>3</td>\n",
       "      <td>4500</td>\n",
       "      <td>13500</td>\n",
       "    </tr>\n",
       "    <tr>\n",
       "      <th>2</th>\n",
       "      <td>merah</td>\n",
       "      <td>3</td>\n",
       "      <td>4500</td>\n",
       "      <td>13500</td>\n",
       "    </tr>\n",
       "    <tr>\n",
       "      <th>3</th>\n",
       "      <td>biru</td>\n",
       "      <td>4</td>\n",
       "      <td>5000</td>\n",
       "      <td>20000</td>\n",
       "    </tr>\n",
       "    <tr>\n",
       "      <th>4</th>\n",
       "      <td>biru</td>\n",
       "      <td>5</td>\n",
       "      <td>5000</td>\n",
       "      <td>25000</td>\n",
       "    </tr>\n",
       "    <tr>\n",
       "      <th>5</th>\n",
       "      <td>kuning</td>\n",
       "      <td>3</td>\n",
       "      <td>4250</td>\n",
       "      <td>12750</td>\n",
       "    </tr>\n",
       "    <tr>\n",
       "      <th>6</th>\n",
       "      <td>hijau</td>\n",
       "      <td>4</td>\n",
       "      <td>4000</td>\n",
       "      <td>16000</td>\n",
       "    </tr>\n",
       "    <tr>\n",
       "      <th>7</th>\n",
       "      <td>kuning</td>\n",
       "      <td>5</td>\n",
       "      <td>4250</td>\n",
       "      <td>21250</td>\n",
       "    </tr>\n",
       "  </tbody>\n",
       "</table>\n",
       "</div>"
      ],
      "text/plain": [
       "    warna  terjual  harga_per_satuan  total_pendapatan\n",
       "0    biru        2              5000             10000\n",
       "1   merah        3              4500             13500\n",
       "2   merah        3              4500             13500\n",
       "3    biru        4              5000             20000\n",
       "4    biru        5              5000             25000\n",
       "5  kuning        3              4250             12750\n",
       "6   hijau        4              4000             16000\n",
       "7  kuning        5              4250             21250"
      ]
     },
     "execution_count": 98,
     "metadata": {},
     "output_type": "execute_result"
    }
   ],
   "source": [
    "df"
   ]
  },
  {
   "cell_type": "code",
   "execution_count": 12,
   "id": "eb484212",
   "metadata": {},
   "outputs": [],
   "source": [
    "import pandas as pd"
   ]
  },
  {
   "cell_type": "code",
   "execution_count": 14,
   "id": "d8669326",
   "metadata": {},
   "outputs": [
    {
     "data": {
      "text/html": [
       "<div>\n",
       "<style scoped>\n",
       "    .dataframe tbody tr th:only-of-type {\n",
       "        vertical-align: middle;\n",
       "    }\n",
       "\n",
       "    .dataframe tbody tr th {\n",
       "        vertical-align: top;\n",
       "    }\n",
       "\n",
       "    .dataframe thead th {\n",
       "        text-align: right;\n",
       "    }\n",
       "</style>\n",
       "<table border=\"1\" class=\"dataframe\">\n",
       "  <thead>\n",
       "    <tr style=\"text-align: right;\">\n",
       "      <th></th>\n",
       "      <th>warna</th>\n",
       "      <th>terjual</th>\n",
       "    </tr>\n",
       "  </thead>\n",
       "  <tbody>\n",
       "    <tr>\n",
       "      <th>0</th>\n",
       "      <td>biru</td>\n",
       "      <td>2</td>\n",
       "    </tr>\n",
       "    <tr>\n",
       "      <th>1</th>\n",
       "      <td>merah</td>\n",
       "      <td>3</td>\n",
       "    </tr>\n",
       "    <tr>\n",
       "      <th>2</th>\n",
       "      <td>merah</td>\n",
       "      <td>3</td>\n",
       "    </tr>\n",
       "    <tr>\n",
       "      <th>3</th>\n",
       "      <td>hitam</td>\n",
       "      <td>4</td>\n",
       "    </tr>\n",
       "    <tr>\n",
       "      <th>4</th>\n",
       "      <td>biru</td>\n",
       "      <td>5</td>\n",
       "    </tr>\n",
       "    <tr>\n",
       "      <th>5</th>\n",
       "      <td>biru</td>\n",
       "      <td>3</td>\n",
       "    </tr>\n",
       "    <tr>\n",
       "      <th>6</th>\n",
       "      <td>kuning</td>\n",
       "      <td>4</td>\n",
       "    </tr>\n",
       "    <tr>\n",
       "      <th>7</th>\n",
       "      <td>hijau</td>\n",
       "      <td>5</td>\n",
       "    </tr>\n",
       "    <tr>\n",
       "      <th>8</th>\n",
       "      <td>hitam</td>\n",
       "      <td>4</td>\n",
       "    </tr>\n",
       "    <tr>\n",
       "      <th>9</th>\n",
       "      <td>kuning</td>\n",
       "      <td>2</td>\n",
       "    </tr>\n",
       "  </tbody>\n",
       "</table>\n",
       "</div>"
      ],
      "text/plain": [
       "    warna  terjual\n",
       "0    biru        2\n",
       "1   merah        3\n",
       "2   merah        3\n",
       "3   hitam        4\n",
       "4    biru        5\n",
       "5    biru        3\n",
       "6  kuning        4\n",
       "7   hijau        5\n",
       "8   hitam        4\n",
       "9  kuning        2"
      ]
     },
     "execution_count": 14,
     "metadata": {},
     "output_type": "execute_result"
    }
   ],
   "source": [
    "satuan = {\n",
    "    'biru':5000,\n",
    "    'merah':4500,\n",
    "    'hijau':4000,\n",
    "    'kuning':4250,\n",
    "    'hitam':6000\n",
    "}\n",
    "\n",
    "\n",
    "df = pd.DataFrame({\n",
    "    'warna':['biru', 'merah', 'merah', 'hitam', 'biru', 'biru', 'kuning', 'hijau', 'hitam', 'kuning'],\n",
    "    'terjual':[2,3,3,4,5,3,4,5,4,2]\n",
    "})\n",
    "\n",
    "df"
   ]
  },
  {
   "cell_type": "code",
   "execution_count": 17,
   "id": "a9f669ca",
   "metadata": {},
   "outputs": [],
   "source": [
    "df['harga_per_satuan'] = df['warna'].map(satuan)\n",
    "df['total_pendapatan'] = df['terjual'] * df['harga_per_satuan']"
   ]
  },
  {
   "cell_type": "code",
   "execution_count": 18,
   "id": "bf5b8831",
   "metadata": {},
   "outputs": [
    {
     "data": {
      "text/html": [
       "<div>\n",
       "<style scoped>\n",
       "    .dataframe tbody tr th:only-of-type {\n",
       "        vertical-align: middle;\n",
       "    }\n",
       "\n",
       "    .dataframe tbody tr th {\n",
       "        vertical-align: top;\n",
       "    }\n",
       "\n",
       "    .dataframe thead th {\n",
       "        text-align: right;\n",
       "    }\n",
       "</style>\n",
       "<table border=\"1\" class=\"dataframe\">\n",
       "  <thead>\n",
       "    <tr style=\"text-align: right;\">\n",
       "      <th></th>\n",
       "      <th>warna</th>\n",
       "      <th>terjual</th>\n",
       "      <th>harga_per_satuan</th>\n",
       "      <th>total_pendapatan</th>\n",
       "    </tr>\n",
       "  </thead>\n",
       "  <tbody>\n",
       "    <tr>\n",
       "      <th>0</th>\n",
       "      <td>biru</td>\n",
       "      <td>2</td>\n",
       "      <td>5000</td>\n",
       "      <td>10000</td>\n",
       "    </tr>\n",
       "    <tr>\n",
       "      <th>1</th>\n",
       "      <td>merah</td>\n",
       "      <td>3</td>\n",
       "      <td>4500</td>\n",
       "      <td>13500</td>\n",
       "    </tr>\n",
       "    <tr>\n",
       "      <th>2</th>\n",
       "      <td>merah</td>\n",
       "      <td>3</td>\n",
       "      <td>4500</td>\n",
       "      <td>13500</td>\n",
       "    </tr>\n",
       "    <tr>\n",
       "      <th>3</th>\n",
       "      <td>hitam</td>\n",
       "      <td>4</td>\n",
       "      <td>6000</td>\n",
       "      <td>24000</td>\n",
       "    </tr>\n",
       "    <tr>\n",
       "      <th>4</th>\n",
       "      <td>biru</td>\n",
       "      <td>5</td>\n",
       "      <td>5000</td>\n",
       "      <td>25000</td>\n",
       "    </tr>\n",
       "    <tr>\n",
       "      <th>5</th>\n",
       "      <td>biru</td>\n",
       "      <td>3</td>\n",
       "      <td>5000</td>\n",
       "      <td>15000</td>\n",
       "    </tr>\n",
       "    <tr>\n",
       "      <th>6</th>\n",
       "      <td>kuning</td>\n",
       "      <td>4</td>\n",
       "      <td>4250</td>\n",
       "      <td>17000</td>\n",
       "    </tr>\n",
       "    <tr>\n",
       "      <th>7</th>\n",
       "      <td>hijau</td>\n",
       "      <td>5</td>\n",
       "      <td>4000</td>\n",
       "      <td>20000</td>\n",
       "    </tr>\n",
       "    <tr>\n",
       "      <th>8</th>\n",
       "      <td>hitam</td>\n",
       "      <td>4</td>\n",
       "      <td>6000</td>\n",
       "      <td>24000</td>\n",
       "    </tr>\n",
       "    <tr>\n",
       "      <th>9</th>\n",
       "      <td>kuning</td>\n",
       "      <td>2</td>\n",
       "      <td>4250</td>\n",
       "      <td>8500</td>\n",
       "    </tr>\n",
       "  </tbody>\n",
       "</table>\n",
       "</div>"
      ],
      "text/plain": [
       "    warna  terjual  harga_per_satuan  total_pendapatan\n",
       "0    biru        2              5000             10000\n",
       "1   merah        3              4500             13500\n",
       "2   merah        3              4500             13500\n",
       "3   hitam        4              6000             24000\n",
       "4    biru        5              5000             25000\n",
       "5    biru        3              5000             15000\n",
       "6  kuning        4              4250             17000\n",
       "7   hijau        5              4000             20000\n",
       "8   hitam        4              6000             24000\n",
       "9  kuning        2              4250              8500"
      ]
     },
     "execution_count": 18,
     "metadata": {},
     "output_type": "execute_result"
    }
   ],
   "source": [
    "df"
   ]
  },
  {
   "cell_type": "code",
   "execution_count": null,
   "id": "4249e0fd",
   "metadata": {},
   "outputs": [],
   "source": []
  },
  {
   "cell_type": "code",
   "execution_count": null,
   "id": "9f523d51",
   "metadata": {},
   "outputs": [],
   "source": []
  },
  {
   "cell_type": "code",
   "execution_count": null,
   "id": "accd0fb4",
   "metadata": {},
   "outputs": [],
   "source": []
  },
  {
   "cell_type": "code",
   "execution_count": null,
   "id": "27929260",
   "metadata": {},
   "outputs": [],
   "source": []
  }
 ],
 "metadata": {
  "kernelspec": {
   "display_name": "Python 3 (ipykernel)",
   "language": "python",
   "name": "python3"
  },
  "language_info": {
   "codemirror_mode": {
    "name": "ipython",
    "version": 3
   },
   "file_extension": ".py",
   "mimetype": "text/x-python",
   "name": "python",
   "nbconvert_exporter": "python",
   "pygments_lexer": "ipython3",
   "version": "3.9.7"
  }
 },
 "nbformat": 4,
 "nbformat_minor": 5
}
