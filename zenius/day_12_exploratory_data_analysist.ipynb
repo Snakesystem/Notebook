{
 "cells": [
  {
   "cell_type": "markdown",
   "id": "28bc33e4",
   "metadata": {},
   "source": [
    "## Welcome to Day 12 - Hands On!"
   ]
  },
  {
   "cell_type": "code",
   "execution_count": 25,
   "id": "79787f8f",
   "metadata": {},
   "outputs": [],
   "source": [
    "import pandas as pd\n",
    "import numpy as np\n",
    "import matplotlib.pyplot as plt\n",
    "import seaborn as sns\n",
    "import math"
   ]
  },
  {
   "cell_type": "markdown",
   "id": "671ab77c",
   "metadata": {},
   "source": [
    "Pada latihan kali ini, kita akan belajar teknik-tenik yang lebih mutakhir dalam melakukan Exploratory Data Analysis dan Data Processing di Pandas. Kali ini, kita akan belajar menggunakan `titanic_dataset`, dataset populer yang sering dijadikan landasan untuk belajar Data Science oleh pemula. Namun, kita akan mencoba melakukan beberapa teknik-tenik EDA yang cukup 'intermediate' dibandingkan teknik-tenik pada Day 11. "
   ]
  },
  {
   "cell_type": "code",
   "execution_count": 2,
   "id": "6f75c346",
   "metadata": {},
   "outputs": [],
   "source": [
    "df = pd.read_csv('titanic_dataset.csv')"
   ]
  },
  {
   "cell_type": "code",
   "execution_count": 3,
   "id": "4630b308",
   "metadata": {},
   "outputs": [
    {
     "name": "stdout",
     "output_type": "stream",
     "text": [
      "<class 'pandas.core.frame.DataFrame'>\n",
      "RangeIndex: 891 entries, 0 to 890\n",
      "Data columns (total 12 columns):\n",
      " #   Column       Non-Null Count  Dtype  \n",
      "---  ------       --------------  -----  \n",
      " 0   PassengerId  891 non-null    int64  \n",
      " 1   Survived     891 non-null    int64  \n",
      " 2   Pclass       891 non-null    int64  \n",
      " 3   Name         891 non-null    object \n",
      " 4   Sex          891 non-null    object \n",
      " 5   Age          714 non-null    float64\n",
      " 6   SibSp        891 non-null    int64  \n",
      " 7   Parch        891 non-null    int64  \n",
      " 8   Ticket       891 non-null    object \n",
      " 9   Fare         891 non-null    float64\n",
      " 10  Cabin        204 non-null    object \n",
      " 11  Embarked     889 non-null    object \n",
      "dtypes: float64(2), int64(5), object(5)\n",
      "memory usage: 83.7+ KB\n"
     ]
    }
   ],
   "source": [
    "df.info()"
   ]
  },
  {
   "cell_type": "markdown",
   "id": "729bb6ca",
   "metadata": {},
   "source": [
    "- PassengerID: nomor ID dari setiap penumpang, hanya tanda pengenal saja\n",
    "- Survived: 0 berarti 'tidak selamat', 1 berarti 'selamat'\n",
    "- Pclass: kelas tiket, 1 = kelas 1 (paling mewah), 2 = kelas 2, 3 = kelas 3 (paling rendah)\n",
    "- Sex: jenis kelamin\n",
    "- Age: usia\n",
    "- SibSp: berapa banyak sibling/spouses yang ikut serta di dalam Titanic\n",
    "- Parch: berapa banyak parents/children yang ikut serta di dalam Titanic\n",
    "- Ticket: nomor tiket\n",
    "- Fare: uang yang dibayarkan (biaya) untuk perjalanan\n",
    "- Cabin: nomor kabin\n",
    "- Embarked: kota keberangkatan, C = Cherbourg, Q = Queenstown, S = Southampton"
   ]
  },
  {
   "cell_type": "markdown",
   "id": "8eaae5da",
   "metadata": {},
   "source": [
    "### Part 1: Handling Missing Values"
   ]
  },
  {
   "cell_type": "markdown",
   "id": "83ce115b",
   "metadata": {},
   "source": [
    "Dapat kita lihat dari `df.info()` bahwa terdapat 3 kolom dengan missing values, yaitu `Age`, `Embarked`, dan `Cabin`. "
   ]
  },
  {
   "cell_type": "markdown",
   "id": "da438530",
   "metadata": {},
   "source": [
    "##### Rule Of Thumb: Ask The Data Provider!\n",
    "\n",
    "Jika teman-teman sekalian sudah bekerja menjadi Data Scientist, maka hal pertama yang harus dilakukan ketika menemukan missing values adalah mengkonfirmasikannya kepada pemberi datanya (bisa berupa Business Stakeholder, atau Data Engineer). Bisa saja data yang hilang itu diakibatkan oleh adanya kesalahan dalam proses ingestion, sehingga mereka dapat mengetahui adanya gangguan dalam sistem. \n",
    "\n",
    "Atau, bisa saja data yang hilang itu terjadi akibat error dalam 'saving the file', dan semestinya data tersebut ada di file originalnya (dengan demikian, mereka dapat mengambil file original tersebut dan memberikannya ke Data Scientist). \n",
    "\n",
    "Intinya, jika ada missing values, kita semestinya mengkomunikasikan hal ini kepada stakeholder yang memberikan kita dataset tersebut, dan meluruskan apa yang harus dilakukan. Jika memang tidak ada yang dapat dilakukan, maka barulah kita dapat mencoba beberapa opsi yang akan kita pelajari di bawah ini."
   ]
  },
  {
   "cell_type": "markdown",
   "id": "73624925",
   "metadata": {},
   "source": [
    "#### Method 1: Drop the Column\n",
    "\n",
    "Jika kolom tersebut memiliki banyak missing values (lebih dari 50-60%), maka sulit rasanya bisa mendapatkan metode imputasi yang akurat. Apalagi, jika kolom tersebut dirasa memiliki informasi yang minim. \n",
    "\n",
    "Jika hal ini terjadi, maka hal yang dapat dilakukan adalah menghilangkan seluruh kolom (tidak menggunakan kolom tersebut dalam EDA / Modelling). Hal ini yang akan kita lakukan kepada kolom `Cabin`. "
   ]
  },
  {
   "cell_type": "code",
   "execution_count": 4,
   "id": "366fa0e4",
   "metadata": {},
   "outputs": [],
   "source": [
    "df.drop('Cabin', axis = 'columns', inplace = True)"
   ]
  },
  {
   "cell_type": "code",
   "execution_count": 5,
   "id": "7d157e21",
   "metadata": {},
   "outputs": [
    {
     "data": {
      "text/plain": [
       "Index(['PassengerId', 'Survived', 'Pclass', 'Name', 'Sex', 'Age', 'SibSp',\n",
       "       'Parch', 'Ticket', 'Fare', 'Embarked'],\n",
       "      dtype='object')"
      ]
     },
     "execution_count": 5,
     "metadata": {},
     "output_type": "execute_result"
    }
   ],
   "source": [
    "df.columns"
   ]
  },
  {
   "cell_type": "markdown",
   "id": "e99c35fa",
   "metadata": {},
   "source": [
    "Kolom `Cabin` sudah tidak ada di dataframe kita^."
   ]
  },
  {
   "cell_type": "markdown",
   "id": "62bda2aa",
   "metadata": {},
   "source": [
    "#### Method 2: Remove the Rows"
   ]
  },
  {
   "cell_type": "markdown",
   "id": "9f5f3737",
   "metadata": {},
   "source": [
    "Apabila missing values kurang dari 50%, maka hal yang dapat dilakukan adalah menghilangkan semua baris dengan missing values. Ini adalah metode yang paling 'mudah', namun memiliki beberapa konsekuensi:\n",
    "- Kehilangan informasi dari kolom lain yang penting (dalam kebanyakan kasus, baris yang dihilangkan itu sebenarnya tidak bermasalah di kolom-kolom lain)\n",
    "- Dataset size menjadi sedikit, bila yang dihilangkan cukup banyak "
   ]
  },
  {
   "cell_type": "code",
   "execution_count": 6,
   "id": "8bf3e996",
   "metadata": {},
   "outputs": [],
   "source": [
    "df_update = df.dropna(axis = 0).reset_index(drop = True)"
   ]
  },
  {
   "cell_type": "code",
   "execution_count": 7,
   "id": "023ac5c0",
   "metadata": {},
   "outputs": [
    {
     "name": "stdout",
     "output_type": "stream",
     "text": [
      "<class 'pandas.core.frame.DataFrame'>\n",
      "RangeIndex: 712 entries, 0 to 711\n",
      "Data columns (total 11 columns):\n",
      " #   Column       Non-Null Count  Dtype  \n",
      "---  ------       --------------  -----  \n",
      " 0   PassengerId  712 non-null    int64  \n",
      " 1   Survived     712 non-null    int64  \n",
      " 2   Pclass       712 non-null    int64  \n",
      " 3   Name         712 non-null    object \n",
      " 4   Sex          712 non-null    object \n",
      " 5   Age          712 non-null    float64\n",
      " 6   SibSp        712 non-null    int64  \n",
      " 7   Parch        712 non-null    int64  \n",
      " 8   Ticket       712 non-null    object \n",
      " 9   Fare         712 non-null    float64\n",
      " 10  Embarked     712 non-null    object \n",
      "dtypes: float64(2), int64(5), object(4)\n",
      "memory usage: 61.3+ KB\n"
     ]
    }
   ],
   "source": [
    "df_update.info()"
   ]
  },
  {
   "cell_type": "code",
   "execution_count": 8,
   "id": "7817196b",
   "metadata": {},
   "outputs": [
    {
     "data": {
      "text/plain": [
       "<AxesSubplot:xlabel='Age', ylabel='Count'>"
      ]
     },
     "execution_count": 8,
     "metadata": {},
     "output_type": "execute_result"
    },
    {
     "data": {
      "image/png": "[encoded data removed]",
      "text/plain": [
       "<Figure size 432x288 with 1 Axes>"
      ]
     },
     "metadata": {
      "needs_background": "light"
     },
     "output_type": "display_data"
    }
   ],
   "source": [
    "sns.histplot(data = df_update, x = 'Age')"
   ]
  },
  {
   "cell_type": "markdown",
   "id": "64371428",
   "metadata": {},
   "source": [
    "Di atas adalah bentuk histogram dari kolom 'Age' bila kita menghilangkan baris yang memiliki missing values."
   ]
  },
  {
   "cell_type": "markdown",
   "id": "6fd3b0ed",
   "metadata": {},
   "source": [
    "#### Method 3: Mengisi dengan Mean/Median dan Modus"
   ]
  },
  {
   "cell_type": "markdown",
   "id": "41e14360",
   "metadata": {},
   "source": [
    "Metode imputasi dengan `mean/median` dan `modus` adalah salah satu metode pengisian nilai missing-values. Dalam kasus ini, missing values tidak dihilangkan, namun dicoba dicari nilai-nilai yang 'masuk akal' untuk mengisi values-values yang hilang ini. \n",
    "\n",
    "Untuk kolom numerik, biasanya diisi dengan:\n",
    "- mean, jika kolom tidak memiliki outlier \n",
    "- median, jika kita tidak bisa meyakinkan bahwa koom tersebut tidak memiliki outlier\n",
    "\n",
    "Untuk kolom kategorikal, biasanya diisi dengan modus (nilai yang paling sering muncul). "
   ]
  },
  {
   "cell_type": "code",
   "execution_count": 9,
   "id": "4398a2c1",
   "metadata": {},
   "outputs": [],
   "source": [
    "df_update = df.copy()\n",
    "df_update['Age'] = df_update['Age'].fillna(df_update['Age'].median())\n",
    "df_update['Embarked'] = df_update['Embarked'].fillna(df_update['Embarked'].mode()[0])"
   ]
  },
  {
   "cell_type": "code",
   "execution_count": 10,
   "id": "c2a16fb7",
   "metadata": {},
   "outputs": [
    {
     "data": {
      "text/plain": [
       "28.0"
      ]
     },
     "execution_count": 10,
     "metadata": {},
     "output_type": "execute_result"
    }
   ],
   "source": [
    "df['Age'].median()"
   ]
  },
  {
   "cell_type": "code",
   "execution_count": 11,
   "id": "99e2b689",
   "metadata": {},
   "outputs": [
    {
     "name": "stdout",
     "output_type": "stream",
     "text": [
      "<class 'pandas.core.frame.DataFrame'>\n",
      "RangeIndex: 891 entries, 0 to 890\n",
      "Data columns (total 11 columns):\n",
      " #   Column       Non-Null Count  Dtype  \n",
      "---  ------       --------------  -----  \n",
      " 0   PassengerId  891 non-null    int64  \n",
      " 1   Survived     891 non-null    int64  \n",
      " 2   Pclass       891 non-null    int64  \n",
      " 3   Name         891 non-null    object \n",
      " 4   Sex          891 non-null    object \n",
      " 5   Age          891 non-null    float64\n",
      " 6   SibSp        891 non-null    int64  \n",
      " 7   Parch        891 non-null    int64  \n",
      " 8   Ticket       891 non-null    object \n",
      " 9   Fare         891 non-null    float64\n",
      " 10  Embarked     891 non-null    object \n",
      "dtypes: float64(2), int64(5), object(4)\n",
      "memory usage: 76.7+ KB\n"
     ]
    }
   ],
   "source": [
    "df_update.info()"
   ]
  },
  {
   "cell_type": "markdown",
   "id": "5ec5bdef",
   "metadata": {},
   "source": [
    "Konsekuensinya, nilai yang diisi tidak akan terlihat 'natural', apalagi pada kolom yang memiliki banyak missing values. Contohnya adalah pada kolom `Age` berikut ini:"
   ]
  },
  {
   "cell_type": "code",
   "execution_count": 12,
   "id": "9c3e8f1e",
   "metadata": {},
   "outputs": [],
   "source": [
    "import matplotlib.pyplot as plt\n",
    "import seaborn as sns"
   ]
  },
  {
   "cell_type": "code",
   "execution_count": 13,
   "id": "c7501933",
   "metadata": {},
   "outputs": [
    {
     "data": {
      "text/plain": [
       "<AxesSubplot:xlabel='Age', ylabel='Count'>"
      ]
     },
     "execution_count": 13,
     "metadata": {},
     "output_type": "execute_result"
    },
    {
     "data": {
      "image/png": "[encoded data removed]",
      "text/plain": [
       "<Figure size 432x288 with 1 Axes>"
      ]
     },
     "metadata": {
      "needs_background": "light"
     },
     "output_type": "display_data"
    }
   ],
   "source": [
    "sns.histplot(data = df_update, x = 'Age')"
   ]
  },
  {
   "cell_type": "markdown",
   "id": "522ea588",
   "metadata": {},
   "source": [
    "Pada histogram, terlihat bahwa nilai '28.0' yang merupakan nilai `median` menjadi sangat dominan, karena seluruh `missing values` disamaratakan menjadi 28. "
   ]
  },
  {
   "cell_type": "markdown",
   "id": "f327ea7a",
   "metadata": {},
   "source": [
    "#### Method 4: Regression-Based Imputation"
   ]
  },
  {
   "cell_type": "markdown",
   "id": "6ba54f71",
   "metadata": {},
   "source": [
    "Metode ini digunakan pada kolom numerik. Metode ini menggunakan konsep Regression yang belum dipelajari. Regression sendiri baru dipelajari di day-day berikutnya.\n",
    "\n",
    "Namun, secara konsep, kita melakukan 'prediksi' pada nilai-nilai 'missing values' menggunakan fakta-fakta dari kolom-kolom lain. \n",
    "\n",
    "Maksudnya bagaimana?\n",
    "\n",
    "Contoh sederhana: \n",
    "- Rumah dengan luas 120 meter persegi memiliki harga 4 Miliar\n",
    "- Rumah dengan luas 150 meter persegi memiliki harga 5 Miliar\n",
    "- Maka rumah dengan luas 90 meter persegi memiliki harga ??\n",
    "\n",
    "Estimasi kita pasti menjawab 3 Miliar, bukan?\n",
    "\n",
    "Nah, kira-kira regression-based estimation adalah seperti itu. "
   ]
  },
  {
   "cell_type": "code",
   "execution_count": 14,
   "id": "b596d3eb",
   "metadata": {},
   "outputs": [
    {
     "data": {
      "text/plain": [
       "Index(['PassengerId', 'Survived', 'Pclass', 'Name', 'Sex', 'Age', 'SibSp',\n",
       "       'Parch', 'Ticket', 'Fare', 'Embarked'],\n",
       "      dtype='object')"
      ]
     },
     "execution_count": 14,
     "metadata": {},
     "output_type": "execute_result"
    }
   ],
   "source": [
    "df.columns"
   ]
  },
  {
   "cell_type": "markdown",
   "id": "cd9826fb",
   "metadata": {},
   "source": [
    "Mari kita menebak missing-values pada kolom `Age` dengan bantuan kolom-kolom `Pclass`, `SibSp`, `Parch`, dan `Fare`."
   ]
  },
  {
   "cell_type": "code",
   "execution_count": 15,
   "id": "09e5a3b9",
   "metadata": {},
   "outputs": [],
   "source": [
    "from sklearn.linear_model import LinearRegression\n",
    "### Membuat sebuah LinearRegression\n",
    "lr = LinearRegression()\n",
    "\n",
    "### Seleksi kolom-kolom yang digunakan\n",
    "selected_cols = ['Age', 'Pclass', 'SibSp', 'Parch', 'Fare']\n",
    "\n",
    "### Bagi menjadi Missing dan Training. Missing Df berisi baris-baris dengan 'Age' kosong.\n",
    "missing_df = df[df['Age'].isnull()==True][selected_cols]\n",
    "training_df = df[df['Age'].isnull()==False][selected_cols]\n",
    "\n",
    "### Buatlah model regression dari baris-baris yang tidak memiliki missing values\n",
    "y_train = training_df['Age']\n",
    "x_train = training_df.drop('Age', axis = 1)\n",
    "\n",
    "lr.fit(x_train, y_train)\n",
    "\n",
    "### Prediksilah nilai 'Age' pada baris-baris yang memiliki missing values\n",
    "x_missing = missing_df.drop('Age', axis = 1)\n",
    "\n",
    "prediction = lr.predict(x_missing)\n",
    "missing_df['Age'] = prediction"
   ]
  },
  {
   "cell_type": "code",
   "execution_count": 16,
   "id": "9ef95989",
   "metadata": {},
   "outputs": [
    {
     "data": {
      "text/html": [
       "<div>\n",
       "<style scoped>\n",
       "    .dataframe tbody tr th:only-of-type {\n",
       "        vertical-align: middle;\n",
       "    }\n",
       "\n",
       "    .dataframe tbody tr th {\n",
       "        vertical-align: top;\n",
       "    }\n",
       "\n",
       "    .dataframe thead th {\n",
       "        text-align: right;\n",
       "    }\n",
       "</style>\n",
       "<table border=\"1\" class=\"dataframe\">\n",
       "  <thead>\n",
       "    <tr style=\"text-align: right;\">\n",
       "      <th></th>\n",
       "      <th>Age</th>\n",
       "      <th>Pclass</th>\n",
       "      <th>SibSp</th>\n",
       "      <th>Parch</th>\n",
       "      <th>Fare</th>\n",
       "    </tr>\n",
       "  </thead>\n",
       "  <tbody>\n",
       "    <tr>\n",
       "      <th>0</th>\n",
       "      <td>22.00000</td>\n",
       "      <td>3</td>\n",
       "      <td>1</td>\n",
       "      <td>0</td>\n",
       "      <td>7.2500</td>\n",
       "    </tr>\n",
       "    <tr>\n",
       "      <th>1</th>\n",
       "      <td>38.00000</td>\n",
       "      <td>1</td>\n",
       "      <td>1</td>\n",
       "      <td>0</td>\n",
       "      <td>71.2833</td>\n",
       "    </tr>\n",
       "    <tr>\n",
       "      <th>2</th>\n",
       "      <td>26.00000</td>\n",
       "      <td>3</td>\n",
       "      <td>0</td>\n",
       "      <td>0</td>\n",
       "      <td>7.9250</td>\n",
       "    </tr>\n",
       "    <tr>\n",
       "      <th>3</th>\n",
       "      <td>35.00000</td>\n",
       "      <td>1</td>\n",
       "      <td>1</td>\n",
       "      <td>0</td>\n",
       "      <td>53.1000</td>\n",
       "    </tr>\n",
       "    <tr>\n",
       "      <th>4</th>\n",
       "      <td>35.00000</td>\n",
       "      <td>3</td>\n",
       "      <td>0</td>\n",
       "      <td>0</td>\n",
       "      <td>8.0500</td>\n",
       "    </tr>\n",
       "    <tr>\n",
       "      <th>...</th>\n",
       "      <td>...</td>\n",
       "      <td>...</td>\n",
       "      <td>...</td>\n",
       "      <td>...</td>\n",
       "      <td>...</td>\n",
       "    </tr>\n",
       "    <tr>\n",
       "      <th>886</th>\n",
       "      <td>27.00000</td>\n",
       "      <td>2</td>\n",
       "      <td>0</td>\n",
       "      <td>0</td>\n",
       "      <td>13.0000</td>\n",
       "    </tr>\n",
       "    <tr>\n",
       "      <th>887</th>\n",
       "      <td>19.00000</td>\n",
       "      <td>1</td>\n",
       "      <td>0</td>\n",
       "      <td>0</td>\n",
       "      <td>30.0000</td>\n",
       "    </tr>\n",
       "    <tr>\n",
       "      <th>888</th>\n",
       "      <td>21.00954</td>\n",
       "      <td>3</td>\n",
       "      <td>1</td>\n",
       "      <td>2</td>\n",
       "      <td>23.4500</td>\n",
       "    </tr>\n",
       "    <tr>\n",
       "      <th>889</th>\n",
       "      <td>26.00000</td>\n",
       "      <td>1</td>\n",
       "      <td>0</td>\n",
       "      <td>0</td>\n",
       "      <td>30.0000</td>\n",
       "    </tr>\n",
       "    <tr>\n",
       "      <th>890</th>\n",
       "      <td>32.00000</td>\n",
       "      <td>3</td>\n",
       "      <td>0</td>\n",
       "      <td>0</td>\n",
       "      <td>7.7500</td>\n",
       "    </tr>\n",
       "  </tbody>\n",
       "</table>\n",
       "<p>891 rows × 5 columns</p>\n",
       "</div>"
      ],
      "text/plain": [
       "          Age  Pclass  SibSp  Parch     Fare\n",
       "0    22.00000       3      1      0   7.2500\n",
       "1    38.00000       1      1      0  71.2833\n",
       "2    26.00000       3      0      0   7.9250\n",
       "3    35.00000       1      1      0  53.1000\n",
       "4    35.00000       3      0      0   8.0500\n",
       "..        ...     ...    ...    ...      ...\n",
       "886  27.00000       2      0      0  13.0000\n",
       "887  19.00000       1      0      0  30.0000\n",
       "888  21.00954       3      1      2  23.4500\n",
       "889  26.00000       1      0      0  30.0000\n",
       "890  32.00000       3      0      0   7.7500\n",
       "\n",
       "[891 rows x 5 columns]"
      ]
     },
     "execution_count": 16,
     "metadata": {},
     "output_type": "execute_result"
    }
   ],
   "source": [
    "### Combine all into one dataframe\n",
    "df_full = pd.concat([training_df, missing_df])\n",
    "df_full = df_full.sort_index()\n",
    "df_full"
   ]
  },
  {
   "cell_type": "code",
   "execution_count": 17,
   "id": "df9db538",
   "metadata": {},
   "outputs": [],
   "source": [
    "df_update = df.copy()\n",
    "df_update[selected_cols] = df_full[selected_cols]"
   ]
  },
  {
   "cell_type": "code",
   "execution_count": 18,
   "id": "3b0864cb",
   "metadata": {},
   "outputs": [
    {
     "name": "stdout",
     "output_type": "stream",
     "text": [
      "<class 'pandas.core.frame.DataFrame'>\n",
      "RangeIndex: 891 entries, 0 to 890\n",
      "Data columns (total 11 columns):\n",
      " #   Column       Non-Null Count  Dtype  \n",
      "---  ------       --------------  -----  \n",
      " 0   PassengerId  891 non-null    int64  \n",
      " 1   Survived     891 non-null    int64  \n",
      " 2   Pclass       891 non-null    int64  \n",
      " 3   Name         891 non-null    object \n",
      " 4   Sex          891 non-null    object \n",
      " 5   Age          891 non-null    float64\n",
      " 6   SibSp        891 non-null    int64  \n",
      " 7   Parch        891 non-null    int64  \n",
      " 8   Ticket       891 non-null    object \n",
      " 9   Fare         891 non-null    float64\n",
      " 10  Embarked     889 non-null    object \n",
      "dtypes: float64(2), int64(5), object(4)\n",
      "memory usage: 76.7+ KB\n"
     ]
    }
   ],
   "source": [
    "df_update.info()"
   ]
  },
  {
   "cell_type": "code",
   "execution_count": 19,
   "id": "eeb9a0cd",
   "metadata": {},
   "outputs": [
    {
     "data": {
      "text/plain": [
       "<AxesSubplot:xlabel='Age', ylabel='Count'>"
      ]
     },
     "execution_count": 19,
     "metadata": {},
     "output_type": "execute_result"
    },
    {
     "data": {
      "image/png": "[encoded data removed]",
      "text/plain": [
       "<Figure size 432x288 with 1 Axes>"
      ]
     },
     "metadata": {
      "needs_background": "light"
     },
     "output_type": "display_data"
    }
   ],
   "source": [
    "sns.histplot(data = df_update, x = 'Age')"
   ]
  },
  {
   "cell_type": "markdown",
   "id": "362a7828",
   "metadata": {},
   "source": [
    "Meskipun hasil imputasi ini masih terlihat tidak natural (ada spike di usia 20an), setidaknya lebih 'natural' daripada hanya mengisi dengan `median/mean`. "
   ]
  },
  {
   "cell_type": "markdown",
   "id": "e28f6b48",
   "metadata": {},
   "source": [
    "##### Warning: Issue of Multicolinearity\n",
    "\n",
    "Berhati-hatilah menggunakan metode ini. Metode ini terlihat 'canggih', namun memiliki sebuah konsekuensi yang cukup penting diingat:\n",
    "- Hasil imputasi akan memiliki korelasi yang tinggi dengan kolom-kolom 'penebak' (karena kita menebak 'Age' berdasarkan nilai-nilai kolom-kolom 'Penebak')\n",
    "- Padahal, sebuah asumsi 'linear regression' adalah bahwa tidak terdapat korelasi yang tinggi antar kolom-kolom (artinya, seharusnya antarkolom tidak memiliki hubungan yang erat)\n",
    "- Kesannya, kolom 'Age' sangat dipengaruhi oleh kolom 'Pclass', 'SibSp', (yang kita gunakan untuk menebak). Padahal, belum tentu mereka ini saling berhubungan! Dan dengan mengimputasi seperti ini, kita seakan-akan memaksakan hubungan ini. Jika sebenarnya kolom 'Age' ini tidak memiliki hubungan dengan kolom-kolom 'Pclass', 'SibSp', dst, maka metode imputasi ini bisa dibilang keliru. "
   ]
  },
  {
   "cell_type": "markdown",
   "id": "c8363dd0",
   "metadata": {},
   "source": [
    "#### Conclusion: No Easy Way\n",
    "\n",
    "There is no correct 100% working way to deal with missing values. Tidak ada satu pun cara yang dapat dianggap sebagai 'cara paling benar' dalam berhadapan dengan missing values. Lakukanlah eksperimen dan catat hasilnya, untuk menemukan cara terbaik dalam menangani 'missing values'. "
   ]
  },
  {
   "cell_type": "markdown",
   "id": "d6abedc3",
   "metadata": {},
   "source": [
    "### Part 2: Lambda Apply and Its Alternatives"
   ]
  },
  {
   "cell_type": "markdown",
   "id": "21d72c41",
   "metadata": {},
   "source": [
    "Kita bisa menggunakan `apply` untuk mengaplikasikan suatu fungsi terhadap sebuah kolom di dataframe. Contoh, kita ingin membuat sebuah kolom baru berisi pengelompokkan usia sebagai berikut:\n",
    "- Usia 0 - 10: Kids\n",
    "- Usia 10 - 20: Teens\n",
    "- Usia 20 - 30: Young Adult\n",
    "- Usia 30 - 50: Adult\n",
    "- Usia >50: Old"
   ]
  },
  {
   "cell_type": "code",
   "execution_count": 36,
   "id": "c5fbfd45",
   "metadata": {},
   "outputs": [],
   "source": [
    "def age_classifier(x):\n",
    "    if x < 11:\n",
    "        return 'Kid'\n",
    "    elif x < 21:\n",
    "        return 'Teen'\n",
    "    elif x < 31:\n",
    "        return 'Young Adult'\n",
    "    elif x < 51:\n",
    "        return 'Adult'\n",
    "    else:\n",
    "        return 'Old'"
   ]
  },
  {
   "cell_type": "code",
   "execution_count": 37,
   "id": "91a194a4",
   "metadata": {},
   "outputs": [
    {
     "name": "stdout",
     "output_type": "stream",
     "text": [
      "Wall time: 1 ms\n"
     ]
    }
   ],
   "source": [
    "%%time\n",
    "df['AgeClass'] = df['Age'].apply(age_classifier)"
   ]
  },
  {
   "cell_type": "markdown",
   "id": "7609e142",
   "metadata": {},
   "source": [
    "(Operasi di atas memakan waktu 1 milisecond)"
   ]
  },
  {
   "cell_type": "code",
   "execution_count": 24,
   "id": "277f343c",
   "metadata": {},
   "outputs": [
    {
     "data": {
      "text/html": [
       "<div>\n",
       "<style scoped>\n",
       "    .dataframe tbody tr th:only-of-type {\n",
       "        vertical-align: middle;\n",
       "    }\n",
       "\n",
       "    .dataframe tbody tr th {\n",
       "        vertical-align: top;\n",
       "    }\n",
       "\n",
       "    .dataframe thead th {\n",
       "        text-align: right;\n",
       "    }\n",
       "</style>\n",
       "<table border=\"1\" class=\"dataframe\">\n",
       "  <thead>\n",
       "    <tr style=\"text-align: right;\">\n",
       "      <th></th>\n",
       "      <th>PassengerId</th>\n",
       "      <th>Survived</th>\n",
       "      <th>Pclass</th>\n",
       "      <th>Name</th>\n",
       "      <th>Sex</th>\n",
       "      <th>Age</th>\n",
       "      <th>SibSp</th>\n",
       "      <th>Parch</th>\n",
       "      <th>Ticket</th>\n",
       "      <th>Fare</th>\n",
       "      <th>Embarked</th>\n",
       "      <th>AgeClass</th>\n",
       "    </tr>\n",
       "  </thead>\n",
       "  <tbody>\n",
       "    <tr>\n",
       "      <th>0</th>\n",
       "      <td>1</td>\n",
       "      <td>0</td>\n",
       "      <td>3</td>\n",
       "      <td>Braund, Mr. Owen Harris</td>\n",
       "      <td>male</td>\n",
       "      <td>22.0</td>\n",
       "      <td>1</td>\n",
       "      <td>0</td>\n",
       "      <td>A/5 21171</td>\n",
       "      <td>7.2500</td>\n",
       "      <td>S</td>\n",
       "      <td>Young Adult</td>\n",
       "    </tr>\n",
       "    <tr>\n",
       "      <th>1</th>\n",
       "      <td>2</td>\n",
       "      <td>1</td>\n",
       "      <td>1</td>\n",
       "      <td>Cumings, Mrs. John Bradley (Florence Briggs Th...</td>\n",
       "      <td>female</td>\n",
       "      <td>38.0</td>\n",
       "      <td>1</td>\n",
       "      <td>0</td>\n",
       "      <td>PC 17599</td>\n",
       "      <td>71.2833</td>\n",
       "      <td>C</td>\n",
       "      <td>Adult</td>\n",
       "    </tr>\n",
       "    <tr>\n",
       "      <th>2</th>\n",
       "      <td>3</td>\n",
       "      <td>1</td>\n",
       "      <td>3</td>\n",
       "      <td>Heikkinen, Miss. Laina</td>\n",
       "      <td>female</td>\n",
       "      <td>26.0</td>\n",
       "      <td>0</td>\n",
       "      <td>0</td>\n",
       "      <td>STON/O2. 3101282</td>\n",
       "      <td>7.9250</td>\n",
       "      <td>S</td>\n",
       "      <td>Young Adult</td>\n",
       "    </tr>\n",
       "    <tr>\n",
       "      <th>3</th>\n",
       "      <td>4</td>\n",
       "      <td>1</td>\n",
       "      <td>1</td>\n",
       "      <td>Futrelle, Mrs. Jacques Heath (Lily May Peel)</td>\n",
       "      <td>female</td>\n",
       "      <td>35.0</td>\n",
       "      <td>1</td>\n",
       "      <td>0</td>\n",
       "      <td>113803</td>\n",
       "      <td>53.1000</td>\n",
       "      <td>S</td>\n",
       "      <td>Adult</td>\n",
       "    </tr>\n",
       "    <tr>\n",
       "      <th>4</th>\n",
       "      <td>5</td>\n",
       "      <td>0</td>\n",
       "      <td>3</td>\n",
       "      <td>Allen, Mr. William Henry</td>\n",
       "      <td>male</td>\n",
       "      <td>35.0</td>\n",
       "      <td>0</td>\n",
       "      <td>0</td>\n",
       "      <td>373450</td>\n",
       "      <td>8.0500</td>\n",
       "      <td>S</td>\n",
       "      <td>Adult</td>\n",
       "    </tr>\n",
       "  </tbody>\n",
       "</table>\n",
       "</div>"
      ],
      "text/plain": [
       "   PassengerId  Survived  Pclass  \\\n",
       "0            1         0       3   \n",
       "1            2         1       1   \n",
       "2            3         1       3   \n",
       "3            4         1       1   \n",
       "4            5         0       3   \n",
       "\n",
       "                                                Name     Sex   Age  SibSp  \\\n",
       "0                            Braund, Mr. Owen Harris    male  22.0      1   \n",
       "1  Cumings, Mrs. John Bradley (Florence Briggs Th...  female  38.0      1   \n",
       "2                             Heikkinen, Miss. Laina  female  26.0      0   \n",
       "3       Futrelle, Mrs. Jacques Heath (Lily May Peel)  female  35.0      1   \n",
       "4                           Allen, Mr. William Henry    male  35.0      0   \n",
       "\n",
       "   Parch            Ticket     Fare Embarked     AgeClass  \n",
       "0      0         A/5 21171   7.2500        S  Young Adult  \n",
       "1      0          PC 17599  71.2833        C        Adult  \n",
       "2      0  STON/O2. 3101282   7.9250        S  Young Adult  \n",
       "3      0            113803  53.1000        S        Adult  \n",
       "4      0            373450   8.0500        S        Adult  "
      ]
     },
     "execution_count": 24,
     "metadata": {},
     "output_type": "execute_result"
    }
   ],
   "source": [
    "df.head()"
   ]
  },
  {
   "cell_type": "markdown",
   "id": "47137a84",
   "metadata": {},
   "source": [
    "Bagaimana jika fungsi kita cukup 'singkat'? Misalnya, kita ingin melakukan pembulatan pada kolom `Fare`. Maka, kita tidak perlu menulis sebuah fungsi baru terlebih dahulu."
   ]
  },
  {
   "cell_type": "code",
   "execution_count": 34,
   "id": "b65fd692",
   "metadata": {},
   "outputs": [
    {
     "name": "stdout",
     "output_type": "stream",
     "text": [
      "Wall time: 5.01 ms\n"
     ]
    }
   ],
   "source": [
    "%%time\n",
    "df['FareRound'] = df['Fare'].apply(lambda x: np.round(x))"
   ]
  },
  {
   "cell_type": "code",
   "execution_count": 30,
   "id": "b011e30b",
   "metadata": {},
   "outputs": [
    {
     "data": {
      "text/html": [
       "<div>\n",
       "<style scoped>\n",
       "    .dataframe tbody tr th:only-of-type {\n",
       "        vertical-align: middle;\n",
       "    }\n",
       "\n",
       "    .dataframe tbody tr th {\n",
       "        vertical-align: top;\n",
       "    }\n",
       "\n",
       "    .dataframe thead th {\n",
       "        text-align: right;\n",
       "    }\n",
       "</style>\n",
       "<table border=\"1\" class=\"dataframe\">\n",
       "  <thead>\n",
       "    <tr style=\"text-align: right;\">\n",
       "      <th></th>\n",
       "      <th>PassengerId</th>\n",
       "      <th>Fare</th>\n",
       "      <th>FareRound</th>\n",
       "    </tr>\n",
       "  </thead>\n",
       "  <tbody>\n",
       "    <tr>\n",
       "      <th>0</th>\n",
       "      <td>1</td>\n",
       "      <td>7.2500</td>\n",
       "      <td>7.0</td>\n",
       "    </tr>\n",
       "    <tr>\n",
       "      <th>1</th>\n",
       "      <td>2</td>\n",
       "      <td>71.2833</td>\n",
       "      <td>71.0</td>\n",
       "    </tr>\n",
       "    <tr>\n",
       "      <th>2</th>\n",
       "      <td>3</td>\n",
       "      <td>7.9250</td>\n",
       "      <td>8.0</td>\n",
       "    </tr>\n",
       "    <tr>\n",
       "      <th>3</th>\n",
       "      <td>4</td>\n",
       "      <td>53.1000</td>\n",
       "      <td>53.0</td>\n",
       "    </tr>\n",
       "    <tr>\n",
       "      <th>4</th>\n",
       "      <td>5</td>\n",
       "      <td>8.0500</td>\n",
       "      <td>8.0</td>\n",
       "    </tr>\n",
       "  </tbody>\n",
       "</table>\n",
       "</div>"
      ],
      "text/plain": [
       "   PassengerId     Fare  FareRound\n",
       "0            1   7.2500        7.0\n",
       "1            2  71.2833       71.0\n",
       "2            3   7.9250        8.0\n",
       "3            4  53.1000       53.0\n",
       "4            5   8.0500        8.0"
      ]
     },
     "execution_count": 30,
     "metadata": {},
     "output_type": "execute_result"
    }
   ],
   "source": [
    "df[['PassengerId', 'Fare', 'FareRound']].head(5)"
   ]
  },
  {
   "cell_type": "markdown",
   "id": "45ad0ef9",
   "metadata": {},
   "source": [
    "Namun, hal ini bukanlah yang paling 'cepat'. Dalam dataset yang memiliki ukuran yang besar (jutaan baris), sebisa mungkin, hindari penggunaan `apply`, dan perbanyaklah penggunaan `numpy` secara langsung. Hal ini karena operasi `apply` lebih tidak efisien daripada operasi menggunakan `numpy` secara langsung."
   ]
  },
  {
   "cell_type": "code",
   "execution_count": 35,
   "id": "3ed92113",
   "metadata": {},
   "outputs": [
    {
     "name": "stdout",
     "output_type": "stream",
     "text": [
      "Wall time: 0 ns\n"
     ]
    }
   ],
   "source": [
    "%%time\n",
    "df['FareRound'] = np.round(df['Fare'])"
   ]
  },
  {
   "cell_type": "markdown",
   "id": "e2694661",
   "metadata": {},
   "source": [
    "Bagaimana dengan `apply` sebuah `function`? Gunakan `np.vectorize`."
   ]
  },
  {
   "cell_type": "code",
   "execution_count": 38,
   "id": "ed7de0f7",
   "metadata": {},
   "outputs": [
    {
     "name": "stdout",
     "output_type": "stream",
     "text": [
      "Wall time: 0 ns\n"
     ]
    },
    {
     "name": "stderr",
     "output_type": "stream",
     "text": [
      "c:\\users\\user\\appdata\\local\\programs\\python\\python37\\lib\\site-packages\\numpy\\lib\\function_base.py:2192: RuntimeWarning: invalid value encountered in ? (vectorized)\n",
      "  outputs = ufunc(*inputs)\n"
     ]
    }
   ],
   "source": [
    "%%time\n",
    "df['AgeClass'] = np.vectorize(age_classifier)(df['Age'])"
   ]
  },
  {
   "cell_type": "markdown",
   "id": "26716d8c",
   "metadata": {},
   "source": [
    "Menggunakan `apply`, kita memakan waktu beberapa milisecond. Ya, masih sangat singkat. Tapi, tanpa menggunakan `apply`, kita memakan waktu 0 nanosecond, lebih singkat lagi. Jika dataset kita besar (puluhan juta baris), maka hal ini akan menjadi 'game-changer'."
   ]
  },
  {
   "cell_type": "markdown",
   "id": "234bb606",
   "metadata": {},
   "source": [
    "### Part 3: Cross Tabulation"
   ]
  },
  {
   "cell_type": "markdown",
   "id": "75f468fc",
   "metadata": {},
   "source": [
    "Cross Tabulation adalah sebuah cara melihat data 'keseluruhan' dengan menjumlahkan kemudian mengelompokkan data berdasarkan dua kolom kategorikal. Contohnya adalah sebagai berikut:"
   ]
  },
  {
   "cell_type": "code",
   "execution_count": 42,
   "id": "bddbc18a",
   "metadata": {},
   "outputs": [
    {
     "data": {
      "text/html": [
       "<div>\n",
       "<style scoped>\n",
       "    .dataframe tbody tr th:only-of-type {\n",
       "        vertical-align: middle;\n",
       "    }\n",
       "\n",
       "    .dataframe tbody tr th {\n",
       "        vertical-align: top;\n",
       "    }\n",
       "\n",
       "    .dataframe thead th {\n",
       "        text-align: right;\n",
       "    }\n",
       "</style>\n",
       "<table border=\"1\" class=\"dataframe\">\n",
       "  <thead>\n",
       "    <tr style=\"text-align: right;\">\n",
       "      <th>Embarked</th>\n",
       "      <th>C</th>\n",
       "      <th>Q</th>\n",
       "      <th>S</th>\n",
       "    </tr>\n",
       "    <tr>\n",
       "      <th>Sex</th>\n",
       "      <th></th>\n",
       "      <th></th>\n",
       "      <th></th>\n",
       "    </tr>\n",
       "  </thead>\n",
       "  <tbody>\n",
       "    <tr>\n",
       "      <th>female</th>\n",
       "      <td>73</td>\n",
       "      <td>36</td>\n",
       "      <td>203</td>\n",
       "    </tr>\n",
       "    <tr>\n",
       "      <th>male</th>\n",
       "      <td>95</td>\n",
       "      <td>41</td>\n",
       "      <td>441</td>\n",
       "    </tr>\n",
       "  </tbody>\n",
       "</table>\n",
       "</div>"
      ],
      "text/plain": [
       "Embarked   C   Q    S\n",
       "Sex                  \n",
       "female    73  36  203\n",
       "male      95  41  441"
      ]
     },
     "execution_count": 42,
     "metadata": {},
     "output_type": "execute_result"
    }
   ],
   "source": [
    "pd.crosstab(df['Sex'], df['Embarked'])"
   ]
  },
  {
   "cell_type": "code",
   "execution_count": 43,
   "id": "0efb8353",
   "metadata": {},
   "outputs": [
    {
     "data": {
      "text/html": [
       "<div>\n",
       "<style scoped>\n",
       "    .dataframe tbody tr th:only-of-type {\n",
       "        vertical-align: middle;\n",
       "    }\n",
       "\n",
       "    .dataframe tbody tr th {\n",
       "        vertical-align: top;\n",
       "    }\n",
       "\n",
       "    .dataframe thead th {\n",
       "        text-align: right;\n",
       "    }\n",
       "</style>\n",
       "<table border=\"1\" class=\"dataframe\">\n",
       "  <thead>\n",
       "    <tr style=\"text-align: right;\">\n",
       "      <th>Sex</th>\n",
       "      <th>female</th>\n",
       "      <th>male</th>\n",
       "    </tr>\n",
       "    <tr>\n",
       "      <th>Embarked</th>\n",
       "      <th></th>\n",
       "      <th></th>\n",
       "    </tr>\n",
       "  </thead>\n",
       "  <tbody>\n",
       "    <tr>\n",
       "      <th>C</th>\n",
       "      <td>73</td>\n",
       "      <td>95</td>\n",
       "    </tr>\n",
       "    <tr>\n",
       "      <th>Q</th>\n",
       "      <td>36</td>\n",
       "      <td>41</td>\n",
       "    </tr>\n",
       "    <tr>\n",
       "      <th>S</th>\n",
       "      <td>203</td>\n",
       "      <td>441</td>\n",
       "    </tr>\n",
       "  </tbody>\n",
       "</table>\n",
       "</div>"
      ],
      "text/plain": [
       "Sex       female  male\n",
       "Embarked              \n",
       "C             73    95\n",
       "Q             36    41\n",
       "S            203   441"
      ]
     },
     "execution_count": 43,
     "metadata": {},
     "output_type": "execute_result"
    }
   ],
   "source": [
    "pd.crosstab(df['Embarked'], df['Sex'])"
   ]
  },
  {
   "cell_type": "markdown",
   "id": "4a841460",
   "metadata": {},
   "source": [
    "Bagaimana jika kita ingin mengetahui, misalnya:\n",
    "- Median dari UMUR (AGE) penumpang...\n",
    "- ...dipisahkan berdasarkan Jenis Kelamin (SEX) dan kota keberangkatan (EMBARKED)"
   ]
  },
  {
   "cell_type": "markdown",
   "id": "d18c7948",
   "metadata": {},
   "source": [
    "Jawabannya adalah `pivot_table`"
   ]
  },
  {
   "cell_type": "code",
   "execution_count": 50,
   "id": "ebe368f0",
   "metadata": {},
   "outputs": [
    {
     "data": {
      "text/html": [
       "<div>\n",
       "<style scoped>\n",
       "    .dataframe tbody tr th:only-of-type {\n",
       "        vertical-align: middle;\n",
       "    }\n",
       "\n",
       "    .dataframe tbody tr th {\n",
       "        vertical-align: top;\n",
       "    }\n",
       "\n",
       "    .dataframe thead th {\n",
       "        text-align: right;\n",
       "    }\n",
       "</style>\n",
       "<table border=\"1\" class=\"dataframe\">\n",
       "  <thead>\n",
       "    <tr style=\"text-align: right;\">\n",
       "      <th>Embarked</th>\n",
       "      <th>C</th>\n",
       "      <th>Q</th>\n",
       "      <th>S</th>\n",
       "    </tr>\n",
       "    <tr>\n",
       "      <th>Sex</th>\n",
       "      <th></th>\n",
       "      <th></th>\n",
       "      <th></th>\n",
       "    </tr>\n",
       "  </thead>\n",
       "  <tbody>\n",
       "    <tr>\n",
       "      <th>female</th>\n",
       "      <td>24.0</td>\n",
       "      <td>21.5</td>\n",
       "      <td>27.0</td>\n",
       "    </tr>\n",
       "    <tr>\n",
       "      <th>male</th>\n",
       "      <td>30.0</td>\n",
       "      <td>30.0</td>\n",
       "      <td>28.0</td>\n",
       "    </tr>\n",
       "  </tbody>\n",
       "</table>\n",
       "</div>"
      ],
      "text/plain": [
       "Embarked     C     Q     S\n",
       "Sex                       \n",
       "female    24.0  21.5  27.0\n",
       "male      30.0  30.0  28.0"
      ]
     },
     "execution_count": 50,
     "metadata": {},
     "output_type": "execute_result"
    }
   ],
   "source": [
    "pd.pivot_table(df, values = 'Age', index = ['Sex'], columns = ['Embarked'], aggfunc = np.median)"
   ]
  },
  {
   "cell_type": "markdown",
   "id": "e72404a5",
   "metadata": {},
   "source": [
    "Bagaimana jika kita ingin mengetahui, misalnya:\n",
    "- Usia penumpang paling tua...\n",
    "- ...dipisahkan berdasarkan Jenis Kelamin (SEX) dan kota keberangkatan (EMBARKED)"
   ]
  },
  {
   "cell_type": "code",
   "execution_count": 51,
   "id": "df2c42d8",
   "metadata": {},
   "outputs": [
    {
     "data": {
      "text/html": [
       "<div>\n",
       "<style scoped>\n",
       "    .dataframe tbody tr th:only-of-type {\n",
       "        vertical-align: middle;\n",
       "    }\n",
       "\n",
       "    .dataframe tbody tr th {\n",
       "        vertical-align: top;\n",
       "    }\n",
       "\n",
       "    .dataframe thead th {\n",
       "        text-align: right;\n",
       "    }\n",
       "</style>\n",
       "<table border=\"1\" class=\"dataframe\">\n",
       "  <thead>\n",
       "    <tr style=\"text-align: right;\">\n",
       "      <th>Embarked</th>\n",
       "      <th>C</th>\n",
       "      <th>Q</th>\n",
       "      <th>S</th>\n",
       "    </tr>\n",
       "    <tr>\n",
       "      <th>Sex</th>\n",
       "      <th></th>\n",
       "      <th></th>\n",
       "      <th></th>\n",
       "    </tr>\n",
       "  </thead>\n",
       "  <tbody>\n",
       "    <tr>\n",
       "      <th>female</th>\n",
       "      <td>60.0</td>\n",
       "      <td>39.0</td>\n",
       "      <td>63.0</td>\n",
       "    </tr>\n",
       "    <tr>\n",
       "      <th>male</th>\n",
       "      <td>71.0</td>\n",
       "      <td>70.5</td>\n",
       "      <td>80.0</td>\n",
       "    </tr>\n",
       "  </tbody>\n",
       "</table>\n",
       "</div>"
      ],
      "text/plain": [
       "Embarked     C     Q     S\n",
       "Sex                       \n",
       "female    60.0  39.0  63.0\n",
       "male      71.0  70.5  80.0"
      ]
     },
     "execution_count": 51,
     "metadata": {},
     "output_type": "execute_result"
    }
   ],
   "source": [
    "pd.pivot_table(df, values = 'Age', index = ['Sex'], columns = ['Embarked'], aggfunc = np.max)"
   ]
  },
  {
   "cell_type": "markdown",
   "id": "e50221e9",
   "metadata": {},
   "source": [
    "Kita tinggal mengganti `aggfunc` dari `median` menjadi `max`. Dari sini, kita dapat melihat bahwa untuk kota keberangkatan Queenstown, usia penumpang wanita paling tua adalah 39 tahun, jauh di bawah usia penumpang tertua di kota-kota lain."
   ]
  },
  {
   "cell_type": "markdown",
   "id": "bb0091f1",
   "metadata": {},
   "source": [
    "### Part 4: Group-By Aggregation"
   ]
  },
  {
   "cell_type": "markdown",
   "id": "0e8017b7",
   "metadata": {},
   "source": [
    "Group-By adalah cara melakukan agregasi berdasarkan pengelompokkan dari kolom-kolom tertentu. Memang, ini terkesan mirip dengan `pivot_table`. Namun, cara penyajian datanya adalah secara vertikal, bukan horizontal.\n",
    "\n",
    "Misalnya, kita ingin mengetahui, \"Apabila dikelompokkan berdasarkan jenis kelamin dan rentang usia, berapa rata-rata biaya yang dikeluarkan penumpang untuk berlayar di Titanic?\""
   ]
  },
  {
   "cell_type": "code",
   "execution_count": 55,
   "id": "dd47a843",
   "metadata": {},
   "outputs": [
    {
     "data": {
      "text/plain": [
       "Sex     AgeClass   \n",
       "female  Adult          60.825442\n",
       "        Kid            27.849326\n",
       "        Old            38.406013\n",
       "        Teen           40.659063\n",
       "        Young Adult    41.151626\n",
       "male    Adult          32.084198\n",
       "        Kid            32.862879\n",
       "        Old            23.534233\n",
       "        Teen           21.897560\n",
       "        Young Adult    21.105114\n",
       "Name: Fare, dtype: float64"
      ]
     },
     "execution_count": 55,
     "metadata": {},
     "output_type": "execute_result"
    }
   ],
   "source": [
    "df.groupby(['Sex', 'AgeClass'])['Fare'].mean()"
   ]
  },
  {
   "cell_type": "markdown",
   "id": "1cdc3708",
   "metadata": {},
   "source": [
    "Kita dapat melihat bahwa biaya rata-rata paling murah dikeluarkan oleh demografi `Young Adult Male`, dan biaya paling mahal dikeluarkan oleh demografi `Adult Female`."
   ]
  }
 ],
 "metadata": {
  "kernelspec": {
   "display_name": "Python 3 (ipykernel)",
   "language": "python",
   "name": "python3"
  },
  "language_info": {
   "codemirror_mode": {
    "name": "ipython",
    "version": 3
   },
   "file_extension": ".py",
   "mimetype": "text/x-python",
   "name": "python",
   "nbconvert_exporter": "python",
   "pygments_lexer": "ipython3",
   "version": "3.9.12"
  }
 },
 "nbformat": 4,
 "nbformat_minor": 5
}
