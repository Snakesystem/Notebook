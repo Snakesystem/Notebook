{
 "cells": [
  {
   "cell_type": "markdown",
   "id": "ea0662bb",
   "metadata": {},
   "source": [
    "## Welcome to Day 4 Hands On Notebook"
   ]
  },
  {
   "cell_type": "markdown",
   "id": "96171051",
   "metadata": {},
   "source": [
    "Objective:\n",
    "- Conditionals\n",
    "- Loops\n",
    "- Functions"
   ]
  },
  {
   "cell_type": "markdown",
   "id": "b69abd1c",
   "metadata": {},
   "source": [
    "### Part 1: Conditionals"
   ]
  },
  {
   "cell_type": "markdown",
   "id": "482d67a5",
   "metadata": {},
   "source": [
    "Conditionals is the classic 'If...Else...' feature that we often find in Excel / Google Sheet. It basically gives us the opportunity to write a rule-based system that does things differently given different circumstances. "
   ]
  },
  {
   "cell_type": "code",
   "execution_count": 6,
   "id": "27cfab78",
   "metadata": {},
   "outputs": [],
   "source": [
    "x = 6\n",
    "y = 4"
   ]
  },
  {
   "cell_type": "code",
   "execution_count": 7,
   "id": "8fc4b4e1",
   "metadata": {},
   "outputs": [
    {
     "name": "stdout",
     "output_type": "stream",
     "text": [
      "X is greater than y.\n"
     ]
    }
   ],
   "source": [
    "if x > y:\n",
    "    print('X is greater than y.')\n",
    "else:\n",
    "    print('X is not greater than y.')"
   ]
  },
  {
   "cell_type": "markdown",
   "id": "e8198c56",
   "metadata": {},
   "source": [
    "If we want to give more conditions, we should use `elif` between the `if` and the final `else`. Please pay attention to the order of your conditions! Python will read from TOP to BOTTOM. If the condition for a conditional that is placed FIRST has been met, then Python will NOT read the rest! \n",
    "\n",
    "Let us show an example of this case:\n",
    "\n",
    "\"Seorang guru ingin membuat sebuah sistem yang dapat memberikan 'rating grade' siswa secara otomatis tergantung nilai yang didapatkan siswa/i tersebut. \n",
    "\n",
    "- Jika siswa mendapatkan nilai >= 90, maka grade-nya adalah A\n",
    "- Jika siswa mendapatkan nilai 80 - 89, maka grade-nya adalah B\n",
    "- Jika siswa mendapatkan nilai 70 - 79, maka grade-nya adalah C\n",
    "- Jika siswa mendapatkan nilai 60 - 69, maka grade-nya adalah D\n",
    "- Di bawah 60, maka grade F (Fail)\n",
    "\n",
    "Bagaimana penulis `if..elif..else..` untuk membantu guru ini?\""
   ]
  },
  {
   "cell_type": "code",
   "execution_count": 8,
   "id": "9f97bf7d",
   "metadata": {},
   "outputs": [
    {
     "name": "stdout",
     "output_type": "stream",
     "text": [
      "Grade B\n"
     ]
    }
   ],
   "source": [
    "nilai_siswa = 80\n",
    "\n",
    "if nilai_siswa >= 90:\n",
    "    print('Grade A')\n",
    "elif nilai_siswa > 79:\n",
    "    print('Grade B')\n",
    "elif nilai_siswa > 69:\n",
    "    print('Grade C')\n",
    "elif nilai_siswa > 59:\n",
    "    print('Grade D')\n",
    "else:\n",
    "    print('Grade F')"
   ]
  },
  {
   "cell_type": "markdown",
   "id": "56655df1",
   "metadata": {},
   "source": [
    "Bandingkan dengan..."
   ]
  },
  {
   "cell_type": "code",
   "execution_count": 9,
   "id": "06b00cd9",
   "metadata": {},
   "outputs": [
    {
     "name": "stdout",
     "output_type": "stream",
     "text": [
      "Grade D\n"
     ]
    }
   ],
   "source": [
    "nilai_siswa = 80\n",
    "\n",
    "if nilai_siswa > 59:\n",
    "    print('Grade D')\n",
    "elif nilai_siswa > 69:\n",
    "    print('Grade C')\n",
    "elif nilai_siswa > 79:\n",
    "    print('Grade B')\n",
    "elif nilai_siswa > 89:\n",
    "    print('Grade A')\n",
    "else:\n",
    "    print('Grade F')"
   ]
  },
  {
   "cell_type": "markdown",
   "id": "92365118",
   "metadata": {},
   "source": [
    "Why a score of 80 gets a D? This is because Python reads `if nilai_siswa > 59` first, and yes, 80 is indeed > 59, so it will just output 'Grade D' and stop reading everything altogether. "
   ]
  },
  {
   "cell_type": "markdown",
   "id": "54de3346",
   "metadata": {},
   "source": [
    "#### Nested If Else"
   ]
  },
  {
   "cell_type": "markdown",
   "id": "ffbb6708",
   "metadata": {},
   "source": [
    "We can also make 'nested' conditionals, where inside a condition, there lies another conditions. \n",
    "\n",
    "Take a look at this example:\n",
    "\n",
    "\"Guru di soal sebelumnya menemukan fakta bahwa beberapa siswa nyontek di ujian akhir tersebut. Jika ketahuan menyontek, maka apapun nilai yang mereka dapatkan tidak lagi berarti - mereka akan langsung mendapatkan hukuman. Jika ada murid yang menyontek, maka Grade nya automatis akan menjadi F\""
   ]
  },
  {
   "cell_type": "code",
   "execution_count": 5,
   "id": "ecd7e622",
   "metadata": {},
   "outputs": [
    {
     "name": "stdout",
     "output_type": "stream",
     "text": [
      "Grade F\n"
     ]
    }
   ],
   "source": [
    "nilai_siswa = 80\n",
    "nyontek = True\n",
    "\n",
    "if nilai_siswa >= 90:\n",
    "    if nyontek == True:\n",
    "        print('Grade F')\n",
    "    else:\n",
    "        print('Grade A')\n",
    "elif nilai_siswa > 79:\n",
    "    if nyontek == True:\n",
    "        print('Grade F')\n",
    "    else:\n",
    "        print('Grade B')\n",
    "elif nilai_siswa > 69:\n",
    "    if nyontek == True:\n",
    "        print('Grade F')\n",
    "    else:\n",
    "        print('Grade C')\n",
    "elif nilai_siswa > 59:\n",
    "    if nyontek == True:\n",
    "        print('Grade F')\n",
    "    else:\n",
    "        print('Grade D')\n",
    "else:\n",
    "    print('Grade F')"
   ]
  },
  {
   "cell_type": "markdown",
   "id": "e2d1b953",
   "metadata": {},
   "source": [
    "Namun solusi di atas belum optimal. Jika ingin menulis code yang lebih ringkas dengan hasil yang sama, lakukan dengan cara di bawah ini:"
   ]
  },
  {
   "cell_type": "code",
   "execution_count": 11,
   "id": "e351152e",
   "metadata": {},
   "outputs": [
    {
     "name": "stdout",
     "output_type": "stream",
     "text": [
      "Grade F\n"
     ]
    }
   ],
   "source": [
    "nilai_siswa = 80\n",
    "nyontek = True\n",
    "\n",
    "if nyontek == True:\n",
    "    print('Grade F')\n",
    "else:\n",
    "    if nilai_siswa >= 90:\n",
    "        print('Grade A')\n",
    "    elif nilai_siswa > 79:\n",
    "        print('Grade B')\n",
    "    elif nilai_siswa > 69:\n",
    "        print('Grade C')\n",
    "    elif nilai_siswa > 59:\n",
    "        print('Grade D')\n",
    "    else:\n",
    "        print('Grade F')"
   ]
  },
  {
   "cell_type": "code",
   "execution_count": 46,
   "id": "316b5d3f",
   "metadata": {},
   "outputs": [
    {
     "name": "stdout",
     "output_type": "stream",
     "text": [
      "Grade C\n"
     ]
    }
   ],
   "source": [
    "nilai_siswa = 75\n",
    "nyontek = False\n",
    "\n",
    "if nyontek == True:\n",
    "    print('Grade F')\n",
    "else:\n",
    "    if nilai_siswa >= 90:\n",
    "        print('Grade A')\n",
    "    elif nilai_siswa > 79:\n",
    "        print('Grade B')\n",
    "    elif nilai_siswa > 69:\n",
    "        print('Grade C')\n",
    "    elif nilai_siswa > 59:\n",
    "        print('Grade D')\n",
    "    else:\n",
    "        print('Grade F')"
   ]
  },
  {
   "cell_type": "markdown",
   "id": "730947fa",
   "metadata": {},
   "source": [
    "### Part 2: Loops"
   ]
  },
  {
   "cell_type": "markdown",
   "id": "327cd883",
   "metadata": {},
   "source": [
    "Loops basically repeat a set of code until a certain condition is met, or until we run out of things to iterate."
   ]
  },
  {
   "cell_type": "markdown",
   "id": "8bc932a5",
   "metadata": {},
   "source": [
    "#### Part 2.1. For Loops"
   ]
  },
  {
   "cell_type": "code",
   "execution_count": 15,
   "id": "6ed9893f",
   "metadata": {},
   "outputs": [
    {
     "name": "stdout",
     "output_type": "stream",
     "text": [
      "Andy\n",
      "Brad\n",
      "Charlie\n",
      "Diana\n",
      "Edgar\n"
     ]
    }
   ],
   "source": [
    "name = ['Andy', 'Brad', 'Charlie', 'Diana', 'Edgar']\n",
    "\n",
    "for x in name:\n",
    "    print(x)"
   ]
  },
  {
   "cell_type": "markdown",
   "id": "1ce9b51a",
   "metadata": {},
   "source": [
    "The loop above basically means:\n",
    "\n",
    "\"Each member of the list `name` is represented by the variable `x`. Then, for each member, starting from the first one to the last one, we print them out\""
   ]
  },
  {
   "cell_type": "markdown",
   "id": "4d827e31",
   "metadata": {},
   "source": [
    "The representation can be arbitrary! "
   ]
  },
  {
   "cell_type": "code",
   "execution_count": 16,
   "id": "fa9325b6",
   "metadata": {},
   "outputs": [
    {
     "name": "stdout",
     "output_type": "stream",
     "text": [
      "Andy\n",
      "Brad\n",
      "Charlie\n",
      "Diana\n",
      "Edgar\n"
     ]
    }
   ],
   "source": [
    "name = ['Andy', 'Brad', 'Charlie', 'Diana', 'Edgar']\n",
    "\n",
    "for y in name:\n",
    "    print(y)"
   ]
  },
  {
   "cell_type": "code",
   "execution_count": 27,
   "id": "7817443f",
   "metadata": {},
   "outputs": [
    {
     "name": "stdout",
     "output_type": "stream",
     "text": [
      "Andy\n",
      "Brad\n",
      "Charlie\n",
      "Diana\n",
      "Edgar\n"
     ]
    }
   ],
   "source": [
    "name = ['Andy', 'Brad', 'Charlie', 'Diana', 'Edgar']\n",
    "\n",
    "for _a in name:\n",
    "    print(_a)"
   ]
  },
  {
   "cell_type": "code",
   "execution_count": 32,
   "id": "0e71c26b",
   "metadata": {},
   "outputs": [
    {
     "name": "stdout",
     "output_type": "stream",
     "text": [
      "4\n",
      "zenius\n",
      "\n",
      "4\n",
      "zenius\n",
      "\n",
      "4\n",
      "zenius\n",
      "\n",
      "4\n",
      "zenius\n",
      "\n",
      "4\n",
      "zenius\n",
      "\n",
      "4\n",
      "zenius\n",
      "\n"
     ]
    }
   ],
   "source": [
    "name = ['Andy', 'Brad', 'Charlie', 'Diana', 'Edgar', 'Henri']\n",
    "\n",
    "for i in name:\n",
    "    print(2*2)\n",
    "    print('zenius')\n",
    "    print('')"
   ]
  },
  {
   "cell_type": "markdown",
   "id": "03c2d353",
   "metadata": {},
   "source": [
    "Another type of `for` loop is when we specify \"how many times\" we want to iterate through a certain line of code."
   ]
  },
  {
   "cell_type": "code",
   "execution_count": 23,
   "id": "3b57e296",
   "metadata": {},
   "outputs": [
    {
     "name": "stdout",
     "output_type": "stream",
     "text": [
      "3\n",
      "6\n",
      "9\n",
      "12\n",
      "15\n"
     ]
    }
   ],
   "source": [
    "berapa_kali = 5\n",
    "angka_kelipatan = 3\n",
    "\n",
    "for i in range(5):\n",
    "    print(angka_kelipatan*(i+1))"
   ]
  },
  {
   "cell_type": "markdown",
   "id": "9d1ca667",
   "metadata": {},
   "source": [
    "We usually use `range` to help us set a limit on how many times we want to loop."
   ]
  },
  {
   "cell_type": "code",
   "execution_count": 17,
   "id": "a379b0bf",
   "metadata": {},
   "outputs": [
    {
     "name": "stdout",
     "output_type": "stream",
     "text": [
      "0\n",
      "1\n",
      "2\n",
      "3\n",
      "4\n"
     ]
    }
   ],
   "source": [
    "for x in range(5):\n",
    "    print(x)"
   ]
  },
  {
   "cell_type": "code",
   "execution_count": null,
   "id": "d903268a",
   "metadata": {},
   "outputs": [],
   "source": []
  },
  {
   "cell_type": "markdown",
   "id": "3e57b5b9",
   "metadata": {},
   "source": [
    "`range` always starts at 0, and will +1 for a certain number of times (depends on the number we write in the `range` function)"
   ]
  },
  {
   "cell_type": "markdown",
   "id": "b891897e",
   "metadata": {},
   "source": [
    "#### Part 2.2. While Loops"
   ]
  },
  {
   "cell_type": "markdown",
   "id": "f03e2f4a",
   "metadata": {},
   "source": [
    "While Loops are loops that keeps on going until a certain condition is met. That condition is usually in the form of a logic test. "
   ]
  },
  {
   "cell_type": "code",
   "execution_count": 19,
   "id": "8c6fa8d8",
   "metadata": {},
   "outputs": [
    {
     "name": "stdout",
     "output_type": "stream",
     "text": [
      "21\n",
      "31\n",
      "41\n"
     ]
    }
   ],
   "source": [
    "angka = 21\n",
    "while(angka < 50):\n",
    "    print(angka)\n",
    "    angka = angka + 10"
   ]
  },
  {
   "cell_type": "markdown",
   "id": "08543c78",
   "metadata": {},
   "source": [
    "Angka starts at 21. \n",
    "\n",
    "Then, we write a condition: `angka < 50`\n",
    "\n",
    "Until `angka < 50` is `False`, we print `angka` and keep adding 10 into it. When `angka` is 51 (after 41 + 10), it is no longer `< 50`, so the loop automatically ***stops***"
   ]
  },
  {
   "cell_type": "markdown",
   "id": "fa8aea46",
   "metadata": {},
   "source": [
    "#### Part 2.3. Breaking a loop"
   ]
  },
  {
   "cell_type": "markdown",
   "id": "196b5307",
   "metadata": {},
   "source": [
    "Kita bisa menambahkan beberapa kode di bawah ini untuk \"melongkap\" atau bahkan \"memberhentikan\" suatu loop sesuai dengan kondisi tertentu."
   ]
  },
  {
   "cell_type": "code",
   "execution_count": 24,
   "id": "fff875cc",
   "metadata": {},
   "outputs": [
    {
     "data": {
      "text/plain": [
       "2"
      ]
     },
     "execution_count": 24,
     "metadata": {},
     "output_type": "execute_result"
    }
   ],
   "source": [
    "### Modulo Operator\n",
    "### Memberi tahu sisa pembagian dua buah bilangan\n",
    "### Contoh: 6 bagi 4 sisanya berapa?\n",
    "\n",
    "6 % 4"
   ]
  },
  {
   "cell_type": "code",
   "execution_count": 33,
   "id": "675dd84c",
   "metadata": {},
   "outputs": [
    {
     "data": {
      "text/plain": [
       "1"
      ]
     },
     "execution_count": 33,
     "metadata": {},
     "output_type": "execute_result"
    }
   ],
   "source": [
    "10 % 3"
   ]
  },
  {
   "cell_type": "markdown",
   "id": "afcd809f",
   "metadata": {},
   "source": [
    "For the number of 0 to 9, if a number is even (divisible by 2), then don't do anything. Else, print them"
   ]
  },
  {
   "cell_type": "code",
   "execution_count": 36,
   "id": "5202b33b",
   "metadata": {},
   "outputs": [
    {
     "name": "stdout",
     "output_type": "stream",
     "text": [
      "1\n",
      "3\n",
      "5\n",
      "7\n",
      "9\n"
     ]
    }
   ],
   "source": [
    "for i in range(10):\n",
    "    if i % 2 == 0:\n",
    "        continue\n",
    "    else:\n",
    "        print(i)"
   ]
  },
  {
   "cell_type": "markdown",
   "id": "28df1b6a",
   "metadata": {},
   "source": [
    "The above code can be simplified with the usage of `continue`."
   ]
  },
  {
   "cell_type": "code",
   "execution_count": 37,
   "id": "b70edb1e",
   "metadata": {},
   "outputs": [
    {
     "name": "stdout",
     "output_type": "stream",
     "text": [
      "1\n",
      "3\n",
      "5\n",
      "7\n",
      "9\n"
     ]
    }
   ],
   "source": [
    "for i in range(10):\n",
    "    if i % 2 == 0:\n",
    "        continue\n",
    "    print(i)"
   ]
  },
  {
   "cell_type": "markdown",
   "id": "93da23cb",
   "metadata": {},
   "source": [
    "`continue` will skip reading any code below the line, and just goes on to the next loop. "
   ]
  },
  {
   "cell_type": "markdown",
   "id": "f987782c",
   "metadata": {},
   "source": [
    "However, the above loop can even be simplified even further"
   ]
  },
  {
   "cell_type": "code",
   "execution_count": 28,
   "id": "3ebe2972",
   "metadata": {},
   "outputs": [
    {
     "name": "stdout",
     "output_type": "stream",
     "text": [
      "1\n",
      "3\n",
      "5\n",
      "7\n",
      "9\n"
     ]
    }
   ],
   "source": [
    "for i in range(10):\n",
    "    if i % 2 != 0:\n",
    "        print(i)"
   ]
  },
  {
   "cell_type": "markdown",
   "id": "01312510",
   "metadata": {},
   "source": [
    "Rather than specifying to NOT DO ANYTHING if the number is an even number, just do the opposite and just order the loop to print the number if it is not divisible by 2"
   ]
  },
  {
   "cell_type": "markdown",
   "id": "30c1d9f5",
   "metadata": {},
   "source": [
    "#### Part 2.4. Looping Two Things at Once"
   ]
  },
  {
   "cell_type": "markdown",
   "id": "c56ab8fc",
   "metadata": {},
   "source": [
    "Soal cerita:\n",
    "\n",
    "\"Diberikan dua buah list berisi nama dan nilai siswa. Print nama dan nilai siswa tersebut jika memiliki nilai di atas 70. Jika siswa tersebut memiliki nilai di bawah 70, skip.\""
   ]
  },
  {
   "cell_type": "code",
   "execution_count": 42,
   "id": "a6d599e1",
   "metadata": {},
   "outputs": [],
   "source": [
    "daftar_siswa = ['Aldo', 'Brian', 'Cindy', 'Deni', 'Erika']\n",
    "daftar_nilai = [100, 80, 50, 50, 90]"
   ]
  },
  {
   "cell_type": "code",
   "execution_count": 44,
   "id": "f73af12c",
   "metadata": {},
   "outputs": [
    {
     "name": "stdout",
     "output_type": "stream",
     "text": [
      "Aldo\n",
      "100\n",
      "\n",
      "Brian\n",
      "80\n",
      "\n",
      "Cindy\n",
      "50\n",
      "\n",
      "Deni\n",
      "50\n",
      "\n",
      "Erika\n",
      "90\n",
      "\n"
     ]
    }
   ],
   "source": [
    "for nama, nilai in zip(daftar_siswa, daftar_nilai):\n",
    "    print(nama)\n",
    "    print(nilai)\n",
    "    print('')"
   ]
  },
  {
   "cell_type": "code",
   "execution_count": 48,
   "id": "805ad170",
   "metadata": {},
   "outputs": [
    {
     "name": "stdout",
     "output_type": "stream",
     "text": [
      "Aldo 100\n",
      "Brian 80\n",
      "Erika 90\n"
     ]
    }
   ],
   "source": [
    "for nama, nilai in zip(daftar_siswa, daftar_nilai):\n",
    "    if nilai > 70:\n",
    "        print(nama, nilai)"
   ]
  },
  {
   "cell_type": "markdown",
   "id": "a5363943",
   "metadata": {},
   "source": [
    "### Part 3: Functions"
   ]
  },
  {
   "cell_type": "markdown",
   "id": "d199ff62",
   "metadata": {},
   "source": [
    "Functions are used to \"wrap\" some codes so you don't have to repeat the same thing over and over again. There are multiple built-in functions in Python already, like `len` and `sum`"
   ]
  },
  {
   "cell_type": "code",
   "execution_count": 49,
   "id": "31a5f5a3",
   "metadata": {},
   "outputs": [
    {
     "data": {
      "text/plain": [
       "5"
      ]
     },
     "execution_count": 49,
     "metadata": {},
     "output_type": "execute_result"
    }
   ],
   "source": [
    "list_example = [1,2,3,4,5]\n",
    "len(list_example)"
   ]
  },
  {
   "cell_type": "markdown",
   "id": "ac541469",
   "metadata": {},
   "source": [
    "Basically, `len` measures how many members are there in a list, array, etc, and outputs the amount of it."
   ]
  },
  {
   "cell_type": "code",
   "execution_count": 50,
   "id": "ae4026a3",
   "metadata": {},
   "outputs": [
    {
     "data": {
      "text/plain": [
       "15"
      ]
     },
     "execution_count": 50,
     "metadata": {},
     "output_type": "execute_result"
    }
   ],
   "source": [
    "sum(list_example)"
   ]
  },
  {
   "cell_type": "markdown",
   "id": "c5e94f10",
   "metadata": {},
   "source": [
    "We can write our own function too!"
   ]
  },
  {
   "cell_type": "code",
   "execution_count": 136,
   "id": "46fb4337",
   "metadata": {},
   "outputs": [],
   "source": [
    "def nama_function(input_1, input_2, input_3):\n",
    "    hasil = input_1**2 + input_2**0.5 + 3*input_3\n",
    "    return hasil"
   ]
  },
  {
   "cell_type": "code",
   "execution_count": 137,
   "id": "450e69e6",
   "metadata": {},
   "outputs": [
    {
     "data": {
      "text/plain": [
       "11.0"
      ]
     },
     "execution_count": 137,
     "metadata": {},
     "output_type": "execute_result"
    }
   ],
   "source": [
    "nama_function(2,16,1)"
   ]
  },
  {
   "cell_type": "code",
   "execution_count": 140,
   "id": "162f9a89",
   "metadata": {},
   "outputs": [],
   "source": [
    "def auto_grade(nilai, nyontek):\n",
    "    if nyontek == True:\n",
    "        print('Grade F')\n",
    "    else:\n",
    "        if nilai >= 90:\n",
    "            print('Grade A')\n",
    "        elif nilai > 79:\n",
    "            print('Grade B')\n",
    "        elif nilai > 69:\n",
    "            print('Grade C')\n",
    "        elif nilai > 59:\n",
    "            print('Grade D')\n",
    "        else:\n",
    "            print('Grade F')"
   ]
  },
  {
   "cell_type": "code",
   "execution_count": 141,
   "id": "26f37580",
   "metadata": {},
   "outputs": [
    {
     "name": "stdout",
     "output_type": "stream",
     "text": [
      "Grade B\n"
     ]
    }
   ],
   "source": [
    "auto_grade(nilai = 80, nyontek = False)"
   ]
  },
  {
   "cell_type": "code",
   "execution_count": 142,
   "id": "0fb8715a",
   "metadata": {},
   "outputs": [
    {
     "name": "stdout",
     "output_type": "stream",
     "text": [
      "Grade F\n"
     ]
    }
   ],
   "source": [
    "auto_grade(nilai = 75, nyontek = True)"
   ]
  },
  {
   "cell_type": "markdown",
   "id": "f1a59fbd",
   "metadata": {},
   "source": [
    "Using that, we don't have to copy paste the conditionals each time we want to calculate the grade of a student."
   ]
  },
  {
   "cell_type": "markdown",
   "id": "c15865ab",
   "metadata": {},
   "source": [
    "However, that function just `prints out` or \"DISPLAYS\" the answer. It did NOT store the answer anywhere. For example:"
   ]
  },
  {
   "cell_type": "code",
   "execution_count": 143,
   "id": "4cabf039",
   "metadata": {},
   "outputs": [
    {
     "data": {
      "text/html": [
       "<div>\n",
       "<style scoped>\n",
       "    .dataframe tbody tr th:only-of-type {\n",
       "        vertical-align: middle;\n",
       "    }\n",
       "\n",
       "    .dataframe tbody tr th {\n",
       "        vertical-align: top;\n",
       "    }\n",
       "\n",
       "    .dataframe thead th {\n",
       "        text-align: right;\n",
       "    }\n",
       "</style>\n",
       "<table border=\"1\" class=\"dataframe\">\n",
       "  <thead>\n",
       "    <tr style=\"text-align: right;\">\n",
       "      <th></th>\n",
       "      <th>nama</th>\n",
       "      <th>nilai</th>\n",
       "      <th>nyontek</th>\n",
       "    </tr>\n",
       "  </thead>\n",
       "  <tbody>\n",
       "    <tr>\n",
       "      <th>0</th>\n",
       "      <td>Aldo</td>\n",
       "      <td>95</td>\n",
       "      <td>False</td>\n",
       "    </tr>\n",
       "    <tr>\n",
       "      <th>1</th>\n",
       "      <td>Brian</td>\n",
       "      <td>85</td>\n",
       "      <td>True</td>\n",
       "    </tr>\n",
       "    <tr>\n",
       "      <th>2</th>\n",
       "      <td>Cindy</td>\n",
       "      <td>75</td>\n",
       "      <td>False</td>\n",
       "    </tr>\n",
       "    <tr>\n",
       "      <th>3</th>\n",
       "      <td>Deni</td>\n",
       "      <td>65</td>\n",
       "      <td>True</td>\n",
       "    </tr>\n",
       "    <tr>\n",
       "      <th>4</th>\n",
       "      <td>Erika</td>\n",
       "      <td>89</td>\n",
       "      <td>False</td>\n",
       "    </tr>\n",
       "  </tbody>\n",
       "</table>\n",
       "</div>"
      ],
      "text/plain": [
       "    nama  nilai  nyontek\n",
       "0   Aldo     95    False\n",
       "1  Brian     85     True\n",
       "2  Cindy     75    False\n",
       "3   Deni     65     True\n",
       "4  Erika     89    False"
      ]
     },
     "execution_count": 143,
     "metadata": {},
     "output_type": "execute_result"
    }
   ],
   "source": [
    "import pandas as pd\n",
    "\n",
    "df = pd.DataFrame({\n",
    "    'nama':['Aldo', 'Brian', 'Cindy', 'Deni', 'Erika'],\n",
    "    'nilai':[95,85,75,65,89],\n",
    "    'nyontek':[False, True, False, True, False]\n",
    "})\n",
    "\n",
    "df"
   ]
  },
  {
   "cell_type": "code",
   "execution_count": 144,
   "id": "ee09462d",
   "metadata": {},
   "outputs": [
    {
     "name": "stdout",
     "output_type": "stream",
     "text": [
      "Grade A\n",
      "Grade F\n",
      "Grade C\n",
      "Grade F\n",
      "Grade B\n"
     ]
    }
   ],
   "source": [
    "df['grade'] = df.apply(lambda x: auto_grade(x['nilai'], x['nyontek']), axis = 1)"
   ]
  },
  {
   "cell_type": "markdown",
   "id": "dae461f1",
   "metadata": {},
   "source": [
    "Okay, looks like we did output the Grades correctly."
   ]
  },
  {
   "cell_type": "code",
   "execution_count": 145,
   "id": "b7047bd1",
   "metadata": {},
   "outputs": [
    {
     "data": {
      "text/html": [
       "<div>\n",
       "<style scoped>\n",
       "    .dataframe tbody tr th:only-of-type {\n",
       "        vertical-align: middle;\n",
       "    }\n",
       "\n",
       "    .dataframe tbody tr th {\n",
       "        vertical-align: top;\n",
       "    }\n",
       "\n",
       "    .dataframe thead th {\n",
       "        text-align: right;\n",
       "    }\n",
       "</style>\n",
       "<table border=\"1\" class=\"dataframe\">\n",
       "  <thead>\n",
       "    <tr style=\"text-align: right;\">\n",
       "      <th></th>\n",
       "      <th>nama</th>\n",
       "      <th>nilai</th>\n",
       "      <th>nyontek</th>\n",
       "      <th>grade</th>\n",
       "    </tr>\n",
       "  </thead>\n",
       "  <tbody>\n",
       "    <tr>\n",
       "      <th>0</th>\n",
       "      <td>Aldo</td>\n",
       "      <td>95</td>\n",
       "      <td>False</td>\n",
       "      <td>None</td>\n",
       "    </tr>\n",
       "    <tr>\n",
       "      <th>1</th>\n",
       "      <td>Brian</td>\n",
       "      <td>85</td>\n",
       "      <td>True</td>\n",
       "      <td>None</td>\n",
       "    </tr>\n",
       "    <tr>\n",
       "      <th>2</th>\n",
       "      <td>Cindy</td>\n",
       "      <td>75</td>\n",
       "      <td>False</td>\n",
       "      <td>None</td>\n",
       "    </tr>\n",
       "    <tr>\n",
       "      <th>3</th>\n",
       "      <td>Deni</td>\n",
       "      <td>65</td>\n",
       "      <td>True</td>\n",
       "      <td>None</td>\n",
       "    </tr>\n",
       "    <tr>\n",
       "      <th>4</th>\n",
       "      <td>Erika</td>\n",
       "      <td>89</td>\n",
       "      <td>False</td>\n",
       "      <td>None</td>\n",
       "    </tr>\n",
       "  </tbody>\n",
       "</table>\n",
       "</div>"
      ],
      "text/plain": [
       "    nama  nilai  nyontek grade\n",
       "0   Aldo     95    False  None\n",
       "1  Brian     85     True  None\n",
       "2  Cindy     75    False  None\n",
       "3   Deni     65     True  None\n",
       "4  Erika     89    False  None"
      ]
     },
     "execution_count": 145,
     "metadata": {},
     "output_type": "execute_result"
    }
   ],
   "source": [
    "df"
   ]
  },
  {
   "cell_type": "markdown",
   "id": "e5b0e54b",
   "metadata": {},
   "source": [
    "Wait, where are the grades?? Again, this is because we only `print` the value, not storing/saving them"
   ]
  },
  {
   "cell_type": "code",
   "execution_count": 146,
   "id": "8050fa5a",
   "metadata": {},
   "outputs": [],
   "source": [
    "def auto_grade(nilai, nyontek):\n",
    "    if nyontek == True:\n",
    "        return 'Grade F'\n",
    "    else:\n",
    "        if nilai >= 90:\n",
    "            return 'Grade A'\n",
    "        elif nilai > 79:\n",
    "            return 'Grade B'\n",
    "        elif nilai > 69:\n",
    "            return 'Grade C'\n",
    "        elif nilai > 59:\n",
    "            return 'Grade D'\n",
    "        else:\n",
    "            return 'Grade F'"
   ]
  },
  {
   "cell_type": "code",
   "execution_count": 147,
   "id": "95046034",
   "metadata": {},
   "outputs": [],
   "source": [
    "df['grade'] = df.apply(lambda x: auto_grade(x['nilai'], x['nyontek']), axis = 1)"
   ]
  },
  {
   "cell_type": "code",
   "execution_count": 148,
   "id": "f1aecd57",
   "metadata": {},
   "outputs": [
    {
     "data": {
      "text/html": [
       "<div>\n",
       "<style scoped>\n",
       "    .dataframe tbody tr th:only-of-type {\n",
       "        vertical-align: middle;\n",
       "    }\n",
       "\n",
       "    .dataframe tbody tr th {\n",
       "        vertical-align: top;\n",
       "    }\n",
       "\n",
       "    .dataframe thead th {\n",
       "        text-align: right;\n",
       "    }\n",
       "</style>\n",
       "<table border=\"1\" class=\"dataframe\">\n",
       "  <thead>\n",
       "    <tr style=\"text-align: right;\">\n",
       "      <th></th>\n",
       "      <th>nama</th>\n",
       "      <th>nilai</th>\n",
       "      <th>nyontek</th>\n",
       "      <th>grade</th>\n",
       "    </tr>\n",
       "  </thead>\n",
       "  <tbody>\n",
       "    <tr>\n",
       "      <th>0</th>\n",
       "      <td>Aldo</td>\n",
       "      <td>95</td>\n",
       "      <td>False</td>\n",
       "      <td>Grade A</td>\n",
       "    </tr>\n",
       "    <tr>\n",
       "      <th>1</th>\n",
       "      <td>Brian</td>\n",
       "      <td>85</td>\n",
       "      <td>True</td>\n",
       "      <td>Grade F</td>\n",
       "    </tr>\n",
       "    <tr>\n",
       "      <th>2</th>\n",
       "      <td>Cindy</td>\n",
       "      <td>75</td>\n",
       "      <td>False</td>\n",
       "      <td>Grade C</td>\n",
       "    </tr>\n",
       "    <tr>\n",
       "      <th>3</th>\n",
       "      <td>Deni</td>\n",
       "      <td>65</td>\n",
       "      <td>True</td>\n",
       "      <td>Grade F</td>\n",
       "    </tr>\n",
       "    <tr>\n",
       "      <th>4</th>\n",
       "      <td>Erika</td>\n",
       "      <td>89</td>\n",
       "      <td>False</td>\n",
       "      <td>Grade B</td>\n",
       "    </tr>\n",
       "  </tbody>\n",
       "</table>\n",
       "</div>"
      ],
      "text/plain": [
       "    nama  nilai  nyontek    grade\n",
       "0   Aldo     95    False  Grade A\n",
       "1  Brian     85     True  Grade F\n",
       "2  Cindy     75    False  Grade C\n",
       "3   Deni     65     True  Grade F\n",
       "4  Erika     89    False  Grade B"
      ]
     },
     "execution_count": 148,
     "metadata": {},
     "output_type": "execute_result"
    }
   ],
   "source": [
    "df"
   ]
  },
  {
   "cell_type": "markdown",
   "id": "959315ce",
   "metadata": {},
   "source": [
    "There we go. Remember! Returning is different from printing out your answer. "
   ]
  },
  {
   "cell_type": "code",
   "execution_count": 149,
   "id": "105571be",
   "metadata": {},
   "outputs": [],
   "source": [
    "def nama_function(input_1, input_2, input_3):\n",
    "    hasil = input_1**2 + input_2**0.5 + 3*input_3\n",
    "    return hasil"
   ]
  },
  {
   "cell_type": "code",
   "execution_count": 150,
   "id": "3f6dbe70",
   "metadata": {},
   "outputs": [],
   "source": [
    "jawaban = nama_function(2, 16, 1)"
   ]
  },
  {
   "cell_type": "code",
   "execution_count": 151,
   "id": "abc07657",
   "metadata": {},
   "outputs": [
    {
     "data": {
      "text/plain": [
       "11.0"
      ]
     },
     "execution_count": 151,
     "metadata": {},
     "output_type": "execute_result"
    }
   ],
   "source": [
    "jawaban"
   ]
  },
  {
   "cell_type": "markdown",
   "id": "669e25af",
   "metadata": {},
   "source": [
    "#### Applying Functions to DataFrames, the recommended way"
   ]
  },
  {
   "cell_type": "code",
   "execution_count": 92,
   "id": "ddea2f05",
   "metadata": {},
   "outputs": [],
   "source": [
    "import pandas as pd\n",
    "import numpy as np"
   ]
  },
  {
   "cell_type": "code",
   "execution_count": 105,
   "id": "a8124c3d",
   "metadata": {},
   "outputs": [
    {
     "data": {
      "text/html": [
       "<div>\n",
       "<style scoped>\n",
       "    .dataframe tbody tr th:only-of-type {\n",
       "        vertical-align: middle;\n",
       "    }\n",
       "\n",
       "    .dataframe tbody tr th {\n",
       "        vertical-align: top;\n",
       "    }\n",
       "\n",
       "    .dataframe thead th {\n",
       "        text-align: right;\n",
       "    }\n",
       "</style>\n",
       "<table border=\"1\" class=\"dataframe\">\n",
       "  <thead>\n",
       "    <tr style=\"text-align: right;\">\n",
       "      <th></th>\n",
       "      <th>Name</th>\n",
       "      <th>Score</th>\n",
       "      <th>Cheat</th>\n",
       "    </tr>\n",
       "  </thead>\n",
       "  <tbody>\n",
       "    <tr>\n",
       "      <th>0</th>\n",
       "      <td>Aldo</td>\n",
       "      <td>95</td>\n",
       "      <td>False</td>\n",
       "    </tr>\n",
       "    <tr>\n",
       "      <th>1</th>\n",
       "      <td>Brian</td>\n",
       "      <td>85</td>\n",
       "      <td>True</td>\n",
       "    </tr>\n",
       "    <tr>\n",
       "      <th>2</th>\n",
       "      <td>Cindy</td>\n",
       "      <td>75</td>\n",
       "      <td>False</td>\n",
       "    </tr>\n",
       "    <tr>\n",
       "      <th>3</th>\n",
       "      <td>Deni</td>\n",
       "      <td>65</td>\n",
       "      <td>True</td>\n",
       "    </tr>\n",
       "    <tr>\n",
       "      <th>4</th>\n",
       "      <td>Erika</td>\n",
       "      <td>89</td>\n",
       "      <td>False</td>\n",
       "    </tr>\n",
       "  </tbody>\n",
       "</table>\n",
       "</div>"
      ],
      "text/plain": [
       "    Name  Score  Cheat\n",
       "0   Aldo     95  False\n",
       "1  Brian     85   True\n",
       "2  Cindy     75  False\n",
       "3   Deni     65   True\n",
       "4  Erika     89  False"
      ]
     },
     "execution_count": 105,
     "metadata": {},
     "output_type": "execute_result"
    }
   ],
   "source": [
    "import pandas as pd\n",
    "\n",
    "df = pd.DataFrame({\n",
    "    'Name':['Aldo', 'Brian', 'Cindy', 'Deni', 'Erika'],\n",
    "    'Score':[95,85,75,65,89],\n",
    "    'Cheat':[False, True, False, True, False]\n",
    "})\n",
    "\n",
    "df"
   ]
  },
  {
   "cell_type": "code",
   "execution_count": 116,
   "id": "15c24ee1",
   "metadata": {},
   "outputs": [],
   "source": [
    "def auto_grade(nilai_siswa, nyontek):\n",
    "    if nyontek == True:\n",
    "        return 'Grade F'\n",
    "    else:\n",
    "        if nilai_siswa >= 90:\n",
    "            return 'Grade A'\n",
    "        elif nilai_siswa > 79:\n",
    "            return 'Grade B'\n",
    "        elif nilai_siswa > 69:\n",
    "            return 'Grade C'\n",
    "        elif nilai_siswa > 59:\n",
    "            return 'Grade D'\n",
    "        else:\n",
    "            return 'Grade F'"
   ]
  },
  {
   "cell_type": "code",
   "execution_count": 110,
   "id": "f596e18a",
   "metadata": {},
   "outputs": [
    {
     "ename": "ValueError",
     "evalue": "The truth value of a Series is ambiguous. Use a.empty, a.bool(), a.item(), a.any() or a.all().",
     "output_type": "error",
     "traceback": [
      "\u001b[1;31m---------------------------------------------------------------------------\u001b[0m",
      "\u001b[1;31mValueError\u001b[0m                                Traceback (most recent call last)",
      "\u001b[1;32m~\\AppData\\Local\\Temp/ipykernel_3252/614971484.py\u001b[0m in \u001b[0;36m<module>\u001b[1;34m\u001b[0m\n\u001b[1;32m----> 1\u001b[1;33m \u001b[0mauto_grade\u001b[0m\u001b[1;33m(\u001b[0m\u001b[0mdf\u001b[0m\u001b[1;33m[\u001b[0m\u001b[1;34m'Score'\u001b[0m\u001b[1;33m]\u001b[0m\u001b[1;33m,\u001b[0m \u001b[0mdf\u001b[0m\u001b[1;33m[\u001b[0m\u001b[1;34m'Cheat'\u001b[0m\u001b[1;33m]\u001b[0m\u001b[1;33m)\u001b[0m\u001b[1;33m\u001b[0m\u001b[1;33m\u001b[0m\u001b[0m\n\u001b[0m",
      "\u001b[1;32m~\\AppData\\Local\\Temp/ipykernel_3252/3336168043.py\u001b[0m in \u001b[0;36mauto_grade\u001b[1;34m(nilai_siswa, nyontek)\u001b[0m\n\u001b[0;32m      1\u001b[0m \u001b[1;32mdef\u001b[0m \u001b[0mauto_grade\u001b[0m\u001b[1;33m(\u001b[0m\u001b[0mnilai_siswa\u001b[0m\u001b[1;33m,\u001b[0m \u001b[0mnyontek\u001b[0m\u001b[1;33m)\u001b[0m\u001b[1;33m:\u001b[0m\u001b[1;33m\u001b[0m\u001b[1;33m\u001b[0m\u001b[0m\n\u001b[1;32m----> 2\u001b[1;33m     \u001b[1;32mif\u001b[0m \u001b[0mnyontek\u001b[0m \u001b[1;33m==\u001b[0m \u001b[1;32mTrue\u001b[0m\u001b[1;33m:\u001b[0m\u001b[1;33m\u001b[0m\u001b[1;33m\u001b[0m\u001b[0m\n\u001b[0m\u001b[0;32m      3\u001b[0m         \u001b[1;32mreturn\u001b[0m \u001b[1;34m'Grade F'\u001b[0m\u001b[1;33m\u001b[0m\u001b[1;33m\u001b[0m\u001b[0m\n\u001b[0;32m      4\u001b[0m     \u001b[1;32melse\u001b[0m\u001b[1;33m:\u001b[0m\u001b[1;33m\u001b[0m\u001b[1;33m\u001b[0m\u001b[0m\n\u001b[0;32m      5\u001b[0m         \u001b[1;32mif\u001b[0m \u001b[0mnilai_siswa\u001b[0m \u001b[1;33m>=\u001b[0m \u001b[1;36m90\u001b[0m\u001b[1;33m:\u001b[0m\u001b[1;33m\u001b[0m\u001b[1;33m\u001b[0m\u001b[0m\n",
      "\u001b[1;32m~\\anaconda3\\lib\\site-packages\\pandas\\core\\generic.py\u001b[0m in \u001b[0;36m__nonzero__\u001b[1;34m(self)\u001b[0m\n\u001b[0;32m   1535\u001b[0m     \u001b[1;33m@\u001b[0m\u001b[0mfinal\u001b[0m\u001b[1;33m\u001b[0m\u001b[1;33m\u001b[0m\u001b[0m\n\u001b[0;32m   1536\u001b[0m     \u001b[1;32mdef\u001b[0m \u001b[0m__nonzero__\u001b[0m\u001b[1;33m(\u001b[0m\u001b[0mself\u001b[0m\u001b[1;33m)\u001b[0m\u001b[1;33m:\u001b[0m\u001b[1;33m\u001b[0m\u001b[1;33m\u001b[0m\u001b[0m\n\u001b[1;32m-> 1537\u001b[1;33m         raise ValueError(\n\u001b[0m\u001b[0;32m   1538\u001b[0m             \u001b[1;34mf\"The truth value of a {type(self).__name__} is ambiguous. \"\u001b[0m\u001b[1;33m\u001b[0m\u001b[1;33m\u001b[0m\u001b[0m\n\u001b[0;32m   1539\u001b[0m             \u001b[1;34m\"Use a.empty, a.bool(), a.item(), a.any() or a.all().\"\u001b[0m\u001b[1;33m\u001b[0m\u001b[1;33m\u001b[0m\u001b[0m\n",
      "\u001b[1;31mValueError\u001b[0m: The truth value of a Series is ambiguous. Use a.empty, a.bool(), a.item(), a.any() or a.all()."
     ]
    }
   ],
   "source": [
    "auto_grade(df['Score'], df['Cheat'])"
   ]
  },
  {
   "cell_type": "code",
   "execution_count": 111,
   "id": "e8ec54b5",
   "metadata": {},
   "outputs": [
    {
     "name": "stdout",
     "output_type": "stream",
     "text": [
      "170 µs ± 1.3 µs per loop (mean ± std. dev. of 7 runs, 10000 loops each)\n"
     ]
    }
   ],
   "source": [
    "%%timeit\n",
    "df['grade_pake_numpy'] = np.vectorize(auto_grade)(df['Score'].values, df['Cheat'].values)"
   ]
  },
  {
   "cell_type": "code",
   "execution_count": 112,
   "id": "136e06d7",
   "metadata": {},
   "outputs": [
    {
     "name": "stdout",
     "output_type": "stream",
     "text": [
      "432 µs ± 2.76 µs per loop (mean ± std. dev. of 7 runs, 1000 loops each)\n"
     ]
    }
   ],
   "source": [
    "%%timeit\n",
    "df['grade_pake_lambda'] = df.apply(lambda x: auto_grade(x['Score'], x['Cheat']), axis = 1)"
   ]
  },
  {
   "cell_type": "code",
   "execution_count": 113,
   "id": "1b8a727b",
   "metadata": {},
   "outputs": [
    {
     "data": {
      "text/html": [
       "<div>\n",
       "<style scoped>\n",
       "    .dataframe tbody tr th:only-of-type {\n",
       "        vertical-align: middle;\n",
       "    }\n",
       "\n",
       "    .dataframe tbody tr th {\n",
       "        vertical-align: top;\n",
       "    }\n",
       "\n",
       "    .dataframe thead th {\n",
       "        text-align: right;\n",
       "    }\n",
       "</style>\n",
       "<table border=\"1\" class=\"dataframe\">\n",
       "  <thead>\n",
       "    <tr style=\"text-align: right;\">\n",
       "      <th></th>\n",
       "      <th>Name</th>\n",
       "      <th>Score</th>\n",
       "      <th>Cheat</th>\n",
       "      <th>grade_pake_numpy</th>\n",
       "      <th>grade_pake_lambda</th>\n",
       "    </tr>\n",
       "  </thead>\n",
       "  <tbody>\n",
       "    <tr>\n",
       "      <th>0</th>\n",
       "      <td>Aldo</td>\n",
       "      <td>95</td>\n",
       "      <td>False</td>\n",
       "      <td>Grade A</td>\n",
       "      <td>Grade A</td>\n",
       "    </tr>\n",
       "    <tr>\n",
       "      <th>1</th>\n",
       "      <td>Brian</td>\n",
       "      <td>85</td>\n",
       "      <td>True</td>\n",
       "      <td>Grade F</td>\n",
       "      <td>Grade F</td>\n",
       "    </tr>\n",
       "    <tr>\n",
       "      <th>2</th>\n",
       "      <td>Cindy</td>\n",
       "      <td>75</td>\n",
       "      <td>False</td>\n",
       "      <td>Grade C</td>\n",
       "      <td>Grade C</td>\n",
       "    </tr>\n",
       "    <tr>\n",
       "      <th>3</th>\n",
       "      <td>Deni</td>\n",
       "      <td>65</td>\n",
       "      <td>True</td>\n",
       "      <td>Grade F</td>\n",
       "      <td>Grade F</td>\n",
       "    </tr>\n",
       "    <tr>\n",
       "      <th>4</th>\n",
       "      <td>Erika</td>\n",
       "      <td>89</td>\n",
       "      <td>False</td>\n",
       "      <td>Grade B</td>\n",
       "      <td>Grade B</td>\n",
       "    </tr>\n",
       "  </tbody>\n",
       "</table>\n",
       "</div>"
      ],
      "text/plain": [
       "    Name  Score  Cheat grade_pake_numpy grade_pake_lambda\n",
       "0   Aldo     95  False          Grade A           Grade A\n",
       "1  Brian     85   True          Grade F           Grade F\n",
       "2  Cindy     75  False          Grade C           Grade C\n",
       "3   Deni     65   True          Grade F           Grade F\n",
       "4  Erika     89  False          Grade B           Grade B"
      ]
     },
     "execution_count": 113,
     "metadata": {},
     "output_type": "execute_result"
    }
   ],
   "source": [
    "df"
   ]
  },
  {
   "cell_type": "markdown",
   "id": "0b14d7a2",
   "metadata": {},
   "source": [
    "Ada dua cara mengaplikasikan sebuah fungsi ke sebuah tabel (dalam format `pandas dataframe`). \n",
    "\n",
    "Cara pertama adalah menggunakan `np.vectorize`, dan cara kedua adalah menggunakan `apply lambda`. Jika bisa menggunakan cara pertama, sebaiknya lakukan dengan cara pertama (dengan `np.vectorize`), karena setelah kita benchmark dengan `%%timeit`, kita dapat sama-sama melihat bahwa `np.vectorize` lebih 'cepat' di-run daripada `apply lambda`. \n",
    "\n",
    "Mungkin perbedaannya tidak kasat mata karena memang data yang kita olah masih 'simple'. Tapi nanti di saat teman-teman bekerja pada Big Data, perbedaan 'mikrodetik' ini akan bertumpuk, dan bakal berasa perbedaan `np.vectorize` vs `apply lambda`. "
   ]
  },
  {
   "cell_type": "code",
   "execution_count": null,
   "id": "7898c429",
   "metadata": {},
   "outputs": [],
   "source": []
  },
  {
   "cell_type": "markdown",
   "id": "8d0ff8e8",
   "metadata": {},
   "source": [
    "#### Part 3.1. Defining your input data types to avoid errors."
   ]
  },
  {
   "cell_type": "markdown",
   "id": "b4b73202",
   "metadata": {},
   "source": [
    "We know that in our original function, the first input is an integer, the second input is a bool.\n",
    "What if that rule is broken accidentally?"
   ]
  },
  {
   "cell_type": "code",
   "execution_count": 123,
   "id": "99d16fe8",
   "metadata": {},
   "outputs": [
    {
     "data": {
      "text/html": [
       "<div>\n",
       "<style scoped>\n",
       "    .dataframe tbody tr th:only-of-type {\n",
       "        vertical-align: middle;\n",
       "    }\n",
       "\n",
       "    .dataframe tbody tr th {\n",
       "        vertical-align: top;\n",
       "    }\n",
       "\n",
       "    .dataframe thead th {\n",
       "        text-align: right;\n",
       "    }\n",
       "</style>\n",
       "<table border=\"1\" class=\"dataframe\">\n",
       "  <thead>\n",
       "    <tr style=\"text-align: right;\">\n",
       "      <th></th>\n",
       "      <th>nama</th>\n",
       "      <th>nilai</th>\n",
       "      <th>nyontek</th>\n",
       "    </tr>\n",
       "  </thead>\n",
       "  <tbody>\n",
       "    <tr>\n",
       "      <th>0</th>\n",
       "      <td>Aldo</td>\n",
       "      <td>95</td>\n",
       "      <td>False</td>\n",
       "    </tr>\n",
       "    <tr>\n",
       "      <th>1</th>\n",
       "      <td>Brian</td>\n",
       "      <td>85</td>\n",
       "      <td>True</td>\n",
       "    </tr>\n",
       "    <tr>\n",
       "      <th>2</th>\n",
       "      <td>Cindy</td>\n",
       "      <td>75</td>\n",
       "      <td>False</td>\n",
       "    </tr>\n",
       "    <tr>\n",
       "      <th>3</th>\n",
       "      <td>Deni</td>\n",
       "      <td>65</td>\n",
       "      <td>True</td>\n",
       "    </tr>\n",
       "    <tr>\n",
       "      <th>4</th>\n",
       "      <td>Erika</td>\n",
       "      <td>89</td>\n",
       "      <td>False</td>\n",
       "    </tr>\n",
       "  </tbody>\n",
       "</table>\n",
       "</div>"
      ],
      "text/plain": [
       "    nama  nilai  nyontek\n",
       "0   Aldo     95    False\n",
       "1  Brian     85     True\n",
       "2  Cindy     75    False\n",
       "3   Deni     65     True\n",
       "4  Erika     89    False"
      ]
     },
     "execution_count": 123,
     "metadata": {},
     "output_type": "execute_result"
    }
   ],
   "source": [
    "import pandas as pd\n",
    "\n",
    "df = pd.DataFrame({\n",
    "    'nama':['Aldo', 'Brian', 'Cindy', 'Deni', 'Erika'],\n",
    "    'nilai':[95,85,75,65,89],\n",
    "    'nyontek':[False, True, False, True, False]\n",
    "})\n",
    "\n",
    "df"
   ]
  },
  {
   "cell_type": "code",
   "execution_count": 124,
   "id": "2ffe1081",
   "metadata": {},
   "outputs": [
    {
     "ename": "TypeError",
     "evalue": "type of argument \"nilai\" must be int; got str instead",
     "output_type": "error",
     "traceback": [
      "\u001b[1;31m---------------------------------------------------------------------------\u001b[0m",
      "\u001b[1;31mTypeError\u001b[0m                                 Traceback (most recent call last)",
      "\u001b[1;32m~\\AppData\\Local\\Temp/ipykernel_3252/3653625402.py\u001b[0m in \u001b[0;36m<module>\u001b[1;34m\u001b[0m\n\u001b[1;32m----> 1\u001b[1;33m \u001b[0mdf\u001b[0m\u001b[1;33m[\u001b[0m\u001b[1;34m'grade_2'\u001b[0m\u001b[1;33m]\u001b[0m \u001b[1;33m=\u001b[0m \u001b[0mdf\u001b[0m\u001b[1;33m.\u001b[0m\u001b[0mapply\u001b[0m\u001b[1;33m(\u001b[0m\u001b[1;32mlambda\u001b[0m \u001b[0mx\u001b[0m\u001b[1;33m:\u001b[0m \u001b[0mauto_grade\u001b[0m\u001b[1;33m(\u001b[0m\u001b[0mx\u001b[0m\u001b[1;33m[\u001b[0m\u001b[1;34m'nama'\u001b[0m\u001b[1;33m]\u001b[0m\u001b[1;33m,\u001b[0m \u001b[0mx\u001b[0m\u001b[1;33m[\u001b[0m\u001b[1;34m'nilai'\u001b[0m\u001b[1;33m]\u001b[0m\u001b[1;33m)\u001b[0m\u001b[1;33m,\u001b[0m \u001b[0maxis\u001b[0m \u001b[1;33m=\u001b[0m \u001b[1;36m1\u001b[0m\u001b[1;33m)\u001b[0m\u001b[1;33m\u001b[0m\u001b[1;33m\u001b[0m\u001b[0m\n\u001b[0m",
      "\u001b[1;32m~\\anaconda3\\lib\\site-packages\\pandas\\core\\frame.py\u001b[0m in \u001b[0;36mapply\u001b[1;34m(self, func, axis, raw, result_type, args, **kwargs)\u001b[0m\n\u001b[0;32m   8738\u001b[0m             \u001b[0mkwargs\u001b[0m\u001b[1;33m=\u001b[0m\u001b[0mkwargs\u001b[0m\u001b[1;33m,\u001b[0m\u001b[1;33m\u001b[0m\u001b[1;33m\u001b[0m\u001b[0m\n\u001b[0;32m   8739\u001b[0m         )\n\u001b[1;32m-> 8740\u001b[1;33m         \u001b[1;32mreturn\u001b[0m \u001b[0mop\u001b[0m\u001b[1;33m.\u001b[0m\u001b[0mapply\u001b[0m\u001b[1;33m(\u001b[0m\u001b[1;33m)\u001b[0m\u001b[1;33m\u001b[0m\u001b[1;33m\u001b[0m\u001b[0m\n\u001b[0m\u001b[0;32m   8741\u001b[0m \u001b[1;33m\u001b[0m\u001b[0m\n\u001b[0;32m   8742\u001b[0m     def applymap(\n",
      "\u001b[1;32m~\\anaconda3\\lib\\site-packages\\pandas\\core\\apply.py\u001b[0m in \u001b[0;36mapply\u001b[1;34m(self)\u001b[0m\n\u001b[0;32m    686\u001b[0m             \u001b[1;32mreturn\u001b[0m \u001b[0mself\u001b[0m\u001b[1;33m.\u001b[0m\u001b[0mapply_raw\u001b[0m\u001b[1;33m(\u001b[0m\u001b[1;33m)\u001b[0m\u001b[1;33m\u001b[0m\u001b[1;33m\u001b[0m\u001b[0m\n\u001b[0;32m    687\u001b[0m \u001b[1;33m\u001b[0m\u001b[0m\n\u001b[1;32m--> 688\u001b[1;33m         \u001b[1;32mreturn\u001b[0m \u001b[0mself\u001b[0m\u001b[1;33m.\u001b[0m\u001b[0mapply_standard\u001b[0m\u001b[1;33m(\u001b[0m\u001b[1;33m)\u001b[0m\u001b[1;33m\u001b[0m\u001b[1;33m\u001b[0m\u001b[0m\n\u001b[0m\u001b[0;32m    689\u001b[0m \u001b[1;33m\u001b[0m\u001b[0m\n\u001b[0;32m    690\u001b[0m     \u001b[1;32mdef\u001b[0m \u001b[0magg\u001b[0m\u001b[1;33m(\u001b[0m\u001b[0mself\u001b[0m\u001b[1;33m)\u001b[0m\u001b[1;33m:\u001b[0m\u001b[1;33m\u001b[0m\u001b[1;33m\u001b[0m\u001b[0m\n",
      "\u001b[1;32m~\\anaconda3\\lib\\site-packages\\pandas\\core\\apply.py\u001b[0m in \u001b[0;36mapply_standard\u001b[1;34m(self)\u001b[0m\n\u001b[0;32m    810\u001b[0m \u001b[1;33m\u001b[0m\u001b[0m\n\u001b[0;32m    811\u001b[0m     \u001b[1;32mdef\u001b[0m \u001b[0mapply_standard\u001b[0m\u001b[1;33m(\u001b[0m\u001b[0mself\u001b[0m\u001b[1;33m)\u001b[0m\u001b[1;33m:\u001b[0m\u001b[1;33m\u001b[0m\u001b[1;33m\u001b[0m\u001b[0m\n\u001b[1;32m--> 812\u001b[1;33m         \u001b[0mresults\u001b[0m\u001b[1;33m,\u001b[0m \u001b[0mres_index\u001b[0m \u001b[1;33m=\u001b[0m \u001b[0mself\u001b[0m\u001b[1;33m.\u001b[0m\u001b[0mapply_series_generator\u001b[0m\u001b[1;33m(\u001b[0m\u001b[1;33m)\u001b[0m\u001b[1;33m\u001b[0m\u001b[1;33m\u001b[0m\u001b[0m\n\u001b[0m\u001b[0;32m    813\u001b[0m \u001b[1;33m\u001b[0m\u001b[0m\n\u001b[0;32m    814\u001b[0m         \u001b[1;31m# wrap results\u001b[0m\u001b[1;33m\u001b[0m\u001b[1;33m\u001b[0m\u001b[0m\n",
      "\u001b[1;32m~\\anaconda3\\lib\\site-packages\\pandas\\core\\apply.py\u001b[0m in \u001b[0;36mapply_series_generator\u001b[1;34m(self)\u001b[0m\n\u001b[0;32m    826\u001b[0m             \u001b[1;32mfor\u001b[0m \u001b[0mi\u001b[0m\u001b[1;33m,\u001b[0m \u001b[0mv\u001b[0m \u001b[1;32min\u001b[0m \u001b[0menumerate\u001b[0m\u001b[1;33m(\u001b[0m\u001b[0mseries_gen\u001b[0m\u001b[1;33m)\u001b[0m\u001b[1;33m:\u001b[0m\u001b[1;33m\u001b[0m\u001b[1;33m\u001b[0m\u001b[0m\n\u001b[0;32m    827\u001b[0m                 \u001b[1;31m# ignore SettingWithCopy here in case the user mutates\u001b[0m\u001b[1;33m\u001b[0m\u001b[1;33m\u001b[0m\u001b[0m\n\u001b[1;32m--> 828\u001b[1;33m                 \u001b[0mresults\u001b[0m\u001b[1;33m[\u001b[0m\u001b[0mi\u001b[0m\u001b[1;33m]\u001b[0m \u001b[1;33m=\u001b[0m \u001b[0mself\u001b[0m\u001b[1;33m.\u001b[0m\u001b[0mf\u001b[0m\u001b[1;33m(\u001b[0m\u001b[0mv\u001b[0m\u001b[1;33m)\u001b[0m\u001b[1;33m\u001b[0m\u001b[1;33m\u001b[0m\u001b[0m\n\u001b[0m\u001b[0;32m    829\u001b[0m                 \u001b[1;32mif\u001b[0m \u001b[0misinstance\u001b[0m\u001b[1;33m(\u001b[0m\u001b[0mresults\u001b[0m\u001b[1;33m[\u001b[0m\u001b[0mi\u001b[0m\u001b[1;33m]\u001b[0m\u001b[1;33m,\u001b[0m \u001b[0mABCSeries\u001b[0m\u001b[1;33m)\u001b[0m\u001b[1;33m:\u001b[0m\u001b[1;33m\u001b[0m\u001b[1;33m\u001b[0m\u001b[0m\n\u001b[0;32m    830\u001b[0m                     \u001b[1;31m# If we have a view on v, we need to make a copy because\u001b[0m\u001b[1;33m\u001b[0m\u001b[1;33m\u001b[0m\u001b[0m\n",
      "\u001b[1;32m~\\AppData\\Local\\Temp/ipykernel_3252/3653625402.py\u001b[0m in \u001b[0;36m<lambda>\u001b[1;34m(x)\u001b[0m\n\u001b[1;32m----> 1\u001b[1;33m \u001b[0mdf\u001b[0m\u001b[1;33m[\u001b[0m\u001b[1;34m'grade_2'\u001b[0m\u001b[1;33m]\u001b[0m \u001b[1;33m=\u001b[0m \u001b[0mdf\u001b[0m\u001b[1;33m.\u001b[0m\u001b[0mapply\u001b[0m\u001b[1;33m(\u001b[0m\u001b[1;32mlambda\u001b[0m \u001b[0mx\u001b[0m\u001b[1;33m:\u001b[0m \u001b[0mauto_grade\u001b[0m\u001b[1;33m(\u001b[0m\u001b[0mx\u001b[0m\u001b[1;33m[\u001b[0m\u001b[1;34m'nama'\u001b[0m\u001b[1;33m]\u001b[0m\u001b[1;33m,\u001b[0m \u001b[0mx\u001b[0m\u001b[1;33m[\u001b[0m\u001b[1;34m'nilai'\u001b[0m\u001b[1;33m]\u001b[0m\u001b[1;33m)\u001b[0m\u001b[1;33m,\u001b[0m \u001b[0maxis\u001b[0m \u001b[1;33m=\u001b[0m \u001b[1;36m1\u001b[0m\u001b[1;33m)\u001b[0m\u001b[1;33m\u001b[0m\u001b[1;33m\u001b[0m\u001b[0m\n\u001b[0m",
      "\u001b[1;32m~\\anaconda3\\lib\\site-packages\\typeguard\\__init__.py\u001b[0m in \u001b[0;36mwrapper\u001b[1;34m(*args, **kwargs)\u001b[0m\n\u001b[0;32m   1030\u001b[0m     \u001b[1;32mdef\u001b[0m \u001b[0mwrapper\u001b[0m\u001b[1;33m(\u001b[0m\u001b[1;33m*\u001b[0m\u001b[0margs\u001b[0m\u001b[1;33m,\u001b[0m \u001b[1;33m**\u001b[0m\u001b[0mkwargs\u001b[0m\u001b[1;33m)\u001b[0m\u001b[1;33m:\u001b[0m\u001b[1;33m\u001b[0m\u001b[1;33m\u001b[0m\u001b[0m\n\u001b[0;32m   1031\u001b[0m         \u001b[0mmemo\u001b[0m \u001b[1;33m=\u001b[0m \u001b[0m_CallMemo\u001b[0m\u001b[1;33m(\u001b[0m\u001b[0mpython_func\u001b[0m\u001b[1;33m,\u001b[0m \u001b[0m_localns\u001b[0m\u001b[1;33m,\u001b[0m \u001b[0margs\u001b[0m\u001b[1;33m=\u001b[0m\u001b[0margs\u001b[0m\u001b[1;33m,\u001b[0m \u001b[0mkwargs\u001b[0m\u001b[1;33m=\u001b[0m\u001b[0mkwargs\u001b[0m\u001b[1;33m)\u001b[0m\u001b[1;33m\u001b[0m\u001b[1;33m\u001b[0m\u001b[0m\n\u001b[1;32m-> 1032\u001b[1;33m         \u001b[0mcheck_argument_types\u001b[0m\u001b[1;33m(\u001b[0m\u001b[0mmemo\u001b[0m\u001b[1;33m)\u001b[0m\u001b[1;33m\u001b[0m\u001b[1;33m\u001b[0m\u001b[0m\n\u001b[0m\u001b[0;32m   1033\u001b[0m         \u001b[0mretval\u001b[0m \u001b[1;33m=\u001b[0m \u001b[0mfunc\u001b[0m\u001b[1;33m(\u001b[0m\u001b[1;33m*\u001b[0m\u001b[0margs\u001b[0m\u001b[1;33m,\u001b[0m \u001b[1;33m**\u001b[0m\u001b[0mkwargs\u001b[0m\u001b[1;33m)\u001b[0m\u001b[1;33m\u001b[0m\u001b[1;33m\u001b[0m\u001b[0m\n\u001b[0;32m   1034\u001b[0m         \u001b[1;32mtry\u001b[0m\u001b[1;33m:\u001b[0m\u001b[1;33m\u001b[0m\u001b[1;33m\u001b[0m\u001b[0m\n",
      "\u001b[1;32m~\\anaconda3\\lib\\site-packages\\typeguard\\__init__.py\u001b[0m in \u001b[0;36mcheck_argument_types\u001b[1;34m(memo)\u001b[0m\n\u001b[0;32m    873\u001b[0m                 \u001b[0mcheck_type\u001b[0m\u001b[1;33m(\u001b[0m\u001b[0mdescription\u001b[0m\u001b[1;33m,\u001b[0m \u001b[0mvalue\u001b[0m\u001b[1;33m,\u001b[0m \u001b[0mexpected_type\u001b[0m\u001b[1;33m,\u001b[0m \u001b[0mmemo\u001b[0m\u001b[1;33m)\u001b[0m\u001b[1;33m\u001b[0m\u001b[1;33m\u001b[0m\u001b[0m\n\u001b[0;32m    874\u001b[0m             \u001b[1;32mexcept\u001b[0m \u001b[0mTypeError\u001b[0m \u001b[1;32mas\u001b[0m \u001b[0mexc\u001b[0m\u001b[1;33m:\u001b[0m  \u001b[1;31m# suppress unnecessarily long tracebacks\u001b[0m\u001b[1;33m\u001b[0m\u001b[1;33m\u001b[0m\u001b[0m\n\u001b[1;32m--> 875\u001b[1;33m                 \u001b[1;32mraise\u001b[0m \u001b[0mTypeError\u001b[0m\u001b[1;33m(\u001b[0m\u001b[1;33m*\u001b[0m\u001b[0mexc\u001b[0m\u001b[1;33m.\u001b[0m\u001b[0margs\u001b[0m\u001b[1;33m)\u001b[0m \u001b[1;32mfrom\u001b[0m \u001b[1;32mNone\u001b[0m\u001b[1;33m\u001b[0m\u001b[1;33m\u001b[0m\u001b[0m\n\u001b[0m\u001b[0;32m    876\u001b[0m \u001b[1;33m\u001b[0m\u001b[0m\n\u001b[0;32m    877\u001b[0m     \u001b[1;32mreturn\u001b[0m \u001b[1;32mTrue\u001b[0m\u001b[1;33m\u001b[0m\u001b[1;33m\u001b[0m\u001b[0m\n",
      "\u001b[1;31mTypeError\u001b[0m: type of argument \"nilai\" must be int; got str instead"
     ]
    }
   ],
   "source": [
    "df['grade_2'] = df.apply(lambda x: auto_grade(x['nama'], x['nilai']), axis = 1)"
   ]
  },
  {
   "cell_type": "markdown",
   "id": "914f19ad",
   "metadata": {},
   "source": [
    "To circumvent this, we install a new package called `typeguard`, and write `@typechecked` on top of our function to get it checked. Then, we should write our desired type on the function definition, like this!"
   ]
  },
  {
   "cell_type": "code",
   "execution_count": 2,
   "id": "b34608f2",
   "metadata": {},
   "outputs": [
    {
     "name": "stdout",
     "output_type": "stream",
     "text": [
      "Collecting typeguard\n",
      "  Using cached typeguard-2.13.3-py3-none-any.whl (17 kB)\n",
      "Installing collected packages: typeguard\n",
      "Successfully installed typeguard-2.13.3\n",
      "Collecting typing\n",
      "  Downloading typing-3.7.4.3.tar.gz (78 kB)\n",
      "Building wheels for collected packages: typing\n",
      "  Building wheel for typing (setup.py): started\n",
      "  Building wheel for typing (setup.py): finished with status 'done'\n",
      "  Created wheel for typing: filename=typing-3.7.4.3-py3-none-any.whl size=26324 sha256=cac80647d6da7aeb1572d09f14b29c6d93279f1c2459eadae105eb1bddad00c0\n",
      "  Stored in directory: c:\\users\\user\\appdata\\local\\pip\\cache\\wheels\\fa\\17\\1f\\332799f975d1b2d7f9b3f33bbccf65031e794717d24432caee\n",
      "Successfully built typing\n",
      "Installing collected packages: typing\n",
      "Successfully installed typing-3.7.4.3\n"
     ]
    }
   ],
   "source": [
    "!pip install typeguard\n",
    "!pip install typing"
   ]
  },
  {
   "cell_type": "code",
   "execution_count": 125,
   "id": "1bb5282d",
   "metadata": {},
   "outputs": [],
   "source": [
    "from typeguard import typechecked\n",
    "\n",
    "@typechecked\n",
    "def auto_grade(nilai_siswa: int, nyontek: bool) -> str:\n",
    "    if nyontek == True:\n",
    "        return 'Grade F'\n",
    "    else:\n",
    "        if nilai_siswa >= 90:\n",
    "            return 'Grade A'\n",
    "        elif nilai_siswa > 79:\n",
    "            return 'Grade B'\n",
    "        elif nilai_siswa > 69:\n",
    "            return 'Grade C'\n",
    "        elif nilai_siswa > 59:\n",
    "            return 'Grade D'\n",
    "        else:\n",
    "            return 'Grade F'"
   ]
  },
  {
   "cell_type": "code",
   "execution_count": 128,
   "id": "f1325d14",
   "metadata": {},
   "outputs": [
    {
     "ename": "TypeError",
     "evalue": "type of argument \"nilai\" must be int; got str instead",
     "output_type": "error",
     "traceback": [
      "\u001b[1;31m---------------------------------------------------------------------------\u001b[0m",
      "\u001b[1;31mTypeError\u001b[0m                                 Traceback (most recent call last)",
      "\u001b[1;32m~\\AppData\\Local\\Temp/ipykernel_3252/3653625402.py\u001b[0m in \u001b[0;36m<module>\u001b[1;34m\u001b[0m\n\u001b[1;32m----> 1\u001b[1;33m \u001b[0mdf\u001b[0m\u001b[1;33m[\u001b[0m\u001b[1;34m'grade_2'\u001b[0m\u001b[1;33m]\u001b[0m \u001b[1;33m=\u001b[0m \u001b[0mdf\u001b[0m\u001b[1;33m.\u001b[0m\u001b[0mapply\u001b[0m\u001b[1;33m(\u001b[0m\u001b[1;32mlambda\u001b[0m \u001b[0mx\u001b[0m\u001b[1;33m:\u001b[0m \u001b[0mauto_grade\u001b[0m\u001b[1;33m(\u001b[0m\u001b[0mx\u001b[0m\u001b[1;33m[\u001b[0m\u001b[1;34m'nama'\u001b[0m\u001b[1;33m]\u001b[0m\u001b[1;33m,\u001b[0m \u001b[0mx\u001b[0m\u001b[1;33m[\u001b[0m\u001b[1;34m'nilai'\u001b[0m\u001b[1;33m]\u001b[0m\u001b[1;33m)\u001b[0m\u001b[1;33m,\u001b[0m \u001b[0maxis\u001b[0m \u001b[1;33m=\u001b[0m \u001b[1;36m1\u001b[0m\u001b[1;33m)\u001b[0m\u001b[1;33m\u001b[0m\u001b[1;33m\u001b[0m\u001b[0m\n\u001b[0m",
      "\u001b[1;32m~\\anaconda3\\lib\\site-packages\\pandas\\core\\frame.py\u001b[0m in \u001b[0;36mapply\u001b[1;34m(self, func, axis, raw, result_type, args, **kwargs)\u001b[0m\n\u001b[0;32m   8738\u001b[0m             \u001b[0mkwargs\u001b[0m\u001b[1;33m=\u001b[0m\u001b[0mkwargs\u001b[0m\u001b[1;33m,\u001b[0m\u001b[1;33m\u001b[0m\u001b[1;33m\u001b[0m\u001b[0m\n\u001b[0;32m   8739\u001b[0m         )\n\u001b[1;32m-> 8740\u001b[1;33m         \u001b[1;32mreturn\u001b[0m \u001b[0mop\u001b[0m\u001b[1;33m.\u001b[0m\u001b[0mapply\u001b[0m\u001b[1;33m(\u001b[0m\u001b[1;33m)\u001b[0m\u001b[1;33m\u001b[0m\u001b[1;33m\u001b[0m\u001b[0m\n\u001b[0m\u001b[0;32m   8741\u001b[0m \u001b[1;33m\u001b[0m\u001b[0m\n\u001b[0;32m   8742\u001b[0m     def applymap(\n",
      "\u001b[1;32m~\\anaconda3\\lib\\site-packages\\pandas\\core\\apply.py\u001b[0m in \u001b[0;36mapply\u001b[1;34m(self)\u001b[0m\n\u001b[0;32m    686\u001b[0m             \u001b[1;32mreturn\u001b[0m \u001b[0mself\u001b[0m\u001b[1;33m.\u001b[0m\u001b[0mapply_raw\u001b[0m\u001b[1;33m(\u001b[0m\u001b[1;33m)\u001b[0m\u001b[1;33m\u001b[0m\u001b[1;33m\u001b[0m\u001b[0m\n\u001b[0;32m    687\u001b[0m \u001b[1;33m\u001b[0m\u001b[0m\n\u001b[1;32m--> 688\u001b[1;33m         \u001b[1;32mreturn\u001b[0m \u001b[0mself\u001b[0m\u001b[1;33m.\u001b[0m\u001b[0mapply_standard\u001b[0m\u001b[1;33m(\u001b[0m\u001b[1;33m)\u001b[0m\u001b[1;33m\u001b[0m\u001b[1;33m\u001b[0m\u001b[0m\n\u001b[0m\u001b[0;32m    689\u001b[0m \u001b[1;33m\u001b[0m\u001b[0m\n\u001b[0;32m    690\u001b[0m     \u001b[1;32mdef\u001b[0m \u001b[0magg\u001b[0m\u001b[1;33m(\u001b[0m\u001b[0mself\u001b[0m\u001b[1;33m)\u001b[0m\u001b[1;33m:\u001b[0m\u001b[1;33m\u001b[0m\u001b[1;33m\u001b[0m\u001b[0m\n",
      "\u001b[1;32m~\\anaconda3\\lib\\site-packages\\pandas\\core\\apply.py\u001b[0m in \u001b[0;36mapply_standard\u001b[1;34m(self)\u001b[0m\n\u001b[0;32m    810\u001b[0m \u001b[1;33m\u001b[0m\u001b[0m\n\u001b[0;32m    811\u001b[0m     \u001b[1;32mdef\u001b[0m \u001b[0mapply_standard\u001b[0m\u001b[1;33m(\u001b[0m\u001b[0mself\u001b[0m\u001b[1;33m)\u001b[0m\u001b[1;33m:\u001b[0m\u001b[1;33m\u001b[0m\u001b[1;33m\u001b[0m\u001b[0m\n\u001b[1;32m--> 812\u001b[1;33m         \u001b[0mresults\u001b[0m\u001b[1;33m,\u001b[0m \u001b[0mres_index\u001b[0m \u001b[1;33m=\u001b[0m \u001b[0mself\u001b[0m\u001b[1;33m.\u001b[0m\u001b[0mapply_series_generator\u001b[0m\u001b[1;33m(\u001b[0m\u001b[1;33m)\u001b[0m\u001b[1;33m\u001b[0m\u001b[1;33m\u001b[0m\u001b[0m\n\u001b[0m\u001b[0;32m    813\u001b[0m \u001b[1;33m\u001b[0m\u001b[0m\n\u001b[0;32m    814\u001b[0m         \u001b[1;31m# wrap results\u001b[0m\u001b[1;33m\u001b[0m\u001b[1;33m\u001b[0m\u001b[0m\n",
      "\u001b[1;32m~\\anaconda3\\lib\\site-packages\\pandas\\core\\apply.py\u001b[0m in \u001b[0;36mapply_series_generator\u001b[1;34m(self)\u001b[0m\n\u001b[0;32m    826\u001b[0m             \u001b[1;32mfor\u001b[0m \u001b[0mi\u001b[0m\u001b[1;33m,\u001b[0m \u001b[0mv\u001b[0m \u001b[1;32min\u001b[0m \u001b[0menumerate\u001b[0m\u001b[1;33m(\u001b[0m\u001b[0mseries_gen\u001b[0m\u001b[1;33m)\u001b[0m\u001b[1;33m:\u001b[0m\u001b[1;33m\u001b[0m\u001b[1;33m\u001b[0m\u001b[0m\n\u001b[0;32m    827\u001b[0m                 \u001b[1;31m# ignore SettingWithCopy here in case the user mutates\u001b[0m\u001b[1;33m\u001b[0m\u001b[1;33m\u001b[0m\u001b[0m\n\u001b[1;32m--> 828\u001b[1;33m                 \u001b[0mresults\u001b[0m\u001b[1;33m[\u001b[0m\u001b[0mi\u001b[0m\u001b[1;33m]\u001b[0m \u001b[1;33m=\u001b[0m \u001b[0mself\u001b[0m\u001b[1;33m.\u001b[0m\u001b[0mf\u001b[0m\u001b[1;33m(\u001b[0m\u001b[0mv\u001b[0m\u001b[1;33m)\u001b[0m\u001b[1;33m\u001b[0m\u001b[1;33m\u001b[0m\u001b[0m\n\u001b[0m\u001b[0;32m    829\u001b[0m                 \u001b[1;32mif\u001b[0m \u001b[0misinstance\u001b[0m\u001b[1;33m(\u001b[0m\u001b[0mresults\u001b[0m\u001b[1;33m[\u001b[0m\u001b[0mi\u001b[0m\u001b[1;33m]\u001b[0m\u001b[1;33m,\u001b[0m \u001b[0mABCSeries\u001b[0m\u001b[1;33m)\u001b[0m\u001b[1;33m:\u001b[0m\u001b[1;33m\u001b[0m\u001b[1;33m\u001b[0m\u001b[0m\n\u001b[0;32m    830\u001b[0m                     \u001b[1;31m# If we have a view on v, we need to make a copy because\u001b[0m\u001b[1;33m\u001b[0m\u001b[1;33m\u001b[0m\u001b[0m\n",
      "\u001b[1;32m~\\AppData\\Local\\Temp/ipykernel_3252/3653625402.py\u001b[0m in \u001b[0;36m<lambda>\u001b[1;34m(x)\u001b[0m\n\u001b[1;32m----> 1\u001b[1;33m \u001b[0mdf\u001b[0m\u001b[1;33m[\u001b[0m\u001b[1;34m'grade_2'\u001b[0m\u001b[1;33m]\u001b[0m \u001b[1;33m=\u001b[0m \u001b[0mdf\u001b[0m\u001b[1;33m.\u001b[0m\u001b[0mapply\u001b[0m\u001b[1;33m(\u001b[0m\u001b[1;32mlambda\u001b[0m \u001b[0mx\u001b[0m\u001b[1;33m:\u001b[0m \u001b[0mauto_grade\u001b[0m\u001b[1;33m(\u001b[0m\u001b[0mx\u001b[0m\u001b[1;33m[\u001b[0m\u001b[1;34m'nama'\u001b[0m\u001b[1;33m]\u001b[0m\u001b[1;33m,\u001b[0m \u001b[0mx\u001b[0m\u001b[1;33m[\u001b[0m\u001b[1;34m'nilai'\u001b[0m\u001b[1;33m]\u001b[0m\u001b[1;33m)\u001b[0m\u001b[1;33m,\u001b[0m \u001b[0maxis\u001b[0m \u001b[1;33m=\u001b[0m \u001b[1;36m1\u001b[0m\u001b[1;33m)\u001b[0m\u001b[1;33m\u001b[0m\u001b[1;33m\u001b[0m\u001b[0m\n\u001b[0m",
      "\u001b[1;32m~\\anaconda3\\lib\\site-packages\\typeguard\\__init__.py\u001b[0m in \u001b[0;36mwrapper\u001b[1;34m(*args, **kwargs)\u001b[0m\n\u001b[0;32m   1030\u001b[0m     \u001b[1;32mdef\u001b[0m \u001b[0mwrapper\u001b[0m\u001b[1;33m(\u001b[0m\u001b[1;33m*\u001b[0m\u001b[0margs\u001b[0m\u001b[1;33m,\u001b[0m \u001b[1;33m**\u001b[0m\u001b[0mkwargs\u001b[0m\u001b[1;33m)\u001b[0m\u001b[1;33m:\u001b[0m\u001b[1;33m\u001b[0m\u001b[1;33m\u001b[0m\u001b[0m\n\u001b[0;32m   1031\u001b[0m         \u001b[0mmemo\u001b[0m \u001b[1;33m=\u001b[0m \u001b[0m_CallMemo\u001b[0m\u001b[1;33m(\u001b[0m\u001b[0mpython_func\u001b[0m\u001b[1;33m,\u001b[0m \u001b[0m_localns\u001b[0m\u001b[1;33m,\u001b[0m \u001b[0margs\u001b[0m\u001b[1;33m=\u001b[0m\u001b[0margs\u001b[0m\u001b[1;33m,\u001b[0m \u001b[0mkwargs\u001b[0m\u001b[1;33m=\u001b[0m\u001b[0mkwargs\u001b[0m\u001b[1;33m)\u001b[0m\u001b[1;33m\u001b[0m\u001b[1;33m\u001b[0m\u001b[0m\n\u001b[1;32m-> 1032\u001b[1;33m         \u001b[0mcheck_argument_types\u001b[0m\u001b[1;33m(\u001b[0m\u001b[0mmemo\u001b[0m\u001b[1;33m)\u001b[0m\u001b[1;33m\u001b[0m\u001b[1;33m\u001b[0m\u001b[0m\n\u001b[0m\u001b[0;32m   1033\u001b[0m         \u001b[0mretval\u001b[0m \u001b[1;33m=\u001b[0m \u001b[0mfunc\u001b[0m\u001b[1;33m(\u001b[0m\u001b[1;33m*\u001b[0m\u001b[0margs\u001b[0m\u001b[1;33m,\u001b[0m \u001b[1;33m**\u001b[0m\u001b[0mkwargs\u001b[0m\u001b[1;33m)\u001b[0m\u001b[1;33m\u001b[0m\u001b[1;33m\u001b[0m\u001b[0m\n\u001b[0;32m   1034\u001b[0m         \u001b[1;32mtry\u001b[0m\u001b[1;33m:\u001b[0m\u001b[1;33m\u001b[0m\u001b[1;33m\u001b[0m\u001b[0m\n",
      "\u001b[1;32m~\\anaconda3\\lib\\site-packages\\typeguard\\__init__.py\u001b[0m in \u001b[0;36mcheck_argument_types\u001b[1;34m(memo)\u001b[0m\n\u001b[0;32m    873\u001b[0m                 \u001b[0mcheck_type\u001b[0m\u001b[1;33m(\u001b[0m\u001b[0mdescription\u001b[0m\u001b[1;33m,\u001b[0m \u001b[0mvalue\u001b[0m\u001b[1;33m,\u001b[0m \u001b[0mexpected_type\u001b[0m\u001b[1;33m,\u001b[0m \u001b[0mmemo\u001b[0m\u001b[1;33m)\u001b[0m\u001b[1;33m\u001b[0m\u001b[1;33m\u001b[0m\u001b[0m\n\u001b[0;32m    874\u001b[0m             \u001b[1;32mexcept\u001b[0m \u001b[0mTypeError\u001b[0m \u001b[1;32mas\u001b[0m \u001b[0mexc\u001b[0m\u001b[1;33m:\u001b[0m  \u001b[1;31m# suppress unnecessarily long tracebacks\u001b[0m\u001b[1;33m\u001b[0m\u001b[1;33m\u001b[0m\u001b[0m\n\u001b[1;32m--> 875\u001b[1;33m                 \u001b[1;32mraise\u001b[0m \u001b[0mTypeError\u001b[0m\u001b[1;33m(\u001b[0m\u001b[1;33m*\u001b[0m\u001b[0mexc\u001b[0m\u001b[1;33m.\u001b[0m\u001b[0margs\u001b[0m\u001b[1;33m)\u001b[0m \u001b[1;32mfrom\u001b[0m \u001b[1;32mNone\u001b[0m\u001b[1;33m\u001b[0m\u001b[1;33m\u001b[0m\u001b[0m\n\u001b[0m\u001b[0;32m    876\u001b[0m \u001b[1;33m\u001b[0m\u001b[0m\n\u001b[0;32m    877\u001b[0m     \u001b[1;32mreturn\u001b[0m \u001b[1;32mTrue\u001b[0m\u001b[1;33m\u001b[0m\u001b[1;33m\u001b[0m\u001b[0m\n",
      "\u001b[1;31mTypeError\u001b[0m: type of argument \"nilai\" must be int; got str instead"
     ]
    }
   ],
   "source": [
    "df['grade_2'] = df.apply(lambda x: auto_grade(x['nama'], x['nilai']), axis = 1)"
   ]
  },
  {
   "cell_type": "markdown",
   "id": "437ae740",
   "metadata": {},
   "source": [
    "If the input type does not match the correct data type, it will return an error."
   ]
  },
  {
   "cell_type": "markdown",
   "id": "6efcb0fe",
   "metadata": {},
   "source": [
    "But what if the input of `nilai` can be `float` too? "
   ]
  },
  {
   "cell_type": "code",
   "execution_count": 129,
   "id": "dcb77bb0",
   "metadata": {},
   "outputs": [
    {
     "ename": "TypeError",
     "evalue": "type of argument \"nilai\" must be int; got float instead",
     "output_type": "error",
     "traceback": [
      "\u001b[1;31m---------------------------------------------------------------------------\u001b[0m",
      "\u001b[1;31mTypeError\u001b[0m                                 Traceback (most recent call last)",
      "\u001b[1;32m~\\AppData\\Local\\Temp/ipykernel_3252/3585726171.py\u001b[0m in \u001b[0;36m<module>\u001b[1;34m\u001b[0m\n\u001b[1;32m----> 1\u001b[1;33m \u001b[0mauto_grade\u001b[0m\u001b[1;33m(\u001b[0m\u001b[1;36m80.5\u001b[0m\u001b[1;33m,\u001b[0m \u001b[1;32mTrue\u001b[0m\u001b[1;33m)\u001b[0m\u001b[1;33m\u001b[0m\u001b[1;33m\u001b[0m\u001b[0m\n\u001b[0m",
      "\u001b[1;32m~\\anaconda3\\lib\\site-packages\\typeguard\\__init__.py\u001b[0m in \u001b[0;36mwrapper\u001b[1;34m(*args, **kwargs)\u001b[0m\n\u001b[0;32m   1030\u001b[0m     \u001b[1;32mdef\u001b[0m \u001b[0mwrapper\u001b[0m\u001b[1;33m(\u001b[0m\u001b[1;33m*\u001b[0m\u001b[0margs\u001b[0m\u001b[1;33m,\u001b[0m \u001b[1;33m**\u001b[0m\u001b[0mkwargs\u001b[0m\u001b[1;33m)\u001b[0m\u001b[1;33m:\u001b[0m\u001b[1;33m\u001b[0m\u001b[1;33m\u001b[0m\u001b[0m\n\u001b[0;32m   1031\u001b[0m         \u001b[0mmemo\u001b[0m \u001b[1;33m=\u001b[0m \u001b[0m_CallMemo\u001b[0m\u001b[1;33m(\u001b[0m\u001b[0mpython_func\u001b[0m\u001b[1;33m,\u001b[0m \u001b[0m_localns\u001b[0m\u001b[1;33m,\u001b[0m \u001b[0margs\u001b[0m\u001b[1;33m=\u001b[0m\u001b[0margs\u001b[0m\u001b[1;33m,\u001b[0m \u001b[0mkwargs\u001b[0m\u001b[1;33m=\u001b[0m\u001b[0mkwargs\u001b[0m\u001b[1;33m)\u001b[0m\u001b[1;33m\u001b[0m\u001b[1;33m\u001b[0m\u001b[0m\n\u001b[1;32m-> 1032\u001b[1;33m         \u001b[0mcheck_argument_types\u001b[0m\u001b[1;33m(\u001b[0m\u001b[0mmemo\u001b[0m\u001b[1;33m)\u001b[0m\u001b[1;33m\u001b[0m\u001b[1;33m\u001b[0m\u001b[0m\n\u001b[0m\u001b[0;32m   1033\u001b[0m         \u001b[0mretval\u001b[0m \u001b[1;33m=\u001b[0m \u001b[0mfunc\u001b[0m\u001b[1;33m(\u001b[0m\u001b[1;33m*\u001b[0m\u001b[0margs\u001b[0m\u001b[1;33m,\u001b[0m \u001b[1;33m**\u001b[0m\u001b[0mkwargs\u001b[0m\u001b[1;33m)\u001b[0m\u001b[1;33m\u001b[0m\u001b[1;33m\u001b[0m\u001b[0m\n\u001b[0;32m   1034\u001b[0m         \u001b[1;32mtry\u001b[0m\u001b[1;33m:\u001b[0m\u001b[1;33m\u001b[0m\u001b[1;33m\u001b[0m\u001b[0m\n",
      "\u001b[1;32m~\\anaconda3\\lib\\site-packages\\typeguard\\__init__.py\u001b[0m in \u001b[0;36mcheck_argument_types\u001b[1;34m(memo)\u001b[0m\n\u001b[0;32m    873\u001b[0m                 \u001b[0mcheck_type\u001b[0m\u001b[1;33m(\u001b[0m\u001b[0mdescription\u001b[0m\u001b[1;33m,\u001b[0m \u001b[0mvalue\u001b[0m\u001b[1;33m,\u001b[0m \u001b[0mexpected_type\u001b[0m\u001b[1;33m,\u001b[0m \u001b[0mmemo\u001b[0m\u001b[1;33m)\u001b[0m\u001b[1;33m\u001b[0m\u001b[1;33m\u001b[0m\u001b[0m\n\u001b[0;32m    874\u001b[0m             \u001b[1;32mexcept\u001b[0m \u001b[0mTypeError\u001b[0m \u001b[1;32mas\u001b[0m \u001b[0mexc\u001b[0m\u001b[1;33m:\u001b[0m  \u001b[1;31m# suppress unnecessarily long tracebacks\u001b[0m\u001b[1;33m\u001b[0m\u001b[1;33m\u001b[0m\u001b[0m\n\u001b[1;32m--> 875\u001b[1;33m                 \u001b[1;32mraise\u001b[0m \u001b[0mTypeError\u001b[0m\u001b[1;33m(\u001b[0m\u001b[1;33m*\u001b[0m\u001b[0mexc\u001b[0m\u001b[1;33m.\u001b[0m\u001b[0margs\u001b[0m\u001b[1;33m)\u001b[0m \u001b[1;32mfrom\u001b[0m \u001b[1;32mNone\u001b[0m\u001b[1;33m\u001b[0m\u001b[1;33m\u001b[0m\u001b[0m\n\u001b[0m\u001b[0;32m    876\u001b[0m \u001b[1;33m\u001b[0m\u001b[0m\n\u001b[0;32m    877\u001b[0m     \u001b[1;32mreturn\u001b[0m \u001b[1;32mTrue\u001b[0m\u001b[1;33m\u001b[0m\u001b[1;33m\u001b[0m\u001b[0m\n",
      "\u001b[1;31mTypeError\u001b[0m: type of argument \"nilai\" must be int; got float instead"
     ]
    }
   ],
   "source": [
    "auto_grade(80.5, True)"
   ]
  },
  {
   "cell_type": "markdown",
   "id": "8b804b8c",
   "metadata": {},
   "source": [
    "Oh no, since we described it as `int`, receiving a `float` number breaks the rule and returns an error. How do we say that our function should ideally receive `int` and `float` as the `nilai` input?"
   ]
  },
  {
   "cell_type": "code",
   "execution_count": 130,
   "id": "8d80d4b5",
   "metadata": {},
   "outputs": [],
   "source": [
    "from typeguard import typechecked\n",
    "from typing import Union\n",
    "\n",
    "@typechecked\n",
    "def auto_grade(nilai_siswa: Union[int, float], nyontek: bool) -> str:\n",
    "    if nyontek == True:\n",
    "        return 'Grade F'\n",
    "    else:\n",
    "        if nilai_siswa >= 90:\n",
    "            return 'Grade A'\n",
    "        elif nilai_siswa > 79:\n",
    "            return 'Grade B'\n",
    "        elif nilai_siswa > 69:\n",
    "            return 'Grade C'\n",
    "        elif nilai_siswa > 59:\n",
    "            return 'Grade D'\n",
    "        else:\n",
    "            return 'Grade F'"
   ]
  },
  {
   "cell_type": "code",
   "execution_count": 131,
   "id": "6b95cedb",
   "metadata": {},
   "outputs": [
    {
     "data": {
      "text/plain": [
       "'Grade F'"
      ]
     },
     "execution_count": 131,
     "metadata": {},
     "output_type": "execute_result"
    }
   ],
   "source": [
    "auto_grade(88.5, True)"
   ]
  },
  {
   "cell_type": "code",
   "execution_count": 132,
   "id": "47b2e666",
   "metadata": {},
   "outputs": [
    {
     "data": {
      "text/plain": [
       "'Grade C'"
      ]
     },
     "execution_count": 132,
     "metadata": {},
     "output_type": "execute_result"
    }
   ],
   "source": [
    "auto_grade(80, False)"
   ]
  },
  {
   "cell_type": "code",
   "execution_count": 133,
   "id": "f50544e1",
   "metadata": {},
   "outputs": [
    {
     "ename": "TypeError",
     "evalue": "type of argument \"nilai\" must be one of (int, float); got str instead",
     "output_type": "error",
     "traceback": [
      "\u001b[1;31m---------------------------------------------------------------------------\u001b[0m",
      "\u001b[1;31mTypeError\u001b[0m                                 Traceback (most recent call last)",
      "\u001b[1;32m~\\AppData\\Local\\Temp/ipykernel_3252/1951308380.py\u001b[0m in \u001b[0;36m<module>\u001b[1;34m\u001b[0m\n\u001b[1;32m----> 1\u001b[1;33m \u001b[0mauto_grade\u001b[0m\u001b[1;33m(\u001b[0m\u001b[1;34m'80'\u001b[0m\u001b[1;33m,\u001b[0m \u001b[1;32mFalse\u001b[0m\u001b[1;33m)\u001b[0m\u001b[1;33m\u001b[0m\u001b[1;33m\u001b[0m\u001b[0m\n\u001b[0m",
      "\u001b[1;32m~\\anaconda3\\lib\\site-packages\\typeguard\\__init__.py\u001b[0m in \u001b[0;36mwrapper\u001b[1;34m(*args, **kwargs)\u001b[0m\n\u001b[0;32m   1030\u001b[0m     \u001b[1;32mdef\u001b[0m \u001b[0mwrapper\u001b[0m\u001b[1;33m(\u001b[0m\u001b[1;33m*\u001b[0m\u001b[0margs\u001b[0m\u001b[1;33m,\u001b[0m \u001b[1;33m**\u001b[0m\u001b[0mkwargs\u001b[0m\u001b[1;33m)\u001b[0m\u001b[1;33m:\u001b[0m\u001b[1;33m\u001b[0m\u001b[1;33m\u001b[0m\u001b[0m\n\u001b[0;32m   1031\u001b[0m         \u001b[0mmemo\u001b[0m \u001b[1;33m=\u001b[0m \u001b[0m_CallMemo\u001b[0m\u001b[1;33m(\u001b[0m\u001b[0mpython_func\u001b[0m\u001b[1;33m,\u001b[0m \u001b[0m_localns\u001b[0m\u001b[1;33m,\u001b[0m \u001b[0margs\u001b[0m\u001b[1;33m=\u001b[0m\u001b[0margs\u001b[0m\u001b[1;33m,\u001b[0m \u001b[0mkwargs\u001b[0m\u001b[1;33m=\u001b[0m\u001b[0mkwargs\u001b[0m\u001b[1;33m)\u001b[0m\u001b[1;33m\u001b[0m\u001b[1;33m\u001b[0m\u001b[0m\n\u001b[1;32m-> 1032\u001b[1;33m         \u001b[0mcheck_argument_types\u001b[0m\u001b[1;33m(\u001b[0m\u001b[0mmemo\u001b[0m\u001b[1;33m)\u001b[0m\u001b[1;33m\u001b[0m\u001b[1;33m\u001b[0m\u001b[0m\n\u001b[0m\u001b[0;32m   1033\u001b[0m         \u001b[0mretval\u001b[0m \u001b[1;33m=\u001b[0m \u001b[0mfunc\u001b[0m\u001b[1;33m(\u001b[0m\u001b[1;33m*\u001b[0m\u001b[0margs\u001b[0m\u001b[1;33m,\u001b[0m \u001b[1;33m**\u001b[0m\u001b[0mkwargs\u001b[0m\u001b[1;33m)\u001b[0m\u001b[1;33m\u001b[0m\u001b[1;33m\u001b[0m\u001b[0m\n\u001b[0;32m   1034\u001b[0m         \u001b[1;32mtry\u001b[0m\u001b[1;33m:\u001b[0m\u001b[1;33m\u001b[0m\u001b[1;33m\u001b[0m\u001b[0m\n",
      "\u001b[1;32m~\\anaconda3\\lib\\site-packages\\typeguard\\__init__.py\u001b[0m in \u001b[0;36mcheck_argument_types\u001b[1;34m(memo)\u001b[0m\n\u001b[0;32m    873\u001b[0m                 \u001b[0mcheck_type\u001b[0m\u001b[1;33m(\u001b[0m\u001b[0mdescription\u001b[0m\u001b[1;33m,\u001b[0m \u001b[0mvalue\u001b[0m\u001b[1;33m,\u001b[0m \u001b[0mexpected_type\u001b[0m\u001b[1;33m,\u001b[0m \u001b[0mmemo\u001b[0m\u001b[1;33m)\u001b[0m\u001b[1;33m\u001b[0m\u001b[1;33m\u001b[0m\u001b[0m\n\u001b[0;32m    874\u001b[0m             \u001b[1;32mexcept\u001b[0m \u001b[0mTypeError\u001b[0m \u001b[1;32mas\u001b[0m \u001b[0mexc\u001b[0m\u001b[1;33m:\u001b[0m  \u001b[1;31m# suppress unnecessarily long tracebacks\u001b[0m\u001b[1;33m\u001b[0m\u001b[1;33m\u001b[0m\u001b[0m\n\u001b[1;32m--> 875\u001b[1;33m                 \u001b[1;32mraise\u001b[0m \u001b[0mTypeError\u001b[0m\u001b[1;33m(\u001b[0m\u001b[1;33m*\u001b[0m\u001b[0mexc\u001b[0m\u001b[1;33m.\u001b[0m\u001b[0margs\u001b[0m\u001b[1;33m)\u001b[0m \u001b[1;32mfrom\u001b[0m \u001b[1;32mNone\u001b[0m\u001b[1;33m\u001b[0m\u001b[1;33m\u001b[0m\u001b[0m\n\u001b[0m\u001b[0;32m    876\u001b[0m \u001b[1;33m\u001b[0m\u001b[0m\n\u001b[0;32m    877\u001b[0m     \u001b[1;32mreturn\u001b[0m \u001b[1;32mTrue\u001b[0m\u001b[1;33m\u001b[0m\u001b[1;33m\u001b[0m\u001b[0m\n",
      "\u001b[1;31mTypeError\u001b[0m: type of argument \"nilai\" must be one of (int, float); got str instead"
     ]
    }
   ],
   "source": [
    "auto_grade('80', False)"
   ]
  },
  {
   "cell_type": "markdown",
   "id": "3227d670",
   "metadata": {},
   "source": [
    "There we go. By using these type-checking, we ensure that our function performs as intended, and we ensure that the function first checks the input type before executing anything.\n",
    "\n",
    "Should you do this everytime? No, if your problem is simple enough and you know for sure that there won't be any error caused by type errors, then you don't need to type check. This is actually some more intermediate stuffs and not much data scientists use these principles."
   ]
  },
  {
   "cell_type": "markdown",
   "id": "c66b4e18",
   "metadata": {},
   "source": [
    "#### Bonus: Calling Another Function inside a Function"
   ]
  },
  {
   "cell_type": "code",
   "execution_count": 134,
   "id": "25b26bb2",
   "metadata": {},
   "outputs": [],
   "source": [
    "def luas(panjang, lebar):\n",
    "    return panjang * lebar\n",
    "\n",
    "def keliling(panjang, lebar):\n",
    "    return (2*(panjang + lebar))\n",
    "\n",
    "def hitung_luas_keliling(panjang, lebar):\n",
    "    print('Luas persegi panjang ini adalah ',luas(panjang, lebar))\n",
    "    print('Keliling persegi panjang ini adalah ', keliling(panjang, lebar))"
   ]
  },
  {
   "cell_type": "code",
   "execution_count": 135,
   "id": "ffa4c7a5",
   "metadata": {},
   "outputs": [
    {
     "name": "stdout",
     "output_type": "stream",
     "text": [
      "Luas persegi panjang ini adalah  15\n",
      "Keliling persegi panjang ini adalah  16\n"
     ]
    }
   ],
   "source": [
    "hitung_luas_keliling(5, 3)"
   ]
  },
  {
   "cell_type": "code",
   "execution_count": null,
   "id": "c5722363",
   "metadata": {},
   "outputs": [],
   "source": []
  }
 ],
 "metadata": {
  "kernelspec": {
   "display_name": "Python 3 (ipykernel)",
   "language": "python",
   "name": "python3"
  },
  "language_info": {
   "codemirror_mode": {
    "name": "ipython",
    "version": 3
   },
   "file_extension": ".py",
   "mimetype": "text/x-python",
   "name": "python",
   "nbconvert_exporter": "python",
   "pygments_lexer": "ipython3",
   "version": "3.9.7"
  }
 },
 "nbformat": 4,
 "nbformat_minor": 5
}
