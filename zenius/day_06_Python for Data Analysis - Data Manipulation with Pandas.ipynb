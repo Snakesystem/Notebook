{
 "cells": [
  {
   "cell_type": "code",
   "execution_count": 1,
   "id": "ab128596-ed49-4aa5-9ecc-6185845d561d",
   "metadata": {},
   "outputs": [],
   "source": [
    "import pandas as pd\n",
    "import numpy as np"
   ]
  },
  {
   "cell_type": "code",
   "execution_count": null,
   "id": "479394de-0cbb-47e1-8533-f94474fcef21",
   "metadata": {},
   "outputs": [],
   "source": [
    "iris = pd.read_csv(\"https://gist.githubusercontent.com/curran/a08a1080b88344b0c8a7/raw/639388c2cbc2120a14dcf466e85730eb8be498bb/iris.csv\")"
   ]
  },
  {
   "cell_type": "code",
   "execution_count": null,
   "id": "ab27ea69-4bfd-4cec-8961-237d14940251",
   "metadata": {},
   "outputs": [],
   "source": [
    "iris"
   ]
  },
  {
   "cell_type": "code",
   "execution_count": null,
   "id": "57dda19d-a39f-4a36-8872-25844fba9bcd",
   "metadata": {},
   "outputs": [],
   "source": [
    "iris.info()"
   ]
  },
  {
   "cell_type": "code",
   "execution_count": null,
   "id": "09c48ae7-6276-499d-8c11-295835cadf3f",
   "metadata": {},
   "outputs": [],
   "source": [
    "#Value Counts"
   ]
  },
  {
   "cell_type": "code",
   "execution_count": null,
   "id": "f4ce44a6-7c87-498d-a023-bb46b29fbf66",
   "metadata": {},
   "outputs": [],
   "source": [
    "iris[\"species\"].value_counts()"
   ]
  },
  {
   "cell_type": "code",
   "execution_count": null,
   "id": "88703520-f547-4d5e-8750-47dfa4efed50",
   "metadata": {},
   "outputs": [],
   "source": [
    "iris.value_counts()"
   ]
  },
  {
   "cell_type": "code",
   "execution_count": null,
   "id": "8108a7c9-6684-40a5-992f-e67488bf03b9",
   "metadata": {},
   "outputs": [],
   "source": [
    "#Group By, 1 aggregation"
   ]
  },
  {
   "cell_type": "code",
   "execution_count": null,
   "id": "5a93a352-7b87-446a-80e5-ba4a5bfba292",
   "metadata": {},
   "outputs": [],
   "source": [
    "iris.groupby(\"species\").max()"
   ]
  },
  {
   "cell_type": "code",
   "execution_count": null,
   "id": "b23e95ba-f5b0-4766-9db1-18a5219b2d80",
   "metadata": {},
   "outputs": [],
   "source": [
    "iris.groupby(\"species\").min()"
   ]
  },
  {
   "cell_type": "code",
   "execution_count": null,
   "id": "15068f40-b649-4d62-ac6e-6db4fc74ed63",
   "metadata": {},
   "outputs": [],
   "source": [
    "iris.groupby(\"species\").sum()"
   ]
  },
  {
   "cell_type": "code",
   "execution_count": null,
   "id": "b3db26d0-36b2-4815-a660-8d6940c61f24",
   "metadata": {},
   "outputs": [],
   "source": [
    "iris.groupby(\"species\").mean()"
   ]
  },
  {
   "cell_type": "code",
   "execution_count": null,
   "id": "6f43bc94-ee9c-4f4a-906f-15d71674309d",
   "metadata": {},
   "outputs": [],
   "source": [
    "iris.groupby(\"species\").median()"
   ]
  },
  {
   "cell_type": "code",
   "execution_count": null,
   "id": "8d1a07e1-04f9-4b2c-b7dd-75d9e3e4a466",
   "metadata": {},
   "outputs": [],
   "source": [
    "iris.groupby(\"species\").count()"
   ]
  },
  {
   "cell_type": "code",
   "execution_count": null,
   "id": "5cb1aeeb-fa20-4294-ab0c-39da7f8687f1",
   "metadata": {},
   "outputs": [],
   "source": [
    "iris.groupby(\"species\").size()"
   ]
  },
  {
   "cell_type": "code",
   "execution_count": null,
   "id": "bd1d08dc-e5dd-4fb1-9081-65bf8e50817a",
   "metadata": {},
   "outputs": [],
   "source": [
    "iris.groupby(\"species\").describe()"
   ]
  },
  {
   "cell_type": "code",
   "execution_count": null,
   "id": "372c5c65-c3ca-4451-aa14-a7b06509f072",
   "metadata": {},
   "outputs": [],
   "source": [
    "iris.groupby(\"species\").describe().T"
   ]
  },
  {
   "cell_type": "code",
   "execution_count": null,
   "id": "20145fb7-5de3-483c-9b2b-7aaa87bc0e74",
   "metadata": {},
   "outputs": [],
   "source": [
    "iris.groupby(\"species\").agg([\"mean\", \"min\", \"sum\"])"
   ]
  },
  {
   "cell_type": "code",
   "execution_count": null,
   "id": "d3716772-376f-4271-92b7-cc7e0b5d33e5",
   "metadata": {},
   "outputs": [],
   "source": [
    "iris.groupby(\"species\").agg({\"sepal_width\": [\"min\", \"max\"], \"petal_width\": \"mean\"})"
   ]
  },
  {
   "cell_type": "code",
   "execution_count": null,
   "id": "99b6de35-ef97-4c5f-a131-adc622a1f57a",
   "metadata": {},
   "outputs": [],
   "source": [
    "iris.groupby([\"species\", \"petal_length\"]).min()"
   ]
  },
  {
   "cell_type": "code",
   "execution_count": null,
   "id": "5a185473-d04c-47c4-8405-f941028fe106",
   "metadata": {},
   "outputs": [],
   "source": [
    "iris.groupby(iris[\"petal_length\"]>5).mean()"
   ]
  },
  {
   "cell_type": "code",
   "execution_count": null,
   "id": "1144992b-c3e8-4108-b519-29f5ee78730b",
   "metadata": {},
   "outputs": [],
   "source": [
    "## Data Merging"
   ]
  },
  {
   "cell_type": "code",
   "execution_count": null,
   "id": "1690e598-69de-429c-af4b-9fc8862480c9",
   "metadata": {},
   "outputs": [],
   "source": [
    "# Concat"
   ]
  },
  {
   "cell_type": "code",
   "execution_count": 2,
   "id": "c14685c8-f81f-4548-9077-8a55ab17493b",
   "metadata": {},
   "outputs": [
    {
     "data": {
      "text/html": [
       "<div>\n",
       "<style scoped>\n",
       "    .dataframe tbody tr th:only-of-type {\n",
       "        vertical-align: middle;\n",
       "    }\n",
       "\n",
       "    .dataframe tbody tr th {\n",
       "        vertical-align: top;\n",
       "    }\n",
       "\n",
       "    .dataframe thead th {\n",
       "        text-align: right;\n",
       "    }\n",
       "</style>\n",
       "<table border=\"1\" class=\"dataframe\">\n",
       "  <thead>\n",
       "    <tr style=\"text-align: right;\">\n",
       "      <th></th>\n",
       "      <th>cust_id</th>\n",
       "      <th>item_bought</th>\n",
       "      <th>city</th>\n",
       "    </tr>\n",
       "  </thead>\n",
       "  <tbody>\n",
       "    <tr>\n",
       "      <th>0</th>\n",
       "      <td>C1</td>\n",
       "      <td>10</td>\n",
       "      <td>Bandung</td>\n",
       "    </tr>\n",
       "    <tr>\n",
       "      <th>1</th>\n",
       "      <td>C2</td>\n",
       "      <td>15</td>\n",
       "      <td>Jakarta</td>\n",
       "    </tr>\n",
       "    <tr>\n",
       "      <th>2</th>\n",
       "      <td>C3</td>\n",
       "      <td>20</td>\n",
       "      <td>Bogor</td>\n",
       "    </tr>\n",
       "    <tr>\n",
       "      <th>3</th>\n",
       "      <td>C4</td>\n",
       "      <td>35</td>\n",
       "      <td>Tangerang</td>\n",
       "    </tr>\n",
       "    <tr>\n",
       "      <th>4</th>\n",
       "      <td>C5</td>\n",
       "      <td>4</td>\n",
       "      <td>Bali</td>\n",
       "    </tr>\n",
       "  </tbody>\n",
       "</table>\n",
       "</div>"
      ],
      "text/plain": [
       "  cust_id  item_bought       city\n",
       "0      C1           10    Bandung\n",
       "1      C2           15    Jakarta\n",
       "2      C3           20      Bogor\n",
       "3      C4           35  Tangerang\n",
       "4      C5            4       Bali"
      ]
     },
     "execution_count": 2,
     "metadata": {},
     "output_type": "execute_result"
    }
   ],
   "source": [
    "df1 = pd.DataFrame({\n",
    "    \"cust_id\": [\"C1\", \"C2\", \"C3\", \"C4\", \"C5\"],\n",
    "    \"item_bought\": [10,15,20,35,4],\n",
    "    \"city\": [\"Bandung\", \"Jakarta\", \"Bogor\", \"Tangerang\", \"Bali\"]\n",
    "    })\n",
    "df1"
   ]
  },
  {
   "cell_type": "code",
   "execution_count": 3,
   "id": "ec889efb-e545-40fc-9fb0-eab518e33488",
   "metadata": {},
   "outputs": [
    {
     "data": {
      "text/html": [
       "<div>\n",
       "<style scoped>\n",
       "    .dataframe tbody tr th:only-of-type {\n",
       "        vertical-align: middle;\n",
       "    }\n",
       "\n",
       "    .dataframe tbody tr th {\n",
       "        vertical-align: top;\n",
       "    }\n",
       "\n",
       "    .dataframe thead th {\n",
       "        text-align: right;\n",
       "    }\n",
       "</style>\n",
       "<table border=\"1\" class=\"dataframe\">\n",
       "  <thead>\n",
       "    <tr style=\"text-align: right;\">\n",
       "      <th></th>\n",
       "      <th>cust_id</th>\n",
       "      <th>item_bought</th>\n",
       "      <th>city</th>\n",
       "    </tr>\n",
       "  </thead>\n",
       "  <tbody>\n",
       "    <tr>\n",
       "      <th>0</th>\n",
       "      <td>C6</td>\n",
       "      <td>12</td>\n",
       "      <td>Bandung</td>\n",
       "    </tr>\n",
       "    <tr>\n",
       "      <th>1</th>\n",
       "      <td>C7</td>\n",
       "      <td>20</td>\n",
       "      <td>Jakarta</td>\n",
       "    </tr>\n",
       "    <tr>\n",
       "      <th>2</th>\n",
       "      <td>C8</td>\n",
       "      <td>6</td>\n",
       "      <td>Jakarta</td>\n",
       "    </tr>\n",
       "  </tbody>\n",
       "</table>\n",
       "</div>"
      ],
      "text/plain": [
       "  cust_id  item_bought     city\n",
       "0      C6           12  Bandung\n",
       "1      C7           20  Jakarta\n",
       "2      C8            6  Jakarta"
      ]
     },
     "execution_count": 3,
     "metadata": {},
     "output_type": "execute_result"
    }
   ],
   "source": [
    "df2 = pd.DataFrame({\n",
    "    \"cust_id\": [\"C6\", \"C7\", \"C8\"],\n",
    "    \"item_bought\": [12,20,6],\n",
    "    \"city\": [\"Bandung\", \"Jakarta\", \"Jakarta\"]\n",
    "    })\n",
    "df2"
   ]
  },
  {
   "cell_type": "code",
   "execution_count": 4,
   "id": "3c162c08-9579-4a18-9bf1-47bbc3b3998c",
   "metadata": {},
   "outputs": [
    {
     "data": {
      "text/html": [
       "<div>\n",
       "<style scoped>\n",
       "    .dataframe tbody tr th:only-of-type {\n",
       "        vertical-align: middle;\n",
       "    }\n",
       "\n",
       "    .dataframe tbody tr th {\n",
       "        vertical-align: top;\n",
       "    }\n",
       "\n",
       "    .dataframe thead th {\n",
       "        text-align: right;\n",
       "    }\n",
       "</style>\n",
       "<table border=\"1\" class=\"dataframe\">\n",
       "  <thead>\n",
       "    <tr style=\"text-align: right;\">\n",
       "      <th></th>\n",
       "      <th>cust_no</th>\n",
       "      <th>age</th>\n",
       "    </tr>\n",
       "  </thead>\n",
       "  <tbody>\n",
       "    <tr>\n",
       "      <th>0</th>\n",
       "      <td>C1</td>\n",
       "      <td>24</td>\n",
       "    </tr>\n",
       "    <tr>\n",
       "      <th>1</th>\n",
       "      <td>C2</td>\n",
       "      <td>31</td>\n",
       "    </tr>\n",
       "    <tr>\n",
       "      <th>2</th>\n",
       "      <td>C3</td>\n",
       "      <td>23</td>\n",
       "    </tr>\n",
       "    <tr>\n",
       "      <th>3</th>\n",
       "      <td>C5</td>\n",
       "      <td>40</td>\n",
       "    </tr>\n",
       "    <tr>\n",
       "      <th>4</th>\n",
       "      <td>C6</td>\n",
       "      <td>35</td>\n",
       "    </tr>\n",
       "    <tr>\n",
       "      <th>5</th>\n",
       "      <td>C7</td>\n",
       "      <td>28</td>\n",
       "    </tr>\n",
       "    <tr>\n",
       "      <th>6</th>\n",
       "      <td>C8</td>\n",
       "      <td>34</td>\n",
       "    </tr>\n",
       "  </tbody>\n",
       "</table>\n",
       "</div>"
      ],
      "text/plain": [
       "  cust_no  age\n",
       "0      C1   24\n",
       "1      C2   31\n",
       "2      C3   23\n",
       "3      C5   40\n",
       "4      C6   35\n",
       "5      C7   28\n",
       "6      C8   34"
      ]
     },
     "execution_count": 4,
     "metadata": {},
     "output_type": "execute_result"
    }
   ],
   "source": [
    "df3 = pd.DataFrame({\n",
    "    \"cust_no\": [\"C1\", \"C2\", \"C3\", \"C5\", \"C6\", \"C7\", \"C8\"],\n",
    "    \"age\": [24,31,23,40,35,28,34]\n",
    "    })\n",
    "df3"
   ]
  },
  {
   "cell_type": "code",
   "execution_count": null,
   "id": "63b9838e-1118-4f93-b161-08a5404e572a",
   "metadata": {},
   "outputs": [],
   "source": [
    "#Concat axis = 0"
   ]
  },
  {
   "cell_type": "code",
   "execution_count": null,
   "id": "a73b08b0-739b-4eef-ae7e-d5ab8276d5c0",
   "metadata": {},
   "outputs": [],
   "source": [
    "df_concat0 = pd.concat([df1, df2])\n",
    "df_concat0"
   ]
  },
  {
   "cell_type": "code",
   "execution_count": null,
   "id": "26e853f0-9c8a-4ce4-97d4-1c96c02dc8f1",
   "metadata": {},
   "outputs": [],
   "source": [
    "#Concat axis = 1"
   ]
  },
  {
   "cell_type": "code",
   "execution_count": null,
   "id": "ccc51f71-1dfd-4535-a2e1-54f1e997a98e",
   "metadata": {},
   "outputs": [],
   "source": [
    "df_concat1 = pd.concat([df1, df3], axis = 1)\n",
    "df_concat1"
   ]
  },
  {
   "cell_type": "code",
   "execution_count": null,
   "id": "60f15671-398f-4e90-a7ed-65186d502dd1",
   "metadata": {},
   "outputs": [],
   "source": [
    "# Merge"
   ]
  },
  {
   "cell_type": "code",
   "execution_count": 5,
   "id": "ae0f385c-7a80-449b-ade2-67ab9c42b1a6",
   "metadata": {},
   "outputs": [
    {
     "data": {
      "text/html": [
       "<div>\n",
       "<style scoped>\n",
       "    .dataframe tbody tr th:only-of-type {\n",
       "        vertical-align: middle;\n",
       "    }\n",
       "\n",
       "    .dataframe tbody tr th {\n",
       "        vertical-align: top;\n",
       "    }\n",
       "\n",
       "    .dataframe thead th {\n",
       "        text-align: right;\n",
       "    }\n",
       "</style>\n",
       "<table border=\"1\" class=\"dataframe\">\n",
       "  <thead>\n",
       "    <tr style=\"text-align: right;\">\n",
       "      <th></th>\n",
       "      <th>cust_id</th>\n",
       "      <th>item_bought</th>\n",
       "      <th>city</th>\n",
       "      <th>cust_no</th>\n",
       "      <th>age</th>\n",
       "    </tr>\n",
       "  </thead>\n",
       "  <tbody>\n",
       "    <tr>\n",
       "      <th>0</th>\n",
       "      <td>C1</td>\n",
       "      <td>10</td>\n",
       "      <td>Bandung</td>\n",
       "      <td>C1</td>\n",
       "      <td>24</td>\n",
       "    </tr>\n",
       "    <tr>\n",
       "      <th>1</th>\n",
       "      <td>C2</td>\n",
       "      <td>15</td>\n",
       "      <td>Jakarta</td>\n",
       "      <td>C2</td>\n",
       "      <td>31</td>\n",
       "    </tr>\n",
       "    <tr>\n",
       "      <th>2</th>\n",
       "      <td>C3</td>\n",
       "      <td>20</td>\n",
       "      <td>Bogor</td>\n",
       "      <td>C3</td>\n",
       "      <td>23</td>\n",
       "    </tr>\n",
       "    <tr>\n",
       "      <th>3</th>\n",
       "      <td>C5</td>\n",
       "      <td>4</td>\n",
       "      <td>Bali</td>\n",
       "      <td>C5</td>\n",
       "      <td>40</td>\n",
       "    </tr>\n",
       "  </tbody>\n",
       "</table>\n",
       "</div>"
      ],
      "text/plain": [
       "  cust_id  item_bought     city cust_no  age\n",
       "0      C1           10  Bandung      C1   24\n",
       "1      C2           15  Jakarta      C2   31\n",
       "2      C3           20    Bogor      C3   23\n",
       "3      C5            4     Bali      C5   40"
      ]
     },
     "execution_count": 5,
     "metadata": {},
     "output_type": "execute_result"
    }
   ],
   "source": [
    "df1.merge(df3, left_on = \"cust_id\", right_on = \"cust_no\")"
   ]
  },
  {
   "cell_type": "code",
   "execution_count": 6,
   "id": "22677afc-412f-4ca7-8399-a6b4f66c8971",
   "metadata": {},
   "outputs": [
    {
     "data": {
      "text/html": [
       "<div>\n",
       "<style scoped>\n",
       "    .dataframe tbody tr th:only-of-type {\n",
       "        vertical-align: middle;\n",
       "    }\n",
       "\n",
       "    .dataframe tbody tr th {\n",
       "        vertical-align: top;\n",
       "    }\n",
       "\n",
       "    .dataframe thead th {\n",
       "        text-align: right;\n",
       "    }\n",
       "</style>\n",
       "<table border=\"1\" class=\"dataframe\">\n",
       "  <thead>\n",
       "    <tr style=\"text-align: right;\">\n",
       "      <th></th>\n",
       "      <th>cust_id</th>\n",
       "      <th>item_bought</th>\n",
       "      <th>city</th>\n",
       "      <th>cust_no</th>\n",
       "      <th>age</th>\n",
       "    </tr>\n",
       "  </thead>\n",
       "  <tbody>\n",
       "    <tr>\n",
       "      <th>0</th>\n",
       "      <td>C1</td>\n",
       "      <td>10</td>\n",
       "      <td>Bandung</td>\n",
       "      <td>C1</td>\n",
       "      <td>24.0</td>\n",
       "    </tr>\n",
       "    <tr>\n",
       "      <th>1</th>\n",
       "      <td>C2</td>\n",
       "      <td>15</td>\n",
       "      <td>Jakarta</td>\n",
       "      <td>C2</td>\n",
       "      <td>31.0</td>\n",
       "    </tr>\n",
       "    <tr>\n",
       "      <th>2</th>\n",
       "      <td>C3</td>\n",
       "      <td>20</td>\n",
       "      <td>Bogor</td>\n",
       "      <td>C3</td>\n",
       "      <td>23.0</td>\n",
       "    </tr>\n",
       "    <tr>\n",
       "      <th>3</th>\n",
       "      <td>C4</td>\n",
       "      <td>35</td>\n",
       "      <td>Tangerang</td>\n",
       "      <td>NaN</td>\n",
       "      <td>NaN</td>\n",
       "    </tr>\n",
       "    <tr>\n",
       "      <th>4</th>\n",
       "      <td>C5</td>\n",
       "      <td>4</td>\n",
       "      <td>Bali</td>\n",
       "      <td>C5</td>\n",
       "      <td>40.0</td>\n",
       "    </tr>\n",
       "  </tbody>\n",
       "</table>\n",
       "</div>"
      ],
      "text/plain": [
       "  cust_id  item_bought       city cust_no   age\n",
       "0      C1           10    Bandung      C1  24.0\n",
       "1      C2           15    Jakarta      C2  31.0\n",
       "2      C3           20      Bogor      C3  23.0\n",
       "3      C4           35  Tangerang     NaN   NaN\n",
       "4      C5            4       Bali      C5  40.0"
      ]
     },
     "execution_count": 6,
     "metadata": {},
     "output_type": "execute_result"
    }
   ],
   "source": [
    "df1.merge(df3, how = \"left\", left_on = \"cust_id\", right_on = \"cust_no\")"
   ]
  },
  {
   "cell_type": "code",
   "execution_count": null,
   "id": "61ceab83-faf4-4d06-9724-540b89be9230",
   "metadata": {},
   "outputs": [],
   "source": [
    "df1.merge(df3, how = \"right\", left_on = \"cust_id\", right_on = \"cust_no\")"
   ]
  },
  {
   "cell_type": "code",
   "execution_count": null,
   "id": "79916b67-7fa8-4118-aa53-8605946557da",
   "metadata": {},
   "outputs": [],
   "source": [
    "df1.merge(df3, how = \"inner\", left_on = \"cust_id\", right_on = \"cust_no\")"
   ]
  },
  {
   "cell_type": "code",
   "execution_count": null,
   "id": "3590f8b9-6f67-4d8b-aee6-3cae9f48ce2e",
   "metadata": {},
   "outputs": [],
   "source": [
    "df1.merge(df3, how = \"outer\", left_on = \"cust_id\", right_on = \"cust_no\")"
   ]
  },
  {
   "cell_type": "code",
   "execution_count": null,
   "id": "b1b8dd7e-2803-4044-aae8-a953e864fb86",
   "metadata": {},
   "outputs": [],
   "source": [
    "df1.merge(df3, how = \"outer\", left_on = \"cust_id\", right_on = \"cust_no\").drop(columns = \"cust_no\")"
   ]
  },
  {
   "cell_type": "code",
   "execution_count": null,
   "id": "989b0e4f-9cec-49d4-a6a6-07df791a50a6",
   "metadata": {},
   "outputs": [],
   "source": [
    "# Pivot"
   ]
  },
  {
   "cell_type": "code",
   "execution_count": null,
   "id": "3a0274a0-a724-4d08-8b56-9e3921b9b94c",
   "metadata": {},
   "outputs": [],
   "source": [
    "iris.pivot_table(index =['petal_length'], columns ='species', values =[\"sepal_length\", \"sepal_width\"], aggfunc = \"mean\")"
   ]
  },
  {
   "cell_type": "code",
   "execution_count": null,
   "id": "5b6c7d3b-7f4d-4779-99a0-c92164068553",
   "metadata": {},
   "outputs": [],
   "source": [
    "iris.pivot_table(index =['petal_length'], columns ='species', values =[\"sepal_length\", \"sepal_width\"], aggfunc = \"mean\", fill_value = 0)"
   ]
  },
  {
   "cell_type": "code",
   "execution_count": null,
   "id": "1b34fba0-af4f-4d0a-8f12-5c7d6b5c588d",
   "metadata": {},
   "outputs": [],
   "source": [
    "iris.pivot_table(index =['petal_length'], columns ='species', values =[\"sepal_length\", \"sepal_width\"], aggfunc = len, fill_value = 0)"
   ]
  },
  {
   "cell_type": "code",
   "execution_count": null,
   "id": "69c87a1b-f6bf-4868-a296-eeeae5842376",
   "metadata": {},
   "outputs": [],
   "source": [
    "# Apply & Map Method"
   ]
  },
  {
   "cell_type": "code",
   "execution_count": 5,
   "id": "0e7830a0-9a69-4ed3-b399-a9fa0bc8a131",
   "metadata": {},
   "outputs": [
    {
     "data": {
      "text/html": [
       "<div>\n",
       "<style scoped>\n",
       "    .dataframe tbody tr th:only-of-type {\n",
       "        vertical-align: middle;\n",
       "    }\n",
       "\n",
       "    .dataframe tbody tr th {\n",
       "        vertical-align: top;\n",
       "    }\n",
       "\n",
       "    .dataframe thead th {\n",
       "        text-align: right;\n",
       "    }\n",
       "</style>\n",
       "<table border=\"1\" class=\"dataframe\">\n",
       "  <thead>\n",
       "    <tr style=\"text-align: right;\">\n",
       "      <th></th>\n",
       "      <th>A</th>\n",
       "      <th>B</th>\n",
       "      <th>C</th>\n",
       "    </tr>\n",
       "  </thead>\n",
       "  <tbody>\n",
       "    <tr>\n",
       "      <th>Row 1</th>\n",
       "      <td>1</td>\n",
       "      <td>10</td>\n",
       "      <td>20</td>\n",
       "    </tr>\n",
       "    <tr>\n",
       "      <th>Row 2</th>\n",
       "      <td>2</td>\n",
       "      <td>20</td>\n",
       "      <td>40</td>\n",
       "    </tr>\n",
       "    <tr>\n",
       "      <th>Row 3</th>\n",
       "      <td>3</td>\n",
       "      <td>30</td>\n",
       "      <td>60</td>\n",
       "    </tr>\n",
       "    <tr>\n",
       "      <th>Row 4</th>\n",
       "      <td>4</td>\n",
       "      <td>40</td>\n",
       "      <td>80</td>\n",
       "    </tr>\n",
       "  </tbody>\n",
       "</table>\n",
       "</div>"
      ],
      "text/plain": [
       "       A   B   C\n",
       "Row 1  1  10  20\n",
       "Row 2  2  20  40\n",
       "Row 3  3  30  60\n",
       "Row 4  4  40  80"
      ]
     },
     "execution_count": 5,
     "metadata": {},
     "output_type": "execute_result"
    }
   ],
   "source": [
    "df = pd.DataFrame({ 'A': [1,2,3,4], \n",
    "                   'B': [10,20,30,40],\n",
    "                   'C': [20,40,60,80]\n",
    "                  }, \n",
    "                  index=['Row 1', 'Row 2', 'Row 3', 'Row 4'])\n",
    "df"
   ]
  },
  {
   "cell_type": "code",
   "execution_count": 6,
   "id": "a4940a8c-afe6-4299-989c-da8e6e83d980",
   "metadata": {},
   "outputs": [],
   "source": [
    "def custom_sum(row):\n",
    "    return row.sum()\n",
    "df['D'] = df.apply(custom_sum, axis=1)"
   ]
  },
  {
   "cell_type": "code",
   "execution_count": 7,
   "id": "4139048f-98c5-4c40-a5c9-5a95cf778481",
   "metadata": {},
   "outputs": [
    {
     "data": {
      "text/html": [
       "<div>\n",
       "<style scoped>\n",
       "    .dataframe tbody tr th:only-of-type {\n",
       "        vertical-align: middle;\n",
       "    }\n",
       "\n",
       "    .dataframe tbody tr th {\n",
       "        vertical-align: top;\n",
       "    }\n",
       "\n",
       "    .dataframe thead th {\n",
       "        text-align: right;\n",
       "    }\n",
       "</style>\n",
       "<table border=\"1\" class=\"dataframe\">\n",
       "  <thead>\n",
       "    <tr style=\"text-align: right;\">\n",
       "      <th></th>\n",
       "      <th>A</th>\n",
       "      <th>B</th>\n",
       "      <th>C</th>\n",
       "      <th>D</th>\n",
       "    </tr>\n",
       "  </thead>\n",
       "  <tbody>\n",
       "    <tr>\n",
       "      <th>Row 1</th>\n",
       "      <td>1</td>\n",
       "      <td>10</td>\n",
       "      <td>20</td>\n",
       "      <td>31</td>\n",
       "    </tr>\n",
       "    <tr>\n",
       "      <th>Row 2</th>\n",
       "      <td>2</td>\n",
       "      <td>20</td>\n",
       "      <td>40</td>\n",
       "      <td>62</td>\n",
       "    </tr>\n",
       "    <tr>\n",
       "      <th>Row 3</th>\n",
       "      <td>3</td>\n",
       "      <td>30</td>\n",
       "      <td>60</td>\n",
       "      <td>93</td>\n",
       "    </tr>\n",
       "    <tr>\n",
       "      <th>Row 4</th>\n",
       "      <td>4</td>\n",
       "      <td>40</td>\n",
       "      <td>80</td>\n",
       "      <td>124</td>\n",
       "    </tr>\n",
       "  </tbody>\n",
       "</table>\n",
       "</div>"
      ],
      "text/plain": [
       "       A   B   C    D\n",
       "Row 1  1  10  20   31\n",
       "Row 2  2  20  40   62\n",
       "Row 3  3  30  60   93\n",
       "Row 4  4  40  80  124"
      ]
     },
     "execution_count": 7,
     "metadata": {},
     "output_type": "execute_result"
    }
   ],
   "source": [
    "df"
   ]
  },
  {
   "cell_type": "code",
   "execution_count": 8,
   "id": "059a5fe6-5954-446e-b664-f34555309706",
   "metadata": {},
   "outputs": [
    {
     "data": {
      "text/html": [
       "<div>\n",
       "<style scoped>\n",
       "    .dataframe tbody tr th:only-of-type {\n",
       "        vertical-align: middle;\n",
       "    }\n",
       "\n",
       "    .dataframe tbody tr th {\n",
       "        vertical-align: top;\n",
       "    }\n",
       "\n",
       "    .dataframe thead th {\n",
       "        text-align: right;\n",
       "    }\n",
       "</style>\n",
       "<table border=\"1\" class=\"dataframe\">\n",
       "  <thead>\n",
       "    <tr style=\"text-align: right;\">\n",
       "      <th></th>\n",
       "      <th>A</th>\n",
       "      <th>B</th>\n",
       "      <th>C</th>\n",
       "      <th>D</th>\n",
       "    </tr>\n",
       "  </thead>\n",
       "  <tbody>\n",
       "    <tr>\n",
       "      <th>Row 1</th>\n",
       "      <td>1</td>\n",
       "      <td>10</td>\n",
       "      <td>20</td>\n",
       "      <td>31</td>\n",
       "    </tr>\n",
       "    <tr>\n",
       "      <th>Row 2</th>\n",
       "      <td>2</td>\n",
       "      <td>20</td>\n",
       "      <td>40</td>\n",
       "      <td>62</td>\n",
       "    </tr>\n",
       "    <tr>\n",
       "      <th>Row 3</th>\n",
       "      <td>3</td>\n",
       "      <td>30</td>\n",
       "      <td>60</td>\n",
       "      <td>93</td>\n",
       "    </tr>\n",
       "    <tr>\n",
       "      <th>Row 4</th>\n",
       "      <td>4</td>\n",
       "      <td>40</td>\n",
       "      <td>80</td>\n",
       "      <td>124</td>\n",
       "    </tr>\n",
       "    <tr>\n",
       "      <th>Row 5</th>\n",
       "      <td>10</td>\n",
       "      <td>100</td>\n",
       "      <td>200</td>\n",
       "      <td>310</td>\n",
       "    </tr>\n",
       "  </tbody>\n",
       "</table>\n",
       "</div>"
      ],
      "text/plain": [
       "        A    B    C    D\n",
       "Row 1   1   10   20   31\n",
       "Row 2   2   20   40   62\n",
       "Row 3   3   30   60   93\n",
       "Row 4   4   40   80  124\n",
       "Row 5  10  100  200  310"
      ]
     },
     "execution_count": 8,
     "metadata": {},
     "output_type": "execute_result"
    }
   ],
   "source": [
    "df.loc['Row 5'] = df.apply(custom_sum, axis=0)\n",
    "df"
   ]
  },
  {
   "cell_type": "code",
   "execution_count": null,
   "id": "bd134752-f5b6-4a5e-88c5-8b714e17d617",
   "metadata": {},
   "outputs": [],
   "source": [
    "def multiply_by_2(val):\n",
    "    return val * 2\n",
    "df['D'] = df['C'].apply(multiply_by_2)"
   ]
  },
  {
   "cell_type": "code",
   "execution_count": null,
   "id": "ba181050-9ab1-4a19-a960-a9e81a32cf43",
   "metadata": {},
   "outputs": [],
   "source": [
    "df"
   ]
  },
  {
   "cell_type": "code",
   "execution_count": null,
   "id": "f5fa0fc0-e4aa-4224-aea2-ed66914d4c76",
   "metadata": {},
   "outputs": [],
   "source": [
    "df['D'] = df.apply(lambda x:x.sum(), axis=1)"
   ]
  },
  {
   "cell_type": "code",
   "execution_count": null,
   "id": "72f5aa9d-cf18-4397-8509-1d536c3a11e1",
   "metadata": {},
   "outputs": [],
   "source": [
    "df.loc['Row 5'] = df.apply(lambda x:x.sum(), axis=0)"
   ]
  },
  {
   "cell_type": "code",
   "execution_count": null,
   "id": "ddf2e6c2-78ee-4624-8205-98b8c006d8d6",
   "metadata": {},
   "outputs": [],
   "source": [
    "df['D'] = df['C'].apply(lambda x:x*2)"
   ]
  },
  {
   "cell_type": "code",
   "execution_count": null,
   "id": "e2d5772e-8cbf-470e-b162-3cc4d82a8c38",
   "metadata": {},
   "outputs": [],
   "source": [
    "df.applymap(np.square)"
   ]
  },
  {
   "cell_type": "code",
   "execution_count": null,
   "id": "3de567f4-d71a-47c7-b6e7-67c9cec4ddd2",
   "metadata": {},
   "outputs": [],
   "source": [
    "s = pd.Series(['cat', 'dog', np.nan, 'rabbit'])\n",
    "s"
   ]
  },
  {
   "cell_type": "code",
   "execution_count": null,
   "id": "cb45dd89-bee1-4148-8169-2dfd9738fc68",
   "metadata": {},
   "outputs": [],
   "source": [
    "s.map({'cat': 'kitten', 'dog': 'puppy'})"
   ]
  },
  {
   "cell_type": "code",
   "execution_count": null,
   "id": "8325271b-1a76-4643-a2fd-28521e4638af",
   "metadata": {},
   "outputs": [],
   "source": [
    "s.map('I am a {}'.format)"
   ]
  },
  {
   "cell_type": "code",
   "execution_count": null,
   "id": "a951ef66-2196-45ce-8b47-9e9254bbcfae",
   "metadata": {},
   "outputs": [],
   "source": [
    "s.map('I am a {}'.format, na_action='ignore')"
   ]
  },
  {
   "cell_type": "code",
   "execution_count": null,
   "id": "c199e7c4-056a-426f-b45f-3773c08afe95",
   "metadata": {},
   "outputs": [],
   "source": [
    "#DateTime"
   ]
  },
  {
   "cell_type": "code",
   "execution_count": null,
   "id": "22f0562b-2baa-4703-94ce-25f7e391205b",
   "metadata": {},
   "outputs": [],
   "source": [
    "import datetime\n",
    "\n",
    "dti = pd.to_datetime(\n",
    "    [\"1/1/2018\", np.datetime64(\"2018-01-01\"), datetime.datetime(2018, 1, 1)]\n",
    ")\n",
    "dti"
   ]
  },
  {
   "cell_type": "code",
   "execution_count": null,
   "id": "230df5f6-e251-4c7c-88b2-4b9cc923adc6",
   "metadata": {},
   "outputs": [],
   "source": [
    "dti = pd.date_range(\"2018-01-01\", periods=3, freq=\"H\")\n",
    "\n",
    "dti"
   ]
  },
  {
   "cell_type": "code",
   "execution_count": null,
   "id": "835b083d-4c21-410f-b95d-588b1170574b",
   "metadata": {},
   "outputs": [],
   "source": [
    "dti = dti.tz_localize(\"UTC\")\n",
    "dti"
   ]
  },
  {
   "cell_type": "code",
   "execution_count": null,
   "id": "07d8a3c8-9794-4924-9a8d-d2f261004262",
   "metadata": {},
   "outputs": [],
   "source": [
    "dti.tz_convert(\"US/Pacific\")"
   ]
  },
  {
   "cell_type": "code",
   "execution_count": null,
   "id": "864168ae-8022-4553-b370-8a1c7dcb81f9",
   "metadata": {},
   "outputs": [],
   "source": []
  }
 ],
 "metadata": {
  "kernelspec": {
   "display_name": "Python 3 (ipykernel)",
   "language": "python",
   "name": "python3"
  },
  "language_info": {
   "codemirror_mode": {
    "name": "ipython",
    "version": 3
   },
   "file_extension": ".py",
   "mimetype": "text/x-python",
   "name": "python",
   "nbconvert_exporter": "python",
   "pygments_lexer": "ipython3",
   "version": "3.9.7"
  }
 },
 "nbformat": 4,
 "nbformat_minor": 5
}
