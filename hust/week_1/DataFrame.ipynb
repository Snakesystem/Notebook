{
 "cells": [
  {
   "cell_type": "markdown",
   "metadata": {},
   "source": [
    "# DataFrame"
   ]
  },
  {
   "cell_type": "code",
   "execution_count": 1,
   "metadata": {
    "collapsed": true
   },
   "outputs": [],
   "source": [
    "#import the packages \"Pandas\" and \"MatPlotLib\" into Jupyter Notebook\n",
    "import pandas as pd\n",
    "import matplotlib.pyplot as plt\n",
    "%matplotlib inline"
   ]
  },
  {
   "cell_type": "code",
   "execution_count": 2,
   "metadata": {
    "collapsed": true
   },
   "outputs": [],
   "source": [
    "#import Facebook's stock data\n",
    "fb = pd.DataFrame.from_csv('../data/facebook.csv')"
   ]
  },
  {
   "cell_type": "code",
   "execution_count": 3,
   "metadata": {},
   "outputs": [
    {
     "name": "stdout",
     "output_type": "stream",
     "text": [
      "                 Open       High        Low      Close  Adj Close   Volume\n",
      "Date                                                                      \n",
      "2014-12-31  20.400000  20.510000  19.990000  20.049999  19.459270  4157500\n",
      "2015-01-02  20.129999  20.280001  19.809999  20.129999  19.536913  2842000\n",
      "2015-01-05  20.129999  20.190001  19.700001  19.790001  19.206934  4948800\n",
      "2015-01-06  19.820000  19.840000  19.170000  19.190001  18.624611  4944100\n",
      "2015-01-07  19.330000  19.500000  19.080000  19.139999  18.576082  8045200\n"
     ]
    }
   ],
   "source": [
    "print(fb.head())"
   ]
  },
  {
   "cell_type": "code",
   "execution_count": 2,
   "metadata": {
    "collapsed": true
   },
   "outputs": [],
   "source": [
    "#It is your turn to import Microsoft's stock data - \"microsoft.csv\", which is located in the same folder of facebook.csv\n",
    "#Replace \"None\" with your code\n",
    "ms = None"
   ]
  },
  {
   "cell_type": "code",
   "execution_count": 5,
   "metadata": {
    "collapsed": true
   },
   "outputs": [],
   "source": [
    "# print head of ms, 1 line\n"
   ]
  },
  {
   "cell_type": "markdown",
   "metadata": {},
   "source": [
    "** Expected Output: **"
   ]
  },
  {
   "cell_type": "markdown",
   "metadata": {},
   "source": [
    "<tr>\n",
    "    <th>Date</th>\n",
    "    <th>Open</th>  \n",
    "    <th>High</th>\n",
    "    <th>Low</th>\n",
    "    <th>Close</th>\n",
    "    <th>Adj Close</th>\n",
    "    <th>Volume</th>\n",
    "</tr>\n",
    "<tr>\n",
    "    <td>2014-12-31</td>\n",
    "    <td>46.730000</td>  \n",
    "    <td>47.439999</td>\n",
    "    <td>46.450001</td>\n",
    "    <td>46.450001</td>\n",
    "    <td>42.848763</td>\n",
    "    <td>21552500</td>\n",
    "</tr>\n",
    "<tr>\n",
    "    <td>2015-01-02</td>\n",
    "    <td>46.660000</td>  \n",
    "    <td>47.419998</td>\n",
    "    <td>46.540001</td>\n",
    "    <td>46.759998</td>\n",
    "    <td>43.134731</td>\n",
    "    <td>27913900</td>\n",
    "</tr>\n",
    "<tr>\n",
    "    <td>2015-01-05</td>\n",
    "    <td>46.369999</td>  \n",
    "    <td>46.730000</td>\n",
    "    <td>46.250000</td>\n",
    "    <td>46.330002</td>\n",
    "    <td>42.738068</td>\n",
    "    <td>39673900</td>\n",
    "</tr>\n",
    "<tr>\n",
    "    <td>2015-01-06</td>\n",
    "    <td>46.380001</td>  \n",
    "    <td>46.750000</td>\n",
    "    <td>45.540001</td>\n",
    "    <td>45.650002</td>\n",
    "    <td>42.110783</td>\n",
    "    <td>36447900</td>\n",
    "</tr>\n",
    "<tr>\n",
    "    <td>2015-01-07</td>\n",
    "    <td>45.980000</td>  \n",
    "    <td>46.459999</td>\n",
    "    <td>45.490002</td>\n",
    "    <td>46.230000</td>\n",
    "    <td>42.645817</td>\n",
    "    <td>29114100</td>\n",
    "</tr>\n"
   ]
  },
  {
   "cell_type": "markdown",
   "metadata": {},
   "source": [
    "## Show the size of a DataFrame using \"Shape\""
   ]
  },
  {
   "cell_type": "code",
   "execution_count": 6,
   "metadata": {},
   "outputs": [
    {
     "name": "stdout",
     "output_type": "stream",
     "text": [
      "(780, 6)\n"
     ]
    }
   ],
   "source": [
    "print(fb.shape)"
   ]
  },
  {
   "cell_type": "code",
   "execution_count": 7,
   "metadata": {
    "collapsed": true
   },
   "outputs": [],
   "source": [
    "# print the shape of ms, 1 line\n"
   ]
  },
  {
   "cell_type": "markdown",
   "metadata": {},
   "source": [
    "## Show summary statistics of a DataFrame"
   ]
  },
  {
   "cell_type": "code",
   "execution_count": 8,
   "metadata": {},
   "outputs": [
    {
     "name": "stdout",
     "output_type": "stream",
     "text": [
      "             Open        High         Low       Close   Adj Close  \\\n",
      "count  780.000000  780.000000  780.000000  780.000000  780.000000   \n",
      "mean    80.212705   81.285654   79.022397   80.264897   79.914215   \n",
      "std     64.226121   65.048907   63.190963   64.198375   64.327846   \n",
      "min     19.250000   19.500000   18.940001   19.139999   18.576082   \n",
      "25%     25.525000   26.085000   24.845000   25.475000   25.134513   \n",
      "50%     53.379999   54.034999   52.930000   53.420000   53.035403   \n",
      "75%    113.322502  115.779999  110.297499  113.702501  113.261238   \n",
      "max    245.770004  249.270004  244.449997  246.850006  246.850006   \n",
      "\n",
      "             Volume  \n",
      "count  7.800000e+02  \n",
      "mean   1.204453e+07  \n",
      "std    8.221848e+06  \n",
      "min    1.311200e+06  \n",
      "25%    7.215200e+06  \n",
      "50%    9.728700e+06  \n",
      "75%    1.408885e+07  \n",
      "max    9.232320e+07  \n"
     ]
    }
   ],
   "source": [
    "# print summary statistics of Facebook\n",
    "print(fb.describe())"
   ]
  },
  {
   "cell_type": "code",
   "execution_count": 21,
   "metadata": {
    "collapsed": true
   },
   "outputs": [],
   "source": [
    "# print summary statistics of Microsoft\n"
   ]
  },
  {
   "cell_type": "markdown",
   "metadata": {},
   "source": [
    "## Locate a particular row of data using \"Selection by label\""
   ]
  },
  {
   "cell_type": "code",
   "execution_count": 10,
   "metadata": {
    "collapsed": true
   },
   "outputs": [],
   "source": [
    "# select all the price information of Facebook in 2016.\n",
    "fb_2015 = fb.loc['2015-01-01':'2015-12-31']"
   ]
  },
  {
   "cell_type": "code",
   "execution_count": 11,
   "metadata": {},
   "outputs": [
    {
     "name": "stdout",
     "output_type": "stream",
     "text": [
      "Open         2.288000e+01\n",
      "High         2.311000e+01\n",
      "Low          2.273000e+01\n",
      "Close        2.297000e+01\n",
      "Adj Close    2.237908e+01\n",
      "Volume       5.923900e+06\n",
      "Name: 2015-03-16 00:00:00, dtype: float64\n"
     ]
    }
   ],
   "source": [
    "# print the price of Facebook on '2015-03-16'\n",
    "print(fb_2015.loc['2015-03-16'])"
   ]
  },
  {
   "cell_type": "code",
   "execution_count": 12,
   "metadata": {
    "collapsed": true
   },
   "outputs": [],
   "source": [
    "# select all the price information of Microsoft in 2016.\n"
   ]
  },
  {
   "cell_type": "code",
   "execution_count": 8,
   "metadata": {},
   "outputs": [
    {
     "data": {
      "text/plain": [
       "Open         5.345000e+01\n",
       "High         5.460000e+01\n",
       "Low          5.340000e+01\n",
       "Close        5.435000e+01\n",
       "Adj Close    5.187095e+01\n",
       "Volume       3.169170e+07\n",
       "Name: 2016-03-16 00:00:00, dtype: float64"
      ]
     },
     "execution_count": 8,
     "metadata": {},
     "output_type": "execute_result"
    }
   ],
   "source": [
    "# print the price of Microsoft on '2016-03-16'\n"
   ]
  },
  {
   "cell_type": "markdown",
   "metadata": {},
   "source": [
    "** Expected Output: **"
   ]
  },
  {
   "cell_type": "markdown",
   "metadata": {},
   "source": [
    "<tr>\n",
    "    <td>Open</td>\n",
    "    <td>5.345000e+01</td>\n",
    "</tr>\n",
    "<tr>\n",
    "    <td>High</td>\n",
    "    <td>5.460000e+01</td>\n",
    "</tr>\n",
    "<tr>\n",
    "    <td>Low</td>\n",
    "    <td>5.340000e+01</td>\n",
    "</tr>\n",
    "<tr>\n",
    "    <td>Close</td>\n",
    "    <td>5.435000e+01</td>\n",
    "</tr>\n",
    "<tr>\n",
    "    <td>Adj Close</td>\n",
    "    <td>5.187095e+01</td>\n",
    "</tr>\n",
    "<tr>\n",
    "    <td>Volume</td>\n",
    "    <td>3.169170e+07</td>\n",
    "</tr>"
   ]
  },
  {
   "cell_type": "markdown",
   "metadata": {},
   "source": [
    "## Locate a particular row of data using \"Selection by position\""
   ]
  },
  {
   "cell_type": "code",
   "execution_count": 14,
   "metadata": {},
   "outputs": [
    {
     "name": "stdout",
     "output_type": "stream",
     "text": [
      "20.4\n"
     ]
    }
   ],
   "source": [
    "# print the opening price of the first row\n",
    "print(fb.iloc[0, 0])"
   ]
  },
  {
   "cell_type": "code",
   "execution_count": 15,
   "metadata": {
    "collapsed": true
   },
   "outputs": [],
   "source": [
    "# print the opening price of the last row\n"
   ]
  },
  {
   "cell_type": "markdown",
   "metadata": {},
   "source": [
    "** Expected Output: ** 90.559998"
   ]
  },
  {
   "cell_type": "markdown",
   "metadata": {},
   "source": [
    "## Plot the stock data using plot() method"
   ]
  },
  {
   "cell_type": "code",
   "execution_count": 16,
   "metadata": {},
   "outputs": [
    {
     "data": {
      "image/png": "[encoded data removed]",
      "text/plain": [
       "<matplotlib.figure.Figure at 0x7f31bfcc19e8>"
      ]
     },
     "metadata": {},
     "output_type": "display_data"
    }
   ],
   "source": [
    "plt.figure(figsize=(10, 8))\n",
    "fb['Close'].plot()\n",
    "plt.show()"
   ]
  },
  {
   "cell_type": "code",
   "execution_count": 34,
   "metadata": {},
   "outputs": [
    {
     "data": {
      "image/png": "[encoded data removed]",
      "text/plain": [
       "<matplotlib.figure.Figure at 0x7f25c55849b0>"
      ]
     },
     "metadata": {},
     "output_type": "display_data"
    }
   ],
   "source": [
    "plt.figure(figsize=(10, 8))\n",
    "# plot only the Close price of 2016 of Microsoft, 1 line \n"
   ]
  },
  {
   "cell_type": "markdown",
   "metadata": {},
   "source": [
    "** Expected Ouput: **"
   ]
  },
  {
   "cell_type": "markdown",
   "metadata": {},
   "source": [
    "<img src=\"MS2016.png\">"
   ]
  }
 ],
 "metadata": {
  "kernelspec": {
   "display_name": "Python 3",
   "language": "python",
   "name": "python3"
  },
  "language_info": {
   "codemirror_mode": {
    "name": "ipython",
    "version": 3
   },
   "file_extension": ".py",
   "mimetype": "text/x-python",
   "name": "python",
   "nbconvert_exporter": "python",
   "pygments_lexer": "ipython3",
   "version": "3.6.2"
  }
 },
 "nbformat": 4,
 "nbformat_minor": 2
}
