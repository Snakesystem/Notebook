{
 "cells": [
  {
   "cell_type": "markdown",
   "id": "23685342",
   "metadata": {},
   "source": [
    "# Machine Learning Healkathon BPJS Competition\n",
    "\n",
    "\n",
    "## Introduction\n",
    "\n",
    "Studi yang dilakukan oleh William H. Shrank, dkk dalam jurnal berjudul Waste in the US Health Care System Estimated Costs and Potential for Savings menemukan bahwa sekitar 20-25% biaya pelayanan kesehatan di Amerika merupakan pemborosan (inefisiensi).\n",
    "Jumlah tersebut cukup mengejutkan, namun bukan hal yang baru. Yang sangat mengejutkan adalah\n",
    "bahwa betapa sedikitnya yang kita ketahui untuk mencegah hal tersebut terjadi.\n",
    "\n",
    "Pada kasus kompetisi Machine Learning ini, mencari tahu bagaimana cara menentukan pelayana  kesehatan pada BPJS yang tergolong kedalam pelayanan `inefisiensi`."
   ]
  },
  {
   "cell_type": "markdown",
   "id": "a4246c98",
   "metadata": {},
   "source": [
    "## Data Preparation\n",
    "\n",
    "### Load Dataset\n",
    "Dokumentasi dataset: https://bafybeihnbhs3i3xilekqlih5beb27g6xizf6monfk34k2nch3thhyjwdla.ipfs.dweb.link/\n",
    "\n",
    "Dataset adalah dataset tentang fasilitas kegiatan dari BPJS dimana terdapat 3 file dataset yang diberikan kepada kami yaitu:\n",
    "- `Sampling_Healthkathon` merupakan data kunjungan peserta JKN ke fasilitas kesehatan rujukan tingkat lanjut\n",
    "- `Sampling_Healthkathon_Diagnosa` merupakan data yang berisi diagnosa penyakit peserta, di mana dalam satu kunjungan peserta bisa memiliki lebih dari satu diagnosa. Terdiri dari 1 (satu) diagnosa primer dan atau satu atau lebih diagnosa sekunder. Diagnosa menggunakan ICD-10: https://icd.who.int/browse10/2016/en#/\n",
    "- `Sampling_Healthkathon_Procedure` berupakan data yang berisi prosedur/tindakan medis yang didapatkan peserta JKN. Dalam setiap kunjungan, peserta bisa mendapatkan satu atau lebih prosedur/tindakan medis. Prosedur/tindakan medis menggunakan ICD9-CM: http://www.icd9data.com/2012/Volume3/default.htm"
   ]
  },
  {
   "cell_type": "code",
   "execution_count": 1,
   "id": "c8dbfe5a",
   "metadata": {},
   "outputs": [],
   "source": [
    "# Import Module pandas dan numpy\n",
    "import pandas as pd\n",
    "import numpy as np"
   ]
  },
  {
   "cell_type": "code",
   "execution_count": 2,
   "id": "47c3683a",
   "metadata": {},
   "outputs": [],
   "source": [
    "# Load dataset\n",
    "df_sampling = pd.read_csv('data/sampling_healtkathon2022/sampling_healtkathon2022.csv')\n",
    "df_diagnosa = pd.read_csv('data/sampling_healthkathon2022_diagnosa/sampling_healthkathon2022_diagnosa.csv')\n",
    "df_procedure = pd.read_csv('data/sampling_healthkathon2022_procedure/sampling_healthkathon2022_procedure.csv')"
   ]
  },
  {
   "cell_type": "code",
   "execution_count": 3,
   "id": "e106e112",
   "metadata": {},
   "outputs": [
    {
     "name": "stdout",
     "output_type": "stream",
     "text": [
      "(11401882, 22)\n",
      "(17308536, 3)\n",
      "(12202871, 2)\n"
     ]
    }
   ],
   "source": [
    "# Dimensi dari dataset\n",
    "print(df_sampling.shape)\n",
    "print(df_diagnosa.shape)\n",
    "print(df_procedure.shape)"
   ]
  },
  {
   "cell_type": "code",
   "execution_count": 4,
   "id": "e19d14cd",
   "metadata": {},
   "outputs": [
    {
     "data": {
      "text/html": [
       "<div>\n",
       "<style scoped>\n",
       "    .dataframe tbody tr th:only-of-type {\n",
       "        vertical-align: middle;\n",
       "    }\n",
       "\n",
       "    .dataframe tbody tr th {\n",
       "        vertical-align: top;\n",
       "    }\n",
       "\n",
       "    .dataframe thead th {\n",
       "        text-align: right;\n",
       "    }\n",
       "</style>\n",
       "<table border=\"1\" class=\"dataframe\">\n",
       "  <thead>\n",
       "    <tr style=\"text-align: right;\">\n",
       "      <th></th>\n",
       "      <th>id</th>\n",
       "      <th>diag</th>\n",
       "      <th>levelid</th>\n",
       "    </tr>\n",
       "  </thead>\n",
       "  <tbody>\n",
       "    <tr>\n",
       "      <th>0</th>\n",
       "      <td>6</td>\n",
       "      <td>O06.9</td>\n",
       "      <td>1</td>\n",
       "    </tr>\n",
       "    <tr>\n",
       "      <th>1</th>\n",
       "      <td>57</td>\n",
       "      <td>J02.9</td>\n",
       "      <td>1</td>\n",
       "    </tr>\n",
       "    <tr>\n",
       "      <th>2</th>\n",
       "      <td>91</td>\n",
       "      <td>R10.1</td>\n",
       "      <td>1</td>\n",
       "    </tr>\n",
       "    <tr>\n",
       "      <th>3</th>\n",
       "      <td>109</td>\n",
       "      <td>R18</td>\n",
       "      <td>1</td>\n",
       "    </tr>\n",
       "    <tr>\n",
       "      <th>4</th>\n",
       "      <td>111</td>\n",
       "      <td>N81.3</td>\n",
       "      <td>1</td>\n",
       "    </tr>\n",
       "  </tbody>\n",
       "</table>\n",
       "</div>"
      ],
      "text/plain": [
       "    id   diag  levelid\n",
       "0    6  O06.9        1\n",
       "1   57  J02.9        1\n",
       "2   91  R10.1        1\n",
       "3  109    R18        1\n",
       "4  111  N81.3        1"
      ]
     },
     "execution_count": 4,
     "metadata": {},
     "output_type": "execute_result"
    }
   ],
   "source": [
    "# Data diagnosa\n",
    "df_diagnosa.head()"
   ]
  },
  {
   "cell_type": "code",
   "execution_count": 5,
   "id": "eb321e54",
   "metadata": {},
   "outputs": [
    {
     "data": {
      "text/plain": [
       "I10       402538\n",
       "K30       392093\n",
       "Z09.8     368467\n",
       "Z37.0     332678\n",
       "D64.9     317982\n",
       "           ...  \n",
       "M01.87         1\n",
       "95.41          1\n",
       "M49.82         1\n",
       "Y17.0          1\n",
       "V80.6          1\n",
       "Name: diag, Length: 13273, dtype: int64"
      ]
     },
     "execution_count": 5,
     "metadata": {},
     "output_type": "execute_result"
    }
   ],
   "source": [
    "df_diagnosa.diag.value_counts()"
   ]
  },
  {
   "cell_type": "markdown",
   "id": "05114c13",
   "metadata": {},
   "source": [
    "Ada 13.273 jenis karakter yang berbeda, kode-kode ini adalah kode diagnosa penyakit yang sudah di tetapkan oleh penyedia data, misalnya untuk kode `K70` adalah kode untuk diagnosa dengan penyakit tergolong *liver* dan sebagainya. Untuk keterangan lebih lanjut mengenai kode diagnosa bisa di lihat di link berikut https://icd.who.int/browse10/2016/en#/"
   ]
  },
  {
   "cell_type": "code",
   "execution_count": 6,
   "id": "24a37a36",
   "metadata": {},
   "outputs": [
    {
     "data": {
      "text/html": [
       "<div>\n",
       "<style scoped>\n",
       "    .dataframe tbody tr th:only-of-type {\n",
       "        vertical-align: middle;\n",
       "    }\n",
       "\n",
       "    .dataframe tbody tr th {\n",
       "        vertical-align: top;\n",
       "    }\n",
       "\n",
       "    .dataframe thead th {\n",
       "        text-align: right;\n",
       "    }\n",
       "</style>\n",
       "<table border=\"1\" class=\"dataframe\">\n",
       "  <thead>\n",
       "    <tr style=\"text-align: right;\">\n",
       "      <th></th>\n",
       "      <th>id</th>\n",
       "      <th>proc</th>\n",
       "    </tr>\n",
       "  </thead>\n",
       "  <tbody>\n",
       "    <tr>\n",
       "      <th>0</th>\n",
       "      <td>6</td>\n",
       "      <td>90.59</td>\n",
       "    </tr>\n",
       "    <tr>\n",
       "      <th>1</th>\n",
       "      <td>6</td>\n",
       "      <td>69.01</td>\n",
       "    </tr>\n",
       "    <tr>\n",
       "      <th>2</th>\n",
       "      <td>6</td>\n",
       "      <td>88.78</td>\n",
       "    </tr>\n",
       "    <tr>\n",
       "      <th>3</th>\n",
       "      <td>27</td>\n",
       "      <td>90.59</td>\n",
       "    </tr>\n",
       "    <tr>\n",
       "      <th>4</th>\n",
       "      <td>27</td>\n",
       "      <td>88.78</td>\n",
       "    </tr>\n",
       "  </tbody>\n",
       "</table>\n",
       "</div>"
      ],
      "text/plain": [
       "   id   proc\n",
       "0   6  90.59\n",
       "1   6  69.01\n",
       "2   6  88.78\n",
       "3  27  90.59\n",
       "4  27  88.78"
      ]
     },
     "execution_count": 6,
     "metadata": {},
     "output_type": "execute_result"
    }
   ],
   "source": [
    "# Data Procedure\n",
    "df_procedure.head()"
   ]
  },
  {
   "cell_type": "code",
   "execution_count": 7,
   "id": "2d013dd1",
   "metadata": {},
   "outputs": [
    {
     "data": {
      "text/plain": [
       "90.59    1510497\n",
       "99.18     706424\n",
       "89.52     583204\n",
       "99.04     464487\n",
       "99.21     361786\n",
       "          ...   \n",
       "78.90          1\n",
       "33.52          1\n",
       "14.39          1\n",
       "37.66          1\n",
       "36.03          1\n",
       "Name: proc, Length: 3695, dtype: int64"
      ]
     },
     "execution_count": 7,
     "metadata": {},
     "output_type": "execute_result"
    }
   ],
   "source": [
    "df_procedure.proc.value_counts()"
   ]
  },
  {
   "cell_type": "markdown",
   "id": "633027d1",
   "metadata": {},
   "source": [
    "Pada kolom `proc` ini berisi kode procedure/tindakan diagnosa misalnya jika antara nilai **08-16** adalah tindakan untuk pasien dengan penyakit pada *telinga* dan sebagainya. Dokumentasi lengkapnya bisa di lihat pada link berikut : http://www.icd9data.com/2012/Volume3/default.htm"
   ]
  },
  {
   "cell_type": "markdown",
   "id": "649957e5",
   "metadata": {},
   "source": [
    "Namun kami hanya menggunakan 1 file data saja yaitu `Sampling_Healthkathon` yang merupakan data inti, alasan kami tidak menggunakan file `Sampling_Healthkathon_Diagnosa` karena data ini berupa kode dari diagnosa penyakit dan tingkat diagnosanya, menurut kami dalam kasus efisiensi pelayanan, namun lebih tepat untuk kasus kesehatan\n",
    "Sedangkan untuk file `Sampling_Healthkathon_Procedure` tidak kami gunakan krna hanya berisi kode prosedure dari tindakan medis dan memiliki banyak sekali kode yang berbeda bertype object, jadi sulit juga untuk pemodelan Machine Learning"
   ]
  },
  {
   "cell_type": "code",
   "execution_count": 8,
   "id": "fff41873",
   "metadata": {},
   "outputs": [
    {
     "data": {
      "text/html": [
       "<div>\n",
       "<style scoped>\n",
       "    .dataframe tbody tr th:only-of-type {\n",
       "        vertical-align: middle;\n",
       "    }\n",
       "\n",
       "    .dataframe tbody tr th {\n",
       "        vertical-align: top;\n",
       "    }\n",
       "\n",
       "    .dataframe thead th {\n",
       "        text-align: right;\n",
       "    }\n",
       "</style>\n",
       "<table border=\"1\" class=\"dataframe\">\n",
       "  <thead>\n",
       "    <tr style=\"text-align: right;\">\n",
       "      <th></th>\n",
       "      <th>id</th>\n",
       "      <th>id_peserta</th>\n",
       "      <th>dati2</th>\n",
       "      <th>typefaskes</th>\n",
       "      <th>usia</th>\n",
       "      <th>jenkel</th>\n",
       "      <th>pisat</th>\n",
       "      <th>tgldatang</th>\n",
       "      <th>tglpulang</th>\n",
       "      <th>jenispel</th>\n",
       "      <th>...</th>\n",
       "      <th>biaya</th>\n",
       "      <th>jenispulang</th>\n",
       "      <th>cbg</th>\n",
       "      <th>kelasrawat</th>\n",
       "      <th>kdsa</th>\n",
       "      <th>kdsp</th>\n",
       "      <th>kdsr</th>\n",
       "      <th>kdsi</th>\n",
       "      <th>kdsd</th>\n",
       "      <th>label</th>\n",
       "    </tr>\n",
       "  </thead>\n",
       "  <tbody>\n",
       "    <tr>\n",
       "      <th>0</th>\n",
       "      <td>165666</td>\n",
       "      <td>486</td>\n",
       "      <td>17</td>\n",
       "      <td>KL</td>\n",
       "      <td>48</td>\n",
       "      <td>P</td>\n",
       "      <td>1.0</td>\n",
       "      <td>2018-07-25T17:00:00.000Z</td>\n",
       "      <td>2018-07-25T17:00:00.000Z</td>\n",
       "      <td>2</td>\n",
       "      <td>...</td>\n",
       "      <td>184300.0</td>\n",
       "      <td>1.0</td>\n",
       "      <td>Q-5-42-0</td>\n",
       "      <td>3</td>\n",
       "      <td>None</td>\n",
       "      <td>None</td>\n",
       "      <td>None</td>\n",
       "      <td>None</td>\n",
       "      <td>None</td>\n",
       "      <td>0</td>\n",
       "    </tr>\n",
       "    <tr>\n",
       "      <th>1</th>\n",
       "      <td>1010828</td>\n",
       "      <td>520</td>\n",
       "      <td>17</td>\n",
       "      <td>A</td>\n",
       "      <td>63</td>\n",
       "      <td>L</td>\n",
       "      <td>1.0</td>\n",
       "      <td>2019-05-27T17:00:00.000Z</td>\n",
       "      <td>2019-05-30T17:00:00.000Z</td>\n",
       "      <td>1</td>\n",
       "      <td>...</td>\n",
       "      <td>10628400.0</td>\n",
       "      <td>1.0</td>\n",
       "      <td>D-4-13-III</td>\n",
       "      <td>1</td>\n",
       "      <td>None</td>\n",
       "      <td>None</td>\n",
       "      <td>None</td>\n",
       "      <td>None</td>\n",
       "      <td>None</td>\n",
       "      <td>0</td>\n",
       "    </tr>\n",
       "    <tr>\n",
       "      <th>2</th>\n",
       "      <td>166042</td>\n",
       "      <td>523</td>\n",
       "      <td>17</td>\n",
       "      <td>KL</td>\n",
       "      <td>53</td>\n",
       "      <td>P</td>\n",
       "      <td>1.0</td>\n",
       "      <td>2019-07-16T17:00:00.000Z</td>\n",
       "      <td>2019-07-16T17:00:00.000Z</td>\n",
       "      <td>2</td>\n",
       "      <td>...</td>\n",
       "      <td>187300.0</td>\n",
       "      <td>1.0</td>\n",
       "      <td>Q-5-44-0</td>\n",
       "      <td>3</td>\n",
       "      <td>None</td>\n",
       "      <td>None</td>\n",
       "      <td>None</td>\n",
       "      <td>None</td>\n",
       "      <td>None</td>\n",
       "      <td>0</td>\n",
       "    </tr>\n",
       "    <tr>\n",
       "      <th>3</th>\n",
       "      <td>168937</td>\n",
       "      <td>549</td>\n",
       "      <td>17</td>\n",
       "      <td>KL</td>\n",
       "      <td>54</td>\n",
       "      <td>P</td>\n",
       "      <td>1.0</td>\n",
       "      <td>2019-10-17T17:00:00.000Z</td>\n",
       "      <td>2019-10-17T17:00:00.000Z</td>\n",
       "      <td>2</td>\n",
       "      <td>...</td>\n",
       "      <td>187300.0</td>\n",
       "      <td>1.0</td>\n",
       "      <td>Q-5-44-0</td>\n",
       "      <td>3</td>\n",
       "      <td>None</td>\n",
       "      <td>None</td>\n",
       "      <td>None</td>\n",
       "      <td>None</td>\n",
       "      <td>None</td>\n",
       "      <td>0</td>\n",
       "    </tr>\n",
       "    <tr>\n",
       "      <th>4</th>\n",
       "      <td>1005899</td>\n",
       "      <td>549</td>\n",
       "      <td>17</td>\n",
       "      <td>A</td>\n",
       "      <td>53</td>\n",
       "      <td>P</td>\n",
       "      <td>1.0</td>\n",
       "      <td>2018-04-18T17:00:00.000Z</td>\n",
       "      <td>2018-04-18T17:00:00.000Z</td>\n",
       "      <td>2</td>\n",
       "      <td>...</td>\n",
       "      <td>381600.0</td>\n",
       "      <td>1.0</td>\n",
       "      <td>Q-5-44-0</td>\n",
       "      <td>3</td>\n",
       "      <td>None</td>\n",
       "      <td>None</td>\n",
       "      <td>None</td>\n",
       "      <td>None</td>\n",
       "      <td>None</td>\n",
       "      <td>0</td>\n",
       "    </tr>\n",
       "  </tbody>\n",
       "</table>\n",
       "<p>5 rows × 22 columns</p>\n",
       "</div>"
      ],
      "text/plain": [
       "        id  id_peserta  dati2 typefaskes  usia jenkel  pisat  \\\n",
       "0   165666         486     17         KL    48      P    1.0   \n",
       "1  1010828         520     17          A    63      L    1.0   \n",
       "2   166042         523     17         KL    53      P    1.0   \n",
       "3   168937         549     17         KL    54      P    1.0   \n",
       "4  1005899         549     17          A    53      P    1.0   \n",
       "\n",
       "                  tgldatang                 tglpulang  jenispel  ...  \\\n",
       "0  2018-07-25T17:00:00.000Z  2018-07-25T17:00:00.000Z         2  ...   \n",
       "1  2019-05-27T17:00:00.000Z  2019-05-30T17:00:00.000Z         1  ...   \n",
       "2  2019-07-16T17:00:00.000Z  2019-07-16T17:00:00.000Z         2  ...   \n",
       "3  2019-10-17T17:00:00.000Z  2019-10-17T17:00:00.000Z         2  ...   \n",
       "4  2018-04-18T17:00:00.000Z  2018-04-18T17:00:00.000Z         2  ...   \n",
       "\n",
       "        biaya jenispulang         cbg  kelasrawat  kdsa  kdsp  kdsr  kdsi  \\\n",
       "0    184300.0         1.0    Q-5-42-0           3  None  None  None  None   \n",
       "1  10628400.0         1.0  D-4-13-III           1  None  None  None  None   \n",
       "2    187300.0         1.0    Q-5-44-0           3  None  None  None  None   \n",
       "3    187300.0         1.0    Q-5-44-0           3  None  None  None  None   \n",
       "4    381600.0         1.0    Q-5-44-0           3  None  None  None  None   \n",
       "\n",
       "   kdsd label  \n",
       "0  None     0  \n",
       "1  None     0  \n",
       "2  None     0  \n",
       "3  None     0  \n",
       "4  None     0  \n",
       "\n",
       "[5 rows x 22 columns]"
      ]
     },
     "execution_count": 8,
     "metadata": {},
     "output_type": "execute_result"
    }
   ],
   "source": [
    "df_sampling.head()"
   ]
  },
  {
   "cell_type": "code",
   "execution_count": 9,
   "id": "4abe5baa",
   "metadata": {},
   "outputs": [
    {
     "name": "stdout",
     "output_type": "stream",
     "text": [
      "<class 'pandas.core.frame.DataFrame'>\n",
      "RangeIndex: 11401882 entries, 0 to 11401881\n",
      "Data columns (total 22 columns):\n",
      " #   Column       Dtype  \n",
      "---  ------       -----  \n",
      " 0   id           int64  \n",
      " 1   id_peserta   int64  \n",
      " 2   dati2        int64  \n",
      " 3   typefaskes   object \n",
      " 4   usia         int64  \n",
      " 5   jenkel       object \n",
      " 6   pisat        float64\n",
      " 7   tgldatang    object \n",
      " 8   tglpulang    object \n",
      " 9   jenispel     int64  \n",
      " 10  politujuan   object \n",
      " 11  diagfktp     object \n",
      " 12  biaya        float64\n",
      " 13  jenispulang  float64\n",
      " 14  cbg          object \n",
      " 15  kelasrawat   int64  \n",
      " 16  kdsa         object \n",
      " 17  kdsp         object \n",
      " 18  kdsr         object \n",
      " 19  kdsi         object \n",
      " 20  kdsd         object \n",
      " 21  label        int64  \n",
      "dtypes: float64(3), int64(7), object(12)\n",
      "memory usage: 1.9+ GB\n"
     ]
    }
   ],
   "source": [
    "# Informasi dasar dataset\n",
    "df_sampling.info()"
   ]
  },
  {
   "cell_type": "markdown",
   "id": "781d62ab",
   "metadata": {},
   "source": [
    "Data `Sampling_healkathon` terdiri dari 11401882 baris 22 kolom dimana dari kolom tersebut memiliki 3 type data floating point, 7 data integer dan 12 data object. "
   ]
  },
  {
   "cell_type": "markdown",
   "id": "d688fcd7",
   "metadata": {},
   "source": [
    "## Data Cleansing\n",
    "\n",
    "Materi konver [datetime](https://www.interviewqs.com/ddi-code-snippets/extract-month-year-pandas) pandas"
   ]
  },
  {
   "cell_type": "code",
   "execution_count": 10,
   "id": "2f52c2d1",
   "metadata": {},
   "outputs": [],
   "source": [
    "# menghilangkan warnings\n",
    "import warnings\n",
    "warnings.filterwarnings('ignore')\n",
    "\n",
    "# Merubah type object menjadi datetime\n",
    "df_sampling['tgldatang'] = pd.to_datetime(df_sampling['tgldatang'], format='%Y-%m-%d %H:%M:%S')\n",
    "df_sampling['tglpulang'] = pd.to_datetime(df_sampling['tglpulang'], format='%Y-%m-%d %H:%M:%S')"
   ]
  },
  {
   "cell_type": "markdown",
   "id": "c4c49f6c",
   "metadata": {},
   "source": [
    "Pertama kita merubah type data dari kolom `tgldatang` dan `tglpulang` menjadi format *datetime* terlebih dahulu, karena ketika melihat informasi dari data, sebelumnya kedua kolom tersebut masih berupa data object"
   ]
  },
  {
   "cell_type": "markdown",
   "id": "67487bc4",
   "metadata": {},
   "source": [
    "#### Mencari Data Hilang (missing values)"
   ]
  },
  {
   "cell_type": "code",
   "execution_count": 11,
   "id": "6ce75464",
   "metadata": {},
   "outputs": [
    {
     "name": "stdout",
     "output_type": "stream",
     "text": [
      "Index(['id', 'id_peserta', 'dati2', 'usia', 'pisat', 'jenispel', 'biaya',\n",
      "       'jenispulang', 'kelasrawat', 'label'],\n",
      "      dtype='object')\n",
      "Index(['typefaskes', 'jenkel', 'politujuan', 'diagfktp', 'cbg', 'kdsa', 'kdsp',\n",
      "       'kdsr', 'kdsi', 'kdsd'],\n",
      "      dtype='object')\n"
     ]
    }
   ],
   "source": [
    "# Memilih nama kolom berdasarkan type data\n",
    "num_cols = df_sampling.select_dtypes('number').columns\n",
    "object_cols = df_sampling.select_dtypes('object').columns\n",
    "print(num_cols)\n",
    "print(object_cols)"
   ]
  },
  {
   "cell_type": "code",
   "execution_count": 12,
   "id": "181289f3",
   "metadata": {},
   "outputs": [
    {
     "data": {
      "text/plain": [
       "id                 0\n",
       "id_peserta         0\n",
       "dati2              0\n",
       "usia               0\n",
       "pisat            190\n",
       "jenispel           0\n",
       "biaya          57815\n",
       "jenispulang       39\n",
       "kelasrawat         0\n",
       "label              0\n",
       "dtype: int64"
      ]
     },
     "execution_count": 12,
     "metadata": {},
     "output_type": "execute_result"
    }
   ],
   "source": [
    "# Check missing values numerical kolom\n",
    "df_sampling[num_cols].isna().sum()"
   ]
  },
  {
   "cell_type": "markdown",
   "id": "ad15912a",
   "metadata": {},
   "source": [
    "Kolom-kolom yang pertama kami analisis adalah kolom yang memiliki type data numeric yaitu antara *floating point dan integer*, dimana terdapat 3 kolom yang memiliki beberapa  data yang hilang.\n",
    "\n",
    "#### Handling Missing Values"
   ]
  },
  {
   "cell_type": "code",
   "execution_count": 13,
   "id": "dc6802c3",
   "metadata": {},
   "outputs": [
    {
     "data": {
      "text/plain": [
       "1.0    4874164\n",
       "4.0    3350737\n",
       "3.0    2474862\n",
       "5.0     459397\n",
       "2.0     242532\n",
       "Name: pisat, dtype: int64"
      ]
     },
     "execution_count": 13,
     "metadata": {},
     "output_type": "execute_result"
    }
   ],
   "source": [
    "# Check jenis data\n",
    "df_sampling.pisat.value_counts()"
   ]
  },
  {
   "cell_type": "code",
   "execution_count": 14,
   "id": "37b03d94",
   "metadata": {},
   "outputs": [],
   "source": [
    "# Mengisi nilai hilang\n",
    "df_sampling['pisat'] = df_sampling['pisat'].fillna(df_sampling['pisat'].mode()[0])"
   ]
  },
  {
   "cell_type": "markdown",
   "id": "ccb9ad86",
   "metadata": {},
   "source": [
    "Untuk kolom `pisat` karena merupakan jenis data *ordinal* maka kami mengisi nilai yang hilang tersebut dengan nilai yang sering muncul dari kolom tersebut."
   ]
  },
  {
   "cell_type": "code",
   "execution_count": 15,
   "id": "c2b0eaef",
   "metadata": {},
   "outputs": [
    {
     "data": {
      "text/plain": [
       "1.0    10929593\n",
       "2.0      185714\n",
       "4.0      146116\n",
       "5.0       86835\n",
       "3.0       53585\n",
       "Name: jenispulang, dtype: int64"
      ]
     },
     "execution_count": 15,
     "metadata": {},
     "output_type": "execute_result"
    }
   ],
   "source": [
    "df_sampling.jenispulang.value_counts()"
   ]
  },
  {
   "cell_type": "code",
   "execution_count": 16,
   "id": "e50877c8",
   "metadata": {},
   "outputs": [],
   "source": [
    "df_sampling['jenispulang'] = df_sampling['jenispulang'].fillna(df_sampling['jenispulang'].mode()[0])"
   ]
  },
  {
   "cell_type": "markdown",
   "id": "b9a19194",
   "metadata": {},
   "source": [
    "Kemudian untuk kolom `jenispulang` karena berupa data ordinal juga maka kita mengisinya dengan *mode* juga.\n",
    "\n",
    "Nah berbeda dengan kolom `biaya` karena berupa data *continue* dan memiliki banyak data yang hilang juga, jadi kami akan menebak nilai yang hilang tersebut dengan harga juga berdasarkan kolom lain dengan **Linear Regression**"
   ]
  },
  {
   "cell_type": "code",
   "execution_count": 17,
   "id": "08511c0f",
   "metadata": {},
   "outputs": [
    {
     "data": {
      "text/html": [
       "<div>\n",
       "<style scoped>\n",
       "    .dataframe tbody tr th:only-of-type {\n",
       "        vertical-align: middle;\n",
       "    }\n",
       "\n",
       "    .dataframe tbody tr th {\n",
       "        vertical-align: top;\n",
       "    }\n",
       "\n",
       "    .dataframe thead th {\n",
       "        text-align: right;\n",
       "    }\n",
       "</style>\n",
       "<table border=\"1\" class=\"dataframe\">\n",
       "  <thead>\n",
       "    <tr style=\"text-align: right;\">\n",
       "      <th></th>\n",
       "      <th>biaya</th>\n",
       "      <th>id</th>\n",
       "      <th>id_peserta</th>\n",
       "      <th>dati2</th>\n",
       "      <th>jenispel</th>\n",
       "      <th>kelasrawat</th>\n",
       "    </tr>\n",
       "  </thead>\n",
       "  <tbody>\n",
       "    <tr>\n",
       "      <th>biaya</th>\n",
       "      <td>1.000000</td>\n",
       "      <td>0.057408</td>\n",
       "      <td>0.055490</td>\n",
       "      <td>-0.030244</td>\n",
       "      <td>-0.447098</td>\n",
       "      <td>-0.317257</td>\n",
       "    </tr>\n",
       "    <tr>\n",
       "      <th>id</th>\n",
       "      <td>0.057408</td>\n",
       "      <td>1.000000</td>\n",
       "      <td>-0.010656</td>\n",
       "      <td>0.527575</td>\n",
       "      <td>-0.038642</td>\n",
       "      <td>-0.003628</td>\n",
       "    </tr>\n",
       "    <tr>\n",
       "      <th>id_peserta</th>\n",
       "      <td>0.055490</td>\n",
       "      <td>-0.010656</td>\n",
       "      <td>1.000000</td>\n",
       "      <td>0.036683</td>\n",
       "      <td>-0.127281</td>\n",
       "      <td>0.026998</td>\n",
       "    </tr>\n",
       "    <tr>\n",
       "      <th>dati2</th>\n",
       "      <td>-0.030244</td>\n",
       "      <td>0.527575</td>\n",
       "      <td>0.036683</td>\n",
       "      <td>1.000000</td>\n",
       "      <td>0.008881</td>\n",
       "      <td>-0.003250</td>\n",
       "    </tr>\n",
       "    <tr>\n",
       "      <th>jenispel</th>\n",
       "      <td>-0.447098</td>\n",
       "      <td>-0.038642</td>\n",
       "      <td>-0.127281</td>\n",
       "      <td>0.008881</td>\n",
       "      <td>1.000000</td>\n",
       "      <td>0.527171</td>\n",
       "    </tr>\n",
       "    <tr>\n",
       "      <th>kelasrawat</th>\n",
       "      <td>-0.317257</td>\n",
       "      <td>-0.003628</td>\n",
       "      <td>0.026998</td>\n",
       "      <td>-0.003250</td>\n",
       "      <td>0.527171</td>\n",
       "      <td>1.000000</td>\n",
       "    </tr>\n",
       "  </tbody>\n",
       "</table>\n",
       "</div>"
      ],
      "text/plain": [
       "               biaya        id  id_peserta     dati2  jenispel  kelasrawat\n",
       "biaya       1.000000  0.057408    0.055490 -0.030244 -0.447098   -0.317257\n",
       "id          0.057408  1.000000   -0.010656  0.527575 -0.038642   -0.003628\n",
       "id_peserta  0.055490 -0.010656    1.000000  0.036683 -0.127281    0.026998\n",
       "dati2      -0.030244  0.527575    0.036683  1.000000  0.008881   -0.003250\n",
       "jenispel   -0.447098 -0.038642   -0.127281  0.008881  1.000000    0.527171\n",
       "kelasrawat -0.317257 -0.003628    0.026998 -0.003250  0.527171    1.000000"
      ]
     },
     "execution_count": 17,
     "metadata": {},
     "output_type": "execute_result"
    }
   ],
   "source": [
    "selected_cols = ['biaya', 'id', 'id_peserta', 'dati2', 'jenispel', 'kelasrawat']\n",
    "df_sampling[selected_cols].corr()"
   ]
  },
  {
   "cell_type": "code",
   "execution_count": 18,
   "id": "0e5da1c1",
   "metadata": {},
   "outputs": [],
   "source": [
    "from sklearn.linear_model import LinearRegression\n",
    "# Membuat sebuah LinearRegression\n",
    "lr = LinearRegression()\n",
    "\n",
    "# Seleksi kolom-kolom yang digunakan\n",
    "selected_cols = ['biaya', 'id', 'id_peserta', 'dati2', 'jenispel', 'kelasrawat']\n",
    "\n",
    "# Bagi menjadi Missing dan Training. Missing Df berisi baris-baris dengan 'Biaya' kosong.\n",
    "missing_df = df_sampling[df_sampling['biaya'].isnull()==True][selected_cols]\n",
    "training_df = df_sampling[df_sampling['biaya'].isnull()==False][selected_cols]\n",
    "\n",
    "# Buatlah model regression dari baris-baris yang tidak memiliki missing values\n",
    "y_train = training_df['biaya']\n",
    "x_train = training_df.drop('biaya', axis = 1)\n",
    "\n",
    "lr.fit(x_train, y_train)\n",
    "\n",
    "# Prediksilah nilai 'Biaya' pada baris-baris yang memiliki missing values\n",
    "x_missing = missing_df.drop('biaya', axis = 1)\n",
    "\n",
    "prediction = lr.predict(x_missing)\n",
    "missing_df['biaya'] = prediction"
   ]
  },
  {
   "cell_type": "code",
   "execution_count": 19,
   "id": "62185857",
   "metadata": {},
   "outputs": [
    {
     "data": {
      "text/html": [
       "<div>\n",
       "<style scoped>\n",
       "    .dataframe tbody tr th:only-of-type {\n",
       "        vertical-align: middle;\n",
       "    }\n",
       "\n",
       "    .dataframe tbody tr th {\n",
       "        vertical-align: top;\n",
       "    }\n",
       "\n",
       "    .dataframe thead th {\n",
       "        text-align: right;\n",
       "    }\n",
       "</style>\n",
       "<table border=\"1\" class=\"dataframe\">\n",
       "  <thead>\n",
       "    <tr style=\"text-align: right;\">\n",
       "      <th></th>\n",
       "      <th>biaya</th>\n",
       "      <th>id</th>\n",
       "      <th>id_peserta</th>\n",
       "      <th>dati2</th>\n",
       "      <th>jenispel</th>\n",
       "      <th>kelasrawat</th>\n",
       "    </tr>\n",
       "  </thead>\n",
       "  <tbody>\n",
       "    <tr>\n",
       "      <th>0</th>\n",
       "      <td>184300.0</td>\n",
       "      <td>165666</td>\n",
       "      <td>486</td>\n",
       "      <td>17</td>\n",
       "      <td>2</td>\n",
       "      <td>3</td>\n",
       "    </tr>\n",
       "    <tr>\n",
       "      <th>1</th>\n",
       "      <td>10628400.0</td>\n",
       "      <td>1010828</td>\n",
       "      <td>520</td>\n",
       "      <td>17</td>\n",
       "      <td>1</td>\n",
       "      <td>1</td>\n",
       "    </tr>\n",
       "    <tr>\n",
       "      <th>2</th>\n",
       "      <td>187300.0</td>\n",
       "      <td>166042</td>\n",
       "      <td>523</td>\n",
       "      <td>17</td>\n",
       "      <td>2</td>\n",
       "      <td>3</td>\n",
       "    </tr>\n",
       "    <tr>\n",
       "      <th>3</th>\n",
       "      <td>187300.0</td>\n",
       "      <td>168937</td>\n",
       "      <td>549</td>\n",
       "      <td>17</td>\n",
       "      <td>2</td>\n",
       "      <td>3</td>\n",
       "    </tr>\n",
       "    <tr>\n",
       "      <th>4</th>\n",
       "      <td>381600.0</td>\n",
       "      <td>1005899</td>\n",
       "      <td>549</td>\n",
       "      <td>17</td>\n",
       "      <td>2</td>\n",
       "      <td>3</td>\n",
       "    </tr>\n",
       "    <tr>\n",
       "      <th>...</th>\n",
       "      <td>...</td>\n",
       "      <td>...</td>\n",
       "      <td>...</td>\n",
       "      <td>...</td>\n",
       "      <td>...</td>\n",
       "      <td>...</td>\n",
       "    </tr>\n",
       "    <tr>\n",
       "      <th>11401877</th>\n",
       "      <td>3645100.0</td>\n",
       "      <td>9983563</td>\n",
       "      <td>8527704</td>\n",
       "      <td>301</td>\n",
       "      <td>1</td>\n",
       "      <td>3</td>\n",
       "    </tr>\n",
       "    <tr>\n",
       "      <th>11401878</th>\n",
       "      <td>12273200.0</td>\n",
       "      <td>11053870</td>\n",
       "      <td>8527709</td>\n",
       "      <td>233</td>\n",
       "      <td>1</td>\n",
       "      <td>2</td>\n",
       "    </tr>\n",
       "    <tr>\n",
       "      <th>11401879</th>\n",
       "      <td>4099000.0</td>\n",
       "      <td>7461049</td>\n",
       "      <td>8527751</td>\n",
       "      <td>118</td>\n",
       "      <td>1</td>\n",
       "      <td>3</td>\n",
       "    </tr>\n",
       "    <tr>\n",
       "      <th>11401880</th>\n",
       "      <td>3992400.0</td>\n",
       "      <td>1075162</td>\n",
       "      <td>8527853</td>\n",
       "      <td>101</td>\n",
       "      <td>1</td>\n",
       "      <td>3</td>\n",
       "    </tr>\n",
       "    <tr>\n",
       "      <th>11401881</th>\n",
       "      <td>1624900.0</td>\n",
       "      <td>102794</td>\n",
       "      <td>8527876</td>\n",
       "      <td>12</td>\n",
       "      <td>1</td>\n",
       "      <td>3</td>\n",
       "    </tr>\n",
       "  </tbody>\n",
       "</table>\n",
       "<p>11401882 rows × 6 columns</p>\n",
       "</div>"
      ],
      "text/plain": [
       "               biaya        id  id_peserta  dati2  jenispel  kelasrawat\n",
       "0           184300.0    165666         486     17         2           3\n",
       "1         10628400.0   1010828         520     17         1           1\n",
       "2           187300.0    166042         523     17         2           3\n",
       "3           187300.0    168937         549     17         2           3\n",
       "4           381600.0   1005899         549     17         2           3\n",
       "...              ...       ...         ...    ...       ...         ...\n",
       "11401877   3645100.0   9983563     8527704    301         1           3\n",
       "11401878  12273200.0  11053870     8527709    233         1           2\n",
       "11401879   4099000.0   7461049     8527751    118         1           3\n",
       "11401880   3992400.0   1075162     8527853    101         1           3\n",
       "11401881   1624900.0    102794     8527876     12         1           3\n",
       "\n",
       "[11401882 rows x 6 columns]"
      ]
     },
     "execution_count": 19,
     "metadata": {},
     "output_type": "execute_result"
    }
   ],
   "source": [
    "### Combine all into one dataframe\n",
    "df_full = pd.concat([training_df, missing_df])\n",
    "df_full = df_full.sort_index()\n",
    "df_full"
   ]
  },
  {
   "cell_type": "code",
   "execution_count": 20,
   "id": "1de26528",
   "metadata": {},
   "outputs": [],
   "source": [
    "# Memasukan nilai prediksi biaya \n",
    "df_update = df_sampling.copy()\n",
    "df_update[selected_cols] = df_full[selected_cols]"
   ]
  },
  {
   "cell_type": "code",
   "execution_count": 21,
   "id": "33cd9ebc",
   "metadata": {},
   "outputs": [
    {
     "data": {
      "text/plain": [
       "id             0\n",
       "id_peserta     0\n",
       "dati2          0\n",
       "usia           0\n",
       "pisat          0\n",
       "jenispel       0\n",
       "biaya          0\n",
       "jenispulang    0\n",
       "kelasrawat     0\n",
       "label          0\n",
       "dtype: int64"
      ]
     },
     "execution_count": 21,
     "metadata": {},
     "output_type": "execute_result"
    }
   ],
   "source": [
    "df_update[num_cols].isna().sum()"
   ]
  },
  {
   "cell_type": "markdown",
   "id": "84c34d4e",
   "metadata": {},
   "source": [
    "Setelah kolom numeric sudah tidak memiliki nilai yang hilang, kemudian kita akan melakukan pengecekan pada kolom object"
   ]
  },
  {
   "cell_type": "code",
   "execution_count": 22,
   "id": "b98353ae",
   "metadata": {},
   "outputs": [
    {
     "data": {
      "text/plain": [
       "typefaskes          0\n",
       "jenkel             49\n",
       "politujuan    4041455\n",
       "diagfktp         2530\n",
       "cbg                 0\n",
       "kdsa           198670\n",
       "kdsp           197007\n",
       "kdsr           198459\n",
       "kdsi           198463\n",
       "kdsd           195181\n",
       "dtype: int64"
      ]
     },
     "execution_count": 22,
     "metadata": {},
     "output_type": "execute_result"
    }
   ],
   "source": [
    "df_update[object_cols].isna().sum()"
   ]
  },
  {
   "cell_type": "markdown",
   "id": "ab5afb08",
   "metadata": {},
   "source": [
    "Berbeda dengan kolom numeric, ternyata kolom object terdapat banyak nilai yang hilang, bahkan hanya ada 2 kolom saja yang memiliki data utuh"
   ]
  },
  {
   "cell_type": "code",
   "execution_count": 23,
   "id": "c62381f0",
   "metadata": {},
   "outputs": [],
   "source": [
    "# Function check presentase data hilang\n",
    "def hilang(data):\n",
    "    miss = data.isna().mean()*100\n",
    "    print('Missing: {:.2f}%'.format(miss))"
   ]
  },
  {
   "cell_type": "code",
   "execution_count": 24,
   "id": "e15ac746",
   "metadata": {},
   "outputs": [
    {
     "name": "stdout",
     "output_type": "stream",
     "text": [
      "Missing: 35.45%\n"
     ]
    }
   ],
   "source": [
    "hilang(df_update.politujuan)"
   ]
  },
  {
   "cell_type": "code",
   "execution_count": 25,
   "id": "fefa28e4",
   "metadata": {},
   "outputs": [
    {
     "name": "stdout",
     "output_type": "stream",
     "text": [
      "Missing: 1.74%\n"
     ]
    }
   ],
   "source": [
    "hilang(df_update.kdsa)"
   ]
  },
  {
   "cell_type": "code",
   "execution_count": 26,
   "id": "cf362435",
   "metadata": {},
   "outputs": [
    {
     "data": {
      "text/plain": [
       "array(['None', nan, 'SF-4-10-III', 'SF-4-10-I', 'SF-4-13-III',\n",
       "       'SF-4-10-II', 'SF-4-10-IV', 'SF-4-15-IV', 'SF-4-13-II',\n",
       "       'SF-4-16-IV', 'SF-4-10-X', 'SF-4-16-III', 'SF-4-16-II',\n",
       "       'SF-4-13-IV', 'SF-4-15-II', 'SF-4-11-IV', 'SF-4-13-X', 'SF-4-16-I',\n",
       "       'SF-4-15-III', 'SF-4-13-I', 'SF-4-15-I', 'SF-4-16-X', 'SF-4-11-I',\n",
       "       'ST-4-11-II', 'SA-4-14-X', 'SF-4-11-II', 'SF-4-19-I', 'SF-4-12-II',\n",
       "       'SF-4-11-III', 'SF-4-19-IV', 'SA-4-14-II', 'SF-4-19-II',\n",
       "       'SF-4-19-III', 'SA-4-14-I', 'ST-1-10-III', 'SF-4-18-I',\n",
       "       'SF-4-15-X'], dtype=object)"
      ]
     },
     "execution_count": 26,
     "metadata": {},
     "output_type": "execute_result"
    }
   ],
   "source": [
    "df_update.kdsa.unique()"
   ]
  },
  {
   "cell_type": "code",
   "execution_count": 27,
   "id": "7f8dbb5b",
   "metadata": {},
   "outputs": [
    {
     "data": {
      "text/plain": [
       "array(['None', nan, 'YY-10-III', 'YY-09-III', 'YY-01-II', 'YY-02-III',\n",
       "       'YY-05-III', 'YY-08-III', 'YY-06-III', 'YY-07-III', 'YY-11-III',\n",
       "       'YY-03-III', 'YY-04-III', 'YY-12-III'], dtype=object)"
      ]
     },
     "execution_count": 27,
     "metadata": {},
     "output_type": "execute_result"
    }
   ],
   "source": [
    "df_update.kdsp.unique()"
   ]
  },
  {
   "cell_type": "code",
   "execution_count": 28,
   "id": "529237de",
   "metadata": {},
   "outputs": [
    {
     "data": {
      "text/plain": [
       "array(['None', nan, 'RR-04-III', 'RR-02-II', 'RR-01-II', 'RR-05-III',\n",
       "       'RR-03-III'], dtype=object)"
      ]
     },
     "execution_count": 28,
     "metadata": {},
     "output_type": "execute_result"
    }
   ],
   "source": [
    "df_update.kdsr.unique()"
   ]
  },
  {
   "cell_type": "code",
   "execution_count": 29,
   "id": "0b8ef1d3",
   "metadata": {},
   "outputs": [
    {
     "data": {
      "text/plain": [
       "array(['None', 'II-02-III', nan, 'II-01-III', 'II-03-III'], dtype=object)"
      ]
     },
     "execution_count": 29,
     "metadata": {},
     "output_type": "execute_result"
    }
   ],
   "source": [
    "df_update.kdsi.unique()"
   ]
  },
  {
   "cell_type": "code",
   "execution_count": 30,
   "id": "13ea8f4c",
   "metadata": {},
   "outputs": [
    {
     "data": {
      "text/plain": [
       "array(['None', nan, 'DD-01-I', 'DD-05-II', 'DD-07-II', 'DD-06-II',\n",
       "       'DD-04-II', 'DD-09-II', 'DD-10-II', 'DD-02-II', 'DD-03-II',\n",
       "       'DD-08-II', 'DD-11-II'], dtype=object)"
      ]
     },
     "execution_count": 30,
     "metadata": {},
     "output_type": "execute_result"
    }
   ],
   "source": [
    "df_update.kdsd.unique()"
   ]
  },
  {
   "cell_type": "code",
   "execution_count": 31,
   "id": "e234e5a0",
   "metadata": {},
   "outputs": [
    {
     "data": {
      "text/plain": [
       "array(['L02.8', 'R23.1', 'E10.5', ..., 'm77.0', 'S45.8', 'E73.1'],\n",
       "      dtype=object)"
      ]
     },
     "execution_count": 31,
     "metadata": {},
     "output_type": "execute_result"
    }
   ],
   "source": [
    "df_update.diagfktp.unique()"
   ]
  },
  {
   "cell_type": "code",
   "execution_count": 32,
   "id": "cd708a7e",
   "metadata": {},
   "outputs": [],
   "source": [
    "# Pilih nama kolom\n",
    "hapus = ['diagfktp', 'politujuan']\n",
    "\n",
    "# Hapus kolom\n",
    "df_update.drop(hapus, axis=1, inplace=True)"
   ]
  },
  {
   "cell_type": "markdown",
   "id": "e41b4a75",
   "metadata": {},
   "source": [
    "Alasan kami menghapus kelima kolom tersebut, karena kolom tersebut memiliki banyak value data yang berbeda, ini akan sulit untuk melakukan **Feature Engineering** karena jika menggunakan *LabelEndcode* pada kolom tersebut maka bisa jadi Model Machine Learning akan mengira bukan data ordinal namun berupa data continue yang memiliki nilai lebih dan kurang.\n",
    "\n",
    "Untuk kolom `politujuan` karena memiliki lebih dari 35% data yang hilangmaka dari itu kami putuskan untuk menghapusnya saja"
   ]
  },
  {
   "cell_type": "code",
   "execution_count": 33,
   "id": "abcfda7f",
   "metadata": {},
   "outputs": [
    {
     "data": {
      "text/plain": [
       "<AxesSubplot:>"
      ]
     },
     "execution_count": 33,
     "metadata": {},
     "output_type": "execute_result"
    },
    {
     "data": {
      "image/png": "[encoded data removed]",
      "text/plain": [
       "<Figure size 432x288 with 1 Axes>"
      ]
     },
     "metadata": {
      "needs_background": "light"
     },
     "output_type": "display_data"
    }
   ],
   "source": [
    "df_update['jenkel'].hist()"
   ]
  },
  {
   "cell_type": "code",
   "execution_count": 34,
   "id": "9dce717f",
   "metadata": {},
   "outputs": [],
   "source": [
    "# Mengisi data hilang dengan mode\n",
    "df_update['jenkel'] = df_update['jenkel'].fillna('P')"
   ]
  },
  {
   "cell_type": "markdown",
   "id": "d9f502e4",
   "metadata": {},
   "source": [
    "Mengisikan data hilang pada kolom `jenkel` dengan nilai mode berupa *P* memang akan menjadikan nilai tersebut lebih dominan, namun dirumah sakit manapun kebutuhan pelayanan kesehatan memang cenderung banyak pengunjung yang berjenis kelamin wanita, karena wanita memiliki kepentingan seperti melahirkan, posyandu, check up kehamilan dan sebagainya."
   ]
  },
  {
   "cell_type": "code",
   "execution_count": 35,
   "id": "3b65e664",
   "metadata": {},
   "outputs": [
    {
     "data": {
      "text/plain": [
       "Index(['id', 'id_peserta', 'dati2', 'typefaskes', 'usia', 'jenkel', 'pisat',\n",
       "       'tgldatang', 'tglpulang', 'jenispel', 'biaya', 'jenispulang', 'cbg',\n",
       "       'kelasrawat', 'kdsa', 'kdsp', 'kdsr', 'kdsi', 'kdsd', 'label'],\n",
       "      dtype='object')"
      ]
     },
     "execution_count": 35,
     "metadata": {},
     "output_type": "execute_result"
    }
   ],
   "source": [
    "df_update.columns"
   ]
  },
  {
   "cell_type": "code",
   "execution_count": 36,
   "id": "f7dd824f",
   "metadata": {},
   "outputs": [],
   "source": [
    "df_update['kdsr'] = df_update['kdsr'].fillna(method='pad')\n",
    "df_update['kdsi'] = df_update['kdsi'].fillna(method='pad')\n",
    "df_update['kdsp'] = df_update['kdsp'].fillna(method='pad')\n",
    "df_update['kdsd'] = df_update['kdsd'].fillna(method='pad')\n",
    "df_update['kdsa'] = df_update['kdsa'].fillna(method='pad')"
   ]
  },
  {
   "cell_type": "markdown",
   "id": "3cf3b02e",
   "metadata": {},
   "source": [
    "Untuk kolom `kdsr, kdsi, kdsp, kdsd` kami mengisinya dengan nilai sebelum atau sesudahnya karena data ini berupa kode khusus jadi tidak mengkin mengisinya dengan mode juga."
   ]
  },
  {
   "cell_type": "code",
   "execution_count": 38,
   "id": "fdafe995",
   "metadata": {},
   "outputs": [
    {
     "data": {
      "text/plain": [
       "typefaskes    0\n",
       "jenkel        0\n",
       "cbg           0\n",
       "kdsa          0\n",
       "kdsp          0\n",
       "kdsr          0\n",
       "kdsi          0\n",
       "kdsd          0\n",
       "dtype: int64"
      ]
     },
     "execution_count": 38,
     "metadata": {},
     "output_type": "execute_result"
    }
   ],
   "source": [
    "object_cols = df_update.select_dtypes('object').columns\n",
    "\n",
    "df_update[object_cols].isna().sum()"
   ]
  },
  {
   "cell_type": "markdown",
   "id": "03c1b363",
   "metadata": {},
   "source": [
    "Setelah tidak ada lagi missing value maka kita akan melakukan visualisasi data untuk melihat gambaran dari data object ini"
   ]
  },
  {
   "cell_type": "code",
   "execution_count": 39,
   "id": "eb0706d0",
   "metadata": {},
   "outputs": [],
   "source": [
    "import matplotlib.pyplot as plt\n",
    "import seaborn as sns\n",
    "\n",
    "%matplotlib inline"
   ]
  },
  {
   "cell_type": "code",
   "execution_count": 40,
   "id": "959b31a7",
   "metadata": {},
   "outputs": [],
   "source": [
    "def plot_all_hist(df, columns):\n",
    "    for col in columns:\n",
    "        plt.figure(figsize=(10,6))\n",
    "        sns.countplot(x=col, data=df)\n",
    "        plt.xlabel(col.capitalize())\n",
    "        plt.xticks(rotation='90')\n",
    "        plt.tight_layout()\n",
    "        plt.show()"
   ]
  },
  {
   "cell_type": "code",
   "execution_count": 41,
   "id": "450b1040",
   "metadata": {},
   "outputs": [
    {
     "data": {
      "image/png": "[encoded data removed]",
      "text/plain": [
       "<Figure size 720x432 with 1 Axes>"
      ]
     },
     "metadata": {
      "needs_background": "light"
     },
     "output_type": "display_data"
    },
    {
     "data": {
      "image/png": "[encoded data removed]",
      "text/plain": [
       "<Figure size 720x432 with 1 Axes>"
      ]
     },
     "metadata": {
      "needs_background": "light"
     },
     "output_type": "display_data"
    },
    {
     "data": {
      "image/png": "[encoded data removed]",
      "text/plain": [
       "<Figure size 720x432 with 1 Axes>"
      ]
     },
     "metadata": {
      "needs_background": "light"
     },
     "output_type": "display_data"
    },
    {
     "data": {
      "image/png": "[encoded data removed]",
      "text/plain": [
       "<Figure size 720x432 with 1 Axes>"
      ]
     },
     "metadata": {
      "needs_background": "light"
     },
     "output_type": "display_data"
    },
    {
     "data": {
      "image/png": "[encoded data removed]",
      "text/plain": [
       "<Figure size 720x432 with 1 Axes>"
      ]
     },
     "metadata": {
      "needs_background": "light"
     },
     "output_type": "display_data"
    },
    {
     "data": {
      "image/png": "[encoded data removed]",
      "text/plain": [
       "<Figure size 720x432 with 1 Axes>"
      ]
     },
     "metadata": {
      "needs_background": "light"
     },
     "output_type": "display_data"
    },
    {
     "data": {
      "image/png": "[encoded data removed]",
      "text/plain": [
       "<Figure size 720x432 with 1 Axes>"
      ]
     },
     "metadata": {
      "needs_background": "light"
     },
     "output_type": "display_data"
    },
    {
     "data": {
      "image/png": "[encoded data removed]",
      "text/plain": [
       "<Figure size 720x432 with 1 Axes>"
      ]
     },
     "metadata": {
      "needs_background": "light"
     },
     "output_type": "display_data"
    }
   ],
   "source": [
    "plot_all_hist(df_update, object_cols)"
   ]
  },
  {
   "cell_type": "code",
   "execution_count": 42,
   "id": "ec5d8408",
   "metadata": {},
   "outputs": [
    {
     "data": {
      "text/plain": [
       "Q-5-44-0      2678848\n",
       "Q-5-42-0      1012559\n",
       "F-5-14-0       289409\n",
       "P-8-17-I       248339\n",
       "U-3-15-0       219126\n",
       "               ...   \n",
       "L-2-21-0            1\n",
       "I-2-42-0            1\n",
       "M-1-05-III          1\n",
       "J-4-10-II           1\n",
       "J-2-31-0            1\n",
       "Name: cbg, Length: 1034, dtype: int64"
      ]
     },
     "execution_count": 42,
     "metadata": {},
     "output_type": "execute_result"
    }
   ],
   "source": [
    "df_update.cbg.value_counts()"
   ]
  },
  {
   "cell_type": "markdown",
   "id": "1bf6b45b",
   "metadata": {},
   "source": [
    "Wajar saja jika kolom `kdsr dan kdsi` memiliki nilai None dengan jumlah yang begitu banyak, karena kode tersebut merupakan kode spesial dari para kunjungan oleh karena itu sangat jarang sekali yang menggunaknnya.\n",
    "\n",
    "Nah untuk kolom `cbg` saya baru mengetahuinya ternyata kolom ini juga merupakan data dengan kombinasi angka dan huruf(code) maka dari itu kami juga tidak akan menggunakan kolom ini."
   ]
  },
  {
   "cell_type": "code",
   "execution_count": 43,
   "id": "89202ed5",
   "metadata": {},
   "outputs": [],
   "source": [
    "# Drop kolom cbg\n",
    "df_update.drop('cbg', axis=1, inplace=True)"
   ]
  },
  {
   "cell_type": "code",
   "execution_count": 44,
   "id": "f2e89ac5",
   "metadata": {
    "scrolled": true
   },
   "outputs": [
    {
     "data": {
      "text/html": [
       "<div>\n",
       "<style scoped>\n",
       "    .dataframe tbody tr th:only-of-type {\n",
       "        vertical-align: middle;\n",
       "    }\n",
       "\n",
       "    .dataframe tbody tr th {\n",
       "        vertical-align: top;\n",
       "    }\n",
       "\n",
       "    .dataframe thead th {\n",
       "        text-align: right;\n",
       "    }\n",
       "</style>\n",
       "<table border=\"1\" class=\"dataframe\">\n",
       "  <thead>\n",
       "    <tr style=\"text-align: right;\">\n",
       "      <th></th>\n",
       "      <th>id</th>\n",
       "      <th>id_peserta</th>\n",
       "      <th>dati2</th>\n",
       "      <th>typefaskes</th>\n",
       "      <th>usia</th>\n",
       "      <th>jenkel</th>\n",
       "      <th>pisat</th>\n",
       "      <th>tgldatang</th>\n",
       "      <th>tglpulang</th>\n",
       "      <th>jenispel</th>\n",
       "      <th>biaya</th>\n",
       "      <th>jenispulang</th>\n",
       "      <th>kelasrawat</th>\n",
       "      <th>kdsa</th>\n",
       "      <th>kdsp</th>\n",
       "      <th>kdsr</th>\n",
       "      <th>kdsi</th>\n",
       "      <th>kdsd</th>\n",
       "      <th>label</th>\n",
       "    </tr>\n",
       "  </thead>\n",
       "  <tbody>\n",
       "    <tr>\n",
       "      <th>0</th>\n",
       "      <td>165666</td>\n",
       "      <td>486</td>\n",
       "      <td>17</td>\n",
       "      <td>KL</td>\n",
       "      <td>48</td>\n",
       "      <td>P</td>\n",
       "      <td>1.0</td>\n",
       "      <td>2018-07-25 17:00:00+00:00</td>\n",
       "      <td>2018-07-25 17:00:00+00:00</td>\n",
       "      <td>2</td>\n",
       "      <td>184300.0</td>\n",
       "      <td>1.0</td>\n",
       "      <td>3</td>\n",
       "      <td>None</td>\n",
       "      <td>None</td>\n",
       "      <td>None</td>\n",
       "      <td>None</td>\n",
       "      <td>None</td>\n",
       "      <td>0</td>\n",
       "    </tr>\n",
       "    <tr>\n",
       "      <th>1</th>\n",
       "      <td>1010828</td>\n",
       "      <td>520</td>\n",
       "      <td>17</td>\n",
       "      <td>A</td>\n",
       "      <td>63</td>\n",
       "      <td>L</td>\n",
       "      <td>1.0</td>\n",
       "      <td>2019-05-27 17:00:00+00:00</td>\n",
       "      <td>2019-05-30 17:00:00+00:00</td>\n",
       "      <td>1</td>\n",
       "      <td>10628400.0</td>\n",
       "      <td>1.0</td>\n",
       "      <td>1</td>\n",
       "      <td>None</td>\n",
       "      <td>None</td>\n",
       "      <td>None</td>\n",
       "      <td>None</td>\n",
       "      <td>None</td>\n",
       "      <td>0</td>\n",
       "    </tr>\n",
       "    <tr>\n",
       "      <th>2</th>\n",
       "      <td>166042</td>\n",
       "      <td>523</td>\n",
       "      <td>17</td>\n",
       "      <td>KL</td>\n",
       "      <td>53</td>\n",
       "      <td>P</td>\n",
       "      <td>1.0</td>\n",
       "      <td>2019-07-16 17:00:00+00:00</td>\n",
       "      <td>2019-07-16 17:00:00+00:00</td>\n",
       "      <td>2</td>\n",
       "      <td>187300.0</td>\n",
       "      <td>1.0</td>\n",
       "      <td>3</td>\n",
       "      <td>None</td>\n",
       "      <td>None</td>\n",
       "      <td>None</td>\n",
       "      <td>None</td>\n",
       "      <td>None</td>\n",
       "      <td>0</td>\n",
       "    </tr>\n",
       "    <tr>\n",
       "      <th>3</th>\n",
       "      <td>168937</td>\n",
       "      <td>549</td>\n",
       "      <td>17</td>\n",
       "      <td>KL</td>\n",
       "      <td>54</td>\n",
       "      <td>P</td>\n",
       "      <td>1.0</td>\n",
       "      <td>2019-10-17 17:00:00+00:00</td>\n",
       "      <td>2019-10-17 17:00:00+00:00</td>\n",
       "      <td>2</td>\n",
       "      <td>187300.0</td>\n",
       "      <td>1.0</td>\n",
       "      <td>3</td>\n",
       "      <td>None</td>\n",
       "      <td>None</td>\n",
       "      <td>None</td>\n",
       "      <td>None</td>\n",
       "      <td>None</td>\n",
       "      <td>0</td>\n",
       "    </tr>\n",
       "    <tr>\n",
       "      <th>4</th>\n",
       "      <td>1005899</td>\n",
       "      <td>549</td>\n",
       "      <td>17</td>\n",
       "      <td>A</td>\n",
       "      <td>53</td>\n",
       "      <td>P</td>\n",
       "      <td>1.0</td>\n",
       "      <td>2018-04-18 17:00:00+00:00</td>\n",
       "      <td>2018-04-18 17:00:00+00:00</td>\n",
       "      <td>2</td>\n",
       "      <td>381600.0</td>\n",
       "      <td>1.0</td>\n",
       "      <td>3</td>\n",
       "      <td>None</td>\n",
       "      <td>None</td>\n",
       "      <td>None</td>\n",
       "      <td>None</td>\n",
       "      <td>None</td>\n",
       "      <td>0</td>\n",
       "    </tr>\n",
       "  </tbody>\n",
       "</table>\n",
       "</div>"
      ],
      "text/plain": [
       "        id  id_peserta  dati2 typefaskes  usia jenkel  pisat  \\\n",
       "0   165666         486     17         KL    48      P    1.0   \n",
       "1  1010828         520     17          A    63      L    1.0   \n",
       "2   166042         523     17         KL    53      P    1.0   \n",
       "3   168937         549     17         KL    54      P    1.0   \n",
       "4  1005899         549     17          A    53      P    1.0   \n",
       "\n",
       "                  tgldatang                 tglpulang  jenispel       biaya  \\\n",
       "0 2018-07-25 17:00:00+00:00 2018-07-25 17:00:00+00:00         2    184300.0   \n",
       "1 2019-05-27 17:00:00+00:00 2019-05-30 17:00:00+00:00         1  10628400.0   \n",
       "2 2019-07-16 17:00:00+00:00 2019-07-16 17:00:00+00:00         2    187300.0   \n",
       "3 2019-10-17 17:00:00+00:00 2019-10-17 17:00:00+00:00         2    187300.0   \n",
       "4 2018-04-18 17:00:00+00:00 2018-04-18 17:00:00+00:00         2    381600.0   \n",
       "\n",
       "   jenispulang  kelasrawat  kdsa  kdsp  kdsr  kdsi  kdsd  label  \n",
       "0          1.0           3  None  None  None  None  None      0  \n",
       "1          1.0           1  None  None  None  None  None      0  \n",
       "2          1.0           3  None  None  None  None  None      0  \n",
       "3          1.0           3  None  None  None  None  None      0  \n",
       "4          1.0           3  None  None  None  None  None      0  "
      ]
     },
     "execution_count": 44,
     "metadata": {},
     "output_type": "execute_result"
    }
   ],
   "source": [
    "df_update.head()"
   ]
  },
  {
   "cell_type": "markdown",
   "id": "223cfe34",
   "metadata": {},
   "source": [
    "## Exploratory Data Analysis"
   ]
  },
  {
   "cell_type": "code",
   "execution_count": 45,
   "id": "bbc5e889",
   "metadata": {},
   "outputs": [],
   "source": [
    "import seaborn as sns"
   ]
  },
  {
   "cell_type": "code",
   "execution_count": 46,
   "id": "d1579d71",
   "metadata": {},
   "outputs": [],
   "source": [
    "def plot_num_histogram(columns):\n",
    "    for col in columns:\n",
    "        plt.figure(figsize=(10,6))\n",
    "        sns.histplot(df_update[col], bins=20)\n",
    "        plt.show()"
   ]
  },
  {
   "cell_type": "code",
   "execution_count": 47,
   "id": "f3f7d90b",
   "metadata": {},
   "outputs": [
    {
     "data": {
      "image/png": "[encoded data removed]",
      "text/plain": [
       "<Figure size 720x432 with 1 Axes>"
      ]
     },
     "metadata": {
      "needs_background": "light"
     },
     "output_type": "display_data"
    },
    {
     "data": {
      "image/png": "[encoded data removed]",
      "text/plain": [
       "<Figure size 720x432 with 1 Axes>"
      ]
     },
     "metadata": {
      "needs_background": "light"
     },
     "output_type": "display_data"
    },
    {
     "data": {
      "image/png": "[encoded data removed]",
      "text/plain": [
       "<Figure size 720x432 with 1 Axes>"
      ]
     },
     "metadata": {
      "needs_background": "light"
     },
     "output_type": "display_data"
    },
    {
     "data": {
      "image/png": "[encoded data removed]",
      "text/plain": [
       "<Figure size 720x432 with 1 Axes>"
      ]
     },
     "metadata": {
      "needs_background": "light"
     },
     "output_type": "display_data"
    },
    {
     "data": {
      "image/png": "[encoded data removed]",
      "text/plain": [
       "<Figure size 720x432 with 1 Axes>"
      ]
     },
     "metadata": {
      "needs_background": "light"
     },
     "output_type": "display_data"
    },
    {
     "data": {
      "image/png": "[encoded data removed]",
      "text/plain": [
       "<Figure size 720x432 with 1 Axes>"
      ]
     },
     "metadata": {
      "needs_background": "light"
     },
     "output_type": "display_data"
    },
    {
     "data": {
      "image/png": "[encoded data removed]",
      "text/plain": [
       "<Figure size 720x432 with 1 Axes>"
      ]
     },
     "metadata": {
      "needs_background": "light"
     },
     "output_type": "display_data"
    },
    {
     "data": {
      "image/png": "[encoded data removed]",
      "text/plain": [
       "<Figure size 720x432 with 1 Axes>"
      ]
     },
     "metadata": {
      "needs_background": "light"
     },
     "output_type": "display_data"
    },
    {
     "data": {
      "image/png": "[encoded data removed]",
      "text/plain": [
       "<Figure size 720x432 with 1 Axes>"
      ]
     },
     "metadata": {
      "needs_background": "light"
     },
     "output_type": "display_data"
    },
    {
     "data": {
      "image/png": "[encoded data removed]",
      "text/plain": [
       "<Figure size 720x432 with 1 Axes>"
      ]
     },
     "metadata": {
      "needs_background": "light"
     },
     "output_type": "display_data"
    }
   ],
   "source": [
    "plot_num_histogram(num_cols)"
   ]
  },
  {
   "cell_type": "markdown",
   "id": "a57a80ae",
   "metadata": {},
   "source": [
    "Dari hasil visualisasi ditemukan bahwa usia yang melakukan kunjungan pada BPJS paling banyak berasal dari kalangan *Balita*\n",
    "\n",
    "Selain itu untuk jenispulang, sangat dominan sekali pada kenis 1 sedangkan 2,3,4,5 seperti tidak memiliki banyak perbedaan\n",
    "\n",
    "Kemudian untuk kelasrawat ternyata mayoritas kunjungan lebih memiliki kelas 3 sebagai kamar kelas rawat mereka"
   ]
  },
  {
   "cell_type": "code",
   "execution_count": 48,
   "id": "92419a17",
   "metadata": {},
   "outputs": [
    {
     "data": {
      "text/html": [
       "<div>\n",
       "<style scoped>\n",
       "    .dataframe tbody tr th:only-of-type {\n",
       "        vertical-align: middle;\n",
       "    }\n",
       "\n",
       "    .dataframe tbody tr th {\n",
       "        vertical-align: top;\n",
       "    }\n",
       "\n",
       "    .dataframe thead tr th {\n",
       "        text-align: left;\n",
       "    }\n",
       "\n",
       "    .dataframe thead tr:last-of-type th {\n",
       "        text-align: right;\n",
       "    }\n",
       "</style>\n",
       "<table border=\"1\" class=\"dataframe\">\n",
       "  <thead>\n",
       "    <tr>\n",
       "      <th></th>\n",
       "      <th colspan=\"3\" halign=\"left\">biaya</th>\n",
       "    </tr>\n",
       "    <tr>\n",
       "      <th></th>\n",
       "      <th>sum</th>\n",
       "      <th>max</th>\n",
       "      <th>mean</th>\n",
       "    </tr>\n",
       "    <tr>\n",
       "      <th>jenkel</th>\n",
       "      <th></th>\n",
       "      <th></th>\n",
       "      <th></th>\n",
       "    </tr>\n",
       "  </thead>\n",
       "  <tbody>\n",
       "    <tr>\n",
       "      <th>L</th>\n",
       "      <td>1.193248e+13</td>\n",
       "      <td>401696600.0</td>\n",
       "      <td>2.277122e+06</td>\n",
       "    </tr>\n",
       "    <tr>\n",
       "      <th>P</th>\n",
       "      <td>1.253527e+13</td>\n",
       "      <td>400505800.0</td>\n",
       "      <td>2.034377e+06</td>\n",
       "    </tr>\n",
       "  </tbody>\n",
       "</table>\n",
       "</div>"
      ],
      "text/plain": [
       "               biaya                           \n",
       "                 sum          max          mean\n",
       "jenkel                                         \n",
       "L       1.193248e+13  401696600.0  2.277122e+06\n",
       "P       1.253527e+13  400505800.0  2.034377e+06"
      ]
     },
     "execution_count": 48,
     "metadata": {},
     "output_type": "execute_result"
    }
   ],
   "source": [
    "# Jenis kelamin dan biaya\n",
    "df_update.groupby(\"jenkel\").agg({\"biaya\": [\"sum\", \"max\", \"mean\"]})"
   ]
  },
  {
   "cell_type": "markdown",
   "id": "53ab4914",
   "metadata": {},
   "source": [
    "Terlihat antara kunjungan laki-laki dan perempuan memang total biaya lebih banyak pada perempuan, karena mengingat lebih banyak pengunjung perempuan. \n",
    "\n",
    "Untuk biaya yang di keluarkan paling besar sepertinya imbang, namun rata-rata dari biaya keduanya terlihatlebih tinggi dari laki-laki, ini bisa saja terjadi karena laki-laki pasti memiliki kasus yang berbeda beda dalam diagnosa penyakitnya sehingga memicu perbedaan biaya yang jauh tergantung pelayanan yang di lakukan dan mengakibatkan nilai rata-ratanya."
   ]
  },
  {
   "cell_type": "code",
   "execution_count": 49,
   "id": "1e958897",
   "metadata": {},
   "outputs": [
    {
     "data": {
      "text/html": [
       "<div>\n",
       "<style scoped>\n",
       "    .dataframe tbody tr th:only-of-type {\n",
       "        vertical-align: middle;\n",
       "    }\n",
       "\n",
       "    .dataframe tbody tr th {\n",
       "        vertical-align: top;\n",
       "    }\n",
       "\n",
       "    .dataframe thead tr th {\n",
       "        text-align: left;\n",
       "    }\n",
       "\n",
       "    .dataframe thead tr:last-of-type th {\n",
       "        text-align: right;\n",
       "    }\n",
       "</style>\n",
       "<table border=\"1\" class=\"dataframe\">\n",
       "  <thead>\n",
       "    <tr>\n",
       "      <th></th>\n",
       "      <th colspan=\"2\" halign=\"left\">biaya</th>\n",
       "      <th>usia</th>\n",
       "    </tr>\n",
       "    <tr>\n",
       "      <th></th>\n",
       "      <th>max</th>\n",
       "      <th>count</th>\n",
       "      <th>mean</th>\n",
       "    </tr>\n",
       "    <tr>\n",
       "      <th>typefaskes</th>\n",
       "      <th></th>\n",
       "      <th></th>\n",
       "      <th></th>\n",
       "    </tr>\n",
       "  </thead>\n",
       "  <tbody>\n",
       "    <tr>\n",
       "      <th>A</th>\n",
       "      <td>401696600.0</td>\n",
       "      <td>493055</td>\n",
       "      <td>32.738114</td>\n",
       "    </tr>\n",
       "    <tr>\n",
       "      <th>B</th>\n",
       "      <td>202643500.0</td>\n",
       "      <td>2102708</td>\n",
       "      <td>36.953400</td>\n",
       "    </tr>\n",
       "    <tr>\n",
       "      <th>C</th>\n",
       "      <td>126268400.0</td>\n",
       "      <td>2197424</td>\n",
       "      <td>37.124911</td>\n",
       "    </tr>\n",
       "    <tr>\n",
       "      <th>D</th>\n",
       "      <td>52485500.0</td>\n",
       "      <td>260327</td>\n",
       "      <td>36.770623</td>\n",
       "    </tr>\n",
       "    <tr>\n",
       "      <th>GD</th>\n",
       "      <td>97440200.0</td>\n",
       "      <td>9273</td>\n",
       "      <td>40.177397</td>\n",
       "    </tr>\n",
       "    <tr>\n",
       "      <th>HD</th>\n",
       "      <td>71880400.0</td>\n",
       "      <td>14390</td>\n",
       "      <td>52.062404</td>\n",
       "    </tr>\n",
       "    <tr>\n",
       "      <th>I1</th>\n",
       "      <td>207675700.0</td>\n",
       "      <td>49979</td>\n",
       "      <td>41.011145</td>\n",
       "    </tr>\n",
       "    <tr>\n",
       "      <th>I2</th>\n",
       "      <td>129672900.0</td>\n",
       "      <td>226470</td>\n",
       "      <td>39.232724</td>\n",
       "    </tr>\n",
       "    <tr>\n",
       "      <th>I3</th>\n",
       "      <td>49847700.0</td>\n",
       "      <td>285780</td>\n",
       "      <td>38.783638</td>\n",
       "    </tr>\n",
       "    <tr>\n",
       "      <th>I4</th>\n",
       "      <td>42260700.0</td>\n",
       "      <td>164106</td>\n",
       "      <td>35.652304</td>\n",
       "    </tr>\n",
       "    <tr>\n",
       "      <th>KB</th>\n",
       "      <td>58351800.0</td>\n",
       "      <td>25479</td>\n",
       "      <td>39.095255</td>\n",
       "    </tr>\n",
       "    <tr>\n",
       "      <th>KC</th>\n",
       "      <td>233635200.0</td>\n",
       "      <td>28917</td>\n",
       "      <td>29.560812</td>\n",
       "    </tr>\n",
       "    <tr>\n",
       "      <th>KG</th>\n",
       "      <td>27194700.0</td>\n",
       "      <td>11134</td>\n",
       "      <td>37.142985</td>\n",
       "    </tr>\n",
       "    <tr>\n",
       "      <th>KI</th>\n",
       "      <td>312535300.0</td>\n",
       "      <td>221114</td>\n",
       "      <td>15.843936</td>\n",
       "    </tr>\n",
       "    <tr>\n",
       "      <th>KJ</th>\n",
       "      <td>90159400.0</td>\n",
       "      <td>173692</td>\n",
       "      <td>36.839071</td>\n",
       "    </tr>\n",
       "    <tr>\n",
       "      <th>KK</th>\n",
       "      <td>4324000.0</td>\n",
       "      <td>9</td>\n",
       "      <td>49.333333</td>\n",
       "    </tr>\n",
       "    <tr>\n",
       "      <th>KL</th>\n",
       "      <td>207675700.0</td>\n",
       "      <td>101933</td>\n",
       "      <td>42.533713</td>\n",
       "    </tr>\n",
       "    <tr>\n",
       "      <th>KM</th>\n",
       "      <td>22226400.0</td>\n",
       "      <td>177017</td>\n",
       "      <td>49.117876</td>\n",
       "    </tr>\n",
       "    <tr>\n",
       "      <th>KO</th>\n",
       "      <td>233635200.0</td>\n",
       "      <td>12804</td>\n",
       "      <td>48.150109</td>\n",
       "    </tr>\n",
       "    <tr>\n",
       "      <th>KP</th>\n",
       "      <td>207675700.0</td>\n",
       "      <td>17850</td>\n",
       "      <td>44.910420</td>\n",
       "    </tr>\n",
       "    <tr>\n",
       "      <th>KT</th>\n",
       "      <td>178007700.0</td>\n",
       "      <td>7375</td>\n",
       "      <td>34.031322</td>\n",
       "    </tr>\n",
       "    <tr>\n",
       "      <th>KU</th>\n",
       "      <td>49164900.0</td>\n",
       "      <td>4180</td>\n",
       "      <td>47.908612</td>\n",
       "    </tr>\n",
       "    <tr>\n",
       "      <th>SA</th>\n",
       "      <td>213906000.0</td>\n",
       "      <td>17174</td>\n",
       "      <td>34.616979</td>\n",
       "    </tr>\n",
       "    <tr>\n",
       "      <th>SB</th>\n",
       "      <td>160030800.0</td>\n",
       "      <td>808444</td>\n",
       "      <td>39.025975</td>\n",
       "    </tr>\n",
       "    <tr>\n",
       "      <th>SC</th>\n",
       "      <td>128514200.0</td>\n",
       "      <td>3165558</td>\n",
       "      <td>37.069411</td>\n",
       "    </tr>\n",
       "    <tr>\n",
       "      <th>SD</th>\n",
       "      <td>45455900.0</td>\n",
       "      <td>825690</td>\n",
       "      <td>38.725619</td>\n",
       "    </tr>\n",
       "  </tbody>\n",
       "</table>\n",
       "</div>"
      ],
      "text/plain": [
       "                  biaya                usia\n",
       "                    max    count       mean\n",
       "typefaskes                                 \n",
       "A           401696600.0   493055  32.738114\n",
       "B           202643500.0  2102708  36.953400\n",
       "C           126268400.0  2197424  37.124911\n",
       "D            52485500.0   260327  36.770623\n",
       "GD           97440200.0     9273  40.177397\n",
       "HD           71880400.0    14390  52.062404\n",
       "I1          207675700.0    49979  41.011145\n",
       "I2          129672900.0   226470  39.232724\n",
       "I3           49847700.0   285780  38.783638\n",
       "I4           42260700.0   164106  35.652304\n",
       "KB           58351800.0    25479  39.095255\n",
       "KC          233635200.0    28917  29.560812\n",
       "KG           27194700.0    11134  37.142985\n",
       "KI          312535300.0   221114  15.843936\n",
       "KJ           90159400.0   173692  36.839071\n",
       "KK            4324000.0        9  49.333333\n",
       "KL          207675700.0   101933  42.533713\n",
       "KM           22226400.0   177017  49.117876\n",
       "KO          233635200.0    12804  48.150109\n",
       "KP          207675700.0    17850  44.910420\n",
       "KT          178007700.0     7375  34.031322\n",
       "KU           49164900.0     4180  47.908612\n",
       "SA          213906000.0    17174  34.616979\n",
       "SB          160030800.0   808444  39.025975\n",
       "SC          128514200.0  3165558  37.069411\n",
       "SD           45455900.0   825690  38.725619"
      ]
     },
     "execution_count": 49,
     "metadata": {},
     "output_type": "execute_result"
    }
   ],
   "source": [
    "# Typefaskes | biaya dan usia\n",
    "df_update.groupby('typefaskes').agg({'biaya':['max', 'count'], 'usia':'mean'})"
   ]
  },
  {
   "cell_type": "markdown",
   "id": "989a489a",
   "metadata": {},
   "source": [
    "Dari `typefaskes` ini ada satu fasilitas kesehatan yang hanya terdapat 9 pengunjung yaitu **KK** dimana rata-rata pengunjungnya adalah lansia dengan maximum biaya yang tidak cukup tinggi.\n",
    "\n",
    "Sedangkan untuk fasilitas **KI** terlihat bahwa rata-rata pengunjung adalah anak-anak, mungkin saja fasilitas ini memang khusus untuk melayani anak-anak.\n",
    "\n",
    "Selain itu fasilitas **A** merupakan fasilitas dengan maximum biaya yang paling tinggi diantara yang lainya, dengan rata-rata pengunjung merupakan orang-orang dewasa"
   ]
  },
  {
   "cell_type": "code",
   "execution_count": 50,
   "id": "5b4ba940",
   "metadata": {},
   "outputs": [
    {
     "data": {
      "text/html": [
       "<div>\n",
       "<style scoped>\n",
       "    .dataframe tbody tr th:only-of-type {\n",
       "        vertical-align: middle;\n",
       "    }\n",
       "\n",
       "    .dataframe tbody tr th {\n",
       "        vertical-align: top;\n",
       "    }\n",
       "\n",
       "    .dataframe thead tr th {\n",
       "        text-align: left;\n",
       "    }\n",
       "\n",
       "    .dataframe thead tr:last-of-type th {\n",
       "        text-align: right;\n",
       "    }\n",
       "</style>\n",
       "<table border=\"1\" class=\"dataframe\">\n",
       "  <thead>\n",
       "    <tr>\n",
       "      <th></th>\n",
       "      <th colspan=\"2\" halign=\"left\">biaya</th>\n",
       "      <th>usia</th>\n",
       "    </tr>\n",
       "    <tr>\n",
       "      <th></th>\n",
       "      <th>max</th>\n",
       "      <th>count</th>\n",
       "      <th>mean</th>\n",
       "    </tr>\n",
       "    <tr>\n",
       "      <th>kelasrawat</th>\n",
       "      <th></th>\n",
       "      <th></th>\n",
       "      <th></th>\n",
       "    </tr>\n",
       "  </thead>\n",
       "  <tbody>\n",
       "    <tr>\n",
       "      <th>1</th>\n",
       "      <td>401696600.0</td>\n",
       "      <td>768570</td>\n",
       "      <td>40.178835</td>\n",
       "    </tr>\n",
       "    <tr>\n",
       "      <th>2</th>\n",
       "      <td>343290700.0</td>\n",
       "      <td>917742</td>\n",
       "      <td>29.949720</td>\n",
       "    </tr>\n",
       "    <tr>\n",
       "      <th>3</th>\n",
       "      <td>283523900.0</td>\n",
       "      <td>9715570</td>\n",
       "      <td>37.481284</td>\n",
       "    </tr>\n",
       "  </tbody>\n",
       "</table>\n",
       "</div>"
      ],
      "text/plain": [
       "                  biaya                usia\n",
       "                    max    count       mean\n",
       "kelasrawat                                 \n",
       "1           401696600.0   768570  40.178835\n",
       "2           343290700.0   917742  29.949720\n",
       "3           283523900.0  9715570  37.481284"
      ]
     },
     "execution_count": 50,
     "metadata": {},
     "output_type": "execute_result"
    }
   ],
   "source": [
    "df_update.groupby('kelasrawat').agg({'biaya':['max', 'count'], 'usia':'mean'})"
   ]
  },
  {
   "cell_type": "markdown",
   "id": "f4d01e67",
   "metadata": {},
   "source": [
    "Kmudian untuk `kelasrawat` seperti visualisasi sebelumnya bahwa memang kebanyakan pengunjung lebih memilih pada kelas 3, ini menyangkut karena kelas 1 memiliki tarif yang begitu tinggi sehingga orang lebih banyak memilih kelasrawat yang biasa biasa saja asalkan bisa sembuh."
   ]
  },
  {
   "cell_type": "code",
   "execution_count": 51,
   "id": "3b81f8d4",
   "metadata": {},
   "outputs": [
    {
     "data": {
      "text/html": [
       "<div>\n",
       "<style scoped>\n",
       "    .dataframe tbody tr th:only-of-type {\n",
       "        vertical-align: middle;\n",
       "    }\n",
       "\n",
       "    .dataframe tbody tr th {\n",
       "        vertical-align: top;\n",
       "    }\n",
       "\n",
       "    .dataframe thead th {\n",
       "        text-align: right;\n",
       "    }\n",
       "</style>\n",
       "<table border=\"1\" class=\"dataframe\">\n",
       "  <thead>\n",
       "    <tr style=\"text-align: right;\">\n",
       "      <th></th>\n",
       "      <th>id</th>\n",
       "      <th>id_peserta</th>\n",
       "      <th>dati2</th>\n",
       "      <th>usia</th>\n",
       "      <th>pisat</th>\n",
       "      <th>jenispel</th>\n",
       "      <th>biaya</th>\n",
       "      <th>jenispulang</th>\n",
       "      <th>kelasrawat</th>\n",
       "      <th>label</th>\n",
       "    </tr>\n",
       "  </thead>\n",
       "  <tbody>\n",
       "    <tr>\n",
       "      <th>count</th>\n",
       "      <td>1.140188e+07</td>\n",
       "      <td>1.140188e+07</td>\n",
       "      <td>1.140188e+07</td>\n",
       "      <td>1.140188e+07</td>\n",
       "      <td>1.140188e+07</td>\n",
       "      <td>1.140188e+07</td>\n",
       "      <td>1.140188e+07</td>\n",
       "      <td>1.140188e+07</td>\n",
       "      <td>1.140188e+07</td>\n",
       "      <td>1.140188e+07</td>\n",
       "    </tr>\n",
       "    <tr>\n",
       "      <th>mean</th>\n",
       "      <td>5.712720e+06</td>\n",
       "      <td>4.199294e+06</td>\n",
       "      <td>1.825299e+02</td>\n",
       "      <td>3.705690e+01</td>\n",
       "      <td>2.498179e+00</td>\n",
       "      <td>1.645544e+00</td>\n",
       "      <td>2.145939e+06</td>\n",
       "      <td>1.094596e+00</td>\n",
       "      <td>2.784695e+00</td>\n",
       "      <td>1.375992e-02</td>\n",
       "    </tr>\n",
       "    <tr>\n",
       "      <th>std</th>\n",
       "      <td>3.298535e+06</td>\n",
       "      <td>2.436249e+06</td>\n",
       "      <td>1.061352e+02</td>\n",
       "      <td>2.292188e+01</td>\n",
       "      <td>1.390865e+00</td>\n",
       "      <td>4.783482e-01</td>\n",
       "      <td>5.196992e+06</td>\n",
       "      <td>5.131545e-01</td>\n",
       "      <td>5.511473e-01</td>\n",
       "      <td>1.164929e-01</td>\n",
       "    </tr>\n",
       "    <tr>\n",
       "      <th>min</th>\n",
       "      <td>1.000000e+00</td>\n",
       "      <td>1.000000e+00</td>\n",
       "      <td>1.000000e+00</td>\n",
       "      <td>0.000000e+00</td>\n",
       "      <td>1.000000e+00</td>\n",
       "      <td>1.000000e+00</td>\n",
       "      <td>-1.425999e+06</td>\n",
       "      <td>1.000000e+00</td>\n",
       "      <td>1.000000e+00</td>\n",
       "      <td>0.000000e+00</td>\n",
       "    </tr>\n",
       "    <tr>\n",
       "      <th>25%</th>\n",
       "      <td>2.855432e+06</td>\n",
       "      <td>2.119461e+06</td>\n",
       "      <td>1.140000e+02</td>\n",
       "      <td>1.800000e+01</td>\n",
       "      <td>1.000000e+00</td>\n",
       "      <td>1.000000e+00</td>\n",
       "      <td>1.904000e+05</td>\n",
       "      <td>1.000000e+00</td>\n",
       "      <td>3.000000e+00</td>\n",
       "      <td>0.000000e+00</td>\n",
       "    </tr>\n",
       "    <tr>\n",
       "      <th>50%</th>\n",
       "      <td>5.712226e+06</td>\n",
       "      <td>4.161532e+06</td>\n",
       "      <td>1.590000e+02</td>\n",
       "      <td>3.900000e+01</td>\n",
       "      <td>3.000000e+00</td>\n",
       "      <td>2.000000e+00</td>\n",
       "      <td>2.886000e+05</td>\n",
       "      <td>1.000000e+00</td>\n",
       "      <td>3.000000e+00</td>\n",
       "      <td>0.000000e+00</td>\n",
       "    </tr>\n",
       "    <tr>\n",
       "      <th>75%</th>\n",
       "      <td>8.568902e+06</td>\n",
       "      <td>6.292149e+06</td>\n",
       "      <td>2.280000e+02</td>\n",
       "      <td>5.600000e+01</td>\n",
       "      <td>4.000000e+00</td>\n",
       "      <td>2.000000e+00</td>\n",
       "      <td>3.003200e+06</td>\n",
       "      <td>1.000000e+00</td>\n",
       "      <td>3.000000e+00</td>\n",
       "      <td>0.000000e+00</td>\n",
       "    </tr>\n",
       "    <tr>\n",
       "      <th>max</th>\n",
       "      <td>1.142696e+07</td>\n",
       "      <td>8.527919e+06</td>\n",
       "      <td>5.280000e+02</td>\n",
       "      <td>1.100000e+02</td>\n",
       "      <td>5.000000e+00</td>\n",
       "      <td>2.000000e+00</td>\n",
       "      <td>4.016966e+08</td>\n",
       "      <td>5.000000e+00</td>\n",
       "      <td>3.000000e+00</td>\n",
       "      <td>1.000000e+00</td>\n",
       "    </tr>\n",
       "  </tbody>\n",
       "</table>\n",
       "</div>"
      ],
      "text/plain": [
       "                 id    id_peserta         dati2          usia         pisat  \\\n",
       "count  1.140188e+07  1.140188e+07  1.140188e+07  1.140188e+07  1.140188e+07   \n",
       "mean   5.712720e+06  4.199294e+06  1.825299e+02  3.705690e+01  2.498179e+00   \n",
       "std    3.298535e+06  2.436249e+06  1.061352e+02  2.292188e+01  1.390865e+00   \n",
       "min    1.000000e+00  1.000000e+00  1.000000e+00  0.000000e+00  1.000000e+00   \n",
       "25%    2.855432e+06  2.119461e+06  1.140000e+02  1.800000e+01  1.000000e+00   \n",
       "50%    5.712226e+06  4.161532e+06  1.590000e+02  3.900000e+01  3.000000e+00   \n",
       "75%    8.568902e+06  6.292149e+06  2.280000e+02  5.600000e+01  4.000000e+00   \n",
       "max    1.142696e+07  8.527919e+06  5.280000e+02  1.100000e+02  5.000000e+00   \n",
       "\n",
       "           jenispel         biaya   jenispulang    kelasrawat         label  \n",
       "count  1.140188e+07  1.140188e+07  1.140188e+07  1.140188e+07  1.140188e+07  \n",
       "mean   1.645544e+00  2.145939e+06  1.094596e+00  2.784695e+00  1.375992e-02  \n",
       "std    4.783482e-01  5.196992e+06  5.131545e-01  5.511473e-01  1.164929e-01  \n",
       "min    1.000000e+00 -1.425999e+06  1.000000e+00  1.000000e+00  0.000000e+00  \n",
       "25%    1.000000e+00  1.904000e+05  1.000000e+00  3.000000e+00  0.000000e+00  \n",
       "50%    2.000000e+00  2.886000e+05  1.000000e+00  3.000000e+00  0.000000e+00  \n",
       "75%    2.000000e+00  3.003200e+06  1.000000e+00  3.000000e+00  0.000000e+00  \n",
       "max    2.000000e+00  4.016966e+08  5.000000e+00  3.000000e+00  1.000000e+00  "
      ]
     },
     "execution_count": 51,
     "metadata": {},
     "output_type": "execute_result"
    }
   ],
   "source": [
    "# Measure dataset\n",
    "df_update.describe()"
   ]
  },
  {
   "cell_type": "code",
   "execution_count": 52,
   "id": "f8e39347",
   "metadata": {},
   "outputs": [],
   "source": [
    "# Lama inap pengunjung\n",
    "lama_inap = df_update['tglpulang']-df_update['tgldatang']"
   ]
  },
  {
   "cell_type": "code",
   "execution_count": 53,
   "id": "d811015a",
   "metadata": {},
   "outputs": [
    {
     "data": {
      "text/plain": [
       "count                     11401882\n",
       "mean     1 days 12:35:56.763944759\n",
       "std      5 days 07:04:13.172048229\n",
       "min                0 days 00:00:00\n",
       "25%                0 days 00:00:00\n",
       "50%                0 days 00:00:00\n",
       "75%                2 days 00:00:00\n",
       "max             1431 days 00:00:00\n",
       "dtype: object"
      ]
     },
     "execution_count": 53,
     "metadata": {},
     "output_type": "execute_result"
    }
   ],
   "source": [
    "lama_inap.describe()"
   ]
  },
  {
   "cell_type": "markdown",
   "id": "807dc9a9",
   "metadata": {},
   "source": [
    "Pada lama inap ini saya sedikit terkejut karena nilai maximumnya adalah 1431, ternyata ada pengunjung yang di rawat sampai begitu lama"
   ]
  },
  {
   "cell_type": "code",
   "execution_count": 54,
   "id": "8c6bb7a9",
   "metadata": {},
   "outputs": [
    {
     "data": {
      "text/html": [
       "<div>\n",
       "<style scoped>\n",
       "    .dataframe tbody tr th:only-of-type {\n",
       "        vertical-align: middle;\n",
       "    }\n",
       "\n",
       "    .dataframe tbody tr th {\n",
       "        vertical-align: top;\n",
       "    }\n",
       "\n",
       "    .dataframe thead th {\n",
       "        text-align: right;\n",
       "    }\n",
       "</style>\n",
       "<table border=\"1\" class=\"dataframe\">\n",
       "  <thead>\n",
       "    <tr style=\"text-align: right;\">\n",
       "      <th></th>\n",
       "      <th>id</th>\n",
       "      <th>id_peserta</th>\n",
       "      <th>dati2</th>\n",
       "      <th>usia</th>\n",
       "      <th>pisat</th>\n",
       "      <th>jenispel</th>\n",
       "      <th>biaya</th>\n",
       "      <th>jenispulang</th>\n",
       "      <th>kelasrawat</th>\n",
       "      <th>label</th>\n",
       "    </tr>\n",
       "  </thead>\n",
       "  <tbody>\n",
       "    <tr>\n",
       "      <th>id</th>\n",
       "      <td>1.000000</td>\n",
       "      <td>-0.010656</td>\n",
       "      <td>0.527575</td>\n",
       "      <td>0.011832</td>\n",
       "      <td>0.003247</td>\n",
       "      <td>-0.038642</td>\n",
       "      <td>0.057390</td>\n",
       "      <td>0.037123</td>\n",
       "      <td>-0.003628</td>\n",
       "      <td>0.002648</td>\n",
       "    </tr>\n",
       "    <tr>\n",
       "      <th>id_peserta</th>\n",
       "      <td>-0.010656</td>\n",
       "      <td>1.000000</td>\n",
       "      <td>0.036683</td>\n",
       "      <td>-0.405294</td>\n",
       "      <td>0.217696</td>\n",
       "      <td>-0.127281</td>\n",
       "      <td>0.056062</td>\n",
       "      <td>0.012898</td>\n",
       "      <td>0.026998</td>\n",
       "      <td>0.010491</td>\n",
       "    </tr>\n",
       "    <tr>\n",
       "      <th>dati2</th>\n",
       "      <td>0.527575</td>\n",
       "      <td>0.036683</td>\n",
       "      <td>1.000000</td>\n",
       "      <td>0.000736</td>\n",
       "      <td>0.000708</td>\n",
       "      <td>0.008881</td>\n",
       "      <td>-0.030411</td>\n",
       "      <td>-0.006446</td>\n",
       "      <td>-0.003250</td>\n",
       "      <td>0.007179</td>\n",
       "    </tr>\n",
       "    <tr>\n",
       "      <th>usia</th>\n",
       "      <td>0.011832</td>\n",
       "      <td>-0.405294</td>\n",
       "      <td>0.000736</td>\n",
       "      <td>1.000000</td>\n",
       "      <td>-0.570092</td>\n",
       "      <td>0.113925</td>\n",
       "      <td>-0.044835</td>\n",
       "      <td>0.029344</td>\n",
       "      <td>0.011967</td>\n",
       "      <td>-0.011001</td>\n",
       "    </tr>\n",
       "    <tr>\n",
       "      <th>pisat</th>\n",
       "      <td>0.003247</td>\n",
       "      <td>0.217696</td>\n",
       "      <td>0.000708</td>\n",
       "      <td>-0.570092</td>\n",
       "      <td>1.000000</td>\n",
       "      <td>-0.091614</td>\n",
       "      <td>0.033036</td>\n",
       "      <td>-0.010627</td>\n",
       "      <td>0.015167</td>\n",
       "      <td>0.007748</td>\n",
       "    </tr>\n",
       "    <tr>\n",
       "      <th>jenispel</th>\n",
       "      <td>-0.038642</td>\n",
       "      <td>-0.127281</td>\n",
       "      <td>0.008881</td>\n",
       "      <td>0.113925</td>\n",
       "      <td>-0.091614</td>\n",
       "      <td>1.000000</td>\n",
       "      <td>-0.447931</td>\n",
       "      <td>-0.079056</td>\n",
       "      <td>0.527171</td>\n",
       "      <td>0.003210</td>\n",
       "    </tr>\n",
       "    <tr>\n",
       "      <th>biaya</th>\n",
       "      <td>0.057390</td>\n",
       "      <td>0.056062</td>\n",
       "      <td>-0.030411</td>\n",
       "      <td>-0.044835</td>\n",
       "      <td>0.033036</td>\n",
       "      <td>-0.447931</td>\n",
       "      <td>1.000000</td>\n",
       "      <td>0.129765</td>\n",
       "      <td>-0.317811</td>\n",
       "      <td>0.001240</td>\n",
       "    </tr>\n",
       "    <tr>\n",
       "      <th>jenispulang</th>\n",
       "      <td>0.037123</td>\n",
       "      <td>0.012898</td>\n",
       "      <td>-0.006446</td>\n",
       "      <td>0.029344</td>\n",
       "      <td>-0.010627</td>\n",
       "      <td>-0.079056</td>\n",
       "      <td>0.129765</td>\n",
       "      <td>1.000000</td>\n",
       "      <td>-0.025196</td>\n",
       "      <td>-0.002402</td>\n",
       "    </tr>\n",
       "    <tr>\n",
       "      <th>kelasrawat</th>\n",
       "      <td>-0.003628</td>\n",
       "      <td>0.026998</td>\n",
       "      <td>-0.003250</td>\n",
       "      <td>0.011967</td>\n",
       "      <td>0.015167</td>\n",
       "      <td>0.527171</td>\n",
       "      <td>-0.317811</td>\n",
       "      <td>-0.025196</td>\n",
       "      <td>1.000000</td>\n",
       "      <td>-0.004448</td>\n",
       "    </tr>\n",
       "    <tr>\n",
       "      <th>label</th>\n",
       "      <td>0.002648</td>\n",
       "      <td>0.010491</td>\n",
       "      <td>0.007179</td>\n",
       "      <td>-0.011001</td>\n",
       "      <td>0.007748</td>\n",
       "      <td>0.003210</td>\n",
       "      <td>0.001240</td>\n",
       "      <td>-0.002402</td>\n",
       "      <td>-0.004448</td>\n",
       "      <td>1.000000</td>\n",
       "    </tr>\n",
       "  </tbody>\n",
       "</table>\n",
       "</div>"
      ],
      "text/plain": [
       "                   id  id_peserta     dati2      usia     pisat  jenispel  \\\n",
       "id           1.000000   -0.010656  0.527575  0.011832  0.003247 -0.038642   \n",
       "id_peserta  -0.010656    1.000000  0.036683 -0.405294  0.217696 -0.127281   \n",
       "dati2        0.527575    0.036683  1.000000  0.000736  0.000708  0.008881   \n",
       "usia         0.011832   -0.405294  0.000736  1.000000 -0.570092  0.113925   \n",
       "pisat        0.003247    0.217696  0.000708 -0.570092  1.000000 -0.091614   \n",
       "jenispel    -0.038642   -0.127281  0.008881  0.113925 -0.091614  1.000000   \n",
       "biaya        0.057390    0.056062 -0.030411 -0.044835  0.033036 -0.447931   \n",
       "jenispulang  0.037123    0.012898 -0.006446  0.029344 -0.010627 -0.079056   \n",
       "kelasrawat  -0.003628    0.026998 -0.003250  0.011967  0.015167  0.527171   \n",
       "label        0.002648    0.010491  0.007179 -0.011001  0.007748  0.003210   \n",
       "\n",
       "                biaya  jenispulang  kelasrawat     label  \n",
       "id           0.057390     0.037123   -0.003628  0.002648  \n",
       "id_peserta   0.056062     0.012898    0.026998  0.010491  \n",
       "dati2       -0.030411    -0.006446   -0.003250  0.007179  \n",
       "usia        -0.044835     0.029344    0.011967 -0.011001  \n",
       "pisat        0.033036    -0.010627    0.015167  0.007748  \n",
       "jenispel    -0.447931    -0.079056    0.527171  0.003210  \n",
       "biaya        1.000000     0.129765   -0.317811  0.001240  \n",
       "jenispulang  0.129765     1.000000   -0.025196 -0.002402  \n",
       "kelasrawat  -0.317811    -0.025196    1.000000 -0.004448  \n",
       "label        0.001240    -0.002402   -0.004448  1.000000  "
      ]
     },
     "execution_count": 54,
     "metadata": {},
     "output_type": "execute_result"
    }
   ],
   "source": [
    "df_update.corr()"
   ]
  },
  {
   "cell_type": "code",
   "execution_count": 55,
   "id": "945efb44",
   "metadata": {},
   "outputs": [
    {
     "data": {
      "text/plain": [
       "<AxesSubplot:>"
      ]
     },
     "execution_count": 55,
     "metadata": {},
     "output_type": "execute_result"
    },
    {
     "data": {
      "image/png": "[encoded data removed]",
      "text/plain": [
       "<Figure size 432x288 with 2 Axes>"
      ]
     },
     "metadata": {
      "needs_background": "light"
     },
     "output_type": "display_data"
    }
   ],
   "source": [
    "sns.heatmap(df_update.corr())"
   ]
  },
  {
   "cell_type": "code",
   "execution_count": 56,
   "id": "86a901fc",
   "metadata": {},
   "outputs": [],
   "source": [
    "# Data label 1\n",
    "label_1 = df_update.loc[df_update['label']==1]"
   ]
  },
  {
   "cell_type": "code",
   "execution_count": 57,
   "id": "635493e8",
   "metadata": {},
   "outputs": [
    {
     "name": "stdout",
     "output_type": "stream",
     "text": [
      "<class 'pandas.core.frame.DataFrame'>\n",
      "Int64Index: 156889 entries, 20 to 11401854\n",
      "Data columns (total 19 columns):\n",
      " #   Column       Non-Null Count   Dtype              \n",
      "---  ------       --------------   -----              \n",
      " 0   id           156889 non-null  int64              \n",
      " 1   id_peserta   156889 non-null  int64              \n",
      " 2   dati2        156889 non-null  int64              \n",
      " 3   typefaskes   156889 non-null  object             \n",
      " 4   usia         156889 non-null  int64              \n",
      " 5   jenkel       156889 non-null  object             \n",
      " 6   pisat        156889 non-null  float64            \n",
      " 7   tgldatang    156889 non-null  datetime64[ns, UTC]\n",
      " 8   tglpulang    156889 non-null  datetime64[ns, UTC]\n",
      " 9   jenispel     156889 non-null  int64              \n",
      " 10  biaya        156889 non-null  float64            \n",
      " 11  jenispulang  156889 non-null  float64            \n",
      " 12  kelasrawat   156889 non-null  int64              \n",
      " 13  kdsa         156889 non-null  object             \n",
      " 14  kdsp         156889 non-null  object             \n",
      " 15  kdsr         156889 non-null  object             \n",
      " 16  kdsi         156889 non-null  object             \n",
      " 17  kdsd         156889 non-null  object             \n",
      " 18  label        156889 non-null  int64              \n",
      "dtypes: datetime64[ns, UTC](2), float64(3), int64(7), object(7)\n",
      "memory usage: 23.9+ MB\n"
     ]
    }
   ],
   "source": [
    "label_1.info()"
   ]
  },
  {
   "cell_type": "code",
   "execution_count": 58,
   "id": "dc576cf9",
   "metadata": {},
   "outputs": [
    {
     "data": {
      "text/plain": [
       "309451300.0"
      ]
     },
     "execution_count": 58,
     "metadata": {},
     "output_type": "execute_result"
    }
   ],
   "source": [
    "# Maximum biaya label 1\n",
    "label_1.biaya.max()"
   ]
  },
  {
   "cell_type": "code",
   "execution_count": 59,
   "id": "9b3416f5",
   "metadata": {},
   "outputs": [
    {
     "data": {
      "text/html": [
       "<div>\n",
       "<style scoped>\n",
       "    .dataframe tbody tr th:only-of-type {\n",
       "        vertical-align: middle;\n",
       "    }\n",
       "\n",
       "    .dataframe tbody tr th {\n",
       "        vertical-align: top;\n",
       "    }\n",
       "\n",
       "    .dataframe thead th {\n",
       "        text-align: right;\n",
       "    }\n",
       "</style>\n",
       "<table border=\"1\" class=\"dataframe\">\n",
       "  <thead>\n",
       "    <tr style=\"text-align: right;\">\n",
       "      <th></th>\n",
       "      <th>id</th>\n",
       "      <th>id_peserta</th>\n",
       "      <th>dati2</th>\n",
       "      <th>usia</th>\n",
       "      <th>pisat</th>\n",
       "      <th>jenispel</th>\n",
       "      <th>biaya</th>\n",
       "      <th>jenispulang</th>\n",
       "      <th>kelasrawat</th>\n",
       "      <th>label</th>\n",
       "    </tr>\n",
       "  </thead>\n",
       "  <tbody>\n",
       "    <tr>\n",
       "      <th>count</th>\n",
       "      <td>1.568890e+05</td>\n",
       "      <td>1.568890e+05</td>\n",
       "      <td>156889.000000</td>\n",
       "      <td>156889.000000</td>\n",
       "      <td>156889.000000</td>\n",
       "      <td>156889.000000</td>\n",
       "      <td>1.568890e+05</td>\n",
       "      <td>156889.000000</td>\n",
       "      <td>156889.000000</td>\n",
       "      <td>156889.0</td>\n",
       "    </tr>\n",
       "    <tr>\n",
       "      <th>mean</th>\n",
       "      <td>5.786660e+06</td>\n",
       "      <td>4.415679e+06</td>\n",
       "      <td>188.981063</td>\n",
       "      <td>34.922034</td>\n",
       "      <td>2.589410</td>\n",
       "      <td>1.658542</td>\n",
       "      <td>2.200517e+06</td>\n",
       "      <td>1.084161</td>\n",
       "      <td>2.763941</td>\n",
       "      <td>1.0</td>\n",
       "    </tr>\n",
       "    <tr>\n",
       "      <th>std</th>\n",
       "      <td>3.289052e+06</td>\n",
       "      <td>2.563850e+06</td>\n",
       "      <td>109.591406</td>\n",
       "      <td>24.302000</td>\n",
       "      <td>1.409184</td>\n",
       "      <td>0.474200</td>\n",
       "      <td>4.548593e+06</td>\n",
       "      <td>0.460258</td>\n",
       "      <td>0.565000</td>\n",
       "      <td>0.0</td>\n",
       "    </tr>\n",
       "    <tr>\n",
       "      <th>min</th>\n",
       "      <td>1.300000e+01</td>\n",
       "      <td>1.020000e+02</td>\n",
       "      <td>1.000000</td>\n",
       "      <td>0.000000</td>\n",
       "      <td>1.000000</td>\n",
       "      <td>1.000000</td>\n",
       "      <td>-1.425999e+06</td>\n",
       "      <td>1.000000</td>\n",
       "      <td>1.000000</td>\n",
       "      <td>1.0</td>\n",
       "    </tr>\n",
       "    <tr>\n",
       "      <th>25%</th>\n",
       "      <td>3.100973e+06</td>\n",
       "      <td>2.170715e+06</td>\n",
       "      <td>114.000000</td>\n",
       "      <td>12.000000</td>\n",
       "      <td>1.000000</td>\n",
       "      <td>1.000000</td>\n",
       "      <td>2.106000e+05</td>\n",
       "      <td>1.000000</td>\n",
       "      <td>3.000000</td>\n",
       "      <td>1.0</td>\n",
       "    </tr>\n",
       "    <tr>\n",
       "      <th>50%</th>\n",
       "      <td>5.734898e+06</td>\n",
       "      <td>4.417797e+06</td>\n",
       "      <td>173.000000</td>\n",
       "      <td>37.000000</td>\n",
       "      <td>3.000000</td>\n",
       "      <td>2.000000</td>\n",
       "      <td>5.195000e+05</td>\n",
       "      <td>1.000000</td>\n",
       "      <td>3.000000</td>\n",
       "      <td>1.0</td>\n",
       "    </tr>\n",
       "    <tr>\n",
       "      <th>75%</th>\n",
       "      <td>8.717727e+06</td>\n",
       "      <td>6.787155e+06</td>\n",
       "      <td>238.000000</td>\n",
       "      <td>55.000000</td>\n",
       "      <td>4.000000</td>\n",
       "      <td>2.000000</td>\n",
       "      <td>3.883300e+06</td>\n",
       "      <td>1.000000</td>\n",
       "      <td>3.000000</td>\n",
       "      <td>1.0</td>\n",
       "    </tr>\n",
       "    <tr>\n",
       "      <th>max</th>\n",
       "      <td>1.142688e+07</td>\n",
       "      <td>8.527871e+06</td>\n",
       "      <td>528.000000</td>\n",
       "      <td>105.000000</td>\n",
       "      <td>5.000000</td>\n",
       "      <td>2.000000</td>\n",
       "      <td>3.094513e+08</td>\n",
       "      <td>5.000000</td>\n",
       "      <td>3.000000</td>\n",
       "      <td>1.0</td>\n",
       "    </tr>\n",
       "  </tbody>\n",
       "</table>\n",
       "</div>"
      ],
      "text/plain": [
       "                 id    id_peserta          dati2           usia  \\\n",
       "count  1.568890e+05  1.568890e+05  156889.000000  156889.000000   \n",
       "mean   5.786660e+06  4.415679e+06     188.981063      34.922034   \n",
       "std    3.289052e+06  2.563850e+06     109.591406      24.302000   \n",
       "min    1.300000e+01  1.020000e+02       1.000000       0.000000   \n",
       "25%    3.100973e+06  2.170715e+06     114.000000      12.000000   \n",
       "50%    5.734898e+06  4.417797e+06     173.000000      37.000000   \n",
       "75%    8.717727e+06  6.787155e+06     238.000000      55.000000   \n",
       "max    1.142688e+07  8.527871e+06     528.000000     105.000000   \n",
       "\n",
       "               pisat       jenispel         biaya    jenispulang  \\\n",
       "count  156889.000000  156889.000000  1.568890e+05  156889.000000   \n",
       "mean        2.589410       1.658542  2.200517e+06       1.084161   \n",
       "std         1.409184       0.474200  4.548593e+06       0.460258   \n",
       "min         1.000000       1.000000 -1.425999e+06       1.000000   \n",
       "25%         1.000000       1.000000  2.106000e+05       1.000000   \n",
       "50%         3.000000       2.000000  5.195000e+05       1.000000   \n",
       "75%         4.000000       2.000000  3.883300e+06       1.000000   \n",
       "max         5.000000       2.000000  3.094513e+08       5.000000   \n",
       "\n",
       "          kelasrawat     label  \n",
       "count  156889.000000  156889.0  \n",
       "mean        2.763941       1.0  \n",
       "std         0.565000       0.0  \n",
       "min         1.000000       1.0  \n",
       "25%         3.000000       1.0  \n",
       "50%         3.000000       1.0  \n",
       "75%         3.000000       1.0  \n",
       "max         3.000000       1.0  "
      ]
     },
     "execution_count": 59,
     "metadata": {},
     "output_type": "execute_result"
    }
   ],
   "source": [
    "# Descriptif label 1\n",
    "label_1.describe()"
   ]
  },
  {
   "cell_type": "code",
   "execution_count": 60,
   "id": "8d0c50eb",
   "metadata": {},
   "outputs": [
    {
     "data": {
      "text/plain": [
       "401696600.0"
      ]
     },
     "execution_count": 60,
     "metadata": {},
     "output_type": "execute_result"
    }
   ],
   "source": [
    "df_update.biaya.max()"
   ]
  },
  {
   "cell_type": "markdown",
   "id": "ae13dc2a",
   "metadata": {},
   "source": [
    "Setelah melihat gambaran dari data yang berlabel 1, kita belum menemukan apa saja kolom yang menyebalkan suatu pelayanan tergolong tidak efisien, di lihat dari kolom-kolom lain datanya seperti sama saja dengan data berlabel 0, namun dari biaya tidak memiliki nilai maximum mencapai data berlabel 0 dimana maximum nya = 401696600.0, sedangkan label 1 = 309451300.0\n",
    "\n",
    "Namun kita akan mencoba untuk lebih meneliti perbedaan diantara kedua label tersebut"
   ]
  },
  {
   "cell_type": "code",
   "execution_count": 61,
   "id": "27fb6893",
   "metadata": {},
   "outputs": [],
   "source": [
    "# Lama rawat label 1\n",
    "lama = label_1['tglpulang']-label_1['tgldatang']"
   ]
  },
  {
   "cell_type": "code",
   "execution_count": 62,
   "id": "fe139446",
   "metadata": {},
   "outputs": [
    {
     "data": {
      "text/plain": [
       "count                       156889\n",
       "mean     1 days 04:11:11.771762201\n",
       "std      7 days 11:26:48.573826831\n",
       "min                0 days 00:00:00\n",
       "25%                0 days 00:00:00\n",
       "50%                0 days 00:00:00\n",
       "75%                2 days 00:00:00\n",
       "max              655 days 00:00:00\n",
       "dtype: object"
      ]
     },
     "execution_count": 62,
     "metadata": {},
     "output_type": "execute_result"
    }
   ],
   "source": [
    "lama.describe()"
   ]
  },
  {
   "cell_type": "code",
   "execution_count": 63,
   "id": "ee8ace0d",
   "metadata": {},
   "outputs": [],
   "source": [
    "# Kolom label 1 object\n",
    "label_object = label_1.select_dtypes('object').columns\n",
    "\n",
    "# Data dengan label 0\n",
    "label_0 = df_update.loc[df_update['label']==0]"
   ]
  },
  {
   "cell_type": "code",
   "execution_count": 64,
   "id": "ad3ad7a5",
   "metadata": {},
   "outputs": [],
   "source": [
    "def plot_all_object(df1, df2, columns):\n",
    "    for col in columns:\n",
    "        plt.figure(figsize=(14,6))\n",
    "        # Sublots sisi kiri\n",
    "        plt.subplot(1,2,1)\n",
    "        sns.countplot(x=col, data=df1)\n",
    "        plt.xlabel(col.capitalize())\n",
    "        plt.xticks(rotation='90')\n",
    "        plt.tight_layout()\n",
    "        #Subplots sisi kanan\n",
    "        plt.subplot(1,2,2)\n",
    "        sns.countplot(x=col, data=df2)\n",
    "        plt.xlabel(col.capitalize())\n",
    "        plt.xticks(rotation='90')\n",
    "        plt.tight_layout()\n",
    "        plt.show()"
   ]
  },
  {
   "cell_type": "code",
   "execution_count": 65,
   "id": "a4aa9337",
   "metadata": {},
   "outputs": [
    {
     "data": {
      "image/png": "[encoded data removed]",
      "text/plain": [
       "<Figure size 1008x432 with 2 Axes>"
      ]
     },
     "metadata": {
      "needs_background": "light"
     },
     "output_type": "display_data"
    },
    {
     "data": {
      "image/png": "[encoded data removed]",
      "text/plain": [
       "<Figure size 1008x432 with 2 Axes>"
      ]
     },
     "metadata": {
      "needs_background": "light"
     },
     "output_type": "display_data"
    },
    {
     "data": {
      "image/png": "[encoded data removed]",
      "text/plain": [
       "<Figure size 1008x432 with 2 Axes>"
      ]
     },
     "metadata": {
      "needs_background": "light"
     },
     "output_type": "display_data"
    },
    {
     "data": {
      "image/png": "[encoded data removed]",
      "text/plain": [
       "<Figure size 1008x432 with 2 Axes>"
      ]
     },
     "metadata": {
      "needs_background": "light"
     },
     "output_type": "display_data"
    },
    {
     "data": {
      "image/png": "[encoded data removed]",
      "text/plain": [
       "<Figure size 1008x432 with 2 Axes>"
      ]
     },
     "metadata": {
      "needs_background": "light"
     },
     "output_type": "display_data"
    },
    {
     "data": {
      "image/png": "[encoded data removed]",
      "text/plain": [
       "<Figure size 1008x432 with 2 Axes>"
      ]
     },
     "metadata": {
      "needs_background": "light"
     },
     "output_type": "display_data"
    },
    {
     "data": {
      "image/png": "[encoded data removed]",
      "text/plain": [
       "<Figure size 1008x432 with 2 Axes>"
      ]
     },
     "metadata": {
      "needs_background": "light"
     },
     "output_type": "display_data"
    }
   ],
   "source": [
    "# Kiri label 1 kanan label 0\n",
    "plot_all_object(label_1, label_0, label_object)"
   ]
  },
  {
   "cell_type": "code",
   "execution_count": 66,
   "id": "12c4f1b2",
   "metadata": {},
   "outputs": [
    {
     "data": {
      "image/png": "[encoded data removed]",
      "text/plain": [
       "<Figure size 720x432 with 1 Axes>"
      ]
     },
     "metadata": {
      "needs_background": "light"
     },
     "output_type": "display_data"
    },
    {
     "data": {
      "image/png": "[encoded data removed]",
      "text/plain": [
       "<Figure size 720x432 with 1 Axes>"
      ]
     },
     "metadata": {
      "needs_background": "light"
     },
     "output_type": "display_data"
    },
    {
     "data": {
      "image/png": "[encoded data removed]",
      "text/plain": [
       "<Figure size 720x432 with 1 Axes>"
      ]
     },
     "metadata": {
      "needs_background": "light"
     },
     "output_type": "display_data"
    },
    {
     "data": {
      "image/png": "[encoded data removed]",
      "text/plain": [
       "<Figure size 720x432 with 1 Axes>"
      ]
     },
     "metadata": {
      "needs_background": "light"
     },
     "output_type": "display_data"
    },
    {
     "data": {
      "image/png": "[encoded data removed]",
      "text/plain": [
       "<Figure size 720x432 with 1 Axes>"
      ]
     },
     "metadata": {
      "needs_background": "light"
     },
     "output_type": "display_data"
    },
    {
     "data": {
      "image/png": "[encoded data removed]",
      "text/plain": [
       "<Figure size 720x432 with 1 Axes>"
      ]
     },
     "metadata": {
      "needs_background": "light"
     },
     "output_type": "display_data"
    },
    {
     "data": {
      "image/png": "[encoded data removed]",
      "text/plain": [
       "<Figure size 720x432 with 1 Axes>"
      ]
     },
     "metadata": {
      "needs_background": "light"
     },
     "output_type": "display_data"
    }
   ],
   "source": [
    "# Keseluruhan data object\n",
    "plot_all_hist(df_update, label_object)"
   ]
  },
  {
   "cell_type": "markdown",
   "id": "775e73e3",
   "metadata": {},
   "source": [
    "#### Hasil Analisis Perbedaan Label 0 dan 1"
   ]
  },
  {
   "cell_type": "markdown",
   "id": "345b8f56",
   "metadata": {},
   "source": [
    "1. Kolom `typefaskes`: Dari keseluruhan data terdapat 26 jenis type fasilitas kesehatan. Pada label 0 masih terdapat 26 fasilitas, dan hasil visualisasinya pun tidak jauh berbeda. Namun pada label 1 hanya terdapat 25 fasilitas, dimana fasilitas **KL** tidak terdapat pada  label 1\n",
    "2. Kolom `jenkel`: Pada kolom jenis kelamin tidak terdapat perbedaan dimana antara **P** dan **L** masih memiliki bentuk grafik yang sama\n",
    "3. Kolom `kdsp`: Pada kolom ini data keseluruhan memiliki 13 jenis data dan pada label 0 juga memiliki 13 jenis data. Namun pada label 1 hanya terdapat 9 data, dimana 4 data yang tidak ada tersebut adalah **YY-01-II, YY-08-III, YY-06-III, YY-04-III, YY-12-III**\n",
    "4. Kolom `kdsr`: Pada kolom ini data keseluruhan terdapat 6 jenis data dan pada label 0 juga terdapat 6 data. Tapi pada label 1 hanya terdapat 3 data, dimana 3 data yang tidak ada tersebut adalah **RR-02-II, RR-01-II, RR-03-III**\n",
    "5. Kolom `kdsi`: Pada kolom ini data keseluruhan terdapat 4 jenis data dan pada label 0 juga terdapat 4 data, tapi pada label 1 hanya terdapat 2 jenis data saja, dimana data yang tidak ada tersebut adalah **II-01-III dan II-03-III**\n",
    "6. Kolom `kdsd`: Pada kolom ini data keseluruhan terdapat 12 jenis data berbeda dan pada label 0 juga terdapat 12 data, namun pada label 1 hanya terdapat 11 jenis data yang berbeda. Dimana data dengan kode **DD-11-II** tidak tersedia pada label 1\n",
    "\n",
    "Jadi inilah perbedaan antara data yang berlabel 0 dan data yang berlabel 1 yang terdapat pada kolom dengan type data object"
   ]
  },
  {
   "cell_type": "code",
   "execution_count": 67,
   "id": "62b9bfdb",
   "metadata": {},
   "outputs": [],
   "source": [
    "def plot_all_numeric(df1, df2, columns):\n",
    "    for col in columns:\n",
    "        plt.figure(figsize=(14,6))\n",
    "        plt.subplot(1,2,1)\n",
    "        sns.histplot(x=col, data=df1)\n",
    "        plt.xlabel(col.capitalize())\n",
    "        plt.xticks(rotation='90')\n",
    "        plt.tight_layout()\n",
    "        plt.subplot(1,2,2)\n",
    "        sns.histplot(x=col, data=df2)\n",
    "        plt.xlabel(col.capitalize())\n",
    "        plt.xticks(rotation='90')\n",
    "        plt.tight_layout()\n",
    "        plt.show()"
   ]
  },
  {
   "cell_type": "code",
   "execution_count": 68,
   "id": "53892c61",
   "metadata": {},
   "outputs": [
    {
     "data": {
      "image/png": "[encoded data removed]",
      "text/plain": [
       "<Figure size 1008x432 with 2 Axes>"
      ]
     },
     "metadata": {
      "needs_background": "light"
     },
     "output_type": "display_data"
    },
    {
     "data": {
      "image/png": "[encoded data removed]",
      "text/plain": [
       "<Figure size 1008x432 with 2 Axes>"
      ]
     },
     "metadata": {
      "needs_background": "light"
     },
     "output_type": "display_data"
    },
    {
     "data": {
      "image/png": "[encoded data removed]",
      "text/plain": [
       "<Figure size 1008x432 with 2 Axes>"
      ]
     },
     "metadata": {
      "needs_background": "light"
     },
     "output_type": "display_data"
    },
    {
     "data": {
      "image/png": "[encoded data removed]",
      "text/plain": [
       "<Figure size 1008x432 with 2 Axes>"
      ]
     },
     "metadata": {
      "needs_background": "light"
     },
     "output_type": "display_data"
    },
    {
     "data": {
      "image/png": "[encoded data removed]",
      "text/plain": [
       "<Figure size 1008x432 with 2 Axes>"
      ]
     },
     "metadata": {
      "needs_background": "light"
     },
     "output_type": "display_data"
    },
    {
     "data": {
      "image/png": "[encoded data removed]",
      "text/plain": [
       "<Figure size 1008x432 with 2 Axes>"
      ]
     },
     "metadata": {
      "needs_background": "light"
     },
     "output_type": "display_data"
    },
    {
     "data": {
      "image/png": "[encoded data removed]",
      "text/plain": [
       "<Figure size 1008x432 with 2 Axes>"
      ]
     },
     "metadata": {
      "needs_background": "light"
     },
     "output_type": "display_data"
    },
    {
     "data": {
      "image/png": "[encoded data removed]",
      "text/plain": [
       "<Figure size 1008x432 with 2 Axes>"
      ]
     },
     "metadata": {
      "needs_background": "light"
     },
     "output_type": "display_data"
    },
    {
     "data": {
      "image/png": "[encoded data removed]",
      "text/plain": [
       "<Figure size 1008x432 with 2 Axes>"
      ]
     },
     "metadata": {
      "needs_background": "light"
     },
     "output_type": "display_data"
    },
    {
     "data": {
      "image/png": "[encoded data removed]",
      "text/plain": [
       "<Figure size 1008x432 with 2 Axes>"
      ]
     },
     "metadata": {
      "needs_background": "light"
     },
     "output_type": "display_data"
    }
   ],
   "source": [
    "# Kiri label 1 kanan label 0\n",
    "plot_all_numeric(label_1, label_0, num_cols)"
   ]
  },
  {
   "cell_type": "markdown",
   "id": "0557e54c",
   "metadata": {},
   "source": [
    "Jika dilihat dari visualisasi data type numeric antara label 0 dan 1 tidak terlihat adanya perbedaan yang signifikan, baik dari data ordinal, nominal dan continue"
   ]
  },
  {
   "cell_type": "markdown",
   "id": "99277c15",
   "metadata": {},
   "source": [
    "## Feature Engineering"
   ]
  },
  {
   "cell_type": "code",
   "execution_count": 69,
   "id": "a59ae7a6",
   "metadata": {
    "scrolled": true
   },
   "outputs": [
    {
     "data": {
      "text/html": [
       "<div>\n",
       "<style scoped>\n",
       "    .dataframe tbody tr th:only-of-type {\n",
       "        vertical-align: middle;\n",
       "    }\n",
       "\n",
       "    .dataframe tbody tr th {\n",
       "        vertical-align: top;\n",
       "    }\n",
       "\n",
       "    .dataframe thead th {\n",
       "        text-align: right;\n",
       "    }\n",
       "</style>\n",
       "<table border=\"1\" class=\"dataframe\">\n",
       "  <thead>\n",
       "    <tr style=\"text-align: right;\">\n",
       "      <th></th>\n",
       "      <th>id</th>\n",
       "      <th>id_peserta</th>\n",
       "      <th>dati2</th>\n",
       "      <th>typefaskes</th>\n",
       "      <th>usia</th>\n",
       "      <th>jenkel</th>\n",
       "      <th>pisat</th>\n",
       "      <th>tgldatang</th>\n",
       "      <th>tglpulang</th>\n",
       "      <th>jenispel</th>\n",
       "      <th>biaya</th>\n",
       "      <th>jenispulang</th>\n",
       "      <th>kelasrawat</th>\n",
       "      <th>kdsa</th>\n",
       "      <th>kdsp</th>\n",
       "      <th>kdsr</th>\n",
       "      <th>kdsi</th>\n",
       "      <th>kdsd</th>\n",
       "      <th>label</th>\n",
       "    </tr>\n",
       "  </thead>\n",
       "  <tbody>\n",
       "    <tr>\n",
       "      <th>0</th>\n",
       "      <td>165666</td>\n",
       "      <td>486</td>\n",
       "      <td>17</td>\n",
       "      <td>KL</td>\n",
       "      <td>48</td>\n",
       "      <td>P</td>\n",
       "      <td>1.0</td>\n",
       "      <td>2018-07-25 17:00:00+00:00</td>\n",
       "      <td>2018-07-25 17:00:00+00:00</td>\n",
       "      <td>2</td>\n",
       "      <td>184300.0</td>\n",
       "      <td>1.0</td>\n",
       "      <td>3</td>\n",
       "      <td>None</td>\n",
       "      <td>None</td>\n",
       "      <td>None</td>\n",
       "      <td>None</td>\n",
       "      <td>None</td>\n",
       "      <td>0</td>\n",
       "    </tr>\n",
       "    <tr>\n",
       "      <th>1</th>\n",
       "      <td>1010828</td>\n",
       "      <td>520</td>\n",
       "      <td>17</td>\n",
       "      <td>A</td>\n",
       "      <td>63</td>\n",
       "      <td>L</td>\n",
       "      <td>1.0</td>\n",
       "      <td>2019-05-27 17:00:00+00:00</td>\n",
       "      <td>2019-05-30 17:00:00+00:00</td>\n",
       "      <td>1</td>\n",
       "      <td>10628400.0</td>\n",
       "      <td>1.0</td>\n",
       "      <td>1</td>\n",
       "      <td>None</td>\n",
       "      <td>None</td>\n",
       "      <td>None</td>\n",
       "      <td>None</td>\n",
       "      <td>None</td>\n",
       "      <td>0</td>\n",
       "    </tr>\n",
       "    <tr>\n",
       "      <th>2</th>\n",
       "      <td>166042</td>\n",
       "      <td>523</td>\n",
       "      <td>17</td>\n",
       "      <td>KL</td>\n",
       "      <td>53</td>\n",
       "      <td>P</td>\n",
       "      <td>1.0</td>\n",
       "      <td>2019-07-16 17:00:00+00:00</td>\n",
       "      <td>2019-07-16 17:00:00+00:00</td>\n",
       "      <td>2</td>\n",
       "      <td>187300.0</td>\n",
       "      <td>1.0</td>\n",
       "      <td>3</td>\n",
       "      <td>None</td>\n",
       "      <td>None</td>\n",
       "      <td>None</td>\n",
       "      <td>None</td>\n",
       "      <td>None</td>\n",
       "      <td>0</td>\n",
       "    </tr>\n",
       "    <tr>\n",
       "      <th>3</th>\n",
       "      <td>168937</td>\n",
       "      <td>549</td>\n",
       "      <td>17</td>\n",
       "      <td>KL</td>\n",
       "      <td>54</td>\n",
       "      <td>P</td>\n",
       "      <td>1.0</td>\n",
       "      <td>2019-10-17 17:00:00+00:00</td>\n",
       "      <td>2019-10-17 17:00:00+00:00</td>\n",
       "      <td>2</td>\n",
       "      <td>187300.0</td>\n",
       "      <td>1.0</td>\n",
       "      <td>3</td>\n",
       "      <td>None</td>\n",
       "      <td>None</td>\n",
       "      <td>None</td>\n",
       "      <td>None</td>\n",
       "      <td>None</td>\n",
       "      <td>0</td>\n",
       "    </tr>\n",
       "    <tr>\n",
       "      <th>4</th>\n",
       "      <td>1005899</td>\n",
       "      <td>549</td>\n",
       "      <td>17</td>\n",
       "      <td>A</td>\n",
       "      <td>53</td>\n",
       "      <td>P</td>\n",
       "      <td>1.0</td>\n",
       "      <td>2018-04-18 17:00:00+00:00</td>\n",
       "      <td>2018-04-18 17:00:00+00:00</td>\n",
       "      <td>2</td>\n",
       "      <td>381600.0</td>\n",
       "      <td>1.0</td>\n",
       "      <td>3</td>\n",
       "      <td>None</td>\n",
       "      <td>None</td>\n",
       "      <td>None</td>\n",
       "      <td>None</td>\n",
       "      <td>None</td>\n",
       "      <td>0</td>\n",
       "    </tr>\n",
       "  </tbody>\n",
       "</table>\n",
       "</div>"
      ],
      "text/plain": [
       "        id  id_peserta  dati2 typefaskes  usia jenkel  pisat  \\\n",
       "0   165666         486     17         KL    48      P    1.0   \n",
       "1  1010828         520     17          A    63      L    1.0   \n",
       "2   166042         523     17         KL    53      P    1.0   \n",
       "3   168937         549     17         KL    54      P    1.0   \n",
       "4  1005899         549     17          A    53      P    1.0   \n",
       "\n",
       "                  tgldatang                 tglpulang  jenispel       biaya  \\\n",
       "0 2018-07-25 17:00:00+00:00 2018-07-25 17:00:00+00:00         2    184300.0   \n",
       "1 2019-05-27 17:00:00+00:00 2019-05-30 17:00:00+00:00         1  10628400.0   \n",
       "2 2019-07-16 17:00:00+00:00 2019-07-16 17:00:00+00:00         2    187300.0   \n",
       "3 2019-10-17 17:00:00+00:00 2019-10-17 17:00:00+00:00         2    187300.0   \n",
       "4 2018-04-18 17:00:00+00:00 2018-04-18 17:00:00+00:00         2    381600.0   \n",
       "\n",
       "   jenispulang  kelasrawat  kdsa  kdsp  kdsr  kdsi  kdsd  label  \n",
       "0          1.0           3  None  None  None  None  None      0  \n",
       "1          1.0           1  None  None  None  None  None      0  \n",
       "2          1.0           3  None  None  None  None  None      0  \n",
       "3          1.0           3  None  None  None  None  None      0  \n",
       "4          1.0           3  None  None  None  None  None      0  "
      ]
     },
     "execution_count": 69,
     "metadata": {},
     "output_type": "execute_result"
    }
   ],
   "source": [
    "df_update.head()"
   ]
  },
  {
   "cell_type": "code",
   "execution_count": 70,
   "id": "d9d253e7",
   "metadata": {},
   "outputs": [
    {
     "data": {
      "text/plain": [
       "id             0\n",
       "id_peserta     0\n",
       "dati2          0\n",
       "typefaskes     0\n",
       "usia           0\n",
       "jenkel         0\n",
       "pisat          0\n",
       "tgldatang      0\n",
       "tglpulang      0\n",
       "jenispel       0\n",
       "biaya          0\n",
       "jenispulang    0\n",
       "kelasrawat     0\n",
       "kdsa           0\n",
       "kdsp           0\n",
       "kdsr           0\n",
       "kdsi           0\n",
       "kdsd           0\n",
       "label          0\n",
       "dtype: int64"
      ]
     },
     "execution_count": 70,
     "metadata": {},
     "output_type": "execute_result"
    }
   ],
   "source": [
    "df_update.isna().sum()"
   ]
  },
  {
   "cell_type": "code",
   "execution_count": 71,
   "id": "34ea9875",
   "metadata": {},
   "outputs": [],
   "source": [
    "from sklearn.preprocessing import LabelEncoder\n",
    "\n",
    "le = LabelEncoder()\n",
    "\n",
    "# Label Encoding pada kolom typefaskes\n",
    "df_update['typefaskes'] = le.fit_transform(df_update['typefaskes'])\n",
    "# Label Encodeing pada kolom kdsp\n",
    "df_update['kdsp'] = le.fit_transform(df_update['kdsp'])\n",
    "# Label Encoding pada kolom kdsd\n",
    "df_update['kdsd'] = le.fit_transform(df_update['kdsd'])\n",
    "# Label Encoding pada kolom kdsa\n",
    "df_update['kdsa'] = le.fit_transform(df_update['kdsa'])\n",
    "# Label Encoding pada kolom kdsr\n",
    "df_update['kdsr'] = le.fit_transform(df_update['kdsr'])\n",
    "# Label Encoding pada kolom kdsi\n",
    "df_update['kdsi'] = le.fit_transform(df_update['kdsi'])"
   ]
  },
  {
   "cell_type": "markdown",
   "id": "12cf60f3",
   "metadata": {},
   "source": [
    "Kita menggunakan Label Encoding pada ketiga kolom tersebut karena kolom tersebut memiliki data unique > 9, karena jika kita menggunakan One Hot Encoding maka akan menambahkan banyak kolom baru, dan itu akan membuat pemodelan menjadi lebih lama"
   ]
  },
  {
   "cell_type": "code",
   "execution_count": 72,
   "id": "9be90498",
   "metadata": {},
   "outputs": [
    {
     "name": "stdout",
     "output_type": "stream",
     "text": [
      "<class 'pandas.core.frame.DataFrame'>\n",
      "RangeIndex: 11401882 entries, 0 to 11401881\n",
      "Data columns (total 19 columns):\n",
      " #   Column       Dtype              \n",
      "---  ------       -----              \n",
      " 0   id           int64              \n",
      " 1   id_peserta   int64              \n",
      " 2   dati2        int64              \n",
      " 3   typefaskes   int32              \n",
      " 4   usia         int64              \n",
      " 5   jenkel       object             \n",
      " 6   pisat        float64            \n",
      " 7   tgldatang    datetime64[ns, UTC]\n",
      " 8   tglpulang    datetime64[ns, UTC]\n",
      " 9   jenispel     int64              \n",
      " 10  biaya        float64            \n",
      " 11  jenispulang  float64            \n",
      " 12  kelasrawat   int64              \n",
      " 13  kdsa         int32              \n",
      " 14  kdsp         int32              \n",
      " 15  kdsr         int32              \n",
      " 16  kdsi         int32              \n",
      " 17  kdsd         int32              \n",
      " 18  label        int64              \n",
      "dtypes: datetime64[ns, UTC](2), float64(3), int32(6), int64(7), object(1)\n",
      "memory usage: 1.4+ GB\n"
     ]
    }
   ],
   "source": [
    "df_update.info()"
   ]
  },
  {
   "cell_type": "code",
   "execution_count": 74,
   "id": "7816188b",
   "metadata": {},
   "outputs": [],
   "source": [
    "df_update.to_parquet('data/sementara.parquet')"
   ]
  },
  {
   "cell_type": "code",
   "execution_count": 1,
   "id": "b1f3d70d",
   "metadata": {},
   "outputs": [],
   "source": [
    "import pandas as pd\n",
    "df_update = pd.read_parquet('data/sementara.parquet')\n",
    "# Select colom\n",
    "one_hot_columns = df_update.select_dtypes('object').columns\n",
    "\n",
    "# One Hot Encoding dengan pandas\n",
    "df_in = pd.get_dummies(df_update, columns=one_hot_columns)"
   ]
  },
  {
   "cell_type": "code",
   "execution_count": 2,
   "id": "bf25f5ec",
   "metadata": {},
   "outputs": [
    {
     "name": "stderr",
     "output_type": "stream",
     "text": [
      "C:\\Users\\feryi\\AppData\\Local\\Temp\\ipykernel_8284\\3746197675.py:9: FutureWarning: casting timedelta64[ns] values to int64 with .astype(...) is deprecated and will raise in a future version. Use .view(...) instead.\n",
      "  df_in['durasi'] = df_in['durasi'].astype('int64')/3600000000000\n"
     ]
    },
    {
     "name": "stdout",
     "output_type": "stream",
     "text": [
      "(11401882, 18)\n"
     ]
    }
   ],
   "source": [
    "# Membuat kolom durasi\n",
    "df_in['durasi'] = df_in['tglpulang']-df_in['tgldatang']\n",
    "\n",
    "# Convert waktu ke format asia\n",
    "df_in['tgldatang'] = df_in['tgldatang'].dt.tz_convert('Asia/Jakarta')\n",
    "df_in['tglpulang'] = df_in['tglpulang'].dt.tz_convert('Asia/Jakarta')\n",
    "\n",
    "# Mengubahnya menjadi integer dan dibagi 3600000000000 untuk merubah ke interval jam\n",
    "df_in['durasi'] = df_in['durasi'].astype('int64')/3600000000000 \n",
    "\n",
    "# Menghapus kolom tgldatang, tglpulang dan id\n",
    "df_in.drop(['tgldatang', 'tglpulang', 'id'], axis=1, inplace=True)\n",
    "\n",
    "print(df_in.shape)"
   ]
  },
  {
   "cell_type": "code",
   "execution_count": 3,
   "id": "51a7890f",
   "metadata": {},
   "outputs": [],
   "source": [
    "# Menyimpan data bersih\n",
    "df_in.to_parquet('data/data_clean_inbalance.parquet')"
   ]
  },
  {
   "cell_type": "code",
   "execution_count": 1,
   "id": "a5f7bca1",
   "metadata": {},
   "outputs": [
    {
     "name": "stdout",
     "output_type": "stream",
     "text": [
      "0    11244993\n",
      "1      156889\n",
      "Name: label, dtype: int64\n"
     ]
    },
    {
     "data": {
      "image/png": "[encoded data removed]",
      "text/plain": [
       "<Figure size 432x288 with 1 Axes>"
      ]
     },
     "metadata": {
      "needs_background": "light"
     },
     "output_type": "display_data"
    }
   ],
   "source": [
    "import pandas as pd\n",
    "import seaborn as sns\n",
    "import warnings\n",
    "warnings.filterwarnings('ignore')\n",
    "\n",
    "# Import data inbalance\n",
    "df = pd.read_parquet('data/data_clean_inbalance.parquet')\n",
    "\n",
    "sns.countplot(df.label)\n",
    "print(df.label.value_counts())"
   ]
  },
  {
   "cell_type": "code",
   "execution_count": 2,
   "id": "6404bff0",
   "metadata": {},
   "outputs": [
    {
     "data": {
      "text/plain": [
       "(11401882, 18)"
      ]
     },
     "execution_count": 2,
     "metadata": {},
     "output_type": "execute_result"
    }
   ],
   "source": [
    "df.shape"
   ]
  },
  {
   "cell_type": "markdown",
   "id": "6cddc6ee",
   "metadata": {},
   "source": [
    "Karena label yang merupakan inbalance problem maka kita akan melakukan Resample(Over Sampling) pada dataset, ini berguna agar kita memiliki data yang balance antara class 0 dan 1 untuk variabel dependen"
   ]
  },
  {
   "cell_type": "code",
   "execution_count": 3,
   "id": "d8ea851e",
   "metadata": {},
   "outputs": [
    {
     "data": {
      "text/plain": [
       "Index(['id_peserta', 'dati2', 'typefaskes', 'usia', 'pisat', 'jenispel',\n",
       "       'biaya', 'jenispulang', 'kelasrawat', 'kdsa', 'kdsp', 'kdsr', 'kdsi',\n",
       "       'kdsd', 'label', 'jenkel_L', 'jenkel_P', 'durasi'],\n",
       "      dtype='object')"
      ]
     },
     "execution_count": 3,
     "metadata": {},
     "output_type": "execute_result"
    }
   ],
   "source": [
    "df.columns"
   ]
  },
  {
   "cell_type": "code",
   "execution_count": 4,
   "id": "0112abf2",
   "metadata": {},
   "outputs": [],
   "source": [
    "from sklearn.utils import resample\n",
    "\n",
    "#create two different dataframe of majority and minority class \n",
    "df_majority = df[(df['label']==0)] \n",
    "df_minority = df[(df['label']==1)] \n",
    "\n",
    "# upsample minority class\n",
    "df_minority_upsampled = resample(df_minority, \n",
    "                                 replace=True,    \n",
    "                                 n_samples= 11244993, \n",
    "                                 random_state=42)  \n",
    "\n",
    "# Combine majority class with upsampled minority class\n",
    "df_balance = pd.concat([df_minority_upsampled, df_majority])\n",
    "\n",
    "# Save data yang telah di lakukan oversampling\n",
    "df_balance.to_parquet('data/data_clean_balance.parquet')"
   ]
  },
  {
   "cell_type": "code",
   "execution_count": 5,
   "id": "b80eaafd",
   "metadata": {},
   "outputs": [
    {
     "data": {
      "text/plain": [
       "(22489986, 18)"
      ]
     },
     "execution_count": 5,
     "metadata": {},
     "output_type": "execute_result"
    }
   ],
   "source": [
    "df_balance.shape"
   ]
  },
  {
   "cell_type": "code",
   "execution_count": 70,
   "id": "d148a59b",
   "metadata": {},
   "outputs": [
    {
     "data": {
      "text/plain": [
       "Index(['id_peserta', 'dati2', 'typefaskes', 'usia', 'pisat', 'jenispel',\n",
       "       'biaya', 'jenispulang', 'kelasrawat', 'kdsa', 'kdsp', 'kdsr', 'kdsi',\n",
       "       'kdsd', 'jenkel_L', 'jenkel_P', 'durasi'],\n",
       "      dtype='object')"
      ]
     },
     "execution_count": 70,
     "metadata": {},
     "output_type": "execute_result"
    }
   ],
   "source": [
    "df_in.columns"
   ]
  },
  {
   "cell_type": "markdown",
   "id": "6a62c467",
   "metadata": {},
   "source": [
    "## Modeling\n",
    "\n",
    "Kolom yang akan kita gunakan untuk melakukan prediksi terhadap efisiensi pelayanan pada BPJS Kesehatan terdapat 23 kolom yaitu:\n",
    "1. `id_peserta`: id peserta juga kita gunakan untuk melatih model agar mengenali id BPJS pengunjung\n",
    "2. `dati2`: Kolom ini berisi lokasi (kab/kota)  fasilitas kesehatan \n",
    "3. `typefaskes`: Adalah jenis fasilitas kesehatan yang di tawarkan oleh BPJS kesehatan\n",
    "4. `usia`: Kolom berisi usia pengunjung \n",
    "5. `pisat`: Kolom hubungan kepesertaan dimana yang terdaftar merupakan anggota keluarga dan sebagainya\n",
    "6. `jenispel`: Kolom berisi jenis pelayanan yang disediakan BPJS\n",
    "7. `biaya`: adalah biaya yang di keluarkan pengunjung\n",
    "8. `jenispulang`:Keadaan pengunjung setelah selesai melakukan pelayanan pada BPJS\n",
    "9. `kelasrawat`: Kelas/tingkatan kamar yang di pesan oleh pengunjung\n",
    "10. `kdsp`: Kolom Kode Special Procedures\n",
    "11. `kdsd`: Kolom Kode Special Drugs\n",
    "12. `kdsa`: Kolom Kode Special Sub-Acute Group\n",
    "13. `kdsi`: Kolom Kode Special Investigation\n",
    "14. `kdsr`: Kolom Kode Special Proteshis\n",
    "15. `jenkel_L`: Jenis kelamin laki-laki yang telah dilakukan One-Hot Encode\n",
    "16. `jenkel_P`: Jenis kelamin perempuan yang telah dilakukan One-Hot Encode\n",
    "17. `durasi`: Lama waktu pelayanan pengunjung BPJS Kesehatan"
   ]
  },
  {
   "cell_type": "code",
   "execution_count": 1,
   "id": "a612151a",
   "metadata": {},
   "outputs": [
    {
     "name": "stdout",
     "output_type": "stream",
     "text": [
      "1    11244993\n",
      "0    11244993\n",
      "Name: label, dtype: int64\n"
     ]
    },
    {
     "data": {
      "image/png": "[encoded data removed]",
      "text/plain": [
       "<Figure size 432x288 with 1 Axes>"
      ]
     },
     "metadata": {
      "needs_background": "light"
     },
     "output_type": "display_data"
    }
   ],
   "source": [
    "import pandas as pd\n",
    "import seaborn as sns\n",
    "import warnings\n",
    "warnings.filterwarnings('ignore')\n",
    "\n",
    "# lokasi data balance\n",
    "path = 'data/data_clean_balance.parquet'\n",
    "\n",
    "# Read data balance\n",
    "df = pd.read_parquet(path)\n",
    "\n",
    "sns.countplot(df.label)\n",
    "print(df.label.value_counts())"
   ]
  },
  {
   "cell_type": "code",
   "execution_count": 2,
   "id": "0d818106",
   "metadata": {},
   "outputs": [
    {
     "name": "stdout",
     "output_type": "stream",
     "text": [
      "(22489986, 18)\n",
      "Index(['id_peserta', 'dati2', 'typefaskes', 'usia', 'pisat', 'jenispel',\n",
      "       'biaya', 'jenispulang', 'kelasrawat', 'kdsa', 'kdsp', 'kdsr', 'kdsi',\n",
      "       'kdsd', 'label', 'jenkel_L', 'jenkel_P', 'durasi'],\n",
      "      dtype='object')\n"
     ]
    }
   ],
   "source": [
    "print(df.shape)\n",
    "print(df.columns)"
   ]
  },
  {
   "cell_type": "code",
   "execution_count": 3,
   "id": "d674285e",
   "metadata": {},
   "outputs": [],
   "source": [
    "# Splitting dataset dengan scikit-learn\n",
    "from sklearn.model_selection import train_test_split\n",
    "\n",
    "# Select variabel X dan Y\n",
    "X = df.drop('label', axis=1)\n",
    "y = df['label']"
   ]
  },
  {
   "cell_type": "code",
   "execution_count": 4,
   "id": "168c4ccd",
   "metadata": {},
   "outputs": [
    {
     "name": "stdout",
     "output_type": "stream",
     "text": [
      "(22489986, 18)\n",
      "(22489986, 17)\n",
      "(22489986,)\n"
     ]
    }
   ],
   "source": [
    "print(df.shape)\n",
    "print(X.shape)\n",
    "print(y.shape)"
   ]
  },
  {
   "cell_type": "code",
   "execution_count": 5,
   "id": "26d4bad5",
   "metadata": {},
   "outputs": [],
   "source": [
    "# Splitting dataset\n",
    "X_train, X_test, y_train, y_test = train_test_split(X, y, test_size=0.1)"
   ]
  },
  {
   "cell_type": "code",
   "execution_count": 6,
   "id": "9328edf9",
   "metadata": {},
   "outputs": [
    {
     "data": {
      "text/plain": [
       "(2248999,)"
      ]
     },
     "execution_count": 6,
     "metadata": {},
     "output_type": "execute_result"
    }
   ],
   "source": [
    "y_test.shape"
   ]
  },
  {
   "cell_type": "code",
   "execution_count": 7,
   "id": "8dfbcd9d",
   "metadata": {},
   "outputs": [],
   "source": [
    "X_min = X_test\n",
    "y_min = y_test\n",
    "\n",
    "X_train, X_test, y_train, y_test = train_test_split(X_min, y_min, test_size=0.3)"
   ]
  },
  {
   "cell_type": "code",
   "execution_count": 8,
   "id": "d134d877",
   "metadata": {},
   "outputs": [],
   "source": [
    "X_last = X_test\n",
    "y_last = y_test\n",
    "\n",
    "X_train, X_test, y_train, y_test = train_test_split(X_last, y_last, test_size=0.3)"
   ]
  },
  {
   "cell_type": "code",
   "execution_count": 9,
   "id": "87481dfd",
   "metadata": {},
   "outputs": [
    {
     "data": {
      "text/plain": [
       "(202410, 17)"
      ]
     },
     "execution_count": 9,
     "metadata": {},
     "output_type": "execute_result"
    }
   ],
   "source": [
    "X_test.shape"
   ]
  },
  {
   "cell_type": "markdown",
   "id": "e8026b2a",
   "metadata": {},
   "source": [
    "Untuk pemodelan kami hanya menggunakan 944579 data train dan 202410 baris untuk data test secara random karena agar tidak memakan komputasi yang banyak serta tidak memakan banyak waktu. Karena proses ini hanya untuk mencari tahu algoritma machine learning terbaik yang akan kita gunakan untuk pemodelan akhir."
   ]
  },
  {
   "cell_type": "markdown",
   "id": "abfbcecc",
   "metadata": {},
   "source": [
    "### Logistic Regression"
   ]
  },
  {
   "cell_type": "code",
   "execution_count": 13,
   "id": "85a189d7",
   "metadata": {},
   "outputs": [
    {
     "name": "stdout",
     "output_type": "stream",
     "text": [
      "              precision    recall  f1-score   support\n",
      "\n",
      "           0       0.52      0.06      0.11    101407\n",
      "           1       0.50      0.95      0.65    101003\n",
      "\n",
      "    accuracy                           0.50    202410\n",
      "   macro avg       0.51      0.50      0.38    202410\n",
      "weighted avg       0.51      0.50      0.38    202410\n",
      "\n"
     ]
    }
   ],
   "source": [
    "from sklearn.metrics import classification_report\n",
    "from sklearn.linear_model import LogisticRegression\n",
    "\n",
    "# Standard logistic regression\n",
    "lr = LogisticRegression().fit(X_train, y_train)\n",
    "\n",
    "lr_pred = lr.predict(X_test)\n",
    "\n",
    "print(classification_report(y_test, lr_pred))"
   ]
  },
  {
   "cell_type": "markdown",
   "id": "3cbdb5b9",
   "metadata": {},
   "source": [
    "### K-Nearest Neighbors"
   ]
  },
  {
   "cell_type": "code",
   "execution_count": 13,
   "id": "083fd4da",
   "metadata": {},
   "outputs": [
    {
     "name": "stdout",
     "output_type": "stream",
     "text": [
      "              precision    recall  f1-score   support\n",
      "\n",
      "           0       0.81      0.74      0.77    101012\n",
      "           1       0.76      0.82      0.79    101398\n",
      "\n",
      "    accuracy                           0.78    202410\n",
      "   macro avg       0.78      0.78      0.78    202410\n",
      "weighted avg       0.78      0.78      0.78    202410\n",
      "\n"
     ]
    }
   ],
   "source": [
    "from sklearn.neighbors import KNeighborsClassifier\n",
    "\n",
    "knn = KNeighborsClassifier().fit(X_train, y_train)\n",
    "\n",
    "knn_pred = knn.predict(X_test)\n",
    "print(classification_report(y_test, knn_pred))"
   ]
  },
  {
   "cell_type": "markdown",
   "id": "8600568c",
   "metadata": {},
   "source": [
    "### Decision Tree"
   ]
  },
  {
   "cell_type": "code",
   "execution_count": 14,
   "id": "1eeced0b",
   "metadata": {},
   "outputs": [
    {
     "name": "stdout",
     "output_type": "stream",
     "text": [
      "              precision    recall  f1-score   support\n",
      "\n",
      "           0       0.93      0.84      0.88    101407\n",
      "           1       0.85      0.94      0.89    101003\n",
      "\n",
      "    accuracy                           0.89    202410\n",
      "   macro avg       0.89      0.89      0.89    202410\n",
      "weighted avg       0.89      0.89      0.89    202410\n",
      "\n"
     ]
    }
   ],
   "source": [
    "from sklearn.tree import DecisionTreeClassifier\n",
    "\n",
    "dt = DecisionTreeClassifier(random_state=42)\n",
    "dt_model = dt.fit(X_train, y_train)\n",
    "\n",
    "dt_pred = dt_model.predict(X_test)\n",
    "print(classification_report(y_test, dt_pred))"
   ]
  },
  {
   "cell_type": "markdown",
   "id": "be3cb303",
   "metadata": {},
   "source": [
    "### Random Forest"
   ]
  },
  {
   "cell_type": "code",
   "execution_count": 15,
   "id": "393e3b37",
   "metadata": {},
   "outputs": [
    {
     "name": "stdout",
     "output_type": "stream",
     "text": [
      "              precision    recall  f1-score   support\n",
      "\n",
      "           0       0.92      0.91      0.92    101407\n",
      "           1       0.91      0.92      0.92    101003\n",
      "\n",
      "    accuracy                           0.92    202410\n",
      "   macro avg       0.92      0.92      0.92    202410\n",
      "weighted avg       0.92      0.92      0.92    202410\n",
      "\n"
     ]
    }
   ],
   "source": [
    "from sklearn.ensemble import RandomForestClassifier\n",
    "\n",
    "rf = RandomForestClassifier(random_state=42)\n",
    "rf_model = rf.fit(X_train, y_train)\n",
    "\n",
    "rf_pred = rf_model.predict(X_test)\n",
    "print(classification_report(y_test, rf_pred))"
   ]
  },
  {
   "cell_type": "markdown",
   "id": "0d776bf3",
   "metadata": {},
   "source": [
    "### Gradient Boosting"
   ]
  },
  {
   "cell_type": "code",
   "execution_count": 16,
   "id": "61427ee8",
   "metadata": {},
   "outputs": [
    {
     "name": "stdout",
     "output_type": "stream",
     "text": [
      "              precision    recall  f1-score   support\n",
      "\n",
      "           0       0.70      0.74      0.72    101407\n",
      "           1       0.72      0.68      0.70    101003\n",
      "\n",
      "    accuracy                           0.71    202410\n",
      "   macro avg       0.71      0.71      0.71    202410\n",
      "weighted avg       0.71      0.71      0.71    202410\n",
      "\n"
     ]
    }
   ],
   "source": [
    "from sklearn.ensemble import GradientBoostingClassifier\n",
    "\n",
    "gbc = GradientBoostingClassifier(random_state=42)\n",
    "gbc_model = gbc.fit(X_train, y_train)\n",
    "\n",
    "gbc_pred = gbc_model.predict(X_test)\n",
    "print(classification_report(y_test, gbc_pred))"
   ]
  },
  {
   "cell_type": "markdown",
   "id": "21038f74",
   "metadata": {},
   "source": [
    "### Gausian Naive Bayes"
   ]
  },
  {
   "cell_type": "code",
   "execution_count": 17,
   "id": "7d2e50a8",
   "metadata": {},
   "outputs": [
    {
     "name": "stdout",
     "output_type": "stream",
     "text": [
      "              precision    recall  f1-score   support\n",
      "\n",
      "           0       0.51      0.64      0.57    101407\n",
      "           1       0.52      0.40      0.45    101003\n",
      "\n",
      "    accuracy                           0.52    202410\n",
      "   macro avg       0.52      0.52      0.51    202410\n",
      "weighted avg       0.52      0.52      0.51    202410\n",
      "\n"
     ]
    }
   ],
   "source": [
    "from sklearn.naive_bayes import GaussianNB\n",
    "\n",
    "gnb = GaussianNB()\n",
    "\n",
    "model_gnb = gnb.fit(X_train, y_train)\n",
    "\n",
    "gnb_pred = model_gnb.predict(X_test)\n",
    "print(classification_report(y_test, gnb_pred))"
   ]
  },
  {
   "cell_type": "markdown",
   "id": "1302db48",
   "metadata": {},
   "source": [
    "## Evaluation"
   ]
  },
  {
   "cell_type": "markdown",
   "id": "0da6ee34",
   "metadata": {},
   "source": [
    "Bisa di lihat dari beberapa model yang telah kita pilih, terlihat data pada kasus ini lebih cocok menggunakan model pohon keputusan yaitu seperti\n",
    "- Decision Tree\n",
    "- Random Forest\n",
    "\n",
    "Namun ada hal yang membuat kita sedikit bertanya-tanya, yaitu pada model **`Gradient Boosting`**\n",
    "\n",
    "Padahal model ini juga berupa model dengan pohon keputusan, namun performanya berbeda jauh dengan **`Decision Tree`** yang merupakan model pohon keputusan sesungguhnya\n",
    "\n",
    "Perkiraan kita sebelumnya adalah model **`Gradient Boosting`** seharusnya lebih bagus, karena model ini bekerja dengan melakukan pemodelan ulang pada pohon keputusan.\n",
    "\n",
    "Karena penasaran maka kita coba dengan mencari berapa banyak pohon keputusan terbaik "
   ]
  },
  {
   "cell_type": "code",
   "execution_count": 14,
   "id": "af8d9ddb",
   "metadata": {},
   "outputs": [
    {
     "name": "stdout",
     "output_type": "stream",
     "text": [
      "Fitting model with 15 trees\n",
      "Fitting model with 25 trees\n",
      "Fitting model with 50 trees\n",
      "Fitting model with 100 trees\n",
      "Fitting model with 200 trees\n",
      "Fitting model with 400 trees\n"
     ]
    }
   ],
   "source": [
    "from sklearn.ensemble import GradientBoostingClassifier\n",
    "\n",
    "error_list = list()\n",
    "\n",
    "tree_list = [15, 25, 50, 100, 200, 400]\n",
    "for n_trees in tree_list:\n",
    "    \n",
    "    # Initialize the gradient boost classifier\n",
    "    GBC = GradientBoostingClassifier(n_estimators=n_trees, random_state=42)\n",
    "\n",
    "    # Fit the model\n",
    "    print(f'Fitting model with {n_trees} trees')\n",
    "    GBC.fit(X_train.values, y_train.values)\n",
    "    gbc_pred = GBC.predict(X_test)\n",
    "\n",
    "    # Get the error\n",
    "    error = 1.0 - accuracy_score(y_test, gbc_pred)\n",
    "    \n",
    "    # Store it\n",
    "    error_list.append(pd.Series({'n_trees': n_trees, 'error': error}))\n",
    "\n",
    "error_df = pd.concat(error_list, axis=1).T.set_index('n_trees')"
   ]
  },
  {
   "cell_type": "code",
   "execution_count": 16,
   "id": "3f273657",
   "metadata": {},
   "outputs": [
    {
     "data": {
      "image/png": "[encoded data removed]",
      "text/plain": [
       "<Figure size 864x576 with 1 Axes>"
      ]
     },
     "metadata": {},
     "output_type": "display_data"
    }
   ],
   "source": [
    "sns.set_context('talk')\n",
    "sns.set_style('white')\n",
    "#sns.set_palette(palette)\n",
    "\n",
    "# Create the plot\n",
    "ax = error_df.plot(marker='o', figsize=(12, 8), linewidth=5)\n",
    "\n",
    "# Set parameters\n",
    "ax.set(xlabel='Number of Trees', ylabel='Error')\n",
    "ax.set_xlim(0, max(error_df.index)*1.1);"
   ]
  },
  {
   "cell_type": "markdown",
   "id": "0535d4fc",
   "metadata": {},
   "source": [
    "**`Gradient Boosting`** memerlukan banyak pohon keputusan untuk mendapatkan performa model yang baik, terlihat pada grafik bahwa semakin banyak pohon maka error yang dihasilkan semakin sedikit. Sebenarnya model ini bisa saja menjadi lebih baik jika kita melakukan hyperparameter dengan pemilihan nilai yang cukup besar seperti memperbanyak jumlah pohon, namun proses ini akan memakan komputasi dan waktu yang banyak.\n",
    "\n",
    "Mari kita coba dengan model Random Forest"
   ]
  },
  {
   "cell_type": "markdown",
   "id": "039c603a",
   "metadata": {},
   "source": [
    "#### Banyaknya Pohon (n_estimators)"
   ]
  },
  {
   "cell_type": "code",
   "execution_count": 18,
   "id": "c9ea6c0e",
   "metadata": {},
   "outputs": [
    {
     "name": "stdout",
     "output_type": "stream",
     "text": [
      "Fitting model with 15 trees\n",
      "Fitting model with 25 trees\n",
      "Fitting model with 50 trees\n",
      "Fitting model with 100 trees\n",
      "Fitting model with 200 trees\n",
      "Fitting model with 400 trees\n"
     ]
    }
   ],
   "source": [
    "import warnings\n",
    "warnings.filterwarnings('ignore')\n",
    "\n",
    "from sklearn.ensemble import RandomForestClassifier\n",
    "from sklearn.metrics import accuracy_score, precision_score, recall_score, f1_score\n",
    "\n",
    "accuracy_list = list()\n",
    "precision\n",
    "\n",
    "# Set banyaknya pohon\n",
    "tree_list = [15, 25, 50, 100, 200, 400]\n",
    "for n_trees in tree_list:\n",
    "    \n",
    "    # Inisialisasi Random Forest\n",
    "    RF = RandomForestClassifier(n_estimators=n_trees, random_state=42)\n",
    "\n",
    "    # Fit the model\n",
    "    print(f'Fitting model with {n_trees} trees')\n",
    "    RF.fit(X_train.values, y_train.values)\n",
    "    rf_pred = RF.predict(X_test)\n",
    "\n",
    "    # Mencari nilai error\n",
    "    error = 1.0 - accuracy_score(y_test, rf_pred)\n",
    "    \n",
    "    # Masukan kedalam dataframe\n",
    "    error_list.append(pd.Series({'n_trees': n_trees, 'error': error}))\n",
    "\n",
    "error_df = pd.concat(error_list, axis=1).T.set_index('n_trees')"
   ]
  },
  {
   "cell_type": "code",
   "execution_count": 19,
   "id": "3193c96f",
   "metadata": {},
   "outputs": [
    {
     "data": {
      "image/png": "[encoded data removed]",
      "text/plain": [
       "<Figure size 864x576 with 1 Axes>"
      ]
     },
     "metadata": {},
     "output_type": "display_data"
    }
   ],
   "source": [
    "import seaborn as sns\n",
    "\n",
    "sns.set_context('talk')\n",
    "sns.set_style('white')\n",
    "\n",
    "# Create the plot\n",
    "ax = error_df.plot(marker='o', figsize=(12, 8), linewidth=5)\n",
    "\n",
    "# Set parameters\n",
    "ax.set(xlabel='Number of Trees', ylabel='Error')\n",
    "ax.set_xlim(0, max(error_df.index)*1.1);"
   ]
  },
  {
   "cell_type": "markdown",
   "id": "060b4221",
   "metadata": {},
   "source": [
    "Terlihat untuk model **`Random Forest`** mulai lebih baik performanya pada pembentukan 100 pohon keputusan, dimana jumlah ini adalah default yang telah ditetapkan oleh **`scikit-learn`** pantas saja meskipun kita tidak melakukan setting parameter namun performa dari model ini sudah cukup baik sehingga kita tidak perlu melakukan hyperparameter tuning pada model ini."
   ]
  },
  {
   "cell_type": "markdown",
   "id": "7c27405f",
   "metadata": {},
   "source": [
    "#### Kedalaman/Panjang Pohon (max_depth)"
   ]
  },
  {
   "cell_type": "code",
   "execution_count": 19,
   "id": "5711419d",
   "metadata": {},
   "outputs": [
    {
     "name": "stdout",
     "output_type": "stream",
     "text": [
      "Fitting model with 10 depth\n",
      "Fitting model with 20 depth\n",
      "Fitting model with 30 depth\n",
      "Fitting model with 40 depth\n",
      "Fitting model with 50 depth\n",
      "Fitting model with 60 depth\n",
      "Fitting model with 70 depth\n",
      "Fitting model with 80 depth\n",
      "Fitting model with 90 depth\n",
      "Fitting model with 100 depth\n",
      "Fitting model with 110 depth\n"
     ]
    }
   ],
   "source": [
    "import numpy as np\n",
    "import warnings\n",
    "warnings.filterwarnings('ignore')\n",
    "\n",
    "from sklearn.ensemble import RandomForestClassifier\n",
    "from sklearn.metrics import accuracy_score\n",
    "\n",
    "error_list = list()\n",
    "\n",
    "depth_list = [int(x) for x in np.linspace(10, 110, num=11)]\n",
    "for depth in depth_list:\n",
    "    \n",
    "    # Initialize the gradient boost classifier\n",
    "    RF = RandomForestClassifier(max_depth=depth, random_state=42)\n",
    "\n",
    "    # Fit the model\n",
    "    print(f'Fitting model with {depth} depth')\n",
    "    RF.fit(X_train.values, y_train.values)\n",
    "    rf_pred = RF.predict(X_test)\n",
    "\n",
    "    # Get the error\n",
    "    error = 1.0 - accuracy_score(y_test, rf_pred)\n",
    "    \n",
    "    # Store it\n",
    "    error_list.append(pd.Series({'n_depth': depth, 'error': error}))\n",
    "\n",
    "error_df = pd.concat(error_list, axis=1).T.set_index('n_depth')"
   ]
  },
  {
   "cell_type": "code",
   "execution_count": 20,
   "id": "380868b5",
   "metadata": {},
   "outputs": [
    {
     "data": {
      "image/png": "[encoded data removed]",
      "text/plain": [
       "<Figure size 864x576 with 1 Axes>"
      ]
     },
     "metadata": {},
     "output_type": "display_data"
    }
   ],
   "source": [
    "import seaborn as sns\n",
    "\n",
    "sns.set_context('talk')\n",
    "sns.set_style('white')\n",
    "\n",
    "# Create the plot\n",
    "ax = error_df.plot(marker='o', figsize=(12, 8), linewidth=5)\n",
    "\n",
    "# Set parameters\n",
    "ax.set(xlabel='Number of Depth Trees', ylabel='Error')\n",
    "ax.set_xlim(0, max(error_df.index)*1.1);"
   ]
  },
  {
   "cell_type": "markdown",
   "id": "f81c45dd",
   "metadata": {},
   "source": [
    "Ini mengejutkan, ternyata dengan menambahkan kedalaman panjang dari pohon keputusan `(max-depth)` bisa membuat model Random Forest memiliki eror di bawah 0.05 dari kedalaman 40, mari kita coba dengan parameter lain."
   ]
  },
  {
   "cell_type": "markdown",
   "id": "b624d047",
   "metadata": {},
   "source": [
    "#### Minimum Pengamatan Sempel (min_samples_split)"
   ]
  },
  {
   "cell_type": "code",
   "execution_count": 24,
   "id": "0b3804e7",
   "metadata": {},
   "outputs": [
    {
     "name": "stdout",
     "output_type": "stream",
     "text": [
      "Fitting model with 2 Min sample split\n",
      "Fitting model with 4 Min sample split\n",
      "Fitting model with 6 Min sample split\n",
      "Fitting model with 8 Min sample split\n",
      "Fitting model with 10 Min sample split\n"
     ]
    }
   ],
   "source": [
    "error_list = list()\n",
    "\n",
    "split_list = [2, 4, 6, 8, 10]\n",
    "for split in split_list:\n",
    "    \n",
    "    # Initialize the gradient boost classifier\n",
    "    RF = RandomForestClassifier(min_samples_split=split, random_state=42)\n",
    "\n",
    "    # Fit the model\n",
    "    print(f'Fitting model with {split} Min sample split')\n",
    "    RF.fit(X_train.values, y_train.values)\n",
    "    rf_pred = RF.predict(X_test)\n",
    "\n",
    "    # Get the error\n",
    "    error = 1.0 - accuracy_score(y_test, rf_pred)\n",
    "    \n",
    "    # Store it\n",
    "    error_list.append(pd.Series({'n_split': split, 'error': error}))\n",
    "\n",
    "error_df = pd.concat(error_list, axis=1).T.set_index('n_split')"
   ]
  },
  {
   "cell_type": "code",
   "execution_count": 25,
   "id": "f16b7590",
   "metadata": {},
   "outputs": [
    {
     "data": {
      "image/png": "[encoded data removed]",
      "text/plain": [
       "<Figure size 864x576 with 1 Axes>"
      ]
     },
     "metadata": {},
     "output_type": "display_data"
    }
   ],
   "source": [
    "import seaborn as sns\n",
    "\n",
    "sns.set_context('talk')\n",
    "sns.set_style('white')\n",
    "\n",
    "# Create the plot\n",
    "ax = error_df.plot(marker='o', figsize=(12, 8), linewidth=5)\n",
    "\n",
    "# Set parameters\n",
    "ax.set(xlabel='Number of Min Sample Split', ylabel='Error')\n",
    "ax.set_xlim(0, max(error_df.index)*1.1);"
   ]
  },
  {
   "cell_type": "markdown",
   "id": "f45ad062",
   "metadata": {},
   "source": [
    "Ternyata dnegan menambahkan pengamatan sempel `(min_samples_split)` malah memperbesar nilai error nya, artinya model Random Forest sudah lebih baik pada default pengamatan dari scikit-learn yaitu 2."
   ]
  },
  {
   "cell_type": "markdown",
   "id": "f2953de0",
   "metadata": {},
   "source": [
    "#### Minimum Pembentkan Daun (min_samples_leaf)"
   ]
  },
  {
   "cell_type": "code",
   "execution_count": 38,
   "id": "343649b9",
   "metadata": {},
   "outputs": [
    {
     "name": "stdout",
     "output_type": "stream",
     "text": [
      "Fitting model with 1 Min Leaf\n",
      "Fitting model with 2 Min Leaf\n",
      "Fitting model with 3 Min Leaf\n",
      "Fitting model with 4 Min Leaf\n",
      "Fitting model with 5 Min Leaf\n",
      "Fitting model with 6 Min Leaf\n",
      "Fitting model with 7 Min Leaf\n",
      "Fitting model with 8 Min Leaf\n",
      "Fitting model with 9 Min Leaf\n",
      "Fitting model with 10 Min Leaf\n"
     ]
    }
   ],
   "source": [
    "error_list = list()\n",
    "\n",
    "leaf_list = [1,2,3,4,5,6,7,8,9,10]\n",
    "for leaf in leaf_list:\n",
    "    \n",
    "    # Initialize the gradient boost classifier\n",
    "    RF = RandomForestClassifier(min_samples_leaf=leaf, random_state=42)\n",
    "\n",
    "    # Fit the model\n",
    "    print(f'Fitting model with {leaf} Min Leaf')\n",
    "    RF.fit(X_train.values, y_train.values)\n",
    "    rf_pred = RF.predict(X_test)\n",
    "\n",
    "    # Get the error\n",
    "    error = 1.0 - accuracy_score(y_test, rf_pred)\n",
    "    \n",
    "    # Store it\n",
    "    error_list.append(pd.Series({'n_leaf': leaf, 'error': error}))\n",
    "\n",
    "error_df = pd.concat(error_list, axis=1).T.set_index('n_leaf')"
   ]
  },
  {
   "cell_type": "code",
   "execution_count": 39,
   "id": "0b77041e",
   "metadata": {},
   "outputs": [
    {
     "data": {
      "image/png": "[encoded data removed]",
      "text/plain": [
       "<Figure size 864x576 with 1 Axes>"
      ]
     },
     "metadata": {},
     "output_type": "display_data"
    }
   ],
   "source": [
    "import seaborn as sns\n",
    "\n",
    "sns.set_context('talk')\n",
    "sns.set_style('white')\n",
    "\n",
    "# Create the plot\n",
    "ax = error_df.plot(marker='o', figsize=(12, 8), linewidth=5)\n",
    "\n",
    "# Set parameters\n",
    "ax.set(xlabel='Number of Min Sample Leaf', ylabel='Error')\n",
    "ax.set_xlim(0, max(error_df.index)*1.1);"
   ]
  },
  {
   "cell_type": "markdown",
   "id": "af1d5e08",
   "metadata": {},
   "source": [
    "Untuk nilai minimum dari daun yang di bentuk `(min_samples_leaf)` juga semakin tinggi nilainya maka semakil buruk model yang di hasilkan, artinya model Random Forest sudah baik dengan min_samples_leaf default nya dari scikit-learn yaitu 1"
   ]
  },
  {
   "cell_type": "markdown",
   "id": "05cb8270",
   "metadata": {},
   "source": [
    "#### Maximum Pengamatan Feature (max_features)"
   ]
  },
  {
   "cell_type": "code",
   "execution_count": 30,
   "id": "168d7ea8",
   "metadata": {},
   "outputs": [
    {
     "name": "stdout",
     "output_type": "stream",
     "text": [
      "Fitting model with sqrt Min Leaf\n",
      "Fitting model with log2 Min Leaf\n",
      "Fitting model with auto Min Leaf\n"
     ]
    }
   ],
   "source": [
    "error_list = list()\n",
    "\n",
    "feature_list = ['sqrt', 'log2', 'auto']\n",
    "for feature in feature_list:\n",
    "    \n",
    "    # Initialize the gradient boost classifier\n",
    "    RF = RandomForestClassifier(max_features=feature, random_state=42)\n",
    "\n",
    "    # Fit the model\n",
    "    print(f'Fitting model with {feature} Min Leaf')\n",
    "    RF.fit(X_train.values, y_train.values)\n",
    "    rf_pred = RF.predict(X_test)\n",
    "\n",
    "    # Get the error\n",
    "    error = 1.0 - accuracy_score(y_test, rf_pred)\n",
    "    \n",
    "    # Store it\n",
    "    error_list.append(pd.Series({'n_feature': feature, 'error': error}))\n",
    "\n",
    "error_df = pd.concat(error_list, axis=1).T.set_index('n_feature')"
   ]
  },
  {
   "cell_type": "code",
   "execution_count": 36,
   "id": "383a12e6",
   "metadata": {},
   "outputs": [
    {
     "data": {
      "image/png": "[encoded data removed]",
      "text/plain": [
       "<Figure size 864x576 with 1 Axes>"
      ]
     },
     "metadata": {},
     "output_type": "display_data"
    }
   ],
   "source": [
    "import seaborn as sns\n",
    "\n",
    "sns.set_context('talk')\n",
    "sns.set_style('white')\n",
    "\n",
    "# Create the plot\n",
    "ax = error_df.plot(marker='o', figsize=(12, 8), linewidth=5)\n",
    "\n",
    "# Set parameters\n",
    "ax.set(xlabel='Max Feature', ylabel='Error');"
   ]
  },
  {
   "cell_type": "markdown",
   "id": "33e2f74f",
   "metadata": {},
   "source": [
    "Dari ketiga Max Feature ternhyata memiliki performa yang sama baik `auto, sqrt dan log2`. \n",
    "\n",
    "Sekarang kita akan mencoba melihat performa dengan parameter yang kita tentukan sendiri dan parameter yang di tentukan oleh **GridSearchCV** untuk menentukan model yang terbaik."
   ]
  },
  {
   "cell_type": "code",
   "execution_count": 15,
   "id": "2248220b",
   "metadata": {},
   "outputs": [
    {
     "name": "stderr",
     "output_type": "stream",
     "text": [
      "[Parallel(n_jobs=-1)]: Using backend ThreadingBackend with 2 concurrent workers.\n",
      "[Parallel(n_jobs=-1)]: Done  46 tasks      | elapsed:  1.0min\n",
      "[Parallel(n_jobs=-1)]: Done 196 tasks      | elapsed:  4.2min\n",
      "[Parallel(n_jobs=-1)]: Done 400 out of 400 | elapsed:  8.8min finished\n"
     ]
    }
   ],
   "source": [
    "from sklearn.ensemble import RandomForestClassifier\n",
    "# Hyperparameter dengan pilihan sendiri\n",
    "rf = RandomForestClassifier(n_estimators=400,\n",
    "                           max_depth=60,\n",
    "                           min_samples_split=2,\n",
    "                           min_samples_leaf=1,\n",
    "                           max_features='sqrt',\n",
    "                           n_jobs=-1, verbose=1,\n",
    "                           random_state=42)\n",
    "\n",
    "my_model = rf.fit(X_train, y_train)"
   ]
  },
  {
   "cell_type": "markdown",
   "id": "cf0d530f",
   "metadata": {},
   "source": [
    "Setelah kita melakukan beberapa penyesuaian pada parameter Random Forest bisa dilihat model ini memang cukup baik untuk kasus dataset ini.\n",
    "\n",
    "Akhirnya kami putuskan untuk memilih **`Random Forest Classifier`** sebagai model yang akan kita gunakan untuk membangun machine learning pada dataset ini."
   ]
  },
  {
   "cell_type": "code",
   "execution_count": 73,
   "id": "4a32a345",
   "metadata": {},
   "outputs": [],
   "source": [
    "# Save model\n",
    "import pickle\n",
    " \n",
    "# Build Hasil Model default\n",
    "pickle.dump(open(model, 'random_forest.pkl', 'rb'))  "
   ]
  },
  {
   "cell_type": "markdown",
   "id": "7681405e",
   "metadata": {},
   "source": [
    "## Conclusion\n",
    "Ketika menganalisa data kita tidak menemukan adanya perbedaan yang cukup signifikan antara pelayanan yang tergolong `efisien` dan `inefisien`, namun ada beberapa temuan seperti: \n",
    "- Pada kolom-kolom Kode Special terdapat perbedaan antara label 0 dan 1, dimana pada label tidak semua kode special terdapat di label tersebut.\n",
    "- Pada koom biaya, nilai maximum biaya pada label 1 hanya sekitar 309451300.0 sedangkan dari keseluruhan data dan label 0 biaya maximum sebesar 401696600.0\n",
    "\n",
    "Karena kita tidak bisa mengambil kesimpulan dari analisa tersebut untuk menentukan seperti apa saja transaksi yang tergolong `efisien` dan `inefisien` maka kita akan menggunakan Machine Learning untuk memprediksinya.\n",
    "\n",
    "Model Machine Learning yang kita bangun dengan 24 kolom yaitu `'id_peserta', 'dati2', 'typefaskes', 'usia', 'pisat', 'jenispel', 'biaya', 'jenispulang', 'kelasrawat', 'kdsa', 'kdsp', 'kdsr', 'kdsi','kdsd', 'jenkel_L', 'jenkel_P', 'durasi'` untuk melakukan prediksi terhadap efisiensi pelayana  BPJS kesehatan `'label'`.\n",
    "\n",
    "Pada pemilihan model machine learning kita memilih untuk menggunakan **`Random Forest Classifier`** karena model ini memiliki performa baik pada dataset yang kita gunakan.\n",
    "\n",
    "Melakukan penyesuaian parameter pada **Random Forest** untuk melihat seberapa perubahan jika kita melakukan hyperparameter, namun karena diantara beberapa parameter ada yang sudah baik pada default *Scikit-Learn* maka kita tidak melakukan hyperparameter tuning pada model yang telah kita pilih karena model **`Random Forest`** sudah memiliki performa yang cukup baik pada kasus dataset ini. dengan performa pada train sempel data 944579 dengan performa accuracy 92% pada 202410 data tes."
   ]
  },
  {
   "cell_type": "markdown",
   "id": "8e168d68",
   "metadata": {},
   "source": [
    "### Predict Data Penyisihan Wilayah"
   ]
  },
  {
   "cell_type": "code",
   "execution_count": 1,
   "id": "b496b06e",
   "metadata": {},
   "outputs": [],
   "source": [
    "import pandas as pd\n",
    "\n",
    "df = pd.read_csv('data/sampling2_healthkathon2022_sep.csv')"
   ]
  },
  {
   "cell_type": "code",
   "execution_count": 2,
   "id": "4f67ac33",
   "metadata": {},
   "outputs": [
    {
     "data": {
      "text/plain": [
       "(998941, 21)"
      ]
     },
     "execution_count": 2,
     "metadata": {},
     "output_type": "execute_result"
    }
   ],
   "source": [
    "df.shape"
   ]
  },
  {
   "cell_type": "code",
   "execution_count": 3,
   "id": "d37d5cd8",
   "metadata": {},
   "outputs": [
    {
     "data": {
      "text/plain": [
       "Index(['id', 'id_peserta', 'dati2', 'typefaskes', 'usia', 'jenkel', 'pisat',\n",
       "       'tgldatang', 'tglpulang', 'jenispel', 'politujuan', 'diagfktp', 'biaya',\n",
       "       'jenispulang', 'cbg', 'kelasrawat', 'kdsa', 'kdsp', 'kdsr', 'kdsi',\n",
       "       'kdsd'],\n",
       "      dtype='object')"
      ]
     },
     "execution_count": 3,
     "metadata": {},
     "output_type": "execute_result"
    }
   ],
   "source": [
    "df.columns"
   ]
  },
  {
   "cell_type": "code",
   "execution_count": 4,
   "id": "7e8a98f5",
   "metadata": {},
   "outputs": [
    {
     "data": {
      "text/plain": [
       "id                  0\n",
       "id_peserta          0\n",
       "dati2               0\n",
       "typefaskes          0\n",
       "usia                0\n",
       "jenkel              6\n",
       "pisat               6\n",
       "tgldatang           0\n",
       "tglpulang           0\n",
       "jenispel            0\n",
       "politujuan     108148\n",
       "diagfktp           64\n",
       "biaya            5049\n",
       "jenispulang         3\n",
       "cbg                 0\n",
       "kelasrawat          0\n",
       "kdsa            20804\n",
       "kdsp            20732\n",
       "kdsr            20803\n",
       "kdsi            20785\n",
       "kdsd            20789\n",
       "dtype: int64"
      ]
     },
     "execution_count": 4,
     "metadata": {},
     "output_type": "execute_result"
    }
   ],
   "source": [
    "df.isna().sum()"
   ]
  },
  {
   "cell_type": "code",
   "execution_count": 5,
   "id": "cce7927e",
   "metadata": {},
   "outputs": [],
   "source": [
    "# Function check presentase data hilang\n",
    "def hilang(data):\n",
    "    miss = data.isna().mean()*100\n",
    "    print('Missing: {:.2f}%'.format(miss))"
   ]
  },
  {
   "cell_type": "code",
   "execution_count": 6,
   "id": "205da9a5",
   "metadata": {},
   "outputs": [
    {
     "name": "stdout",
     "output_type": "stream",
     "text": [
      "Missing: 10.83%\n",
      "None\n",
      "Missing: 0.51%\n",
      "None\n",
      "Missing: 2.08%\n",
      "None\n"
     ]
    }
   ],
   "source": [
    "print(hilang(df.politujuan))\n",
    "print(hilang(df.biaya))\n",
    "print(hilang(df.kdsp))"
   ]
  },
  {
   "cell_type": "code",
   "execution_count": 7,
   "id": "28351f80",
   "metadata": {},
   "outputs": [],
   "source": [
    "# Merubah type object menjadi datetime\n",
    "df['tgldatang'] = pd.to_datetime(df['tgldatang'], format='%Y-%m-%d %H:%M:%S')\n",
    "df['tglpulang'] = pd.to_datetime(df['tglpulang'], format='%Y-%m-%d %H:%M:%S')"
   ]
  },
  {
   "cell_type": "code",
   "execution_count": 8,
   "id": "f801d032",
   "metadata": {},
   "outputs": [],
   "source": [
    "# Mengisi nilai hilang kolom pisat\n",
    "df['pisat'] = df['pisat'].fillna(df['pisat'].mode()[0])"
   ]
  },
  {
   "cell_type": "code",
   "execution_count": 9,
   "id": "f51017bd",
   "metadata": {},
   "outputs": [],
   "source": [
    "# Mengisi nilai hilang di kolom pisat\n",
    "df['jenispulang'] = df['jenispulang'].fillna(df['jenispulang'].mode()[0])"
   ]
  },
  {
   "cell_type": "code",
   "execution_count": 10,
   "id": "cd418a49",
   "metadata": {},
   "outputs": [],
   "source": [
    "# mengisi kolom biaya dengan regresi\n",
    "from sklearn.linear_model import LinearRegression\n",
    "# Membuat sebuah LinearRegression\n",
    "lr = LinearRegression()\n",
    "\n",
    "# Seleksi kolom-kolom yang digunakan\n",
    "selected_cols = ['biaya', 'id', 'id_peserta', 'dati2', 'jenispel', 'kelasrawat']\n",
    "\n",
    "# Bagi menjadi Missing dan Training. Missing Df berisi baris-baris dengan 'Biaya' kosong.\n",
    "missing_df = df[df['biaya'].isnull()==True][selected_cols]\n",
    "training_df = df[df['biaya'].isnull()==False][selected_cols]\n",
    "\n",
    "# Buatlah model regression dari baris-baris yang tidak memiliki missing values\n",
    "y_train = training_df['biaya']\n",
    "x_train = training_df.drop('biaya', axis = 1)\n",
    "\n",
    "lr.fit(x_train, y_train)\n",
    "\n",
    "# Prediksilah nilai 'Biaya' pada baris-baris yang memiliki missing values\n",
    "x_missing = missing_df.drop('biaya', axis = 1)\n",
    "\n",
    "prediction = lr.predict(x_missing)\n",
    "missing_df['biaya'] = prediction"
   ]
  },
  {
   "cell_type": "code",
   "execution_count": 11,
   "id": "a90d07dd",
   "metadata": {},
   "outputs": [],
   "source": [
    "### Combine all into one dataframe\n",
    "df_full = pd.concat([training_df, missing_df])\n",
    "df_full = df_full.sort_index()"
   ]
  },
  {
   "cell_type": "code",
   "execution_count": 12,
   "id": "cf7a4ef1",
   "metadata": {},
   "outputs": [],
   "source": [
    "# Memasukan nilai prediksi biaya \n",
    "df = df.copy()\n",
    "df[selected_cols] = df_full[selected_cols]"
   ]
  },
  {
   "cell_type": "code",
   "execution_count": 13,
   "id": "930743f8",
   "metadata": {},
   "outputs": [],
   "source": [
    "# Pilih nama kolom\n",
    "hapus = ['diagfktp', 'politujuan', 'cbg']\n",
    "\n",
    "# Hapus kolom\n",
    "df.drop(hapus, axis=1, inplace=True)"
   ]
  },
  {
   "cell_type": "code",
   "execution_count": 14,
   "id": "e313e237",
   "metadata": {},
   "outputs": [],
   "source": [
    "# Mengisi data hilang dengan mode\n",
    "df['jenkel'] = df['jenkel'].fillna('P')"
   ]
  },
  {
   "cell_type": "code",
   "execution_count": 15,
   "id": "1c8a4704",
   "metadata": {},
   "outputs": [],
   "source": [
    "# Mengisi kolom kode spesial\n",
    "df['kdsr'] = df['kdsr'].fillna(method='pad')\n",
    "df['kdsi'] = df['kdsi'].fillna(method='pad')\n",
    "df['kdsp'] = df['kdsp'].fillna(method='pad')\n",
    "df['kdsd'] = df['kdsd'].fillna(method='pad')\n",
    "df['kdsa'] = df['kdsa'].fillna(method='pad')"
   ]
  },
  {
   "cell_type": "code",
   "execution_count": 16,
   "id": "192d3256",
   "metadata": {},
   "outputs": [
    {
     "data": {
      "text/plain": [
       "id             0\n",
       "id_peserta     0\n",
       "dati2          0\n",
       "typefaskes     0\n",
       "usia           0\n",
       "jenkel         0\n",
       "pisat          0\n",
       "tgldatang      0\n",
       "tglpulang      0\n",
       "jenispel       0\n",
       "biaya          0\n",
       "jenispulang    0\n",
       "kelasrawat     0\n",
       "kdsa           0\n",
       "kdsp           0\n",
       "kdsr           0\n",
       "kdsi           0\n",
       "kdsd           0\n",
       "dtype: int64"
      ]
     },
     "execution_count": 16,
     "metadata": {},
     "output_type": "execute_result"
    }
   ],
   "source": [
    "df.isna().sum()"
   ]
  },
  {
   "cell_type": "code",
   "execution_count": 17,
   "id": "f39a4a9d",
   "metadata": {},
   "outputs": [],
   "source": [
    "from sklearn.preprocessing import LabelEncoder\n",
    "\n",
    "le = LabelEncoder()\n",
    "\n",
    "# Label Encoding pada kolom typefaskes\n",
    "df['typefaskes'] = le.fit_transform(df['typefaskes'])\n",
    "# Label Encodeing pada kolom kdsp\n",
    "df['kdsp'] = le.fit_transform(df['kdsp'])\n",
    "# Label Encoding pada kolom kdsd\n",
    "df['kdsd'] = le.fit_transform(df['kdsd'])\n",
    "# Label Encoding pada kolom kdsr\n",
    "df['kdsr'] = le.fit_transform(df['kdsr'])\n",
    "# Label Encoding pada colom kdsi\n",
    "df['kdsi'] = le.fit_transform(df['kdsi'])\n",
    "# Label Encode pada kolom kdsa\n",
    "df['kdsa'] = le.fit_transform(df['kdsa'])"
   ]
  },
  {
   "cell_type": "code",
   "execution_count": 18,
   "id": "4288d6da",
   "metadata": {},
   "outputs": [],
   "source": [
    "# Select colom\n",
    "one_hot_columns = df.select_dtypes('object').columns\n",
    "\n",
    "# One Hot Encoding dengan pandas\n",
    "df_in = pd.get_dummies(df, columns=one_hot_columns)"
   ]
  },
  {
   "cell_type": "code",
   "execution_count": 19,
   "id": "72f6512a",
   "metadata": {},
   "outputs": [
    {
     "name": "stderr",
     "output_type": "stream",
     "text": [
      "C:\\Users\\feryi\\AppData\\Local\\Temp\\ipykernel_8104\\4215129999.py:9: FutureWarning: casting timedelta64[ns] values to int64 with .astype(...) is deprecated and will raise in a future version. Use .view(...) instead.\n",
      "  df_in['durasi'] = df_in['durasi'].astype('int64')/3600000000000\n"
     ]
    }
   ],
   "source": [
    "# Membuat kolom durasi\n",
    "df_in['durasi'] = df_in['tglpulang']-df_in['tgldatang']\n",
    "\n",
    "# Convert waktu ke format asia\n",
    "df_in['tgldatang'] = df_in['tgldatang'].dt.tz_convert('Asia/Jakarta')\n",
    "df_in['tglpulang'] = df_in['tglpulang'].dt.tz_convert('Asia/Jakarta')\n",
    "\n",
    "# Mengubahnya menjadi integer dan dibagi 3600000000000 untuk merubah ke interval jam\n",
    "df_in['durasi'] = df_in['durasi'].astype('int64')/3600000000000 \n",
    "\n",
    "# Menghapus kolom tgldatang, tglpulang dan id\n",
    "df_in.drop(['tgldatang', 'tglpulang', 'id'], axis=1, inplace=True)"
   ]
  },
  {
   "cell_type": "code",
   "execution_count": 28,
   "id": "1cba0321",
   "metadata": {},
   "outputs": [],
   "source": [
    "import warnings\n",
    "warnings.filterwarnings('ignore')\n",
    "import pickle\n",
    "\n",
    "# Import model \n",
    "model = pickle.load(open('model/random_forest.pkl', 'wb'))"
   ]
  },
  {
   "cell_type": "code",
   "execution_count": 29,
   "id": "42c0aef6",
   "metadata": {},
   "outputs": [],
   "source": [
    "# predic data test\n",
    "pred = model.predict(df_in)"
   ]
  },
  {
   "cell_type": "code",
   "execution_count": 30,
   "id": "e5f1fd6a",
   "metadata": {},
   "outputs": [],
   "source": [
    "tes = pd.DataFrame({\n",
    "    'id':df_in.id,\n",
    "    'label':pred\n",
    "})"
   ]
  },
  {
   "cell_type": "code",
   "execution_count": 31,
   "id": "bc06f889",
   "metadata": {},
   "outputs": [],
   "source": [
    "tes.to_csv('answer.csv', index=False)"
   ]
  }
 ],
 "metadata": {
  "kernelspec": {
   "display_name": "Python 3 (ipykernel)",
   "language": "python",
   "name": "python3"
  },
  "language_info": {
   "codemirror_mode": {
    "name": "ipython",
    "version": 3
   },
   "file_extension": ".py",
   "mimetype": "text/x-python",
   "name": "python",
   "nbconvert_exporter": "python",
   "pygments_lexer": "ipython3",
   "version": "3.9.7"
  }
 },
 "nbformat": 4,
 "nbformat_minor": 5
}
