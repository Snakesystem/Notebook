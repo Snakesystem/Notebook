{
 "cells": [
  {
   "cell_type": "markdown",
   "metadata": {},
   "source": [
    "# **Inspecting Dataset**"
   ]
  },
  {
   "cell_type": "markdown",
   "metadata": {},
   "source": [
    "## **Libraries**"
   ]
  },
  {
   "cell_type": "code",
   "execution_count": 1,
   "metadata": {
    "execution": {
     "iopub.execute_input": "2022-08-29T14:40:17.152209Z",
     "iopub.status.busy": "2022-08-29T14:40:17.151069Z",
     "iopub.status.idle": "2022-08-29T14:40:17.710084Z",
     "shell.execute_reply": "2022-08-29T14:40:17.708757Z",
     "shell.execute_reply.started": "2022-08-29T14:40:17.152052Z"
    }
   },
   "outputs": [],
   "source": [
    "import pandas as pd\n",
    "import numpy as np\n",
    "import matplotlib.pyplot as plt\n",
    "import math\n",
    "import seaborn as sns"
   ]
  },
  {
   "cell_type": "markdown",
   "metadata": {},
   "source": [
    "## **Importing Data**"
   ]
  },
  {
   "cell_type": "code",
   "execution_count": 2,
   "metadata": {
    "execution": {
     "iopub.execute_input": "2022-08-29T14:40:17.712776Z",
     "iopub.status.busy": "2022-08-29T14:40:17.711756Z",
     "iopub.status.idle": "2022-08-29T14:40:18.743704Z",
     "shell.execute_reply": "2022-08-29T14:40:18.742305Z",
     "shell.execute_reply.started": "2022-08-29T14:40:17.712739Z"
    }
   },
   "outputs": [],
   "source": [
    "df = pd.read_csv(\"../input/credit-card-fraud/card_transdata.csv\")\n"
   ]
  },
  {
   "cell_type": "code",
   "execution_count": 3,
   "metadata": {
    "execution": {
     "iopub.execute_input": "2022-08-29T14:40:18.745595Z",
     "iopub.status.busy": "2022-08-29T14:40:18.745203Z",
     "iopub.status.idle": "2022-08-29T14:40:18.786260Z",
     "shell.execute_reply": "2022-08-29T14:40:18.785010Z",
     "shell.execute_reply.started": "2022-08-29T14:40:18.745537Z"
    }
   },
   "outputs": [],
   "source": [
    "df2 = df.copy()"
   ]
  },
  {
   "cell_type": "markdown",
   "metadata": {},
   "source": [
    "## **About the Dataset**"
   ]
  },
  {
   "cell_type": "markdown",
   "metadata": {},
   "source": [
    "This dataset involves 1 million fraud and non-fraud credit card transactions. The goal of this study is to find the best fitting model to predict the fraud transactions based on their features."
   ]
  },
  {
   "cell_type": "markdown",
   "metadata": {},
   "source": [
    "**Features:**\n",
    "\n",
    "distance_from_home: the distance from home where the transaction happened.\n",
    "\n",
    "distance_from_last_transaction: the distance from last transaction happened.\n",
    "\n",
    "ratio_to_median_purchase_price: Ratio of purchased price transaction to median purchase price.\n",
    "\n",
    "repeat_retailer: Is the transaction happened from same retailer.\n",
    "\n",
    "used_chip: Is the transaction through chip (credit card).\n",
    "\n",
    "used_pin_number: Is the transaction happened by using PIN number.\n",
    "\n",
    "online_order: Is the transaction an online order.\n",
    "\n",
    "fraud: Is the transaction fraudulent."
   ]
  },
  {
   "cell_type": "markdown",
   "metadata": {},
   "source": [
    "## **Missing values and duplicates**"
   ]
  },
  {
   "cell_type": "code",
   "execution_count": 4,
   "metadata": {
    "execution": {
     "iopub.execute_input": "2022-08-29T14:40:18.789519Z",
     "iopub.status.busy": "2022-08-29T14:40:18.789116Z",
     "iopub.status.idle": "2022-08-29T14:40:18.821885Z",
     "shell.execute_reply": "2022-08-29T14:40:18.820691Z",
     "shell.execute_reply.started": "2022-08-29T14:40:18.789482Z"
    }
   },
   "outputs": [
    {
     "name": "stdout",
     "output_type": "stream",
     "text": [
      "Dataframe shape: (1000000, 8)\n"
     ]
    },
    {
     "data": {
      "text/html": [
       "<div>\n",
       "<style scoped>\n",
       "    .dataframe tbody tr th:only-of-type {\n",
       "        vertical-align: middle;\n",
       "    }\n",
       "\n",
       "    .dataframe tbody tr th {\n",
       "        vertical-align: top;\n",
       "    }\n",
       "\n",
       "    .dataframe thead th {\n",
       "        text-align: right;\n",
       "    }\n",
       "</style>\n",
       "<table border=\"1\" class=\"dataframe\">\n",
       "  <thead>\n",
       "    <tr style=\"text-align: right;\">\n",
       "      <th></th>\n",
       "      <th>distance_from_home</th>\n",
       "      <th>distance_from_last_transaction</th>\n",
       "      <th>ratio_to_median_purchase_price</th>\n",
       "      <th>repeat_retailer</th>\n",
       "      <th>used_chip</th>\n",
       "      <th>used_pin_number</th>\n",
       "      <th>online_order</th>\n",
       "      <th>fraud</th>\n",
       "    </tr>\n",
       "  </thead>\n",
       "  <tbody>\n",
       "    <tr>\n",
       "      <th>0</th>\n",
       "      <td>57.877857</td>\n",
       "      <td>0.311140</td>\n",
       "      <td>1.945940</td>\n",
       "      <td>1.0</td>\n",
       "      <td>1.0</td>\n",
       "      <td>0.0</td>\n",
       "      <td>0.0</td>\n",
       "      <td>0.0</td>\n",
       "    </tr>\n",
       "    <tr>\n",
       "      <th>1</th>\n",
       "      <td>10.829943</td>\n",
       "      <td>0.175592</td>\n",
       "      <td>1.294219</td>\n",
       "      <td>1.0</td>\n",
       "      <td>0.0</td>\n",
       "      <td>0.0</td>\n",
       "      <td>0.0</td>\n",
       "      <td>0.0</td>\n",
       "    </tr>\n",
       "    <tr>\n",
       "      <th>2</th>\n",
       "      <td>5.091079</td>\n",
       "      <td>0.805153</td>\n",
       "      <td>0.427715</td>\n",
       "      <td>1.0</td>\n",
       "      <td>0.0</td>\n",
       "      <td>0.0</td>\n",
       "      <td>1.0</td>\n",
       "      <td>0.0</td>\n",
       "    </tr>\n",
       "    <tr>\n",
       "      <th>3</th>\n",
       "      <td>2.247564</td>\n",
       "      <td>5.600044</td>\n",
       "      <td>0.362663</td>\n",
       "      <td>1.0</td>\n",
       "      <td>1.0</td>\n",
       "      <td>0.0</td>\n",
       "      <td>1.0</td>\n",
       "      <td>0.0</td>\n",
       "    </tr>\n",
       "    <tr>\n",
       "      <th>4</th>\n",
       "      <td>44.190936</td>\n",
       "      <td>0.566486</td>\n",
       "      <td>2.222767</td>\n",
       "      <td>1.0</td>\n",
       "      <td>1.0</td>\n",
       "      <td>0.0</td>\n",
       "      <td>1.0</td>\n",
       "      <td>0.0</td>\n",
       "    </tr>\n",
       "    <tr>\n",
       "      <th>...</th>\n",
       "      <td>...</td>\n",
       "      <td>...</td>\n",
       "      <td>...</td>\n",
       "      <td>...</td>\n",
       "      <td>...</td>\n",
       "      <td>...</td>\n",
       "      <td>...</td>\n",
       "      <td>...</td>\n",
       "    </tr>\n",
       "    <tr>\n",
       "      <th>999995</th>\n",
       "      <td>2.207101</td>\n",
       "      <td>0.112651</td>\n",
       "      <td>1.626798</td>\n",
       "      <td>1.0</td>\n",
       "      <td>1.0</td>\n",
       "      <td>0.0</td>\n",
       "      <td>0.0</td>\n",
       "      <td>0.0</td>\n",
       "    </tr>\n",
       "    <tr>\n",
       "      <th>999996</th>\n",
       "      <td>19.872726</td>\n",
       "      <td>2.683904</td>\n",
       "      <td>2.778303</td>\n",
       "      <td>1.0</td>\n",
       "      <td>1.0</td>\n",
       "      <td>0.0</td>\n",
       "      <td>0.0</td>\n",
       "      <td>0.0</td>\n",
       "    </tr>\n",
       "    <tr>\n",
       "      <th>999997</th>\n",
       "      <td>2.914857</td>\n",
       "      <td>1.472687</td>\n",
       "      <td>0.218075</td>\n",
       "      <td>1.0</td>\n",
       "      <td>1.0</td>\n",
       "      <td>0.0</td>\n",
       "      <td>1.0</td>\n",
       "      <td>0.0</td>\n",
       "    </tr>\n",
       "    <tr>\n",
       "      <th>999998</th>\n",
       "      <td>4.258729</td>\n",
       "      <td>0.242023</td>\n",
       "      <td>0.475822</td>\n",
       "      <td>1.0</td>\n",
       "      <td>0.0</td>\n",
       "      <td>0.0</td>\n",
       "      <td>1.0</td>\n",
       "      <td>0.0</td>\n",
       "    </tr>\n",
       "    <tr>\n",
       "      <th>999999</th>\n",
       "      <td>58.108125</td>\n",
       "      <td>0.318110</td>\n",
       "      <td>0.386920</td>\n",
       "      <td>1.0</td>\n",
       "      <td>1.0</td>\n",
       "      <td>0.0</td>\n",
       "      <td>1.0</td>\n",
       "      <td>0.0</td>\n",
       "    </tr>\n",
       "  </tbody>\n",
       "</table>\n",
       "<p>1000000 rows × 8 columns</p>\n",
       "</div>"
      ],
      "text/plain": [
       "        distance_from_home  distance_from_last_transaction  \\\n",
       "0                57.877857                        0.311140   \n",
       "1                10.829943                        0.175592   \n",
       "2                 5.091079                        0.805153   \n",
       "3                 2.247564                        5.600044   \n",
       "4                44.190936                        0.566486   \n",
       "...                    ...                             ...   \n",
       "999995            2.207101                        0.112651   \n",
       "999996           19.872726                        2.683904   \n",
       "999997            2.914857                        1.472687   \n",
       "999998            4.258729                        0.242023   \n",
       "999999           58.108125                        0.318110   \n",
       "\n",
       "        ratio_to_median_purchase_price  repeat_retailer  used_chip  \\\n",
       "0                             1.945940              1.0        1.0   \n",
       "1                             1.294219              1.0        0.0   \n",
       "2                             0.427715              1.0        0.0   \n",
       "3                             0.362663              1.0        1.0   \n",
       "4                             2.222767              1.0        1.0   \n",
       "...                                ...              ...        ...   \n",
       "999995                        1.626798              1.0        1.0   \n",
       "999996                        2.778303              1.0        1.0   \n",
       "999997                        0.218075              1.0        1.0   \n",
       "999998                        0.475822              1.0        0.0   \n",
       "999999                        0.386920              1.0        1.0   \n",
       "\n",
       "        used_pin_number  online_order  fraud  \n",
       "0                   0.0           0.0    0.0  \n",
       "1                   0.0           0.0    0.0  \n",
       "2                   0.0           1.0    0.0  \n",
       "3                   0.0           1.0    0.0  \n",
       "4                   0.0           1.0    0.0  \n",
       "...                 ...           ...    ...  \n",
       "999995              0.0           0.0    0.0  \n",
       "999996              0.0           0.0    0.0  \n",
       "999997              0.0           1.0    0.0  \n",
       "999998              0.0           1.0    0.0  \n",
       "999999              0.0           1.0    0.0  \n",
       "\n",
       "[1000000 rows x 8 columns]"
      ]
     },
     "execution_count": 4,
     "metadata": {},
     "output_type": "execute_result"
    }
   ],
   "source": [
    "print(\"Dataframe shape:\", df2.shape)\n",
    "df"
   ]
  },
  {
   "cell_type": "code",
   "execution_count": 5,
   "metadata": {
    "execution": {
     "iopub.execute_input": "2022-08-29T14:40:18.823620Z",
     "iopub.status.busy": "2022-08-29T14:40:18.823267Z",
     "iopub.status.idle": "2022-08-29T14:40:18.859223Z",
     "shell.execute_reply": "2022-08-29T14:40:18.858028Z",
     "shell.execute_reply.started": "2022-08-29T14:40:18.823590Z"
    }
   },
   "outputs": [
    {
     "name": "stdout",
     "output_type": "stream",
     "text": [
      "<class 'pandas.core.frame.DataFrame'>\n",
      "RangeIndex: 1000000 entries, 0 to 999999\n",
      "Data columns (total 8 columns):\n",
      " #   Column                          Non-Null Count    Dtype  \n",
      "---  ------                          --------------    -----  \n",
      " 0   distance_from_home              1000000 non-null  float64\n",
      " 1   distance_from_last_transaction  1000000 non-null  float64\n",
      " 2   ratio_to_median_purchase_price  1000000 non-null  float64\n",
      " 3   repeat_retailer                 1000000 non-null  float64\n",
      " 4   used_chip                       1000000 non-null  float64\n",
      " 5   used_pin_number                 1000000 non-null  float64\n",
      " 6   online_order                    1000000 non-null  float64\n",
      " 7   fraud                           1000000 non-null  float64\n",
      "dtypes: float64(8)\n",
      "memory usage: 61.0 MB\n"
     ]
    }
   ],
   "source": [
    "df2.info()"
   ]
  },
  {
   "cell_type": "code",
   "execution_count": 6,
   "metadata": {
    "execution": {
     "iopub.execute_input": "2022-08-29T14:40:18.861924Z",
     "iopub.status.busy": "2022-08-29T14:40:18.861054Z",
     "iopub.status.idle": "2022-08-29T14:40:18.892094Z",
     "shell.execute_reply": "2022-08-29T14:40:18.890990Z",
     "shell.execute_reply.started": "2022-08-29T14:40:18.861875Z"
    }
   },
   "outputs": [
    {
     "data": {
      "text/plain": [
       "distance_from_home                0\n",
       "distance_from_last_transaction    0\n",
       "ratio_to_median_purchase_price    0\n",
       "repeat_retailer                   0\n",
       "used_chip                         0\n",
       "used_pin_number                   0\n",
       "online_order                      0\n",
       "fraud                             0\n",
       "dtype: int64"
      ]
     },
     "execution_count": 6,
     "metadata": {},
     "output_type": "execute_result"
    }
   ],
   "source": [
    "df2.isna().sum()"
   ]
  },
  {
   "cell_type": "markdown",
   "metadata": {},
   "source": [
    "There are no missing values in the dataset."
   ]
  },
  {
   "cell_type": "code",
   "execution_count": 7,
   "metadata": {
    "execution": {
     "iopub.execute_input": "2022-08-29T14:40:18.894143Z",
     "iopub.status.busy": "2022-08-29T14:40:18.893716Z",
     "iopub.status.idle": "2022-08-29T14:40:19.244012Z",
     "shell.execute_reply": "2022-08-29T14:40:19.242620Z",
     "shell.execute_reply.started": "2022-08-29T14:40:18.894107Z"
    }
   },
   "outputs": [
    {
     "data": {
      "text/plain": [
       "distance_from_home                1000000\n",
       "distance_from_last_transaction    1000000\n",
       "ratio_to_median_purchase_price    1000000\n",
       "repeat_retailer                         2\n",
       "used_chip                               2\n",
       "used_pin_number                         2\n",
       "online_order                            2\n",
       "fraud                                   2\n",
       "dtype: int64"
      ]
     },
     "execution_count": 7,
     "metadata": {},
     "output_type": "execute_result"
    }
   ],
   "source": [
    "df2.nunique()"
   ]
  },
  {
   "cell_type": "code",
   "execution_count": 8,
   "metadata": {
    "execution": {
     "iopub.execute_input": "2022-08-29T14:40:19.245773Z",
     "iopub.status.busy": "2022-08-29T14:40:19.245396Z",
     "iopub.status.idle": "2022-08-29T14:40:19.253586Z",
     "shell.execute_reply": "2022-08-29T14:40:19.252381Z",
     "shell.execute_reply.started": "2022-08-29T14:40:19.245740Z"
    }
   },
   "outputs": [
    {
     "data": {
      "text/plain": [
       "Index(['distance_from_home', 'distance_from_last_transaction',\n",
       "       'ratio_to_median_purchase_price', 'repeat_retailer', 'used_chip',\n",
       "       'used_pin_number', 'online_order', 'fraud'],\n",
       "      dtype='object')"
      ]
     },
     "execution_count": 8,
     "metadata": {},
     "output_type": "execute_result"
    }
   ],
   "source": [
    "df2.columns"
   ]
  },
  {
   "cell_type": "code",
   "execution_count": 9,
   "metadata": {
    "execution": {
     "iopub.execute_input": "2022-08-29T14:40:19.255598Z",
     "iopub.status.busy": "2022-08-29T14:40:19.255100Z",
     "iopub.status.idle": "2022-08-29T14:40:30.767706Z",
     "shell.execute_reply": "2022-08-29T14:40:30.765963Z",
     "shell.execute_reply.started": "2022-08-29T14:40:19.255526Z"
    }
   },
   "outputs": [
    {
     "name": "stderr",
     "output_type": "stream",
     "text": [
      "/opt/conda/lib/python3.7/site-packages/seaborn/distributions.py:2619: FutureWarning: `distplot` is a deprecated function and will be removed in a future version. Please adapt your code to use either `displot` (a figure-level function with similar flexibility) or `histplot` (an axes-level function for histograms).\n",
      "  warnings.warn(msg, FutureWarning)\n"
     ]
    },
    {
     "data": {
      "image/png": "[encoded data removed]",
      "text/plain": [
       "<Figure size 432x288 with 1 Axes>"
      ]
     },
     "metadata": {
      "needs_background": "light"
     },
     "output_type": "display_data"
    },
    {
     "name": "stderr",
     "output_type": "stream",
     "text": [
      "/opt/conda/lib/python3.7/site-packages/seaborn/distributions.py:2619: FutureWarning: `distplot` is a deprecated function and will be removed in a future version. Please adapt your code to use either `displot` (a figure-level function with similar flexibility) or `histplot` (an axes-level function for histograms).\n",
      "  warnings.warn(msg, FutureWarning)\n"
     ]
    },
    {
     "data": {
      "image/png": "[encoded data removed]",
      "text/plain": [
       "<Figure size 432x288 with 1 Axes>"
      ]
     },
     "metadata": {
      "needs_background": "light"
     },
     "output_type": "display_data"
    },
    {
     "name": "stderr",
     "output_type": "stream",
     "text": [
      "/opt/conda/lib/python3.7/site-packages/seaborn/distributions.py:2619: FutureWarning: `distplot` is a deprecated function and will be removed in a future version. Please adapt your code to use either `displot` (a figure-level function with similar flexibility) or `histplot` (an axes-level function for histograms).\n",
      "  warnings.warn(msg, FutureWarning)\n"
     ]
    },
    {
     "data": {
      "image/png": "[encoded data removed]",
      "text/plain": [
       "<Figure size 432x288 with 1 Axes>"
      ]
     },
     "metadata": {
      "needs_background": "light"
     },
     "output_type": "display_data"
    }
   ],
   "source": [
    "numerical_columns = [\"distance_from_home\", \"distance_from_last_transaction\", \"ratio_to_median_purchase_price\"]\n",
    "for column in numerical_columns:\n",
    "    plt.figure()\n",
    "    plot = df2[column]\n",
    "    sns.distplot(plot, bins=10)\n",
    "    plt.xticks(rotation = 45)\n",
    "    plt.show()"
   ]
  },
  {
   "cell_type": "markdown",
   "metadata": {},
   "source": [
    "Let's check if the distance and ratio columns have negative values."
   ]
  },
  {
   "cell_type": "code",
   "execution_count": 10,
   "metadata": {
    "execution": {
     "iopub.execute_input": "2022-08-29T14:40:30.770207Z",
     "iopub.status.busy": "2022-08-29T14:40:30.769413Z",
     "iopub.status.idle": "2022-08-29T14:40:30.784635Z",
     "shell.execute_reply": "2022-08-29T14:40:30.783176Z",
     "shell.execute_reply.started": "2022-08-29T14:40:30.770153Z"
    }
   },
   "outputs": [
    {
     "name": "stdout",
     "output_type": "stream",
     "text": [
      "distance_from_home has no negative values.\n",
      "distance_from_last_transaction has no negative values.\n",
      "ratio_to_median_purchase_price has no negative values.\n"
     ]
    }
   ],
   "source": [
    "for column in numerical_columns:\n",
    "    if len(df2[df2[column] < 0]) == 0:\n",
    "        print(column, \"has no negative values.\")\n",
    "    else:\n",
    "        print(column, \"has negative values.\")"
   ]
  },
  {
   "cell_type": "markdown",
   "metadata": {},
   "source": [
    "There are no duplicate values in the dataset"
   ]
  },
  {
   "cell_type": "code",
   "execution_count": 11,
   "metadata": {
    "execution": {
     "iopub.execute_input": "2022-08-29T14:40:30.788762Z",
     "iopub.status.busy": "2022-08-29T14:40:30.787682Z",
     "iopub.status.idle": "2022-08-29T14:40:31.175332Z",
     "shell.execute_reply": "2022-08-29T14:40:31.174078Z",
     "shell.execute_reply.started": "2022-08-29T14:40:30.788716Z"
    }
   },
   "outputs": [
    {
     "data": {
      "text/html": [
       "<div>\n",
       "<style scoped>\n",
       "    .dataframe tbody tr th:only-of-type {\n",
       "        vertical-align: middle;\n",
       "    }\n",
       "\n",
       "    .dataframe tbody tr th {\n",
       "        vertical-align: top;\n",
       "    }\n",
       "\n",
       "    .dataframe thead th {\n",
       "        text-align: right;\n",
       "    }\n",
       "</style>\n",
       "<table border=\"1\" class=\"dataframe\">\n",
       "  <thead>\n",
       "    <tr style=\"text-align: right;\">\n",
       "      <th></th>\n",
       "      <th>distance_from_home</th>\n",
       "      <th>distance_from_last_transaction</th>\n",
       "      <th>ratio_to_median_purchase_price</th>\n",
       "      <th>repeat_retailer</th>\n",
       "      <th>used_chip</th>\n",
       "      <th>used_pin_number</th>\n",
       "      <th>online_order</th>\n",
       "      <th>fraud</th>\n",
       "    </tr>\n",
       "  </thead>\n",
       "  <tbody>\n",
       "    <tr>\n",
       "      <th>count</th>\n",
       "      <td>1000000.000000</td>\n",
       "      <td>1000000.000000</td>\n",
       "      <td>1000000.000000</td>\n",
       "      <td>1000000.000000</td>\n",
       "      <td>1000000.000000</td>\n",
       "      <td>1000000.000000</td>\n",
       "      <td>1000000.000000</td>\n",
       "      <td>1000000.000000</td>\n",
       "    </tr>\n",
       "    <tr>\n",
       "      <th>mean</th>\n",
       "      <td>26.628792</td>\n",
       "      <td>5.036519</td>\n",
       "      <td>1.824182</td>\n",
       "      <td>0.881536</td>\n",
       "      <td>0.350399</td>\n",
       "      <td>0.100608</td>\n",
       "      <td>0.650552</td>\n",
       "      <td>0.087403</td>\n",
       "    </tr>\n",
       "    <tr>\n",
       "      <th>std</th>\n",
       "      <td>65.390784</td>\n",
       "      <td>25.843093</td>\n",
       "      <td>2.799589</td>\n",
       "      <td>0.323157</td>\n",
       "      <td>0.477095</td>\n",
       "      <td>0.300809</td>\n",
       "      <td>0.476796</td>\n",
       "      <td>0.282425</td>\n",
       "    </tr>\n",
       "    <tr>\n",
       "      <th>min</th>\n",
       "      <td>0.004874</td>\n",
       "      <td>0.000118</td>\n",
       "      <td>0.004399</td>\n",
       "      <td>0.000000</td>\n",
       "      <td>0.000000</td>\n",
       "      <td>0.000000</td>\n",
       "      <td>0.000000</td>\n",
       "      <td>0.000000</td>\n",
       "    </tr>\n",
       "    <tr>\n",
       "      <th>25%</th>\n",
       "      <td>3.878008</td>\n",
       "      <td>0.296671</td>\n",
       "      <td>0.475673</td>\n",
       "      <td>1.000000</td>\n",
       "      <td>0.000000</td>\n",
       "      <td>0.000000</td>\n",
       "      <td>0.000000</td>\n",
       "      <td>0.000000</td>\n",
       "    </tr>\n",
       "    <tr>\n",
       "      <th>50%</th>\n",
       "      <td>9.967760</td>\n",
       "      <td>0.998650</td>\n",
       "      <td>0.997717</td>\n",
       "      <td>1.000000</td>\n",
       "      <td>0.000000</td>\n",
       "      <td>0.000000</td>\n",
       "      <td>1.000000</td>\n",
       "      <td>0.000000</td>\n",
       "    </tr>\n",
       "    <tr>\n",
       "      <th>75%</th>\n",
       "      <td>25.743985</td>\n",
       "      <td>3.355748</td>\n",
       "      <td>2.096370</td>\n",
       "      <td>1.000000</td>\n",
       "      <td>1.000000</td>\n",
       "      <td>0.000000</td>\n",
       "      <td>1.000000</td>\n",
       "      <td>0.000000</td>\n",
       "    </tr>\n",
       "    <tr>\n",
       "      <th>max</th>\n",
       "      <td>10632.723672</td>\n",
       "      <td>11851.104565</td>\n",
       "      <td>267.802942</td>\n",
       "      <td>1.000000</td>\n",
       "      <td>1.000000</td>\n",
       "      <td>1.000000</td>\n",
       "      <td>1.000000</td>\n",
       "      <td>1.000000</td>\n",
       "    </tr>\n",
       "  </tbody>\n",
       "</table>\n",
       "</div>"
      ],
      "text/plain": [
       "       distance_from_home  distance_from_last_transaction  \\\n",
       "count      1000000.000000                  1000000.000000   \n",
       "mean            26.628792                        5.036519   \n",
       "std             65.390784                       25.843093   \n",
       "min              0.004874                        0.000118   \n",
       "25%              3.878008                        0.296671   \n",
       "50%              9.967760                        0.998650   \n",
       "75%             25.743985                        3.355748   \n",
       "max          10632.723672                    11851.104565   \n",
       "\n",
       "       ratio_to_median_purchase_price  repeat_retailer       used_chip  \\\n",
       "count                  1000000.000000   1000000.000000  1000000.000000   \n",
       "mean                         1.824182         0.881536        0.350399   \n",
       "std                          2.799589         0.323157        0.477095   \n",
       "min                          0.004399         0.000000        0.000000   \n",
       "25%                          0.475673         1.000000        0.000000   \n",
       "50%                          0.997717         1.000000        0.000000   \n",
       "75%                          2.096370         1.000000        1.000000   \n",
       "max                        267.802942         1.000000        1.000000   \n",
       "\n",
       "       used_pin_number    online_order           fraud  \n",
       "count   1000000.000000  1000000.000000  1000000.000000  \n",
       "mean          0.100608        0.650552        0.087403  \n",
       "std           0.300809        0.476796        0.282425  \n",
       "min           0.000000        0.000000        0.000000  \n",
       "25%           0.000000        0.000000        0.000000  \n",
       "50%           0.000000        1.000000        0.000000  \n",
       "75%           0.000000        1.000000        0.000000  \n",
       "max           1.000000        1.000000        1.000000  "
      ]
     },
     "execution_count": 11,
     "metadata": {},
     "output_type": "execute_result"
    }
   ],
   "source": [
    "df2.describe()"
   ]
  },
  {
   "cell_type": "code",
   "execution_count": 12,
   "metadata": {
    "execution": {
     "iopub.execute_input": "2022-08-29T14:40:31.177429Z",
     "iopub.status.busy": "2022-08-29T14:40:31.177062Z",
     "iopub.status.idle": "2022-08-29T14:40:31.198311Z",
     "shell.execute_reply": "2022-08-29T14:40:31.196922Z",
     "shell.execute_reply.started": "2022-08-29T14:40:31.177395Z"
    }
   },
   "outputs": [
    {
     "data": {
      "text/plain": [
       "87403"
      ]
     },
     "execution_count": 12,
     "metadata": {},
     "output_type": "execute_result"
    }
   ],
   "source": [
    "#Number of fraud transactions\n",
    "df2[df2[\"fraud\"] == 1].fraud.count()"
   ]
  },
  {
   "cell_type": "code",
   "execution_count": 13,
   "metadata": {
    "execution": {
     "iopub.execute_input": "2022-08-29T14:40:31.205428Z",
     "iopub.status.busy": "2022-08-29T14:40:31.204618Z",
     "iopub.status.idle": "2022-08-29T14:40:31.276019Z",
     "shell.execute_reply": "2022-08-29T14:40:31.274611Z",
     "shell.execute_reply.started": "2022-08-29T14:40:31.205379Z"
    }
   },
   "outputs": [
    {
     "name": "stdout",
     "output_type": "stream",
     "text": [
      "Number of fraud transactions: 87403\n",
      "Number of non-fraud transactions: 912597\n",
      "Fraud percent: 8.7403\n"
     ]
    }
   ],
   "source": [
    "f_count = df2[df2[\"fraud\"] == 1][\"fraud\"].count()\n",
    "nf_count = df2[df2[\"fraud\"] == 0][\"fraud\"].count()\n",
    "print(\"Number of fraud transactions:\", f_count)\n",
    "print(\"Number of non-fraud transactions:\", nf_count)\n",
    "print(\"Fraud percent:\", f_count / (f_count + nf_count) * 100)"
   ]
  },
  {
   "cell_type": "code",
   "execution_count": 14,
   "metadata": {
    "execution": {
     "iopub.execute_input": "2022-08-29T14:40:31.278488Z",
     "iopub.status.busy": "2022-08-29T14:40:31.277985Z",
     "iopub.status.idle": "2022-08-29T14:40:31.421929Z",
     "shell.execute_reply": "2022-08-29T14:40:31.420157Z",
     "shell.execute_reply.started": "2022-08-29T14:40:31.278440Z"
    }
   },
   "outputs": [
    {
     "data": {
      "text/plain": [
       "<BarContainer object of 1 artists>"
      ]
     },
     "execution_count": 14,
     "metadata": {},
     "output_type": "execute_result"
    },
    {
     "data": {
      "image/png": "[encoded data removed]",
      "text/plain": [
       "<Figure size 432x288 with 1 Axes>"
      ]
     },
     "metadata": {
      "needs_background": "light"
     },
     "output_type": "display_data"
    }
   ],
   "source": [
    "categories = [\"Non-Fraud\", \"Fraud\"]\n",
    "xpos = np.array([0, 1])\n",
    "plt.xticks(xpos, categories)\n",
    "plt.xlabel(\"Transaction Type\")\n",
    "plt.ylabel(\"Transaction Count\")\n",
    "plt.title(\"Transactions by Type\")\n",
    "plt.bar(xpos[0], nf_count, width= 0.7, color = \"g\")\n",
    "plt.bar(xpos[1], f_count, width = 0.7, color=\"r\")"
   ]
  },
  {
   "cell_type": "code",
   "execution_count": 15,
   "metadata": {
    "execution": {
     "iopub.execute_input": "2022-08-29T14:40:31.425939Z",
     "iopub.status.busy": "2022-08-29T14:40:31.424607Z",
     "iopub.status.idle": "2022-08-29T14:40:31.559666Z",
     "shell.execute_reply": "2022-08-29T14:40:31.557511Z",
     "shell.execute_reply.started": "2022-08-29T14:40:31.425869Z"
    }
   },
   "outputs": [
    {
     "data": {
      "text/plain": [
       "([<matplotlib.patches.Wedge at 0x7fe9a25c3450>,\n",
       "  <matplotlib.patches.Wedge at 0x7fe9a25c3d50>],\n",
       " [Text(-1.058791700494653, 0.29826185636725505, 'Non-Fraud'),\n",
       "  Text(1.1550454914487123, -0.3253765705824602, 'Fraud')],\n",
       " [Text(-0.5775227457243561, 0.16268828529123003, '91.26%'),\n",
       "  Text(0.6737765366784155, -0.1898029995064351, '8.74%')])"
      ]
     },
     "execution_count": 15,
     "metadata": {},
     "output_type": "execute_result"
    },
    {
     "data": {
      "image/png": "[encoded data removed]",
      "text/plain": [
       "<Figure size 432x288 with 1 Axes>"
      ]
     },
     "metadata": {},
     "output_type": "display_data"
    }
   ],
   "source": [
    "plt.pie(df2[\"fraud\"].value_counts(), labels = categories, autopct = \"%.2f%%\", explode= (0, 0.1), colors = (\"g\", \"r\"))"
   ]
  },
  {
   "cell_type": "markdown",
   "metadata": {},
   "source": [
    "As it can be seen from the charts, number of fraud transactions are significantly low when compared to non-fraud transactions. We will inspect this issue later. First, let's take a further look at the fraud transactions."
   ]
  },
  {
   "cell_type": "code",
   "execution_count": 16,
   "metadata": {
    "execution": {
     "iopub.execute_input": "2022-08-29T14:40:31.563978Z",
     "iopub.status.busy": "2022-08-29T14:40:31.562625Z",
     "iopub.status.idle": "2022-08-29T14:40:31.593699Z",
     "shell.execute_reply": "2022-08-29T14:40:31.591569Z",
     "shell.execute_reply.started": "2022-08-29T14:40:31.563894Z"
    }
   },
   "outputs": [],
   "source": [
    "fraud_df = df2[df2[\"fraud\"] == 1]"
   ]
  },
  {
   "cell_type": "code",
   "execution_count": 17,
   "metadata": {
    "execution": {
     "iopub.execute_input": "2022-08-29T14:40:31.598339Z",
     "iopub.status.busy": "2022-08-29T14:40:31.596730Z",
     "iopub.status.idle": "2022-08-29T14:40:31.680654Z",
     "shell.execute_reply": "2022-08-29T14:40:31.679564Z",
     "shell.execute_reply.started": "2022-08-29T14:40:31.598268Z"
    }
   },
   "outputs": [
    {
     "data": {
      "text/html": [
       "<div>\n",
       "<style scoped>\n",
       "    .dataframe tbody tr th:only-of-type {\n",
       "        vertical-align: middle;\n",
       "    }\n",
       "\n",
       "    .dataframe tbody tr th {\n",
       "        vertical-align: top;\n",
       "    }\n",
       "\n",
       "    .dataframe thead th {\n",
       "        text-align: right;\n",
       "    }\n",
       "</style>\n",
       "<table border=\"1\" class=\"dataframe\">\n",
       "  <thead>\n",
       "    <tr style=\"text-align: right;\">\n",
       "      <th></th>\n",
       "      <th>distance_from_home</th>\n",
       "      <th>distance_from_last_transaction</th>\n",
       "      <th>ratio_to_median_purchase_price</th>\n",
       "      <th>repeat_retailer</th>\n",
       "      <th>used_chip</th>\n",
       "      <th>used_pin_number</th>\n",
       "      <th>online_order</th>\n",
       "      <th>fraud</th>\n",
       "    </tr>\n",
       "  </thead>\n",
       "  <tbody>\n",
       "    <tr>\n",
       "      <th>count</th>\n",
       "      <td>87403.000000</td>\n",
       "      <td>87403.000000</td>\n",
       "      <td>87403.000000</td>\n",
       "      <td>87403.000000</td>\n",
       "      <td>87403.000000</td>\n",
       "      <td>87403.000000</td>\n",
       "      <td>87403.000000</td>\n",
       "      <td>87403.0</td>\n",
       "    </tr>\n",
       "    <tr>\n",
       "      <th>mean</th>\n",
       "      <td>66.261876</td>\n",
       "      <td>12.712185</td>\n",
       "      <td>6.006323</td>\n",
       "      <td>0.880119</td>\n",
       "      <td>0.256399</td>\n",
       "      <td>0.003123</td>\n",
       "      <td>0.946318</td>\n",
       "      <td>1.0</td>\n",
       "    </tr>\n",
       "    <tr>\n",
       "      <th>std</th>\n",
       "      <td>134.391608</td>\n",
       "      <td>47.997697</td>\n",
       "      <td>5.564320</td>\n",
       "      <td>0.324825</td>\n",
       "      <td>0.436647</td>\n",
       "      <td>0.055801</td>\n",
       "      <td>0.225391</td>\n",
       "      <td>0.0</td>\n",
       "    </tr>\n",
       "    <tr>\n",
       "      <th>min</th>\n",
       "      <td>0.025847</td>\n",
       "      <td>0.000407</td>\n",
       "      <td>0.011966</td>\n",
       "      <td>0.000000</td>\n",
       "      <td>0.000000</td>\n",
       "      <td>0.000000</td>\n",
       "      <td>0.000000</td>\n",
       "      <td>1.0</td>\n",
       "    </tr>\n",
       "    <tr>\n",
       "      <th>25%</th>\n",
       "      <td>4.585729</td>\n",
       "      <td>0.328199</td>\n",
       "      <td>3.500270</td>\n",
       "      <td>1.000000</td>\n",
       "      <td>0.000000</td>\n",
       "      <td>0.000000</td>\n",
       "      <td>1.000000</td>\n",
       "      <td>1.0</td>\n",
       "    </tr>\n",
       "    <tr>\n",
       "      <th>50%</th>\n",
       "      <td>15.454219</td>\n",
       "      <td>1.157631</td>\n",
       "      <td>5.071294</td>\n",
       "      <td>1.000000</td>\n",
       "      <td>0.000000</td>\n",
       "      <td>0.000000</td>\n",
       "      <td>1.000000</td>\n",
       "      <td>1.0</td>\n",
       "    </tr>\n",
       "    <tr>\n",
       "      <th>75%</th>\n",
       "      <td>101.110104</td>\n",
       "      <td>4.598504</td>\n",
       "      <td>7.331222</td>\n",
       "      <td>1.000000</td>\n",
       "      <td>1.000000</td>\n",
       "      <td>0.000000</td>\n",
       "      <td>1.000000</td>\n",
       "      <td>1.0</td>\n",
       "    </tr>\n",
       "    <tr>\n",
       "      <th>max</th>\n",
       "      <td>10632.723672</td>\n",
       "      <td>2160.499922</td>\n",
       "      <td>266.689692</td>\n",
       "      <td>1.000000</td>\n",
       "      <td>1.000000</td>\n",
       "      <td>1.000000</td>\n",
       "      <td>1.000000</td>\n",
       "      <td>1.0</td>\n",
       "    </tr>\n",
       "  </tbody>\n",
       "</table>\n",
       "</div>"
      ],
      "text/plain": [
       "       distance_from_home  distance_from_last_transaction  \\\n",
       "count        87403.000000                    87403.000000   \n",
       "mean            66.261876                       12.712185   \n",
       "std            134.391608                       47.997697   \n",
       "min              0.025847                        0.000407   \n",
       "25%              4.585729                        0.328199   \n",
       "50%             15.454219                        1.157631   \n",
       "75%            101.110104                        4.598504   \n",
       "max          10632.723672                     2160.499922   \n",
       "\n",
       "       ratio_to_median_purchase_price  repeat_retailer     used_chip  \\\n",
       "count                    87403.000000     87403.000000  87403.000000   \n",
       "mean                         6.006323         0.880119      0.256399   \n",
       "std                          5.564320         0.324825      0.436647   \n",
       "min                          0.011966         0.000000      0.000000   \n",
       "25%                          3.500270         1.000000      0.000000   \n",
       "50%                          5.071294         1.000000      0.000000   \n",
       "75%                          7.331222         1.000000      1.000000   \n",
       "max                        266.689692         1.000000      1.000000   \n",
       "\n",
       "       used_pin_number  online_order    fraud  \n",
       "count     87403.000000  87403.000000  87403.0  \n",
       "mean          0.003123      0.946318      1.0  \n",
       "std           0.055801      0.225391      0.0  \n",
       "min           0.000000      0.000000      1.0  \n",
       "25%           0.000000      1.000000      1.0  \n",
       "50%           0.000000      1.000000      1.0  \n",
       "75%           0.000000      1.000000      1.0  \n",
       "max           1.000000      1.000000      1.0  "
      ]
     },
     "execution_count": 17,
     "metadata": {},
     "output_type": "execute_result"
    }
   ],
   "source": [
    "fraud_df.describe()"
   ]
  },
  {
   "cell_type": "code",
   "execution_count": 18,
   "metadata": {
    "execution": {
     "iopub.execute_input": "2022-08-29T14:40:31.682465Z",
     "iopub.status.busy": "2022-08-29T14:40:31.682001Z",
     "iopub.status.idle": "2022-08-29T14:40:32.312385Z",
     "shell.execute_reply": "2022-08-29T14:40:32.311153Z",
     "shell.execute_reply.started": "2022-08-29T14:40:31.682430Z"
    }
   },
   "outputs": [
    {
     "data": {
      "text/plain": [
       "<AxesSubplot:xlabel='online_order', ylabel='count'>"
      ]
     },
     "execution_count": 18,
     "metadata": {},
     "output_type": "execute_result"
    },
    {
     "data": {
      "image/png": "[encoded data removed]",
      "text/plain": [
       "<Figure size 1440x1440 with 4 Axes>"
      ]
     },
     "metadata": {
      "needs_background": "light"
     },
     "output_type": "display_data"
    }
   ],
   "source": [
    "plt.figure(figsize = (20,20))\n",
    "\n",
    "plt.subplot(2,2,1)\n",
    "sns.countplot(x = 'repeat_retailer', palette = 'Set2', data = fraud_df)\n",
    "\n",
    "plt.subplot(2,2,2)\n",
    "sns.countplot(x = 'used_chip', palette = 'Set2', data = fraud_df)\n",
    "\n",
    "plt.subplot(2,2,3)\n",
    "sns.countplot(x = 'used_pin_number', palette = 'Set2', data = fraud_df)\n",
    "\n",
    "plt.subplot(2,2,4)\n",
    "sns.countplot(x = 'online_order', palette = 'Set2', data = fraud_df)"
   ]
  },
  {
   "cell_type": "code",
   "execution_count": 19,
   "metadata": {
    "execution": {
     "iopub.execute_input": "2022-08-29T14:40:32.314791Z",
     "iopub.status.busy": "2022-08-29T14:40:32.314346Z",
     "iopub.status.idle": "2022-08-29T14:40:32.811714Z",
     "shell.execute_reply": "2022-08-29T14:40:32.810641Z",
     "shell.execute_reply.started": "2022-08-29T14:40:32.314755Z"
    }
   },
   "outputs": [
    {
     "data": {
      "text/plain": [
       "Text(0.5, 1.0, 'Was the transaction online?')"
      ]
     },
     "execution_count": 19,
     "metadata": {},
     "output_type": "execute_result"
    },
    {
     "data": {
      "image/png": "[encoded data removed]",
      "text/plain": [
       "<Figure size 1440x1440 with 4 Axes>"
      ]
     },
     "metadata": {},
     "output_type": "display_data"
    }
   ],
   "source": [
    "plt.figure(figsize = (20,20))\n",
    "\n",
    "plt.subplot(2,2,1)\n",
    "plt.pie(fraud_df[\"repeat_retailer\"].value_counts(), labels = (\"Yes\", \"No\"), autopct = \"%.2f%%\", explode = (0, 0.1))\n",
    "plt.title(\"NE\")\n",
    "\n",
    "plt.subplot(2,2,2)\n",
    "plt.pie(fraud_df[\"used_chip\"].value_counts(), labels = (\"Yes\", \"No\"), autopct = \"%.2f%%\", explode = (0, 0.1))\n",
    "plt.title(\"Did the credit card chip used?\")\n",
    "\n",
    "plt.subplot(2,2,3)\n",
    "plt.pie(fraud_df[\"used_pin_number\"].value_counts(), labels = (\"Yes\", \"No\"), autopct = \"%.2f%%\", explode = (0, 0.1))\n",
    "plt.title(\"Did the credit card pin number used?\")\n",
    "\n",
    "plt.subplot(2,2,4)\n",
    "plt.pie(fraud_df[\"online_order\"].value_counts(), labels = (\"Yes\", \"No\"), autopct = \"%.2f%%\", explode = (0, 0.1))\n",
    "plt.title(\"Was the transaction online?\")"
   ]
  },
  {
   "cell_type": "markdown",
   "metadata": {},
   "source": [
    "When we look at the categoric variables for fraud transactions, we can safely say that almost all of the fraud transactions were online did not use pin number. These key points will be important when creating a model."
   ]
  },
  {
   "cell_type": "code",
   "execution_count": 20,
   "metadata": {
    "execution": {
     "iopub.execute_input": "2022-08-29T14:40:32.813819Z",
     "iopub.status.busy": "2022-08-29T14:40:32.813040Z",
     "iopub.status.idle": "2022-08-29T14:43:00.314002Z",
     "shell.execute_reply": "2022-08-29T14:43:00.312641Z",
     "shell.execute_reply.started": "2022-08-29T14:40:32.813777Z"
    }
   },
   "outputs": [
    {
     "data": {
      "text/plain": [
       "<AxesSubplot:xlabel='ratio_to_median_purchase_price', ylabel='fraud'>"
      ]
     },
     "execution_count": 20,
     "metadata": {},
     "output_type": "execute_result"
    },
    {
     "data": {
      "image/png": "[encoded data removed]",
      "text/plain": [
       "<Figure size 1440x1440 with 3 Axes>"
      ]
     },
     "metadata": {
      "needs_background": "light"
     },
     "output_type": "display_data"
    }
   ],
   "source": [
    "plt.figure(figsize = (20,20))\n",
    "\n",
    "plt.subplot(3,1,1)\n",
    "sns.scatterplot(y = \"fraud\", x = 'distance_from_home', palette = 'Set2', data = df2, hue = \"fraud\")\n",
    "\n",
    "plt.subplot(3,1,2)\n",
    "sns.scatterplot(y = \"fraud\", x = 'distance_from_last_transaction', palette = 'Set2', data = df2, hue = \"fraud\")\n",
    "\n",
    "plt.subplot(3,1,3)\n",
    "sns.scatterplot(y = \"fraud\", x = 'ratio_to_median_purchase_price', palette = 'Set2', data = df2, hue = \"fraud\")"
   ]
  },
  {
   "cell_type": "markdown",
   "metadata": {},
   "source": [
    "There is no significant difference for the non-categoric variables based on their fraud value."
   ]
  },
  {
   "cell_type": "markdown",
   "metadata": {},
   "source": [
    "As mentioned earlier, there are significantly less fraud transaction data than non-fraud transaction data. It is possible to \"fix\" this by lowering non-fraud transactions or increasing fraud transactions. In this study, increasing fraud transaction will be used by SMOTE (Synthetic Minority Oversampling Technique)\n",
    "\n",
    "Raw data also will be analyzed to better understand and compare these two outcomes."
   ]
  },
  {
   "cell_type": "markdown",
   "metadata": {},
   "source": [
    "# **Oversampling Technique and Model**"
   ]
  },
  {
   "cell_type": "markdown",
   "metadata": {},
   "source": [
    "## **Splitting the features and target**"
   ]
  },
  {
   "cell_type": "code",
   "execution_count": 21,
   "metadata": {
    "execution": {
     "iopub.execute_input": "2022-08-29T14:43:00.316304Z",
     "iopub.status.busy": "2022-08-29T14:43:00.315781Z",
     "iopub.status.idle": "2022-08-29T14:43:00.346187Z",
     "shell.execute_reply": "2022-08-29T14:43:00.344864Z",
     "shell.execute_reply.started": "2022-08-29T14:43:00.316243Z"
    }
   },
   "outputs": [],
   "source": [
    "x = df2.drop('fraud', axis = 1).values\n",
    "y = df2['fraud'].values"
   ]
  },
  {
   "cell_type": "markdown",
   "metadata": {},
   "source": [
    "## **Oversampling**"
   ]
  },
  {
   "cell_type": "code",
   "execution_count": 22,
   "metadata": {
    "execution": {
     "iopub.execute_input": "2022-08-29T14:43:00.348043Z",
     "iopub.status.busy": "2022-08-29T14:43:00.347663Z",
     "iopub.status.idle": "2022-08-29T14:43:02.166179Z",
     "shell.execute_reply": "2022-08-29T14:43:02.164864Z",
     "shell.execute_reply.started": "2022-08-29T14:43:00.348006Z"
    }
   },
   "outputs": [],
   "source": [
    "from imblearn.over_sampling import SMOTE\n",
    "smote = SMOTE(random_state=39)\n",
    "non_fraud_over, fraud_over = smote.fit_resample(x, y)"
   ]
  },
  {
   "cell_type": "code",
   "execution_count": 23,
   "metadata": {
    "execution": {
     "iopub.execute_input": "2022-08-29T14:43:02.168665Z",
     "iopub.status.busy": "2022-08-29T14:43:02.167906Z",
     "iopub.status.idle": "2022-08-29T14:43:02.192370Z",
     "shell.execute_reply": "2022-08-29T14:43:02.191100Z",
     "shell.execute_reply.started": "2022-08-29T14:43:02.168607Z"
    }
   },
   "outputs": [
    {
     "data": {
      "text/html": [
       "<div>\n",
       "<style scoped>\n",
       "    .dataframe tbody tr th:only-of-type {\n",
       "        vertical-align: middle;\n",
       "    }\n",
       "\n",
       "    .dataframe tbody tr th {\n",
       "        vertical-align: top;\n",
       "    }\n",
       "\n",
       "    .dataframe thead th {\n",
       "        text-align: right;\n",
       "    }\n",
       "</style>\n",
       "<table border=\"1\" class=\"dataframe\">\n",
       "  <thead>\n",
       "    <tr style=\"text-align: right;\">\n",
       "      <th></th>\n",
       "      <th>distance_from_home</th>\n",
       "      <th>distance_from_last_transaction</th>\n",
       "      <th>ratio_to_median_purchase_price</th>\n",
       "      <th>repeat_retailer</th>\n",
       "      <th>used_chip</th>\n",
       "      <th>used_pin_number</th>\n",
       "      <th>online_order</th>\n",
       "    </tr>\n",
       "  </thead>\n",
       "  <tbody>\n",
       "    <tr>\n",
       "      <th>0</th>\n",
       "      <td>57.877857</td>\n",
       "      <td>0.311140</td>\n",
       "      <td>1.945940</td>\n",
       "      <td>1.0</td>\n",
       "      <td>1.000000</td>\n",
       "      <td>0.0</td>\n",
       "      <td>0.0</td>\n",
       "    </tr>\n",
       "    <tr>\n",
       "      <th>1</th>\n",
       "      <td>10.829943</td>\n",
       "      <td>0.175592</td>\n",
       "      <td>1.294219</td>\n",
       "      <td>1.0</td>\n",
       "      <td>0.000000</td>\n",
       "      <td>0.0</td>\n",
       "      <td>0.0</td>\n",
       "    </tr>\n",
       "    <tr>\n",
       "      <th>2</th>\n",
       "      <td>5.091079</td>\n",
       "      <td>0.805153</td>\n",
       "      <td>0.427715</td>\n",
       "      <td>1.0</td>\n",
       "      <td>0.000000</td>\n",
       "      <td>0.0</td>\n",
       "      <td>1.0</td>\n",
       "    </tr>\n",
       "    <tr>\n",
       "      <th>3</th>\n",
       "      <td>2.247564</td>\n",
       "      <td>5.600044</td>\n",
       "      <td>0.362663</td>\n",
       "      <td>1.0</td>\n",
       "      <td>1.000000</td>\n",
       "      <td>0.0</td>\n",
       "      <td>1.0</td>\n",
       "    </tr>\n",
       "    <tr>\n",
       "      <th>4</th>\n",
       "      <td>44.190936</td>\n",
       "      <td>0.566486</td>\n",
       "      <td>2.222767</td>\n",
       "      <td>1.0</td>\n",
       "      <td>1.000000</td>\n",
       "      <td>0.0</td>\n",
       "      <td>1.0</td>\n",
       "    </tr>\n",
       "    <tr>\n",
       "      <th>...</th>\n",
       "      <td>...</td>\n",
       "      <td>...</td>\n",
       "      <td>...</td>\n",
       "      <td>...</td>\n",
       "      <td>...</td>\n",
       "      <td>...</td>\n",
       "      <td>...</td>\n",
       "    </tr>\n",
       "    <tr>\n",
       "      <th>1825189</th>\n",
       "      <td>0.865098</td>\n",
       "      <td>1.341068</td>\n",
       "      <td>4.173964</td>\n",
       "      <td>0.0</td>\n",
       "      <td>1.000000</td>\n",
       "      <td>0.0</td>\n",
       "      <td>1.0</td>\n",
       "    </tr>\n",
       "    <tr>\n",
       "      <th>1825190</th>\n",
       "      <td>4.803252</td>\n",
       "      <td>0.744443</td>\n",
       "      <td>6.650998</td>\n",
       "      <td>1.0</td>\n",
       "      <td>1.000000</td>\n",
       "      <td>0.0</td>\n",
       "      <td>1.0</td>\n",
       "    </tr>\n",
       "    <tr>\n",
       "      <th>1825191</th>\n",
       "      <td>12.536102</td>\n",
       "      <td>119.006991</td>\n",
       "      <td>4.094842</td>\n",
       "      <td>1.0</td>\n",
       "      <td>0.835731</td>\n",
       "      <td>0.0</td>\n",
       "      <td>1.0</td>\n",
       "    </tr>\n",
       "    <tr>\n",
       "      <th>1825192</th>\n",
       "      <td>389.245617</td>\n",
       "      <td>3.480952</td>\n",
       "      <td>0.922567</td>\n",
       "      <td>1.0</td>\n",
       "      <td>0.000000</td>\n",
       "      <td>0.0</td>\n",
       "      <td>1.0</td>\n",
       "    </tr>\n",
       "    <tr>\n",
       "      <th>1825193</th>\n",
       "      <td>23.440339</td>\n",
       "      <td>0.528913</td>\n",
       "      <td>5.569978</td>\n",
       "      <td>1.0</td>\n",
       "      <td>1.000000</td>\n",
       "      <td>0.0</td>\n",
       "      <td>1.0</td>\n",
       "    </tr>\n",
       "  </tbody>\n",
       "</table>\n",
       "<p>1825194 rows × 7 columns</p>\n",
       "</div>"
      ],
      "text/plain": [
       "         distance_from_home  distance_from_last_transaction  \\\n",
       "0                 57.877857                        0.311140   \n",
       "1                 10.829943                        0.175592   \n",
       "2                  5.091079                        0.805153   \n",
       "3                  2.247564                        5.600044   \n",
       "4                 44.190936                        0.566486   \n",
       "...                     ...                             ...   \n",
       "1825189            0.865098                        1.341068   \n",
       "1825190            4.803252                        0.744443   \n",
       "1825191           12.536102                      119.006991   \n",
       "1825192          389.245617                        3.480952   \n",
       "1825193           23.440339                        0.528913   \n",
       "\n",
       "         ratio_to_median_purchase_price  repeat_retailer  used_chip  \\\n",
       "0                              1.945940              1.0   1.000000   \n",
       "1                              1.294219              1.0   0.000000   \n",
       "2                              0.427715              1.0   0.000000   \n",
       "3                              0.362663              1.0   1.000000   \n",
       "4                              2.222767              1.0   1.000000   \n",
       "...                                 ...              ...        ...   \n",
       "1825189                        4.173964              0.0   1.000000   \n",
       "1825190                        6.650998              1.0   1.000000   \n",
       "1825191                        4.094842              1.0   0.835731   \n",
       "1825192                        0.922567              1.0   0.000000   \n",
       "1825193                        5.569978              1.0   1.000000   \n",
       "\n",
       "         used_pin_number  online_order  \n",
       "0                    0.0           0.0  \n",
       "1                    0.0           0.0  \n",
       "2                    0.0           1.0  \n",
       "3                    0.0           1.0  \n",
       "4                    0.0           1.0  \n",
       "...                  ...           ...  \n",
       "1825189              0.0           1.0  \n",
       "1825190              0.0           1.0  \n",
       "1825191              0.0           1.0  \n",
       "1825192              0.0           1.0  \n",
       "1825193              0.0           1.0  \n",
       "\n",
       "[1825194 rows x 7 columns]"
      ]
     },
     "execution_count": 23,
     "metadata": {},
     "output_type": "execute_result"
    }
   ],
   "source": [
    "non_fraud_over_df = pd.DataFrame(non_fraud_over, columns=['distance_from_home', 'distance_from_last_transaction',\n",
    "       'ratio_to_median_purchase_price', 'repeat_retailer', 'used_chip',\n",
    "       'used_pin_number', 'online_order'])\n",
    "non_fraud_over_df"
   ]
  },
  {
   "cell_type": "code",
   "execution_count": 24,
   "metadata": {
    "execution": {
     "iopub.execute_input": "2022-08-29T14:43:02.194801Z",
     "iopub.status.busy": "2022-08-29T14:43:02.194280Z",
     "iopub.status.idle": "2022-08-29T14:43:02.212462Z",
     "shell.execute_reply": "2022-08-29T14:43:02.211034Z",
     "shell.execute_reply.started": "2022-08-29T14:43:02.194754Z"
    }
   },
   "outputs": [],
   "source": [
    "non_fraud_over_df[\"fraud\"] = fraud_over\n",
    "df3 = non_fraud_over_df"
   ]
  },
  {
   "cell_type": "code",
   "execution_count": 25,
   "metadata": {
    "execution": {
     "iopub.execute_input": "2022-08-29T14:43:02.215934Z",
     "iopub.status.busy": "2022-08-29T14:43:02.214950Z",
     "iopub.status.idle": "2022-08-29T14:43:03.050815Z",
     "shell.execute_reply": "2022-08-29T14:43:03.049068Z",
     "shell.execute_reply.started": "2022-08-29T14:43:02.215880Z"
    }
   },
   "outputs": [
    {
     "name": "stdout",
     "output_type": "stream",
     "text": [
      "df3 shape: (1825194, 8)\n",
      "<class 'pandas.core.frame.DataFrame'>\n",
      "RangeIndex: 1825194 entries, 0 to 1825193\n",
      "Data columns (total 8 columns):\n",
      " #   Column                          Dtype  \n",
      "---  ------                          -----  \n",
      " 0   distance_from_home              float64\n",
      " 1   distance_from_last_transaction  float64\n",
      " 2   ratio_to_median_purchase_price  float64\n",
      " 3   repeat_retailer                 float64\n",
      " 4   used_chip                       float64\n",
      " 5   used_pin_number                 float64\n",
      " 6   online_order                    float64\n",
      " 7   fraud                           float64\n",
      "dtypes: float64(8)\n",
      "memory usage: 111.4 MB\n",
      "None\n"
     ]
    },
    {
     "data": {
      "text/html": [
       "<div>\n",
       "<style scoped>\n",
       "    .dataframe tbody tr th:only-of-type {\n",
       "        vertical-align: middle;\n",
       "    }\n",
       "\n",
       "    .dataframe tbody tr th {\n",
       "        vertical-align: top;\n",
       "    }\n",
       "\n",
       "    .dataframe thead th {\n",
       "        text-align: right;\n",
       "    }\n",
       "</style>\n",
       "<table border=\"1\" class=\"dataframe\">\n",
       "  <thead>\n",
       "    <tr style=\"text-align: right;\">\n",
       "      <th></th>\n",
       "      <th>distance_from_home</th>\n",
       "      <th>distance_from_last_transaction</th>\n",
       "      <th>ratio_to_median_purchase_price</th>\n",
       "      <th>repeat_retailer</th>\n",
       "      <th>used_chip</th>\n",
       "      <th>used_pin_number</th>\n",
       "      <th>online_order</th>\n",
       "      <th>fraud</th>\n",
       "    </tr>\n",
       "  </thead>\n",
       "  <tbody>\n",
       "    <tr>\n",
       "      <th>count</th>\n",
       "      <td>1.825194e+06</td>\n",
       "      <td>1.825194e+06</td>\n",
       "      <td>1.825194e+06</td>\n",
       "      <td>1.825194e+06</td>\n",
       "      <td>1.825194e+06</td>\n",
       "      <td>1.825194e+06</td>\n",
       "      <td>1.825194e+06</td>\n",
       "      <td>1825194.0</td>\n",
       "    </tr>\n",
       "    <tr>\n",
       "      <th>mean</th>\n",
       "      <td>4.442516e+01</td>\n",
       "      <td>8.458492e+00</td>\n",
       "      <td>3.694127e+00</td>\n",
       "      <td>8.809996e-01</td>\n",
       "      <td>3.055032e-01</td>\n",
       "      <td>5.625144e-02</td>\n",
       "      <td>7.852103e-01</td>\n",
       "      <td>0.5</td>\n",
       "    </tr>\n",
       "    <tr>\n",
       "      <th>std</th>\n",
       "      <td>1.018351e+02</td>\n",
       "      <td>3.750252e+01</td>\n",
       "      <td>4.693421e+00</td>\n",
       "      <td>3.232951e-01</td>\n",
       "      <td>4.555445e-01</td>\n",
       "      <td>2.296677e-01</td>\n",
       "      <td>4.080603e-01</td>\n",
       "      <td>0.5</td>\n",
       "    </tr>\n",
       "    <tr>\n",
       "      <th>min</th>\n",
       "      <td>4.874385e-03</td>\n",
       "      <td>1.182816e-04</td>\n",
       "      <td>4.399240e-03</td>\n",
       "      <td>0.000000e+00</td>\n",
       "      <td>0.000000e+00</td>\n",
       "      <td>0.000000e+00</td>\n",
       "      <td>0.000000e+00</td>\n",
       "      <td>0.0</td>\n",
       "    </tr>\n",
       "    <tr>\n",
       "      <th>25%</th>\n",
       "      <td>4.142911e+00</td>\n",
       "      <td>3.112290e-01</td>\n",
       "      <td>6.944836e-01</td>\n",
       "      <td>1.000000e+00</td>\n",
       "      <td>0.000000e+00</td>\n",
       "      <td>0.000000e+00</td>\n",
       "      <td>1.000000e+00</td>\n",
       "      <td>0.0</td>\n",
       "    </tr>\n",
       "    <tr>\n",
       "      <th>50%</th>\n",
       "      <td>1.173429e+01</td>\n",
       "      <td>1.050549e+00</td>\n",
       "      <td>1.993814e+00</td>\n",
       "      <td>1.000000e+00</td>\n",
       "      <td>0.000000e+00</td>\n",
       "      <td>0.000000e+00</td>\n",
       "      <td>1.000000e+00</td>\n",
       "      <td>0.5</td>\n",
       "    </tr>\n",
       "    <tr>\n",
       "      <th>75%</th>\n",
       "      <td>3.774807e+01</td>\n",
       "      <td>3.800466e+00</td>\n",
       "      <td>5.212519e+00</td>\n",
       "      <td>1.000000e+00</td>\n",
       "      <td>1.000000e+00</td>\n",
       "      <td>0.000000e+00</td>\n",
       "      <td>1.000000e+00</td>\n",
       "      <td>1.0</td>\n",
       "    </tr>\n",
       "    <tr>\n",
       "      <th>max</th>\n",
       "      <td>1.063272e+04</td>\n",
       "      <td>1.185110e+04</td>\n",
       "      <td>2.678029e+02</td>\n",
       "      <td>1.000000e+00</td>\n",
       "      <td>1.000000e+00</td>\n",
       "      <td>1.000000e+00</td>\n",
       "      <td>1.000000e+00</td>\n",
       "      <td>1.0</td>\n",
       "    </tr>\n",
       "  </tbody>\n",
       "</table>\n",
       "</div>"
      ],
      "text/plain": [
       "       distance_from_home  distance_from_last_transaction  \\\n",
       "count        1.825194e+06                    1.825194e+06   \n",
       "mean         4.442516e+01                    8.458492e+00   \n",
       "std          1.018351e+02                    3.750252e+01   \n",
       "min          4.874385e-03                    1.182816e-04   \n",
       "25%          4.142911e+00                    3.112290e-01   \n",
       "50%          1.173429e+01                    1.050549e+00   \n",
       "75%          3.774807e+01                    3.800466e+00   \n",
       "max          1.063272e+04                    1.185110e+04   \n",
       "\n",
       "       ratio_to_median_purchase_price  repeat_retailer     used_chip  \\\n",
       "count                    1.825194e+06     1.825194e+06  1.825194e+06   \n",
       "mean                     3.694127e+00     8.809996e-01  3.055032e-01   \n",
       "std                      4.693421e+00     3.232951e-01  4.555445e-01   \n",
       "min                      4.399240e-03     0.000000e+00  0.000000e+00   \n",
       "25%                      6.944836e-01     1.000000e+00  0.000000e+00   \n",
       "50%                      1.993814e+00     1.000000e+00  0.000000e+00   \n",
       "75%                      5.212519e+00     1.000000e+00  1.000000e+00   \n",
       "max                      2.678029e+02     1.000000e+00  1.000000e+00   \n",
       "\n",
       "       used_pin_number  online_order      fraud  \n",
       "count     1.825194e+06  1.825194e+06  1825194.0  \n",
       "mean      5.625144e-02  7.852103e-01        0.5  \n",
       "std       2.296677e-01  4.080603e-01        0.5  \n",
       "min       0.000000e+00  0.000000e+00        0.0  \n",
       "25%       0.000000e+00  1.000000e+00        0.0  \n",
       "50%       0.000000e+00  1.000000e+00        0.5  \n",
       "75%       0.000000e+00  1.000000e+00        1.0  \n",
       "max       1.000000e+00  1.000000e+00        1.0  "
      ]
     },
     "execution_count": 25,
     "metadata": {},
     "output_type": "execute_result"
    }
   ],
   "source": [
    "print(\"df3 shape:\", df3.shape)\n",
    "print(df3.info())\n",
    "df3.describe()"
   ]
  },
  {
   "cell_type": "markdown",
   "metadata": {},
   "source": [
    "## **Correlation**"
   ]
  },
  {
   "cell_type": "code",
   "execution_count": 26,
   "metadata": {
    "execution": {
     "iopub.execute_input": "2022-08-29T14:43:03.053743Z",
     "iopub.status.busy": "2022-08-29T14:43:03.053047Z",
     "iopub.status.idle": "2022-08-29T14:43:03.492423Z",
     "shell.execute_reply": "2022-08-29T14:43:03.491592Z",
     "shell.execute_reply.started": "2022-08-29T14:43:03.053692Z"
    }
   },
   "outputs": [
    {
     "data": {
      "text/html": [
       "<div>\n",
       "<style scoped>\n",
       "    .dataframe tbody tr th:only-of-type {\n",
       "        vertical-align: middle;\n",
       "    }\n",
       "\n",
       "    .dataframe tbody tr th {\n",
       "        vertical-align: top;\n",
       "    }\n",
       "\n",
       "    .dataframe thead th {\n",
       "        text-align: right;\n",
       "    }\n",
       "</style>\n",
       "<table border=\"1\" class=\"dataframe\">\n",
       "  <thead>\n",
       "    <tr style=\"text-align: right;\">\n",
       "      <th></th>\n",
       "      <th>distance_from_home</th>\n",
       "      <th>distance_from_last_transaction</th>\n",
       "      <th>ratio_to_median_purchase_price</th>\n",
       "      <th>repeat_retailer</th>\n",
       "      <th>used_chip</th>\n",
       "      <th>used_pin_number</th>\n",
       "      <th>online_order</th>\n",
       "      <th>fraud</th>\n",
       "    </tr>\n",
       "  </thead>\n",
       "  <tbody>\n",
       "    <tr>\n",
       "      <th>distance_from_home</th>\n",
       "      <td>1.000000</td>\n",
       "      <td>-0.017345</td>\n",
       "      <td>-0.083492</td>\n",
       "      <td>0.156579</td>\n",
       "      <td>-0.107274</td>\n",
       "      <td>-0.037222</td>\n",
       "      <td>0.060905</td>\n",
       "      <td>0.212031</td>\n",
       "    </tr>\n",
       "    <tr>\n",
       "      <th>distance_from_last_transaction</th>\n",
       "      <td>-0.017345</td>\n",
       "      <td>1.000000</td>\n",
       "      <td>-0.042851</td>\n",
       "      <td>-0.014638</td>\n",
       "      <td>-0.037251</td>\n",
       "      <td>-0.018364</td>\n",
       "      <td>0.024436</td>\n",
       "      <td>0.110849</td>\n",
       "    </tr>\n",
       "    <tr>\n",
       "      <th>ratio_to_median_purchase_price</th>\n",
       "      <td>-0.083492</td>\n",
       "      <td>-0.042851</td>\n",
       "      <td>1.000000</td>\n",
       "      <td>-0.040560</td>\n",
       "      <td>0.029782</td>\n",
       "      <td>-0.091203</td>\n",
       "      <td>0.143558</td>\n",
       "      <td>0.483759</td>\n",
       "    </tr>\n",
       "    <tr>\n",
       "      <th>repeat_retailer</th>\n",
       "      <td>0.156579</td>\n",
       "      <td>-0.014638</td>\n",
       "      <td>-0.040560</td>\n",
       "      <td>1.000000</td>\n",
       "      <td>-0.005939</td>\n",
       "      <td>0.001024</td>\n",
       "      <td>0.074406</td>\n",
       "      <td>-0.002079</td>\n",
       "    </tr>\n",
       "    <tr>\n",
       "      <th>used_chip</th>\n",
       "      <td>-0.107274</td>\n",
       "      <td>-0.037251</td>\n",
       "      <td>0.029782</td>\n",
       "      <td>-0.005939</td>\n",
       "      <td>1.000000</td>\n",
       "      <td>0.020375</td>\n",
       "      <td>-0.027219</td>\n",
       "      <td>-0.118317</td>\n",
       "    </tr>\n",
       "    <tr>\n",
       "      <th>used_pin_number</th>\n",
       "      <td>-0.037222</td>\n",
       "      <td>-0.018364</td>\n",
       "      <td>-0.091203</td>\n",
       "      <td>0.001024</td>\n",
       "      <td>0.020375</td>\n",
       "      <td>1.000000</td>\n",
       "      <td>-0.077735</td>\n",
       "      <td>-0.233786</td>\n",
       "    </tr>\n",
       "    <tr>\n",
       "      <th>online_order</th>\n",
       "      <td>0.060905</td>\n",
       "      <td>0.024436</td>\n",
       "      <td>0.143558</td>\n",
       "      <td>0.074406</td>\n",
       "      <td>-0.027219</td>\n",
       "      <td>-0.077735</td>\n",
       "      <td>1.000000</td>\n",
       "      <td>0.399414</td>\n",
       "    </tr>\n",
       "    <tr>\n",
       "      <th>fraud</th>\n",
       "      <td>0.212031</td>\n",
       "      <td>0.110849</td>\n",
       "      <td>0.483759</td>\n",
       "      <td>-0.002079</td>\n",
       "      <td>-0.118317</td>\n",
       "      <td>-0.233786</td>\n",
       "      <td>0.399414</td>\n",
       "      <td>1.000000</td>\n",
       "    </tr>\n",
       "  </tbody>\n",
       "</table>\n",
       "</div>"
      ],
      "text/plain": [
       "                                distance_from_home  \\\n",
       "distance_from_home                        1.000000   \n",
       "distance_from_last_transaction           -0.017345   \n",
       "ratio_to_median_purchase_price           -0.083492   \n",
       "repeat_retailer                           0.156579   \n",
       "used_chip                                -0.107274   \n",
       "used_pin_number                          -0.037222   \n",
       "online_order                              0.060905   \n",
       "fraud                                     0.212031   \n",
       "\n",
       "                                distance_from_last_transaction  \\\n",
       "distance_from_home                                   -0.017345   \n",
       "distance_from_last_transaction                        1.000000   \n",
       "ratio_to_median_purchase_price                       -0.042851   \n",
       "repeat_retailer                                      -0.014638   \n",
       "used_chip                                            -0.037251   \n",
       "used_pin_number                                      -0.018364   \n",
       "online_order                                          0.024436   \n",
       "fraud                                                 0.110849   \n",
       "\n",
       "                                ratio_to_median_purchase_price  \\\n",
       "distance_from_home                                   -0.083492   \n",
       "distance_from_last_transaction                       -0.042851   \n",
       "ratio_to_median_purchase_price                        1.000000   \n",
       "repeat_retailer                                      -0.040560   \n",
       "used_chip                                             0.029782   \n",
       "used_pin_number                                      -0.091203   \n",
       "online_order                                          0.143558   \n",
       "fraud                                                 0.483759   \n",
       "\n",
       "                                repeat_retailer  used_chip  used_pin_number  \\\n",
       "distance_from_home                     0.156579  -0.107274        -0.037222   \n",
       "distance_from_last_transaction        -0.014638  -0.037251        -0.018364   \n",
       "ratio_to_median_purchase_price        -0.040560   0.029782        -0.091203   \n",
       "repeat_retailer                        1.000000  -0.005939         0.001024   \n",
       "used_chip                             -0.005939   1.000000         0.020375   \n",
       "used_pin_number                        0.001024   0.020375         1.000000   \n",
       "online_order                           0.074406  -0.027219        -0.077735   \n",
       "fraud                                 -0.002079  -0.118317        -0.233786   \n",
       "\n",
       "                                online_order     fraud  \n",
       "distance_from_home                  0.060905  0.212031  \n",
       "distance_from_last_transaction      0.024436  0.110849  \n",
       "ratio_to_median_purchase_price      0.143558  0.483759  \n",
       "repeat_retailer                     0.074406 -0.002079  \n",
       "used_chip                          -0.027219 -0.118317  \n",
       "used_pin_number                    -0.077735 -0.233786  \n",
       "online_order                        1.000000  0.399414  \n",
       "fraud                               0.399414  1.000000  "
      ]
     },
     "execution_count": 26,
     "metadata": {},
     "output_type": "execute_result"
    }
   ],
   "source": [
    "df3.corr()"
   ]
  },
  {
   "cell_type": "code",
   "execution_count": 66,
   "metadata": {
    "execution": {
     "iopub.execute_input": "2022-08-29T15:01:43.689256Z",
     "iopub.status.busy": "2022-08-29T15:01:43.688805Z",
     "iopub.status.idle": "2022-08-29T15:01:44.904122Z",
     "shell.execute_reply": "2022-08-29T15:01:44.903009Z",
     "shell.execute_reply.started": "2022-08-29T15:01:43.689222Z"
    }
   },
   "outputs": [
    {
     "data": {
      "image/png": "[encoded data removed]",
      "text/plain": [
       "<Figure size 720x720 with 2 Axes>"
      ]
     },
     "metadata": {},
     "output_type": "display_data"
    }
   ],
   "source": [
    "sns.heatmap(df3.corr().round(3), annot=True, vmin=-1, vmax=1, cmap=\"coolwarm\")\n",
    "sns.set(rc={\"figure.figsize\":(10,10)})\n",
    "plt.show()"
   ]
  },
  {
   "cell_type": "markdown",
   "metadata": {},
   "source": [
    "## **Analyzing the Dataset**"
   ]
  },
  {
   "cell_type": "markdown",
   "metadata": {},
   "source": [
    "### **Splitting the dataset into train and test sets**"
   ]
  },
  {
   "cell_type": "code",
   "execution_count": 28,
   "metadata": {
    "execution": {
     "iopub.execute_input": "2022-08-29T14:43:04.566218Z",
     "iopub.status.busy": "2022-08-29T14:43:04.565422Z",
     "iopub.status.idle": "2022-08-29T14:43:05.048442Z",
     "shell.execute_reply": "2022-08-29T14:43:05.047283Z",
     "shell.execute_reply.started": "2022-08-29T14:43:04.566166Z"
    }
   },
   "outputs": [],
   "source": [
    "from sklearn.model_selection import train_test_split\n",
    "\n",
    "feature_columns = ['distance_from_home', 'distance_from_last_transaction',\n",
    "'ratio_to_median_purchase_price', 'repeat_retailer', 'used_chip', 'used_pin_number', 'online_order']\n",
    "\n",
    "X_smote = df3[feature_columns]\n",
    "y_smote = df3.fraud\n",
    "\n",
    "X_train_smote, X_test_smote, y_train_smote, y_test_smote = train_test_split(X_smote, y_smote, test_size=0.2, random_state=39)"
   ]
  },
  {
   "cell_type": "markdown",
   "metadata": {},
   "source": [
    "### **Logistic Regression**"
   ]
  },
  {
   "cell_type": "code",
   "execution_count": 29,
   "metadata": {
    "execution": {
     "iopub.execute_input": "2022-08-29T14:43:05.049916Z",
     "iopub.status.busy": "2022-08-29T14:43:05.049566Z",
     "iopub.status.idle": "2022-08-29T14:43:23.444254Z",
     "shell.execute_reply": "2022-08-29T14:43:23.442693Z",
     "shell.execute_reply.started": "2022-08-29T14:43:05.049884Z"
    }
   },
   "outputs": [
    {
     "name": "stdout",
     "output_type": "stream",
     "text": [
      "Accuracy of logistic regression classifier on test set: 0.93981\n"
     ]
    },
    {
     "name": "stderr",
     "output_type": "stream",
     "text": [
      "/opt/conda/lib/python3.7/site-packages/sklearn/linear_model/_logistic.py:818: ConvergenceWarning: lbfgs failed to converge (status=1):\n",
      "STOP: TOTAL NO. of ITERATIONS REACHED LIMIT.\n",
      "\n",
      "Increase the number of iterations (max_iter) or scale the data as shown in:\n",
      "    https://scikit-learn.org/stable/modules/preprocessing.html\n",
      "Please also refer to the documentation for alternative solver options:\n",
      "    https://scikit-learn.org/stable/modules/linear_model.html#logistic-regression\n",
      "  extra_warning_msg=_LOGISTIC_SOLVER_CONVERGENCE_MSG,\n"
     ]
    }
   ],
   "source": [
    "from sklearn.linear_model import LogisticRegression\n",
    "from sklearn import metrics\n",
    "logreg = LogisticRegression()\n",
    "logreg.fit(X_train_smote, y_train_smote)\n",
    "\n",
    "y_pred_logreg_smote = logreg.predict(X_test_smote)\n",
    "print('Accuracy of logistic regression classifier on test set: {:.5f}'.format(logreg.score(X_test_smote, y_test_smote)))"
   ]
  },
  {
   "cell_type": "code",
   "execution_count": 30,
   "metadata": {
    "execution": {
     "iopub.execute_input": "2022-08-29T14:43:23.447283Z",
     "iopub.status.busy": "2022-08-29T14:43:23.446377Z",
     "iopub.status.idle": "2022-08-29T14:43:23.806020Z",
     "shell.execute_reply": "2022-08-29T14:43:23.804711Z",
     "shell.execute_reply.started": "2022-08-29T14:43:23.447223Z"
    }
   },
   "outputs": [
    {
     "name": "stdout",
     "output_type": "stream",
     "text": [
      "<function confusion_matrix at 0x7fe99d821c20>\n"
     ]
    }
   ],
   "source": [
    "from sklearn.metrics import confusion_matrix\n",
    "confusion_matrix_logreg = confusion_matrix(y_test_smote, y_pred_logreg_smote)\n",
    "print(confusion_matrix)"
   ]
  },
  {
   "cell_type": "code",
   "execution_count": 31,
   "metadata": {
    "execution": {
     "iopub.execute_input": "2022-08-29T14:43:23.808348Z",
     "iopub.status.busy": "2022-08-29T14:43:23.807675Z",
     "iopub.status.idle": "2022-08-29T14:43:24.131005Z",
     "shell.execute_reply": "2022-08-29T14:43:24.129633Z",
     "shell.execute_reply.started": "2022-08-29T14:43:23.808298Z"
    }
   },
   "outputs": [
    {
     "data": {
      "text/plain": [
       "Text(84.5, 0.5, 'Reality')"
      ]
     },
     "execution_count": 31,
     "metadata": {},
     "output_type": "execute_result"
    },
    {
     "data": {
      "image/png": "[encoded data removed]",
      "text/plain": [
       "<Figure size 864x432 with 2 Axes>"
      ]
     },
     "metadata": {},
     "output_type": "display_data"
    }
   ],
   "source": [
    "plt.figure(figsize = (12, 6))\n",
    "\n",
    "sns.heatmap(confusion_matrix_logreg, annot = True, cmap = \"hot\")\n",
    "plt.xlabel(\"Prediction\")\n",
    "plt.ylabel(\"Reality\")"
   ]
  },
  {
   "cell_type": "code",
   "execution_count": 32,
   "metadata": {
    "execution": {
     "iopub.execute_input": "2022-08-29T14:43:24.133269Z",
     "iopub.status.busy": "2022-08-29T14:43:24.132764Z",
     "iopub.status.idle": "2022-08-29T14:43:25.204843Z",
     "shell.execute_reply": "2022-08-29T14:43:25.203693Z",
     "shell.execute_reply.started": "2022-08-29T14:43:24.133221Z"
    }
   },
   "outputs": [
    {
     "name": "stdout",
     "output_type": "stream",
     "text": [
      "              precision    recall  f1-score   support\n",
      "\n",
      "         0.0   0.946163  0.932806  0.939437    182679\n",
      "         1.0   0.933627  0.946830  0.940182    182360\n",
      "\n",
      "    accuracy                       0.939812    365039\n",
      "   macro avg   0.939895  0.939818  0.939810    365039\n",
      "weighted avg   0.939900  0.939812  0.939809    365039\n",
      "\n"
     ]
    }
   ],
   "source": [
    "from sklearn.metrics import classification_report\n",
    "print(classification_report(y_test_smote, y_pred_logreg_smote, digits=6))"
   ]
  },
  {
   "cell_type": "markdown",
   "metadata": {},
   "source": [
    "### **Decision Tree**"
   ]
  },
  {
   "cell_type": "code",
   "execution_count": 33,
   "metadata": {
    "execution": {
     "iopub.execute_input": "2022-08-29T14:43:25.207046Z",
     "iopub.status.busy": "2022-08-29T14:43:25.206270Z",
     "iopub.status.idle": "2022-08-29T14:43:35.278485Z",
     "shell.execute_reply": "2022-08-29T14:43:35.277106Z",
     "shell.execute_reply.started": "2022-08-29T14:43:25.207003Z"
    }
   },
   "outputs": [
    {
     "name": "stdout",
     "output_type": "stream",
     "text": [
      "Accuracy: 0.9999753451001125\n"
     ]
    }
   ],
   "source": [
    "from sklearn.tree import DecisionTreeClassifier\n",
    "\n",
    "clf = DecisionTreeClassifier()\n",
    "clf = clf.fit(X_train_smote,y_train_smote)\n",
    "\n",
    "y_pred_dectree_smote = clf.predict(X_test_smote)\n",
    "\n",
    "print(\"Accuracy:\", metrics.accuracy_score(y_test_smote, y_pred_dectree_smote))"
   ]
  },
  {
   "cell_type": "code",
   "execution_count": 34,
   "metadata": {
    "execution": {
     "iopub.execute_input": "2022-08-29T14:43:35.280797Z",
     "iopub.status.busy": "2022-08-29T14:43:35.280299Z",
     "iopub.status.idle": "2022-08-29T14:43:35.655290Z",
     "shell.execute_reply": "2022-08-29T14:43:35.654026Z",
     "shell.execute_reply.started": "2022-08-29T14:43:35.280749Z"
    }
   },
   "outputs": [
    {
     "data": {
      "text/plain": [
       "array([[182678,      1],\n",
       "       [     8, 182352]])"
      ]
     },
     "execution_count": 34,
     "metadata": {},
     "output_type": "execute_result"
    }
   ],
   "source": [
    "from sklearn.metrics import confusion_matrix\n",
    "confusion_matrix_decision = confusion_matrix(y_test_smote, y_pred_dectree_smote)\n",
    "confusion_matrix_decision"
   ]
  },
  {
   "cell_type": "code",
   "execution_count": 35,
   "metadata": {
    "execution": {
     "iopub.execute_input": "2022-08-29T14:43:35.659498Z",
     "iopub.status.busy": "2022-08-29T14:43:35.659091Z",
     "iopub.status.idle": "2022-08-29T14:43:35.997454Z",
     "shell.execute_reply": "2022-08-29T14:43:35.996458Z",
     "shell.execute_reply.started": "2022-08-29T14:43:35.659460Z"
    }
   },
   "outputs": [
    {
     "data": {
      "text/plain": [
       "Text(84.5, 0.5, 'Reality')"
      ]
     },
     "execution_count": 35,
     "metadata": {},
     "output_type": "execute_result"
    },
    {
     "data": {
      "image/png": "[encoded data removed]",
      "text/plain": [
       "<Figure size 864x432 with 2 Axes>"
      ]
     },
     "metadata": {},
     "output_type": "display_data"
    }
   ],
   "source": [
    "plt.figure(figsize = (12, 6))\n",
    "\n",
    "sns.heatmap(confusion_matrix_decision, annot = True, cmap = \"hot\")\n",
    "plt.xlabel(\"Prediction\")\n",
    "plt.ylabel(\"Reality\")"
   ]
  },
  {
   "cell_type": "markdown",
   "metadata": {},
   "source": [
    "Decision Tree method fit the dataset incredibly with nearly 100% accuracy. It is very remarkable that there are only 1 false positives and 8 false negatives."
   ]
  },
  {
   "cell_type": "code",
   "execution_count": 36,
   "metadata": {
    "execution": {
     "iopub.execute_input": "2022-08-29T14:43:36.000224Z",
     "iopub.status.busy": "2022-08-29T14:43:35.999226Z",
     "iopub.status.idle": "2022-08-29T14:43:37.069961Z",
     "shell.execute_reply": "2022-08-29T14:43:37.068598Z",
     "shell.execute_reply.started": "2022-08-29T14:43:36.000170Z"
    }
   },
   "outputs": [
    {
     "name": "stdout",
     "output_type": "stream",
     "text": [
      "              precision    recall  f1-score   support\n",
      "\n",
      "         0.0   0.999956  0.999995  0.999975    182679\n",
      "         1.0   0.999995  0.999956  0.999975    182360\n",
      "\n",
      "    accuracy                       0.999975    365039\n",
      "   macro avg   0.999975  0.999975  0.999975    365039\n",
      "weighted avg   0.999975  0.999975  0.999975    365039\n",
      "\n"
     ]
    }
   ],
   "source": [
    "print(classification_report(y_test_smote, y_pred_dectree_smote, digits=6))"
   ]
  },
  {
   "cell_type": "markdown",
   "metadata": {},
   "source": [
    "### **kNN Algorithm**"
   ]
  },
  {
   "cell_type": "markdown",
   "metadata": {},
   "source": [
    "A loop to find out the best k value. Min value is 3 to avoid overfitting."
   ]
  },
  {
   "cell_type": "code",
   "execution_count": 37,
   "metadata": {
    "execution": {
     "iopub.execute_input": "2022-08-29T14:43:37.072320Z",
     "iopub.status.busy": "2022-08-29T14:43:37.071810Z",
     "iopub.status.idle": "2022-08-29T14:52:19.856894Z",
     "shell.execute_reply": "2022-08-29T14:52:19.855419Z",
     "shell.execute_reply.started": "2022-08-29T14:43:37.072271Z"
    }
   },
   "outputs": [],
   "source": [
    "from sklearn.neighbors import KNeighborsClassifier\n",
    "from sklearn.datasets import load_iris\n",
    "\n",
    "neighbors = np.arange(3, 8)\n",
    "train_accuracy_smote = np.empty(len(neighbors))\n",
    "test_accuracy_smote = np.empty(len(neighbors))\n",
    "\n",
    "for i, k in enumerate(neighbors):\n",
    "\tknn = KNeighborsClassifier(n_neighbors=k)\n",
    "\tknn.fit(X_train_smote, y_train_smote)\n",
    "\ttrain_accuracy_smote[i] = knn.score(X_train_smote, y_train_smote)\n",
    "\ttest_accuracy_smote[i] = knn.score(X_test_smote, y_test_smote)"
   ]
  },
  {
   "cell_type": "code",
   "execution_count": 38,
   "metadata": {
    "execution": {
     "iopub.execute_input": "2022-08-29T14:52:19.859804Z",
     "iopub.status.busy": "2022-08-29T14:52:19.858868Z",
     "iopub.status.idle": "2022-08-29T14:52:20.186632Z",
     "shell.execute_reply": "2022-08-29T14:52:20.185382Z",
     "shell.execute_reply.started": "2022-08-29T14:52:19.859750Z"
    }
   },
   "outputs": [
    {
     "data": {
      "image/png": "[encoded data removed]",
      "text/plain": [
       "<Figure size 720x720 with 1 Axes>"
      ]
     },
     "metadata": {},
     "output_type": "display_data"
    }
   ],
   "source": [
    "plt.plot(neighbors, test_accuracy_smote, label = 'Testing dataset Accuracy')\n",
    "plt.plot(neighbors, train_accuracy_smote, label = 'Training dataset Accuracy')\n",
    "\n",
    "plt.legend()\n",
    "plt.xlabel('n_neighbors')\n",
    "plt.ylabel('Accuracy')\n",
    "plt.show()"
   ]
  },
  {
   "cell_type": "markdown",
   "metadata": {},
   "source": [
    "4 neighbors seems to be the best fit."
   ]
  },
  {
   "cell_type": "code",
   "execution_count": 39,
   "metadata": {
    "execution": {
     "iopub.execute_input": "2022-08-29T14:52:20.190558Z",
     "iopub.status.busy": "2022-08-29T14:52:20.188700Z",
     "iopub.status.idle": "2022-08-29T14:52:44.321846Z",
     "shell.execute_reply": "2022-08-29T14:52:44.320617Z",
     "shell.execute_reply.started": "2022-08-29T14:52:20.190507Z"
    }
   },
   "outputs": [
    {
     "name": "stdout",
     "output_type": "stream",
     "text": [
      "0.9904503354436102\n"
     ]
    }
   ],
   "source": [
    "knn = KNeighborsClassifier(n_neighbors=4)\n",
    "knn.fit(X_train_smote, y_train_smote)\n",
    "print(knn.score(X_test_smote, y_test_smote))"
   ]
  },
  {
   "cell_type": "code",
   "execution_count": 40,
   "metadata": {
    "execution": {
     "iopub.execute_input": "2022-08-29T14:52:44.330209Z",
     "iopub.status.busy": "2022-08-29T14:52:44.329810Z",
     "iopub.status.idle": "2022-08-29T14:53:04.225684Z",
     "shell.execute_reply": "2022-08-29T14:53:04.224430Z",
     "shell.execute_reply.started": "2022-08-29T14:52:44.330175Z"
    }
   },
   "outputs": [],
   "source": [
    "y_pred_knn_smote = knn.predict(X_test_smote)"
   ]
  },
  {
   "cell_type": "code",
   "execution_count": 41,
   "metadata": {
    "execution": {
     "iopub.execute_input": "2022-08-29T14:53:04.227606Z",
     "iopub.status.busy": "2022-08-29T14:53:04.227216Z",
     "iopub.status.idle": "2022-08-29T14:53:04.584843Z",
     "shell.execute_reply": "2022-08-29T14:53:04.583972Z",
     "shell.execute_reply.started": "2022-08-29T14:53:04.227570Z"
    }
   },
   "outputs": [
    {
     "data": {
      "text/plain": [
       "array([[179278,   3401],\n",
       "       [    85, 182275]])"
      ]
     },
     "execution_count": 41,
     "metadata": {},
     "output_type": "execute_result"
    }
   ],
   "source": [
    "from sklearn.metrics import confusion_matrix\n",
    "confusion_matrix_knn = confusion_matrix(y_test_smote, y_pred_knn_smote)\n",
    "confusion_matrix_knn"
   ]
  },
  {
   "cell_type": "code",
   "execution_count": 42,
   "metadata": {
    "execution": {
     "iopub.execute_input": "2022-08-29T14:53:04.587020Z",
     "iopub.status.busy": "2022-08-29T14:53:04.585973Z",
     "iopub.status.idle": "2022-08-29T14:53:04.883361Z",
     "shell.execute_reply": "2022-08-29T14:53:04.881657Z",
     "shell.execute_reply.started": "2022-08-29T14:53:04.586984Z"
    }
   },
   "outputs": [
    {
     "data": {
      "text/plain": [
       "Text(84.5, 0.5, 'Reality')"
      ]
     },
     "execution_count": 42,
     "metadata": {},
     "output_type": "execute_result"
    },
    {
     "data": {
      "image/png": "[encoded data removed]",
      "text/plain": [
       "<Figure size 864x432 with 2 Axes>"
      ]
     },
     "metadata": {},
     "output_type": "display_data"
    }
   ],
   "source": [
    "plt.figure(figsize = (12, 6))\n",
    "\n",
    "sns.heatmap(confusion_matrix_knn, annot = True, cmap = \"hot\")\n",
    "plt.xlabel(\"Prediction\")\n",
    "plt.ylabel(\"Reality\")"
   ]
  },
  {
   "cell_type": "code",
   "execution_count": 43,
   "metadata": {
    "execution": {
     "iopub.execute_input": "2022-08-29T14:53:04.885462Z",
     "iopub.status.busy": "2022-08-29T14:53:04.885123Z",
     "iopub.status.idle": "2022-08-29T14:53:05.932366Z",
     "shell.execute_reply": "2022-08-29T14:53:05.931198Z",
     "shell.execute_reply.started": "2022-08-29T14:53:04.885432Z"
    }
   },
   "outputs": [
    {
     "name": "stdout",
     "output_type": "stream",
     "text": [
      "              precision    recall  f1-score   support\n",
      "\n",
      "         0.0   0.999526  0.981383  0.990371    182679\n",
      "         1.0   0.981683  0.999534  0.990528    182360\n",
      "\n",
      "    accuracy                       0.990450    365039\n",
      "   macro avg   0.990605  0.990458  0.990450    365039\n",
      "weighted avg   0.990612  0.990450  0.990450    365039\n",
      "\n"
     ]
    }
   ],
   "source": [
    "from sklearn.metrics import classification_report\n",
    "print(classification_report(y_test_smote, y_pred_knn_smote, digits=6))"
   ]
  },
  {
   "cell_type": "markdown",
   "metadata": {},
   "source": [
    "## **Selecting a Model**"
   ]
  },
  {
   "cell_type": "code",
   "execution_count": 44,
   "metadata": {
    "execution": {
     "iopub.execute_input": "2022-08-29T14:53:05.934242Z",
     "iopub.status.busy": "2022-08-29T14:53:05.933903Z",
     "iopub.status.idle": "2022-08-29T14:53:25.994071Z",
     "shell.execute_reply": "2022-08-29T14:53:25.992983Z",
     "shell.execute_reply.started": "2022-08-29T14:53:05.934212Z"
    }
   },
   "outputs": [],
   "source": [
    "models = [\"Logistic Regression\", \"Decision Tree\", \"kNN\"]\n",
    "\n",
    "false_positives = []\n",
    "\n",
    "false_positives.append(confusion_matrix_logreg[0, 1])\n",
    "false_positives.append(confusion_matrix_decision[0, 1])\n",
    "false_positives.append(confusion_matrix_knn[0, 1])\n",
    "\n",
    "false_negatives =[]\n",
    "\n",
    "false_negatives.append(confusion_matrix_logreg[1, 0])\n",
    "false_negatives.append(confusion_matrix_decision[1, 0])\n",
    "false_negatives.append(confusion_matrix_knn[1, 0])\n",
    "\n",
    "accuracy = [logreg.score(X_test_smote, y_test_smote), metrics.accuracy_score(y_test_smote, y_pred_dectree_smote), knn.score(X_test_smote, y_test_smote)]"
   ]
  },
  {
   "cell_type": "code",
   "execution_count": 45,
   "metadata": {
    "execution": {
     "iopub.execute_input": "2022-08-29T14:53:25.995778Z",
     "iopub.status.busy": "2022-08-29T14:53:25.995403Z",
     "iopub.status.idle": "2022-08-29T14:53:26.012862Z",
     "shell.execute_reply": "2022-08-29T14:53:26.011452Z",
     "shell.execute_reply.started": "2022-08-29T14:53:25.995744Z"
    }
   },
   "outputs": [
    {
     "data": {
      "text/html": [
       "<div>\n",
       "<style scoped>\n",
       "    .dataframe tbody tr th:only-of-type {\n",
       "        vertical-align: middle;\n",
       "    }\n",
       "\n",
       "    .dataframe tbody tr th {\n",
       "        vertical-align: top;\n",
       "    }\n",
       "\n",
       "    .dataframe thead th {\n",
       "        text-align: right;\n",
       "    }\n",
       "</style>\n",
       "<table border=\"1\" class=\"dataframe\">\n",
       "  <thead>\n",
       "    <tr style=\"text-align: right;\">\n",
       "      <th></th>\n",
       "      <th>Model</th>\n",
       "      <th>False Negatives</th>\n",
       "      <th>False Positives</th>\n",
       "      <th>Accuracy</th>\n",
       "    </tr>\n",
       "  </thead>\n",
       "  <tbody>\n",
       "    <tr>\n",
       "      <th>0</th>\n",
       "      <td>Logistic Regression</td>\n",
       "      <td>9696</td>\n",
       "      <td>12275</td>\n",
       "      <td>0.939812</td>\n",
       "    </tr>\n",
       "    <tr>\n",
       "      <th>1</th>\n",
       "      <td>Decision Tree</td>\n",
       "      <td>8</td>\n",
       "      <td>1</td>\n",
       "      <td>0.999975</td>\n",
       "    </tr>\n",
       "    <tr>\n",
       "      <th>2</th>\n",
       "      <td>kNN</td>\n",
       "      <td>85</td>\n",
       "      <td>3401</td>\n",
       "      <td>0.990450</td>\n",
       "    </tr>\n",
       "  </tbody>\n",
       "</table>\n",
       "</div>"
      ],
      "text/plain": [
       "                 Model  False Negatives  False Positives  Accuracy\n",
       "0  Logistic Regression             9696            12275  0.939812\n",
       "1        Decision Tree                8                1  0.999975\n",
       "2                  kNN               85             3401  0.990450"
      ]
     },
     "execution_count": 45,
     "metadata": {},
     "output_type": "execute_result"
    }
   ],
   "source": [
    "model_comp = []\n",
    "\n",
    "model_comp = pd.DataFrame(models, columns=[\"Model\"])\n",
    "model_comp[\"False Negatives\"] = false_negatives\n",
    "model_comp[\"False Positives\"] = false_positives\n",
    "model_comp[\"Accuracy\"] = accuracy\n",
    "model_comp"
   ]
  },
  {
   "cell_type": "markdown",
   "metadata": {},
   "source": [
    "The best model to fit this dataset is Decision Tree model."
   ]
  },
  {
   "cell_type": "markdown",
   "metadata": {},
   "source": [
    "# **Raw Data and Model**"
   ]
  },
  {
   "cell_type": "markdown",
   "metadata": {},
   "source": [
    "## **Correlation**"
   ]
  },
  {
   "cell_type": "code",
   "execution_count": 46,
   "metadata": {
    "execution": {
     "iopub.execute_input": "2022-08-29T14:53:26.014486Z",
     "iopub.status.busy": "2022-08-29T14:53:26.014128Z",
     "iopub.status.idle": "2022-08-29T14:53:26.273823Z",
     "shell.execute_reply": "2022-08-29T14:53:26.273004Z",
     "shell.execute_reply.started": "2022-08-29T14:53:26.014455Z"
    }
   },
   "outputs": [
    {
     "data": {
      "text/html": [
       "<div>\n",
       "<style scoped>\n",
       "    .dataframe tbody tr th:only-of-type {\n",
       "        vertical-align: middle;\n",
       "    }\n",
       "\n",
       "    .dataframe tbody tr th {\n",
       "        vertical-align: top;\n",
       "    }\n",
       "\n",
       "    .dataframe thead th {\n",
       "        text-align: right;\n",
       "    }\n",
       "</style>\n",
       "<table border=\"1\" class=\"dataframe\">\n",
       "  <thead>\n",
       "    <tr style=\"text-align: right;\">\n",
       "      <th></th>\n",
       "      <th>distance_from_home</th>\n",
       "      <th>distance_from_last_transaction</th>\n",
       "      <th>ratio_to_median_purchase_price</th>\n",
       "      <th>repeat_retailer</th>\n",
       "      <th>used_chip</th>\n",
       "      <th>used_pin_number</th>\n",
       "      <th>online_order</th>\n",
       "      <th>fraud</th>\n",
       "    </tr>\n",
       "  </thead>\n",
       "  <tbody>\n",
       "    <tr>\n",
       "      <th>distance_from_home</th>\n",
       "      <td>1.000000</td>\n",
       "      <td>0.000193</td>\n",
       "      <td>-0.001374</td>\n",
       "      <td>0.143124</td>\n",
       "      <td>-0.000697</td>\n",
       "      <td>-0.001622</td>\n",
       "      <td>-0.001301</td>\n",
       "      <td>0.187571</td>\n",
       "    </tr>\n",
       "    <tr>\n",
       "      <th>distance_from_last_transaction</th>\n",
       "      <td>0.000193</td>\n",
       "      <td>1.000000</td>\n",
       "      <td>0.001013</td>\n",
       "      <td>-0.000928</td>\n",
       "      <td>0.002055</td>\n",
       "      <td>-0.000899</td>\n",
       "      <td>0.000141</td>\n",
       "      <td>0.091917</td>\n",
       "    </tr>\n",
       "    <tr>\n",
       "      <th>ratio_to_median_purchase_price</th>\n",
       "      <td>-0.001374</td>\n",
       "      <td>0.001013</td>\n",
       "      <td>1.000000</td>\n",
       "      <td>0.001374</td>\n",
       "      <td>0.000587</td>\n",
       "      <td>0.000942</td>\n",
       "      <td>-0.000330</td>\n",
       "      <td>0.462305</td>\n",
       "    </tr>\n",
       "    <tr>\n",
       "      <th>repeat_retailer</th>\n",
       "      <td>0.143124</td>\n",
       "      <td>-0.000928</td>\n",
       "      <td>0.001374</td>\n",
       "      <td>1.000000</td>\n",
       "      <td>-0.001345</td>\n",
       "      <td>-0.000417</td>\n",
       "      <td>-0.000532</td>\n",
       "      <td>-0.001357</td>\n",
       "    </tr>\n",
       "    <tr>\n",
       "      <th>used_chip</th>\n",
       "      <td>-0.000697</td>\n",
       "      <td>0.002055</td>\n",
       "      <td>0.000587</td>\n",
       "      <td>-0.001345</td>\n",
       "      <td>1.000000</td>\n",
       "      <td>-0.001393</td>\n",
       "      <td>-0.000219</td>\n",
       "      <td>-0.060975</td>\n",
       "    </tr>\n",
       "    <tr>\n",
       "      <th>used_pin_number</th>\n",
       "      <td>-0.001622</td>\n",
       "      <td>-0.000899</td>\n",
       "      <td>0.000942</td>\n",
       "      <td>-0.000417</td>\n",
       "      <td>-0.001393</td>\n",
       "      <td>1.000000</td>\n",
       "      <td>-0.000291</td>\n",
       "      <td>-0.100293</td>\n",
       "    </tr>\n",
       "    <tr>\n",
       "      <th>online_order</th>\n",
       "      <td>-0.001301</td>\n",
       "      <td>0.000141</td>\n",
       "      <td>-0.000330</td>\n",
       "      <td>-0.000532</td>\n",
       "      <td>-0.000219</td>\n",
       "      <td>-0.000291</td>\n",
       "      <td>1.000000</td>\n",
       "      <td>0.191973</td>\n",
       "    </tr>\n",
       "    <tr>\n",
       "      <th>fraud</th>\n",
       "      <td>0.187571</td>\n",
       "      <td>0.091917</td>\n",
       "      <td>0.462305</td>\n",
       "      <td>-0.001357</td>\n",
       "      <td>-0.060975</td>\n",
       "      <td>-0.100293</td>\n",
       "      <td>0.191973</td>\n",
       "      <td>1.000000</td>\n",
       "    </tr>\n",
       "  </tbody>\n",
       "</table>\n",
       "</div>"
      ],
      "text/plain": [
       "                                distance_from_home  \\\n",
       "distance_from_home                        1.000000   \n",
       "distance_from_last_transaction            0.000193   \n",
       "ratio_to_median_purchase_price           -0.001374   \n",
       "repeat_retailer                           0.143124   \n",
       "used_chip                                -0.000697   \n",
       "used_pin_number                          -0.001622   \n",
       "online_order                             -0.001301   \n",
       "fraud                                     0.187571   \n",
       "\n",
       "                                distance_from_last_transaction  \\\n",
       "distance_from_home                                    0.000193   \n",
       "distance_from_last_transaction                        1.000000   \n",
       "ratio_to_median_purchase_price                        0.001013   \n",
       "repeat_retailer                                      -0.000928   \n",
       "used_chip                                             0.002055   \n",
       "used_pin_number                                      -0.000899   \n",
       "online_order                                          0.000141   \n",
       "fraud                                                 0.091917   \n",
       "\n",
       "                                ratio_to_median_purchase_price  \\\n",
       "distance_from_home                                   -0.001374   \n",
       "distance_from_last_transaction                        0.001013   \n",
       "ratio_to_median_purchase_price                        1.000000   \n",
       "repeat_retailer                                       0.001374   \n",
       "used_chip                                             0.000587   \n",
       "used_pin_number                                       0.000942   \n",
       "online_order                                         -0.000330   \n",
       "fraud                                                 0.462305   \n",
       "\n",
       "                                repeat_retailer  used_chip  used_pin_number  \\\n",
       "distance_from_home                     0.143124  -0.000697        -0.001622   \n",
       "distance_from_last_transaction        -0.000928   0.002055        -0.000899   \n",
       "ratio_to_median_purchase_price         0.001374   0.000587         0.000942   \n",
       "repeat_retailer                        1.000000  -0.001345        -0.000417   \n",
       "used_chip                             -0.001345   1.000000        -0.001393   \n",
       "used_pin_number                       -0.000417  -0.001393         1.000000   \n",
       "online_order                          -0.000532  -0.000219        -0.000291   \n",
       "fraud                                 -0.001357  -0.060975        -0.100293   \n",
       "\n",
       "                                online_order     fraud  \n",
       "distance_from_home                 -0.001301  0.187571  \n",
       "distance_from_last_transaction      0.000141  0.091917  \n",
       "ratio_to_median_purchase_price     -0.000330  0.462305  \n",
       "repeat_retailer                    -0.000532 -0.001357  \n",
       "used_chip                          -0.000219 -0.060975  \n",
       "used_pin_number                    -0.000291 -0.100293  \n",
       "online_order                        1.000000  0.191973  \n",
       "fraud                               0.191973  1.000000  "
      ]
     },
     "execution_count": 46,
     "metadata": {},
     "output_type": "execute_result"
    }
   ],
   "source": [
    "df2.corr()"
   ]
  },
  {
   "cell_type": "code",
   "execution_count": 47,
   "metadata": {
    "execution": {
     "iopub.execute_input": "2022-08-29T14:53:26.275933Z",
     "iopub.status.busy": "2022-08-29T14:53:26.274867Z",
     "iopub.status.idle": "2022-08-29T14:53:27.162726Z",
     "shell.execute_reply": "2022-08-29T14:53:27.161529Z",
     "shell.execute_reply.started": "2022-08-29T14:53:26.275882Z"
    }
   },
   "outputs": [
    {
     "data": {
      "image/png": "[encoded data removed]",
      "text/plain": [
       "<Figure size 720x720 with 2 Axes>"
      ]
     },
     "metadata": {},
     "output_type": "display_data"
    }
   ],
   "source": [
    "sns.heatmap(df2.corr().round(3), annot=True, vmin=-1, vmax=1, cmap=\"coolwarm\")\n",
    "sns.set(rc={\"figure.figsize\":(10,10)})\n",
    "plt.show()"
   ]
  },
  {
   "cell_type": "markdown",
   "metadata": {},
   "source": [
    "As we can see from the correlation heatmap above, fraud is strongly correlated to ratio_to_median_purchase_price, distance_from_home and online_order. It is also correlated to used_pin_number and distance_from_last_transaction."
   ]
  },
  {
   "cell_type": "markdown",
   "metadata": {},
   "source": [
    "## **Analyzing the Dataset**"
   ]
  },
  {
   "cell_type": "markdown",
   "metadata": {},
   "source": [
    "### **Splitting the dataset into train and test sets**"
   ]
  },
  {
   "cell_type": "code",
   "execution_count": 48,
   "metadata": {
    "execution": {
     "iopub.execute_input": "2022-08-29T14:53:27.165260Z",
     "iopub.status.busy": "2022-08-29T14:53:27.164221Z",
     "iopub.status.idle": "2022-08-29T14:53:27.359192Z",
     "shell.execute_reply": "2022-08-29T14:53:27.358276Z",
     "shell.execute_reply.started": "2022-08-29T14:53:27.165222Z"
    }
   },
   "outputs": [],
   "source": [
    "from sklearn.model_selection import train_test_split\n",
    "\n",
    "feature_columns = ['distance_from_home', 'distance_from_last_transaction',\n",
    "'ratio_to_median_purchase_price', 'repeat_retailer', 'used_chip', 'used_pin_number', 'online_order']\n",
    "\n",
    "X = df2[feature_columns]\n",
    "y = df2.fraud\n",
    "\n",
    "X_train, X_test, y_train, y_test = train_test_split(X, y, test_size=0.2, random_state=39)"
   ]
  },
  {
   "cell_type": "markdown",
   "metadata": {},
   "source": [
    "### **Logistic Regression**"
   ]
  },
  {
   "cell_type": "code",
   "execution_count": 49,
   "metadata": {
    "execution": {
     "iopub.execute_input": "2022-08-29T14:53:27.361535Z",
     "iopub.status.busy": "2022-08-29T14:53:27.360515Z",
     "iopub.status.idle": "2022-08-29T14:53:38.804475Z",
     "shell.execute_reply": "2022-08-29T14:53:38.802887Z",
     "shell.execute_reply.started": "2022-08-29T14:53:27.361499Z"
    }
   },
   "outputs": [
    {
     "name": "stdout",
     "output_type": "stream",
     "text": [
      "Accuracy of logistic regression classifier on test set: 0.95598\n"
     ]
    },
    {
     "name": "stderr",
     "output_type": "stream",
     "text": [
      "/opt/conda/lib/python3.7/site-packages/sklearn/linear_model/_logistic.py:818: ConvergenceWarning: lbfgs failed to converge (status=1):\n",
      "STOP: TOTAL NO. of ITERATIONS REACHED LIMIT.\n",
      "\n",
      "Increase the number of iterations (max_iter) or scale the data as shown in:\n",
      "    https://scikit-learn.org/stable/modules/preprocessing.html\n",
      "Please also refer to the documentation for alternative solver options:\n",
      "    https://scikit-learn.org/stable/modules/linear_model.html#logistic-regression\n",
      "  extra_warning_msg=_LOGISTIC_SOLVER_CONVERGENCE_MSG,\n"
     ]
    }
   ],
   "source": [
    "from sklearn.linear_model import LogisticRegression\n",
    "from sklearn import metrics\n",
    "logreg = LogisticRegression()\n",
    "logreg.fit(X_train, y_train)\n",
    "\n",
    "y_pred_logreg = logreg.predict(X_test)\n",
    "print('Accuracy of logistic regression classifier on test set: {:.5f}'.format(logreg.score(X_test, y_test)))"
   ]
  },
  {
   "cell_type": "code",
   "execution_count": 50,
   "metadata": {
    "execution": {
     "iopub.execute_input": "2022-08-29T14:53:38.808005Z",
     "iopub.status.busy": "2022-08-29T14:53:38.806973Z",
     "iopub.status.idle": "2022-08-29T14:53:39.020642Z",
     "shell.execute_reply": "2022-08-29T14:53:39.019242Z",
     "shell.execute_reply.started": "2022-08-29T14:53:38.807936Z"
    }
   },
   "outputs": [
    {
     "name": "stdout",
     "output_type": "stream",
     "text": [
      "[[181177   1283]\n",
      " [  7522  10018]]\n"
     ]
    }
   ],
   "source": [
    "from sklearn.metrics import confusion_matrix\n",
    "confusion_matrix_logreg = confusion_matrix(y_test, y_pred_logreg)\n",
    "print(confusion_matrix_logreg)"
   ]
  },
  {
   "cell_type": "code",
   "execution_count": 51,
   "metadata": {
    "execution": {
     "iopub.execute_input": "2022-08-29T14:53:39.022848Z",
     "iopub.status.busy": "2022-08-29T14:53:39.022338Z",
     "iopub.status.idle": "2022-08-29T14:53:39.273232Z",
     "shell.execute_reply": "2022-08-29T14:53:39.272027Z",
     "shell.execute_reply.started": "2022-08-29T14:53:39.022795Z"
    }
   },
   "outputs": [
    {
     "data": {
      "text/plain": [
       "Text(84.5, 0.5, 'Reality')"
      ]
     },
     "execution_count": 51,
     "metadata": {},
     "output_type": "execute_result"
    },
    {
     "data": {
      "image/png": "[encoded data removed]",
      "text/plain": [
       "<Figure size 864x432 with 2 Axes>"
      ]
     },
     "metadata": {},
     "output_type": "display_data"
    }
   ],
   "source": [
    "plt.figure(figsize = (12, 6))\n",
    "\n",
    "sns.heatmap(confusion_matrix_logreg, annot = True, cmap = \"hot\")\n",
    "plt.xlabel(\"Prediction\")\n",
    "plt.ylabel(\"Reality\")"
   ]
  },
  {
   "cell_type": "code",
   "execution_count": 52,
   "metadata": {
    "execution": {
     "iopub.execute_input": "2022-08-29T14:53:39.275740Z",
     "iopub.status.busy": "2022-08-29T14:53:39.275239Z",
     "iopub.status.idle": "2022-08-29T14:53:39.757356Z",
     "shell.execute_reply": "2022-08-29T14:53:39.755988Z",
     "shell.execute_reply.started": "2022-08-29T14:53:39.275693Z"
    }
   },
   "outputs": [
    {
     "name": "stdout",
     "output_type": "stream",
     "text": [
      "              precision    recall  f1-score   support\n",
      "\n",
      "         0.0   0.960138  0.992968  0.976277    182460\n",
      "         1.0   0.886470  0.571152  0.694705     17540\n",
      "\n",
      "    accuracy                       0.955975    200000\n",
      "   macro avg   0.923304  0.782060  0.835491    200000\n",
      "weighted avg   0.953677  0.955975  0.951583    200000\n",
      "\n"
     ]
    }
   ],
   "source": [
    "from sklearn.metrics import classification_report\n",
    "print(classification_report(y_test, y_pred_logreg, digits=6))"
   ]
  },
  {
   "cell_type": "markdown",
   "metadata": {},
   "source": [
    "### **Decision Tree**"
   ]
  },
  {
   "cell_type": "code",
   "execution_count": 53,
   "metadata": {
    "execution": {
     "iopub.execute_input": "2022-08-29T14:53:39.759381Z",
     "iopub.status.busy": "2022-08-29T14:53:39.758995Z",
     "iopub.status.idle": "2022-08-29T14:53:43.014237Z",
     "shell.execute_reply": "2022-08-29T14:53:43.012807Z",
     "shell.execute_reply.started": "2022-08-29T14:53:39.759347Z"
    }
   },
   "outputs": [
    {
     "name": "stdout",
     "output_type": "stream",
     "text": [
      "Accuracy: 0.999985\n"
     ]
    }
   ],
   "source": [
    "from sklearn.tree import DecisionTreeClassifier\n",
    "\n",
    "clf = DecisionTreeClassifier()\n",
    "clf = clf.fit(X_train,y_train)\n",
    "\n",
    "y_pred_dectree = clf.predict(X_test)\n",
    "\n",
    "print(\"Accuracy:\", metrics.accuracy_score(y_test, y_pred_dectree))"
   ]
  },
  {
   "cell_type": "code",
   "execution_count": 54,
   "metadata": {
    "execution": {
     "iopub.execute_input": "2022-08-29T14:53:43.018552Z",
     "iopub.status.busy": "2022-08-29T14:53:43.018167Z",
     "iopub.status.idle": "2022-08-29T14:53:43.198079Z",
     "shell.execute_reply": "2022-08-29T14:53:43.197016Z",
     "shell.execute_reply.started": "2022-08-29T14:53:43.018506Z"
    }
   },
   "outputs": [
    {
     "data": {
      "text/plain": [
       "array([[182457,      3],\n",
       "       [     0,  17540]])"
      ]
     },
     "execution_count": 54,
     "metadata": {},
     "output_type": "execute_result"
    }
   ],
   "source": [
    "from sklearn.metrics import confusion_matrix\n",
    "confusion_matrix_decision = confusion_matrix(y_test, y_pred_dectree)\n",
    "confusion_matrix_decision"
   ]
  },
  {
   "cell_type": "code",
   "execution_count": 55,
   "metadata": {
    "execution": {
     "iopub.execute_input": "2022-08-29T14:53:43.199925Z",
     "iopub.status.busy": "2022-08-29T14:53:43.199577Z",
     "iopub.status.idle": "2022-08-29T14:53:43.447228Z",
     "shell.execute_reply": "2022-08-29T14:53:43.445957Z",
     "shell.execute_reply.started": "2022-08-29T14:53:43.199895Z"
    }
   },
   "outputs": [
    {
     "data": {
      "text/plain": [
       "Text(84.5, 0.5, 'Reality')"
      ]
     },
     "execution_count": 55,
     "metadata": {},
     "output_type": "execute_result"
    },
    {
     "data": {
      "image/png": "[encoded data removed]",
      "text/plain": [
       "<Figure size 864x432 with 2 Axes>"
      ]
     },
     "metadata": {},
     "output_type": "display_data"
    }
   ],
   "source": [
    "plt.figure(figsize = (12, 6))\n",
    "\n",
    "sns.heatmap(confusion_matrix_decision, annot = True, cmap = \"hot\")\n",
    "plt.xlabel(\"Prediction\")\n",
    "plt.ylabel(\"Reality\")"
   ]
  },
  {
   "cell_type": "markdown",
   "metadata": {},
   "source": [
    "Decision Tree method fit the dataset incredibly with nearly 100% accuracy. It is very remarkable that there are only 3 false positives and no false negatives."
   ]
  },
  {
   "cell_type": "code",
   "execution_count": 56,
   "metadata": {
    "execution": {
     "iopub.execute_input": "2022-08-29T14:53:43.449096Z",
     "iopub.status.busy": "2022-08-29T14:53:43.448746Z",
     "iopub.status.idle": "2022-08-29T14:53:43.945415Z",
     "shell.execute_reply": "2022-08-29T14:53:43.944468Z",
     "shell.execute_reply.started": "2022-08-29T14:53:43.449057Z"
    }
   },
   "outputs": [
    {
     "name": "stdout",
     "output_type": "stream",
     "text": [
      "              precision    recall  f1-score   support\n",
      "\n",
      "         0.0   1.000000  0.999984  0.999992    182460\n",
      "         1.0   0.999829  1.000000  0.999914     17540\n",
      "\n",
      "    accuracy                       0.999985    200000\n",
      "   macro avg   0.999914  0.999992  0.999953    200000\n",
      "weighted avg   0.999985  0.999985  0.999985    200000\n",
      "\n"
     ]
    }
   ],
   "source": [
    "print(classification_report(y_test, y_pred_dectree, digits=6))"
   ]
  },
  {
   "cell_type": "markdown",
   "metadata": {},
   "source": [
    "### **kNN Algorithm**"
   ]
  },
  {
   "cell_type": "markdown",
   "metadata": {},
   "source": [
    "A loop to find out the best k value. Min value is 3 to avoid overfitting."
   ]
  },
  {
   "cell_type": "code",
   "execution_count": 57,
   "metadata": {
    "execution": {
     "iopub.execute_input": "2022-08-29T14:53:43.948234Z",
     "iopub.status.busy": "2022-08-29T14:53:43.947023Z",
     "iopub.status.idle": "2022-08-29T14:59:53.277132Z",
     "shell.execute_reply": "2022-08-29T14:59:53.275813Z",
     "shell.execute_reply.started": "2022-08-29T14:53:43.948180Z"
    }
   },
   "outputs": [],
   "source": [
    "from sklearn.neighbors import KNeighborsClassifier\n",
    "from sklearn.datasets import load_iris\n",
    "\n",
    "neighbors = np.arange(3, 8)\n",
    "train_accuracy = np.empty(len(neighbors))\n",
    "test_accuracy = np.empty(len(neighbors))\n",
    "\n",
    "for i, k in enumerate(neighbors):\n",
    "\tknn = KNeighborsClassifier(n_neighbors=k)\n",
    "\tknn.fit(X_train, y_train)\n",
    "\ttrain_accuracy[i] = knn.score(X_train, y_train)\n",
    "\ttest_accuracy[i] = knn.score(X_test, y_test)"
   ]
  },
  {
   "cell_type": "code",
   "execution_count": 58,
   "metadata": {
    "execution": {
     "iopub.execute_input": "2022-08-29T14:59:53.279116Z",
     "iopub.status.busy": "2022-08-29T14:59:53.278646Z",
     "iopub.status.idle": "2022-08-29T14:59:53.520024Z",
     "shell.execute_reply": "2022-08-29T14:59:53.518849Z",
     "shell.execute_reply.started": "2022-08-29T14:59:53.279081Z"
    }
   },
   "outputs": [
    {
     "data": {
      "image/png": "[encoded data removed]",
      "text/plain": [
       "<Figure size 720x720 with 1 Axes>"
      ]
     },
     "metadata": {},
     "output_type": "display_data"
    }
   ],
   "source": [
    "plt.plot(neighbors, test_accuracy, label = 'Testing dataset Accuracy')\n",
    "plt.plot(neighbors, train_accuracy, label = 'Training dataset Accuracy')\n",
    "\n",
    "plt.legend()\n",
    "plt.xlabel('n_neighbors')\n",
    "plt.ylabel('Accuracy')\n",
    "plt.show()"
   ]
  },
  {
   "cell_type": "markdown",
   "metadata": {},
   "source": [
    "3 neighbors seems to be the best fit."
   ]
  },
  {
   "cell_type": "code",
   "execution_count": 59,
   "metadata": {
    "execution": {
     "iopub.execute_input": "2022-08-29T14:59:53.522522Z",
     "iopub.status.busy": "2022-08-29T14:59:53.522028Z",
     "iopub.status.idle": "2022-08-29T15:00:08.502072Z",
     "shell.execute_reply": "2022-08-29T15:00:08.500739Z",
     "shell.execute_reply.started": "2022-08-29T14:59:53.522474Z"
    }
   },
   "outputs": [
    {
     "name": "stdout",
     "output_type": "stream",
     "text": [
      "0.985305\n"
     ]
    }
   ],
   "source": [
    "knn = KNeighborsClassifier(n_neighbors=3)\n",
    "knn.fit(X_train, y_train)\n",
    "print(knn.score(X_test, y_test))"
   ]
  },
  {
   "cell_type": "code",
   "execution_count": 60,
   "metadata": {
    "execution": {
     "iopub.execute_input": "2022-08-29T15:00:08.503674Z",
     "iopub.status.busy": "2022-08-29T15:00:08.503336Z",
     "iopub.status.idle": "2022-08-29T15:00:21.598212Z",
     "shell.execute_reply": "2022-08-29T15:00:21.597090Z",
     "shell.execute_reply.started": "2022-08-29T15:00:08.503643Z"
    }
   },
   "outputs": [],
   "source": [
    "y_pred_knn = knn.predict(X_test)"
   ]
  },
  {
   "cell_type": "code",
   "execution_count": 61,
   "metadata": {
    "execution": {
     "iopub.execute_input": "2022-08-29T15:00:21.600269Z",
     "iopub.status.busy": "2022-08-29T15:00:21.599771Z",
     "iopub.status.idle": "2022-08-29T15:00:21.781774Z",
     "shell.execute_reply": "2022-08-29T15:00:21.780453Z",
     "shell.execute_reply.started": "2022-08-29T15:00:21.600211Z"
    }
   },
   "outputs": [
    {
     "data": {
      "text/plain": [
       "array([[180702,   1758],\n",
       "       [  1181,  16359]])"
      ]
     },
     "execution_count": 61,
     "metadata": {},
     "output_type": "execute_result"
    }
   ],
   "source": [
    "from sklearn.metrics import confusion_matrix\n",
    "confusion_matrix_knn = confusion_matrix(y_test, y_pred_knn)\n",
    "confusion_matrix_knn"
   ]
  },
  {
   "cell_type": "code",
   "execution_count": 62,
   "metadata": {
    "execution": {
     "iopub.execute_input": "2022-08-29T15:00:21.783339Z",
     "iopub.status.busy": "2022-08-29T15:00:21.783009Z",
     "iopub.status.idle": "2022-08-29T15:00:22.091923Z",
     "shell.execute_reply": "2022-08-29T15:00:22.090733Z",
     "shell.execute_reply.started": "2022-08-29T15:00:21.783308Z"
    }
   },
   "outputs": [
    {
     "data": {
      "text/plain": [
       "Text(84.5, 0.5, 'Reality')"
      ]
     },
     "execution_count": 62,
     "metadata": {},
     "output_type": "execute_result"
    },
    {
     "data": {
      "image/png": "[encoded data removed]",
      "text/plain": [
       "<Figure size 864x432 with 2 Axes>"
      ]
     },
     "metadata": {},
     "output_type": "display_data"
    }
   ],
   "source": [
    "plt.figure(figsize = (12, 6))\n",
    "\n",
    "sns.heatmap(confusion_matrix_knn, annot = True, cmap = \"hot\")\n",
    "plt.xlabel(\"Prediction\")\n",
    "plt.ylabel(\"Reality\")"
   ]
  },
  {
   "cell_type": "code",
   "execution_count": 63,
   "metadata": {
    "execution": {
     "iopub.execute_input": "2022-08-29T15:00:22.093837Z",
     "iopub.status.busy": "2022-08-29T15:00:22.093449Z",
     "iopub.status.idle": "2022-08-29T15:00:22.581951Z",
     "shell.execute_reply": "2022-08-29T15:00:22.580746Z",
     "shell.execute_reply.started": "2022-08-29T15:00:22.093804Z"
    }
   },
   "outputs": [
    {
     "name": "stdout",
     "output_type": "stream",
     "text": [
      "              precision    recall  f1-score   support\n",
      "\n",
      "         0.0   0.993507  0.990365  0.991933    182460\n",
      "         1.0   0.902964  0.932668  0.917576     17540\n",
      "\n",
      "    accuracy                       0.985305    200000\n",
      "   macro avg   0.948235  0.961517  0.954755    200000\n",
      "weighted avg   0.985566  0.985305  0.985412    200000\n",
      "\n"
     ]
    }
   ],
   "source": [
    "print(classification_report(y_test, y_pred_knn, digits=6))"
   ]
  },
  {
   "cell_type": "markdown",
   "metadata": {},
   "source": [
    "## **Selecting a Model**"
   ]
  },
  {
   "cell_type": "code",
   "execution_count": 64,
   "metadata": {
    "execution": {
     "iopub.execute_input": "2022-08-29T15:00:22.584687Z",
     "iopub.status.busy": "2022-08-29T15:00:22.583954Z",
     "iopub.status.idle": "2022-08-29T15:00:42.234469Z",
     "shell.execute_reply": "2022-08-29T15:00:42.233494Z",
     "shell.execute_reply.started": "2022-08-29T15:00:22.584647Z"
    }
   },
   "outputs": [],
   "source": [
    "models = [\"Logistic Regression\", \"Decision Tree\", \"kNN\"]\n",
    "\n",
    "false_positives = []\n",
    "\n",
    "false_positives.append(confusion_matrix_logreg[0, 1])\n",
    "false_positives.append(confusion_matrix_decision[0, 1])\n",
    "false_positives.append(confusion_matrix_knn[0, 1])\n",
    "\n",
    "false_negatives =[]\n",
    "\n",
    "false_negatives.append(confusion_matrix_logreg[1, 0])\n",
    "false_negatives.append(confusion_matrix_decision[1, 0])\n",
    "false_negatives.append(confusion_matrix_knn[1, 0])\n",
    "\n",
    "accuracy = [logreg.score(X_test_smote, y_test_smote), metrics.accuracy_score(y_test_smote, y_pred_dectree_smote), knn.score(X_test_smote, y_test_smote)]"
   ]
  },
  {
   "cell_type": "code",
   "execution_count": 65,
   "metadata": {
    "execution": {
     "iopub.execute_input": "2022-08-29T15:00:42.236969Z",
     "iopub.status.busy": "2022-08-29T15:00:42.235940Z",
     "iopub.status.idle": "2022-08-29T15:00:42.251533Z",
     "shell.execute_reply": "2022-08-29T15:00:42.250381Z",
     "shell.execute_reply.started": "2022-08-29T15:00:42.236931Z"
    }
   },
   "outputs": [
    {
     "data": {
      "text/html": [
       "<div>\n",
       "<style scoped>\n",
       "    .dataframe tbody tr th:only-of-type {\n",
       "        vertical-align: middle;\n",
       "    }\n",
       "\n",
       "    .dataframe tbody tr th {\n",
       "        vertical-align: top;\n",
       "    }\n",
       "\n",
       "    .dataframe thead th {\n",
       "        text-align: right;\n",
       "    }\n",
       "</style>\n",
       "<table border=\"1\" class=\"dataframe\">\n",
       "  <thead>\n",
       "    <tr style=\"text-align: right;\">\n",
       "      <th></th>\n",
       "      <th>Model</th>\n",
       "      <th>False Negatives</th>\n",
       "      <th>False Positives</th>\n",
       "      <th>Accuracy</th>\n",
       "    </tr>\n",
       "  </thead>\n",
       "  <tbody>\n",
       "    <tr>\n",
       "      <th>0</th>\n",
       "      <td>Logistic Regression</td>\n",
       "      <td>7522</td>\n",
       "      <td>1283</td>\n",
       "      <td>0.784891</td>\n",
       "    </tr>\n",
       "    <tr>\n",
       "      <th>1</th>\n",
       "      <td>Decision Tree</td>\n",
       "      <td>0</td>\n",
       "      <td>3</td>\n",
       "      <td>0.999975</td>\n",
       "    </tr>\n",
       "    <tr>\n",
       "      <th>2</th>\n",
       "      <td>kNN</td>\n",
       "      <td>1181</td>\n",
       "      <td>1758</td>\n",
       "      <td>0.984607</td>\n",
       "    </tr>\n",
       "  </tbody>\n",
       "</table>\n",
       "</div>"
      ],
      "text/plain": [
       "                 Model  False Negatives  False Positives  Accuracy\n",
       "0  Logistic Regression             7522             1283  0.784891\n",
       "1        Decision Tree                0                3  0.999975\n",
       "2                  kNN             1181             1758  0.984607"
      ]
     },
     "execution_count": 65,
     "metadata": {},
     "output_type": "execute_result"
    }
   ],
   "source": [
    "model_comp = []\n",
    "\n",
    "model_comp = pd.DataFrame(models, columns=[\"Model\"])\n",
    "model_comp[\"False Negatives\"] = false_negatives\n",
    "model_comp[\"False Positives\"] = false_positives\n",
    "model_comp[\"Accuracy\"] = accuracy\n",
    "model_comp"
   ]
  },
  {
   "cell_type": "markdown",
   "metadata": {},
   "source": [
    "The best model to fit this dataset is Decision Tree model."
   ]
  }
 ],
 "metadata": {
  "kernelspec": {
   "display_name": "Python 3 (ipykernel)",
   "language": "python",
   "name": "python3"
  },
  "language_info": {
   "codemirror_mode": {
    "name": "ipython",
    "version": 3
   },
   "file_extension": ".py",
   "mimetype": "text/x-python",
   "name": "python",
   "nbconvert_exporter": "python",
   "pygments_lexer": "ipython3",
   "version": "3.9.7"
  }
 },
 "nbformat": 4,
 "nbformat_minor": 4
}
